{
 "cells": [
  {
   "cell_type": "markdown",
   "id": "indirect-instrumentation",
   "metadata": {
    "papermill": {
     "duration": 0.019243,
     "end_time": "2021-05-26T15:48:06.466554",
     "exception": false,
     "start_time": "2021-05-26T15:48:06.447311",
     "status": "completed"
    },
    "tags": []
   },
   "source": [
    "# AWS Step Functions Data Science SDK - Hello World\n",
    "1. [Introduction](#Introduction)\n",
    "1. [Setup](#Setup)\n",
    "1. [Create steps for your workflow](#Create-steps-for-your-workflow)\n",
    "1. [Define the workflow instance](#Define-the-workflow-instance)\n",
    "1. [Review the Amazon States Language code for your workflow](#Review-the-Amazon-States-Language-code-for-your-workflow)\n",
    "1. [Create the workflow on AWS Step Functions](#Create-the-workflow-on-AWS-Step-Functions)\n",
    "1. [Execute the workflow](#Execute-the-workflow)\n",
    "1. [Review the execution progress](#Review-the-execution-progress)\n",
    "1. [Review the execution history](#Review-the-execution-history)\n"
   ]
  },
  {
   "cell_type": "markdown",
   "id": "human-custody",
   "metadata": {
    "papermill": {
     "duration": 0.019422,
     "end_time": "2021-05-26T15:48:06.505295",
     "exception": false,
     "start_time": "2021-05-26T15:48:06.485873",
     "status": "completed"
    },
    "tags": []
   },
   "source": [
    "## Introduction\n",
    "\n",
    "This notebook describes using the AWS Step Functions Data Science SDK to create and manage workflows. The Step Functions SDK is an open source library that allows data scientists to easily create and execute machine learning workflows using AWS Step Functions and Amazon SageMaker. For more information, see the following.\n",
    "* [AWS Step Functions](https://aws.amazon.com/step-functions/)\n",
    "* [AWS Step Functions Developer Guide](https://docs.aws.amazon.com/step-functions/latest/dg/welcome.html)\n",
    "* [AWS Step Functions Data Science SDK](https://aws-step-functions-data-science-sdk.readthedocs.io)\n",
    "\n",
    "In this notebook we will use the SDK to create steps, link them together to create a workflow, and execute the workflow in AWS Step Functions. "
   ]
  },
  {
   "cell_type": "code",
   "execution_count": 2,
   "id": "protecting-belly",
   "metadata": {
    "execution": {
     "iopub.execute_input": "2021-05-26T15:48:06.548186Z",
     "iopub.status.busy": "2021-05-26T15:48:06.547648Z",
     "iopub.status.idle": "2021-05-26T15:48:09.217941Z",
     "shell.execute_reply": "2021-05-26T15:48:09.218532Z"
    },
    "papermill": {
     "duration": 2.693936,
     "end_time": "2021-05-26T15:48:09.218749",
     "exception": false,
     "start_time": "2021-05-26T15:48:06.524813",
     "status": "completed"
    },
    "scrolled": true,
    "tags": []
   },
   "outputs": [
    {
     "name": "stdout",
     "output_type": "stream",
     "text": [
      "Collecting stepfunctions\n",
      "  Downloading stepfunctions-2.1.0.tar.gz (62 kB)\n",
      "\u001b[K     |████████████████████████████████| 62 kB 1.7 MB/s eta 0:00:011\n",
      "\u001b[?25hRequirement already satisfied: sagemaker>=2.1.0 in /home/ubuntu/anaconda3/lib/python3.7/site-packages (from stepfunctions) (2.42.0)\n",
      "Requirement already satisfied: boto3>=1.14.38 in /home/ubuntu/anaconda3/lib/python3.7/site-packages (from stepfunctions) (1.17.17)\n",
      "Requirement already satisfied: pyyaml in /home/ubuntu/anaconda3/lib/python3.7/site-packages (from stepfunctions) (5.3)\n",
      "Requirement already satisfied: botocore<1.21.0,>=1.20.17 in /home/ubuntu/anaconda3/lib/python3.7/site-packages (from boto3>=1.14.38->stepfunctions) (1.20.17)\n",
      "Requirement already satisfied: jmespath<1.0.0,>=0.7.1 in /home/ubuntu/anaconda3/lib/python3.7/site-packages (from boto3>=1.14.38->stepfunctions) (0.10.0)\n",
      "Requirement already satisfied: s3transfer<0.4.0,>=0.3.0 in /home/ubuntu/anaconda3/lib/python3.7/site-packages (from boto3>=1.14.38->stepfunctions) (0.3.3)\n",
      "Requirement already satisfied: python-dateutil<3.0.0,>=2.1 in /home/ubuntu/anaconda3/lib/python3.7/site-packages (from botocore<1.21.0,>=1.20.17->boto3>=1.14.38->stepfunctions) (2.8.1)\n",
      "Requirement already satisfied: urllib3<1.27,>=1.25.4 in /home/ubuntu/anaconda3/lib/python3.7/site-packages (from botocore<1.21.0,>=1.20.17->boto3>=1.14.38->stepfunctions) (1.25.8)\n",
      "Requirement already satisfied: six>=1.5 in /home/ubuntu/anaconda3/lib/python3.7/site-packages (from python-dateutil<3.0.0,>=2.1->botocore<1.21.0,>=1.20.17->boto3>=1.14.38->stepfunctions) (1.14.0)\n",
      "Requirement already satisfied: attrs in /home/ubuntu/anaconda3/lib/python3.7/site-packages (from sagemaker>=2.1.0->stepfunctions) (19.3.0)\n",
      "Requirement already satisfied: protobuf3-to-dict>=0.1.5 in /home/ubuntu/anaconda3/lib/python3.7/site-packages (from sagemaker>=2.1.0->stepfunctions) (0.1.5)\n",
      "Requirement already satisfied: pathos in /home/ubuntu/anaconda3/lib/python3.7/site-packages (from sagemaker>=2.1.0->stepfunctions) (0.2.7)\n",
      "Requirement already satisfied: google-pasta in /home/ubuntu/anaconda3/lib/python3.7/site-packages (from sagemaker>=2.1.0->stepfunctions) (0.2.0)\n",
      "Requirement already satisfied: numpy>=1.9.0 in /home/ubuntu/anaconda3/lib/python3.7/site-packages (from sagemaker>=2.1.0->stepfunctions) (1.18.1)\n",
      "Requirement already satisfied: importlib-metadata>=1.4.0 in /home/ubuntu/anaconda3/lib/python3.7/site-packages (from sagemaker>=2.1.0->stepfunctions) (1.5.0)\n",
      "Requirement already satisfied: pandas in /home/ubuntu/anaconda3/lib/python3.7/site-packages (from sagemaker>=2.1.0->stepfunctions) (1.2.4)\n",
      "Requirement already satisfied: packaging>=20.0 in /home/ubuntu/anaconda3/lib/python3.7/site-packages (from sagemaker>=2.1.0->stepfunctions) (20.1)\n",
      "Requirement already satisfied: protobuf>=3.1 in /home/ubuntu/anaconda3/lib/python3.7/site-packages (from sagemaker>=2.1.0->stepfunctions) (3.11.4)\n",
      "Requirement already satisfied: smdebug-rulesconfig==1.0.1 in /home/ubuntu/anaconda3/lib/python3.7/site-packages (from sagemaker>=2.1.0->stepfunctions) (1.0.1)\n",
      "Requirement already satisfied: zipp>=0.5 in /home/ubuntu/anaconda3/lib/python3.7/site-packages (from importlib-metadata>=1.4.0->sagemaker>=2.1.0->stepfunctions) (2.2.0)\n",
      "Requirement already satisfied: pyparsing>=2.0.2 in /home/ubuntu/anaconda3/lib/python3.7/site-packages (from packaging>=20.0->sagemaker>=2.1.0->stepfunctions) (2.4.6)\n",
      "Requirement already satisfied: setuptools in /home/ubuntu/anaconda3/lib/python3.7/site-packages (from protobuf>=3.1->sagemaker>=2.1.0->stepfunctions) (45.2.0.post20200210)\n",
      "Requirement already satisfied: pytz>=2017.3 in /home/ubuntu/anaconda3/lib/python3.7/site-packages (from pandas->sagemaker>=2.1.0->stepfunctions) (2021.1)\n",
      "Requirement already satisfied: multiprocess>=0.70.11 in /home/ubuntu/anaconda3/lib/python3.7/site-packages (from pathos->sagemaker>=2.1.0->stepfunctions) (0.70.11.1)\n",
      "Requirement already satisfied: pox>=0.2.9 in /home/ubuntu/anaconda3/lib/python3.7/site-packages (from pathos->sagemaker>=2.1.0->stepfunctions) (0.2.9)\n",
      "Requirement already satisfied: ppft>=1.6.6.3 in /home/ubuntu/anaconda3/lib/python3.7/site-packages (from pathos->sagemaker>=2.1.0->stepfunctions) (1.6.6.3)\n",
      "Requirement already satisfied: dill>=0.3.3 in /home/ubuntu/anaconda3/lib/python3.7/site-packages (from pathos->sagemaker>=2.1.0->stepfunctions) (0.3.3)\n",
      "Building wheels for collected packages: stepfunctions\n",
      "  Building wheel for stepfunctions (setup.py) ... \u001b[?25ldone\n",
      "\u001b[?25h  Created wheel for stepfunctions: filename=stepfunctions-2.1.0-py2.py3-none-any.whl size=73939 sha256=b9f80f672aeb1fb700efe14512c0d7dd1c4892987e3ceaabea733eaf5f36816b\n",
      "  Stored in directory: /home/ubuntu/.cache/pip/wheels/00/9f/ea/8e3e03990a2578b33aadf9214962568fb909dd76b367411660\n",
      "Successfully built stepfunctions\n",
      "Installing collected packages: stepfunctions\n",
      "Successfully installed stepfunctions-2.1.0\n"
     ]
    }
   ],
   "source": [
    "import sys\n",
    "\n",
    "!{sys.executable} -m pip install --upgrade stepfunctions"
   ]
  },
  {
   "cell_type": "markdown",
   "id": "featured-space",
   "metadata": {
    "papermill": {
     "duration": 0.021355,
     "end_time": "2021-05-26T15:48:09.263166",
     "exception": false,
     "start_time": "2021-05-26T15:48:09.241811",
     "status": "completed"
    },
    "tags": []
   },
   "source": [
    "## Setup\n",
    "\n",
    "### Add a policy to your SageMaker role in IAM\n",
    "\n",
    "**If you are running this notebook on an Amazon SageMaker notebook instance**, the IAM role assumed by your notebook instance needs permission to create and run workflows in AWS Step Functions. To provide this permission to the role, do the following.\n",
    "\n",
    "1. Open the Amazon [SageMaker console](https://console.aws.amazon.com/sagemaker/). \n",
    "2. Select **Notebook instances** and choose the name of your notebook instance\n",
    "3. Under **Permissions and encryption** select the role ARN to view the role on the IAM console\n",
    "4. Choose **Attach policies** and search for `AWSStepFunctionsFullAccess`.\n",
    "5. Select the check box next to `AWSStepFunctionsFullAccess` and choose **Attach policy**\n",
    "\n",
    "If you are running this notebook in a local environment, the SDK will use your configured AWS CLI configuration. For more information, see [Configuring the AWS CLI](https://docs.aws.amazon.com/cli/latest/userguide/cli-chap-configure.html).\n",
    "\n",
    "Next, create an execution role in IAM for Step Functions. \n",
    "\n",
    "### Create an execution role for Step Functions\n",
    "\n",
    "You need an execution role so that you can create and execute workflows in Step Functions.\n",
    "\n",
    "1. Go to the [IAM console](https://console.aws.amazon.com/iam/)\n",
    "2. Select **Roles** and then **Create role**.\n",
    "3. Under **Choose the service that will use this role** select **Step Functions**\n",
    "4. Choose **Next** until you can enter a **Role name**\n",
    "5. Enter a name such as `AmazonSageMaker-StepFunctionsWorkflowExecutionRole` and then select **Create role**\n",
    "\n",
    "\n",
    "Attach a policy to the role you created. The following steps attach a policy that provides full access to Step Functions, however as a good practice you should only provide access to the resources you need.  \n",
    "\n",
    "1. Under the **Permissions** tab, click **Add inline policy**\n",
    "2. Enter the following in the **JSON** tab\n",
    "\n",
    "```json\n",
    "{\n",
    "    \"Version\": \"2012-10-17\",\n",
    "    \"Statement\": [\n",
    "        {\n",
    "            \"Effect\": \"Allow\",\n",
    "            \"Action\": [\n",
    "                \"sagemaker:CreateTransformJob\",\n",
    "                \"sagemaker:DescribeTransformJob\",\n",
    "                \"sagemaker:StopTransformJob\",\n",
    "                \"sagemaker:CreateTrainingJob\",\n",
    "                \"sagemaker:DescribeTrainingJob\",\n",
    "                \"sagemaker:StopTrainingJob\",\n",
    "                \"sagemaker:CreateHyperParameterTuningJob\",\n",
    "                \"sagemaker:DescribeHyperParameterTuningJob\",\n",
    "                \"sagemaker:StopHyperParameterTuningJob\",\n",
    "                \"sagemaker:CreateModel\",\n",
    "                \"sagemaker:CreateEndpointConfig\",\n",
    "                \"sagemaker:CreateEndpoint\",\n",
    "                \"sagemaker:DeleteEndpointConfig\",\n",
    "                \"sagemaker:DeleteEndpoint\",\n",
    "                \"sagemaker:UpdateEndpoint\",\n",
    "                \"sagemaker:ListTags\",\n",
    "                \"lambda:InvokeFunction\",\n",
    "                \"sqs:SendMessage\",\n",
    "                \"sns:Publish\",\n",
    "                \"ecs:RunTask\",\n",
    "                \"ecs:StopTask\",\n",
    "                \"ecs:DescribeTasks\",\n",
    "                \"dynamodb:GetItem\",\n",
    "                \"dynamodb:PutItem\",\n",
    "                \"dynamodb:UpdateItem\",\n",
    "                \"dynamodb:DeleteItem\",\n",
    "                \"batch:SubmitJob\",\n",
    "                \"batch:DescribeJobs\",\n",
    "                \"batch:TerminateJob\",\n",
    "                \"glue:StartJobRun\",\n",
    "                \"glue:GetJobRun\",\n",
    "                \"glue:GetJobRuns\",\n",
    "                \"glue:BatchStopJobRun\"\n",
    "            ],\n",
    "            \"Resource\": \"*\"\n",
    "        },\n",
    "        {\n",
    "            \"Effect\": \"Allow\",\n",
    "            \"Action\": [\n",
    "                \"iam:PassRole\"\n",
    "            ],\n",
    "            \"Resource\": \"*\",\n",
    "            \"Condition\": {\n",
    "                \"StringEquals\": {\n",
    "                    \"iam:PassedToService\": \"sagemaker.amazonaws.com\"\n",
    "                }\n",
    "            }\n",
    "        },\n",
    "        {\n",
    "            \"Effect\": \"Allow\",\n",
    "            \"Action\": [\n",
    "                \"events:PutTargets\",\n",
    "                \"events:PutRule\",\n",
    "                \"events:DescribeRule\"\n",
    "            ],\n",
    "            \"Resource\": [\n",
    "                \"arn:aws:events:*:*:rule/StepFunctionsGetEventsForSageMakerTrainingJobsRule\",\n",
    "                \"arn:aws:events:*:*:rule/StepFunctionsGetEventsForSageMakerTransformJobsRule\",\n",
    "                \"arn:aws:events:*:*:rule/StepFunctionsGetEventsForSageMakerTuningJobsRule\",\n",
    "                \"arn:aws:events:*:*:rule/StepFunctionsGetEventsForECSTaskRule\",\n",
    "                \"arn:aws:events:*:*:rule/StepFunctionsGetEventsForBatchJobsRule\"\n",
    "            ]\n",
    "        }\n",
    "    ]\n",
    "}\n",
    "```\n",
    "\n",
    "3. Choose **Review policy** and give the policy a name such as `StepFunctionsWorkflowExecutionPolicy`\n",
    "4. Choose **Create policy**. You will be redirected to the details page for the role.\n",
    "5. Copy the **Role ARN** at the top of the **Summary**\n",
    "\n",
    "### Import the required modules from the SDK"
   ]
  },
  {
   "cell_type": "code",
   "execution_count": 5,
   "id": "posted-small",
   "metadata": {
    "execution": {
     "iopub.execute_input": "2021-05-26T15:48:09.310334Z",
     "iopub.status.busy": "2021-05-26T15:48:09.309887Z",
     "iopub.status.idle": "2021-05-26T15:48:10.008380Z",
     "shell.execute_reply": "2021-05-26T15:48:10.007944Z"
    },
    "papermill": {
     "duration": 0.724002,
     "end_time": "2021-05-26T15:48:10.008492",
     "exception": false,
     "start_time": "2021-05-26T15:48:09.284490",
     "status": "completed"
    },
    "tags": []
   },
   "outputs": [],
   "source": [
    "from sagemaker import get_execution_role\n",
    "import stepfunctions\n",
    "import logging\n",
    "\n",
    "from stepfunctions.steps import *\n",
    "from stepfunctions.workflow import Workflow\n",
    "\n",
    "stepfunctions.set_stream_logger(level=logging.INFO)\n",
    "\n",
    "workflow_execution_role = get_execution_role()"
   ]
  },
  {
   "cell_type": "markdown",
   "id": "further-interest",
   "metadata": {
    "papermill": {
     "duration": 0.021294,
     "end_time": "2021-05-26T15:48:10.051456",
     "exception": false,
     "start_time": "2021-05-26T15:48:10.030162",
     "status": "completed"
    },
    "tags": []
   },
   "source": [
    "## Create basic workflow\n",
    "\n",
    "In the following cell, you will define the step that you will use in our first workflow.  Then you will create, visualize and execute the workflow. \n",
    "\n",
    "Steps relate to states in AWS Step Functions. For more information, see [States](https://docs.aws.amazon.com/step-functions/latest/dg/concepts-states.html) in the *AWS Step Functions Developer Guide*. For more information on the AWS Step Functions Data Science SDK APIs, see: https://aws-step-functions-data-science-sdk.readthedocs.io. \n"
   ]
  },
  {
   "cell_type": "markdown",
   "id": "minus-tuition",
   "metadata": {
    "papermill": {
     "duration": 0.021326,
     "end_time": "2021-05-26T15:48:10.094155",
     "exception": false,
     "start_time": "2021-05-26T15:48:10.072829",
     "status": "completed"
    },
    "tags": []
   },
   "source": [
    "### Pass state\n",
    "\n",
    "A `Pass` state in Step Functions simply passes its input to its output, without performing work. See [Pass](https://aws-step-functions-data-science-sdk.readthedocs.io/en/latest/states.html#stepfunctions.steps.states.Pass) in the AWS Step Functions Data Science SDK documentation.\n"
   ]
  },
  {
   "cell_type": "code",
   "execution_count": 6,
   "id": "insured-vinyl",
   "metadata": {
    "execution": {
     "iopub.execute_input": "2021-05-26T15:48:10.140609Z",
     "iopub.status.busy": "2021-05-26T15:48:10.139985Z",
     "iopub.status.idle": "2021-05-26T15:48:10.141783Z",
     "shell.execute_reply": "2021-05-26T15:48:10.142127Z"
    },
    "papermill": {
     "duration": 0.026779,
     "end_time": "2021-05-26T15:48:10.142252",
     "exception": false,
     "start_time": "2021-05-26T15:48:10.115473",
     "status": "completed"
    },
    "tags": []
   },
   "outputs": [],
   "source": [
    "start_pass_state = Pass(state_id=\"MyPassState\")"
   ]
  },
  {
   "cell_type": "markdown",
   "id": "apparent-accreditation",
   "metadata": {
    "papermill": {
     "duration": 0.02186,
     "end_time": "2021-05-26T15:48:10.185747",
     "exception": false,
     "start_time": "2021-05-26T15:48:10.163887",
     "status": "completed"
    },
    "tags": []
   },
   "source": [
    "### Chain together steps for the basic path\n",
    "\n",
    "The following cell links together the steps you've created into a sequential group called `basic_path`. We will chain a single step to create our basic path. See [Chain](https://aws-step-functions-data-science-sdk.readthedocs.io/en/latest/states.html#stepfunctions.steps.states.Chain) in the AWS Step Functions Data Science SDK documentation.\n",
    "\n",
    "After chaining together the steps for the basic path, in this case only one step, we will visualize the basic path."
   ]
  },
  {
   "cell_type": "code",
   "execution_count": 7,
   "id": "casual-accordance",
   "metadata": {
    "execution": {
     "iopub.execute_input": "2021-05-26T15:48:10.233279Z",
     "iopub.status.busy": "2021-05-26T15:48:10.232683Z",
     "iopub.status.idle": "2021-05-26T15:48:10.234481Z",
     "shell.execute_reply": "2021-05-26T15:48:10.234817Z"
    },
    "papermill": {
     "duration": 0.026831,
     "end_time": "2021-05-26T15:48:10.234943",
     "exception": false,
     "start_time": "2021-05-26T15:48:10.208112",
     "status": "completed"
    },
    "tags": []
   },
   "outputs": [],
   "source": [
    "# First we chain the start pass state\n",
    "basic_path = Chain([start_pass_state])"
   ]
  },
  {
   "cell_type": "markdown",
   "id": "familiar-funds",
   "metadata": {
    "papermill": {
     "duration": 0.021463,
     "end_time": "2021-05-26T15:48:10.277922",
     "exception": false,
     "start_time": "2021-05-26T15:48:10.256459",
     "status": "completed"
    },
    "tags": []
   },
   "source": [
    "## Define the workflow instance\n",
    "\n",
    "The following cell defines the [workflow](https://aws-step-functions-data-science-sdk.readthedocs.io/en/latest/workflow.html#stepfunctions.workflow.Workflow) with the path we just defined.\n",
    "\n",
    "After defining the workflow, we will render the graph to see what our workflow looks like."
   ]
  },
  {
   "cell_type": "code",
   "execution_count": 8,
   "id": "color-facility",
   "metadata": {
    "execution": {
     "iopub.execute_input": "2021-05-26T15:48:10.334731Z",
     "iopub.status.busy": "2021-05-26T15:48:10.333945Z",
     "iopub.status.idle": "2021-05-26T15:48:10.363815Z",
     "shell.execute_reply": "2021-05-26T15:48:10.364247Z"
    },
    "papermill": {
     "duration": 0.063711,
     "end_time": "2021-05-26T15:48:10.364380",
     "exception": false,
     "start_time": "2021-05-26T15:48:10.300669",
     "status": "completed"
    },
    "tags": []
   },
   "outputs": [
    {
     "data": {
      "text/html": [
       "\n",
       "<link rel=\"stylesheet\" type=\"text/css\" href=\"https://do0of8uwbahzz.cloudfront.net/graph.css\">\n",
       "<div id=\"graph-345\" class=\"workflowgraph\">\n",
       "    \n",
       "    <svg></svg>\n",
       "    \n",
       "</div>\n",
       "\n",
       "<script type=\"text/javascript\">\n",
       "\n",
       "require.config({\n",
       "    paths: {\n",
       "        sfn: \"https://do0of8uwbahzz.cloudfront.net/sfn\",\n",
       "    }\n",
       "});\n",
       "\n",
       "require(['sfn'], function(sfn) {\n",
       "    var element = document.getElementById('graph-345')\n",
       "\n",
       "    var options = {\n",
       "        width: parseFloat(getComputedStyle(element, null).width.replace(\"px\", \"\")),\n",
       "        height: 600,\n",
       "        layout: 'LR',\n",
       "        resizeHeight: true\n",
       "    };\n",
       "\n",
       "    var definition = {\"StartAt\": \"MyPassState\", \"States\": {\"MyPassState\": {\"Type\": \"Pass\", \"End\": true}}};\n",
       "    var elementId = '#graph-345';\n",
       "\n",
       "    var graph = new sfn.StateMachineGraph(definition, elementId, options);\n",
       "    graph.render();\n",
       "});\n",
       "\n",
       "</script>\n"
      ],
      "text/plain": [
       "<IPython.core.display.HTML object>"
      ]
     },
     "execution_count": 8,
     "metadata": {},
     "output_type": "execute_result"
    }
   ],
   "source": [
    "# Next, we define the workflow\n",
    "basic_workflow = Workflow(\n",
    "    name=\"MyWorkflow_Simple\", definition=basic_path, role=workflow_execution_role\n",
    ")\n",
    "\n",
    "# Render the workflow\n",
    "basic_workflow.render_graph()"
   ]
  },
  {
   "cell_type": "markdown",
   "id": "skilled-investor",
   "metadata": {
    "papermill": {
     "duration": 0.022099,
     "end_time": "2021-05-26T15:48:10.408573",
     "exception": false,
     "start_time": "2021-05-26T15:48:10.386474",
     "status": "completed"
    },
    "tags": []
   },
   "source": [
    "## Review the Amazon States Language code for your workflow\n",
    "\n",
    "The following renders the JSON of the [Amazon States Language](https://docs.aws.amazon.com/step-functions/latest/dg/concepts-amazon-states-language.html) definition of the workflow you created. "
   ]
  },
  {
   "cell_type": "code",
   "execution_count": 9,
   "id": "occupational-alexandria",
   "metadata": {
    "execution": {
     "iopub.execute_input": "2021-05-26T15:48:10.456300Z",
     "iopub.status.busy": "2021-05-26T15:48:10.455801Z",
     "iopub.status.idle": "2021-05-26T15:48:10.458341Z",
     "shell.execute_reply": "2021-05-26T15:48:10.457904Z"
    },
    "papermill": {
     "duration": 0.027861,
     "end_time": "2021-05-26T15:48:10.458445",
     "exception": false,
     "start_time": "2021-05-26T15:48:10.430584",
     "status": "completed"
    },
    "tags": []
   },
   "outputs": [
    {
     "name": "stdout",
     "output_type": "stream",
     "text": [
      "{\n",
      "    \"StartAt\": \"MyPassState\",\n",
      "    \"States\": {\n",
      "        \"MyPassState\": {\n",
      "            \"Type\": \"Pass\",\n",
      "            \"End\": true\n",
      "        }\n",
      "    }\n",
      "}\n"
     ]
    }
   ],
   "source": [
    "print(basic_workflow.definition.to_json(pretty=True))"
   ]
  },
  {
   "cell_type": "markdown",
   "id": "alleged-muslim",
   "metadata": {
    "papermill": {
     "duration": 0.022395,
     "end_time": "2021-05-26T15:48:10.503302",
     "exception": false,
     "start_time": "2021-05-26T15:48:10.480907",
     "status": "completed"
    },
    "tags": []
   },
   "source": [
    "## Create the workflow on AWS Step Functions\n",
    "\n",
    "Create the workflow in AWS Step Functions with [create](https://aws-step-functions-data-science-sdk.readthedocs.io/en/latest/workflow.html#stepfunctions.workflow.Workflow.create)."
   ]
  },
  {
   "cell_type": "code",
   "execution_count": 10,
   "id": "joint-surface",
   "metadata": {
    "execution": {
     "iopub.execute_input": "2021-05-26T15:48:10.553245Z",
     "iopub.status.busy": "2021-05-26T15:48:10.552788Z",
     "iopub.status.idle": "2021-05-26T15:48:10.686008Z",
     "shell.execute_reply": "2021-05-26T15:48:10.685269Z"
    },
    "papermill": {
     "duration": 0.16056,
     "end_time": "2021-05-26T15:48:10.686204",
     "exception": true,
     "start_time": "2021-05-26T15:48:10.525644",
     "status": "failed"
    },
    "tags": []
   },
   "outputs": [
    {
     "name": "stdout",
     "output_type": "stream",
     "text": [
      "\u001b[32m[INFO] Workflow created successfully on AWS Step Functions.\u001b[0m\n"
     ]
    },
    {
     "data": {
      "text/plain": [
       "'arn:aws:states:us-west-2:688520471316:stateMachine:MyWorkflow_Simple'"
      ]
     },
     "execution_count": 10,
     "metadata": {},
     "output_type": "execute_result"
    }
   ],
   "source": [
    "basic_workflow.create()"
   ]
  },
  {
   "cell_type": "markdown",
   "id": "vanilla-finger",
   "metadata": {
    "papermill": {
     "duration": null,
     "end_time": null,
     "exception": null,
     "start_time": null,
     "status": "pending"
    },
    "tags": []
   },
   "source": [
    "## Execute the workflow\n",
    "\n",
    "Run the workflow with [execute](https://aws-step-functions-data-science-sdk.readthedocs.io/en/latest/workflow.html#stepfunctions.workflow.Workflow.execute). Since the workflow only has a pass state, it will succeed immediately."
   ]
  },
  {
   "cell_type": "code",
   "execution_count": 11,
   "id": "operating-chart",
   "metadata": {
    "papermill": {
     "duration": null,
     "end_time": null,
     "exception": null,
     "start_time": null,
     "status": "pending"
    },
    "tags": []
   },
   "outputs": [
    {
     "name": "stdout",
     "output_type": "stream",
     "text": [
      "\u001b[32m[INFO] Workflow execution started successfully on AWS Step Functions.\u001b[0m\n"
     ]
    }
   ],
   "source": [
    "basic_workflow_execution = basic_workflow.execute()"
   ]
  },
  {
   "cell_type": "markdown",
   "id": "duplicate-yesterday",
   "metadata": {
    "papermill": {
     "duration": null,
     "end_time": null,
     "exception": null,
     "start_time": null,
     "status": "pending"
    },
    "tags": []
   },
   "source": [
    "## Review the execution progress\n",
    "\n",
    "Render workflow progress with the [render_progress](https://aws-step-functions-data-science-sdk.readthedocs.io/en/latest/workflow.html#stepfunctions.workflow.Execution.render_progress).\n",
    "\n",
    "This generates a snapshot of the current state of your workflow as it executes. This is a static image. Run the cell again to check progress. "
   ]
  },
  {
   "cell_type": "code",
   "execution_count": 12,
   "id": "acknowledged-authentication",
   "metadata": {
    "papermill": {
     "duration": null,
     "end_time": null,
     "exception": null,
     "start_time": null,
     "status": "pending"
    },
    "tags": []
   },
   "outputs": [
    {
     "data": {
      "text/html": [
       "\n",
       "<link rel=\"stylesheet\" type=\"text/css\" href=\"https://do0of8uwbahzz.cloudfront.net/graph.css\">\n",
       "<div id=\"graph-427\" class=\"workflowgraph\">\n",
       "    \n",
       "    <style>\n",
       "        .graph-legend ul {\n",
       "            list-style-type: none;\n",
       "            padding: 10px;\n",
       "            padding-left: 0;\n",
       "            margin: 0;\n",
       "            position: absolute;\n",
       "            top: 0;\n",
       "            background: transparent;\n",
       "        }\n",
       "\n",
       "        .graph-legend li {\n",
       "            margin-left: 10px;\n",
       "            display: inline-block;\n",
       "        }\n",
       "\n",
       "        .graph-legend li > div {\n",
       "            width: 10px;\n",
       "            height: 10px;\n",
       "            display: inline-block;\n",
       "        }\n",
       "\n",
       "        .graph-legend .success { background-color: #2BD62E }\n",
       "        .graph-legend .failed { background-color: #DE322F }\n",
       "        .graph-legend .cancelled { background-color: #DDDDDD }\n",
       "        .graph-legend .in-progress { background-color: #53C9ED }\n",
       "        .graph-legend .caught-error { background-color: #FFA500 }\n",
       "    </style>\n",
       "    <div class=\"graph-legend\">\n",
       "        <ul>\n",
       "            <li>\n",
       "                <div class=\"success\"></div>\n",
       "                <span>Success</span>\n",
       "            </li>\n",
       "            <li>\n",
       "                <div class=\"failed\"></div>\n",
       "                <span>Failed</span>\n",
       "            </li>\n",
       "            <li>\n",
       "                <div class=\"cancelled\"></div>\n",
       "                <span>Cancelled</span>\n",
       "            </li>\n",
       "            <li>\n",
       "                <div class=\"in-progress\"></div>\n",
       "                <span>In Progress</span>\n",
       "            </li>\n",
       "            <li>\n",
       "                <div class=\"caught-error\"></div>\n",
       "                <span>Caught Error</span>\n",
       "            </li>\n",
       "        </ul>\n",
       "    </div>\n",
       "\n",
       "    <svg></svg>\n",
       "    <a href=\"https://console.aws.amazon.com/states/home?region=us-west-2#/executions/details/arn:aws:states:us-west-2:688520471316:execution:MyWorkflow_Simple:38af6842-5f51-4442-a0d3-4dafae86bda3\" target=\"_blank\"> Inspect in AWS Step Functions </a>\n",
       "</div>\n",
       "\n",
       "<script type=\"text/javascript\">\n",
       "\n",
       "require.config({\n",
       "    paths: {\n",
       "        sfn: \"https://do0of8uwbahzz.cloudfront.net/sfn\",\n",
       "    }\n",
       "});\n",
       "\n",
       "require(['sfn'], function(sfn) {\n",
       "    var element = document.getElementById('graph-427')\n",
       "\n",
       "    var options = {\n",
       "        width: parseFloat(getComputedStyle(element, null).width.replace(\"px\", \"\")),\n",
       "        height: 1000,\n",
       "        layout: 'LR',\n",
       "        resizeHeight: true\n",
       "    };\n",
       "\n",
       "    var definition = {\"StartAt\": \"MyPassState\", \"States\": {\"MyPassState\": {\"Type\": \"Pass\", \"End\": true}}};\n",
       "    var elementId = '#graph-427';\n",
       "    var events = { 'events': [{\"timestamp\": 1622236248.723, \"type\": \"ExecutionStarted\", \"id\": 1, \"previousEventId\": 0, \"executionStartedEventDetails\": {\"input\": \"{}\", \"inputDetails\": {\"truncated\": false}, \"roleArn\": \"arn:aws:iam::688520471316:role/hongshan-sagemaker-experiment\"}}, {\"timestamp\": 1622236248.757, \"type\": \"PassStateEntered\", \"id\": 2, \"previousEventId\": 0, \"stateEnteredEventDetails\": {\"name\": \"MyPassState\", \"input\": \"{}\", \"inputDetails\": {\"truncated\": false}}}, {\"timestamp\": 1622236248.757, \"type\": \"PassStateExited\", \"id\": 3, \"previousEventId\": 2, \"stateExitedEventDetails\": {\"name\": \"MyPassState\", \"output\": \"{}\", \"outputDetails\": {\"truncated\": false}}}, {\"timestamp\": 1622236248.757, \"type\": \"ExecutionSucceeded\", \"id\": 4, \"previousEventId\": 3, \"executionSucceededEventDetails\": {\"output\": \"{}\", \"outputDetails\": {\"truncated\": false}}}] };\n",
       "\n",
       "    var graph = new sfn.StateMachineExecutionGraph(definition, events, elementId, options);\n",
       "    graph.render();\n",
       "});\n",
       "\n",
       "</script>\n"
      ],
      "text/plain": [
       "<IPython.core.display.HTML object>"
      ]
     },
     "execution_count": 12,
     "metadata": {},
     "output_type": "execute_result"
    }
   ],
   "source": [
    "basic_workflow_execution.render_progress()"
   ]
  },
  {
   "cell_type": "markdown",
   "id": "dominican-shame",
   "metadata": {
    "papermill": {
     "duration": null,
     "end_time": null,
     "exception": null,
     "start_time": null,
     "status": "pending"
    },
    "tags": []
   },
   "source": [
    "## Review the execution history\n",
    "\n",
    "Use [list_events](https://aws-step-functions-data-science-sdk.readthedocs.io/en/latest/workflow.html#stepfunctions.workflow.Execution.list_events) to list all events in the workflow execution."
   ]
  },
  {
   "cell_type": "code",
   "execution_count": 16,
   "id": "documented-eagle",
   "metadata": {
    "papermill": {
     "duration": null,
     "end_time": null,
     "exception": null,
     "start_time": null,
     "status": "pending"
    },
    "tags": []
   },
   "outputs": [
    {
     "data": {
      "text/plain": [
       "[{'timestamp': datetime.datetime(2021, 5, 28, 21, 10, 48, 723000, tzinfo=tzlocal()),\n",
       "  'type': 'ExecutionStarted',\n",
       "  'id': 1,\n",
       "  'previousEventId': 0,\n",
       "  'executionStartedEventDetails': {'input': '{}',\n",
       "   'inputDetails': {'truncated': False},\n",
       "   'roleArn': 'arn:aws:iam::688520471316:role/hongshan-sagemaker-experiment'}},\n",
       " {'timestamp': datetime.datetime(2021, 5, 28, 21, 10, 48, 757000, tzinfo=tzlocal()),\n",
       "  'type': 'PassStateEntered',\n",
       "  'id': 2,\n",
       "  'previousEventId': 0,\n",
       "  'stateEnteredEventDetails': {'name': 'MyPassState',\n",
       "   'input': '{}',\n",
       "   'inputDetails': {'truncated': False}}},\n",
       " {'timestamp': datetime.datetime(2021, 5, 28, 21, 10, 48, 757000, tzinfo=tzlocal()),\n",
       "  'type': 'PassStateExited',\n",
       "  'id': 3,\n",
       "  'previousEventId': 2,\n",
       "  'stateExitedEventDetails': {'name': 'MyPassState',\n",
       "   'output': '{}',\n",
       "   'outputDetails': {'truncated': False}}},\n",
       " {'timestamp': datetime.datetime(2021, 5, 28, 21, 10, 48, 757000, tzinfo=tzlocal()),\n",
       "  'type': 'ExecutionSucceeded',\n",
       "  'id': 4,\n",
       "  'previousEventId': 3,\n",
       "  'executionSucceededEventDetails': {'output': '{}',\n",
       "   'outputDetails': {'truncated': False}}}]"
      ]
     },
     "execution_count": 16,
     "metadata": {},
     "output_type": "execute_result"
    }
   ],
   "source": [
    "basic_workflow_execution.list_events()"
   ]
  },
  {
   "cell_type": "markdown",
   "id": "unexpected-acquisition",
   "metadata": {
    "papermill": {
     "duration": null,
     "end_time": null,
     "exception": null,
     "start_time": null,
     "status": "pending"
    },
    "tags": []
   },
   "source": [
    "## Create additional steps for your workflow\n",
    "\n",
    "In the following cells, you will define additional steps that you will use in our workflows. Steps relate to states in AWS Step Functions. For more information, see [States](https://docs.aws.amazon.com/step-functions/latest/dg/concepts-states.html) in the *AWS Step Functions Developer Guide*. For more information on the AWS Step Functions Data Science SDK APIs, see: https://aws-step-functions-data-science-sdk.readthedocs.io. \n"
   ]
  },
  {
   "cell_type": "markdown",
   "id": "warming-providence",
   "metadata": {
    "papermill": {
     "duration": null,
     "end_time": null,
     "exception": null,
     "start_time": null,
     "status": "pending"
    },
    "tags": []
   },
   "source": [
    "### Choice state\n",
    "\n",
    "A `Choice` state in Step Functions adds branching logic to your workflow. See [Choice](https://aws-step-functions-data-science-sdk.readthedocs.io/en/latest/states.html#stepfunctions.steps.states.Choice) in the AWS Step Functions Data Science SDK documentation."
   ]
  },
  {
   "cell_type": "code",
   "execution_count": 18,
   "id": "expensive-conditioning",
   "metadata": {
    "papermill": {
     "duration": null,
     "end_time": null,
     "exception": null,
     "start_time": null,
     "status": "pending"
    },
    "tags": []
   },
   "outputs": [],
   "source": [
    "choice_state = Choice(state_id=\"Is this Hello World example?\")"
   ]
  },
  {
   "cell_type": "markdown",
   "id": "primary-lancaster",
   "metadata": {
    "papermill": {
     "duration": null,
     "end_time": null,
     "exception": null,
     "start_time": null,
     "status": "pending"
    },
    "tags": []
   },
   "source": [
    "First create the steps for the \"happy path\"."
   ]
  },
  {
   "cell_type": "markdown",
   "id": "provincial-making",
   "metadata": {
    "papermill": {
     "duration": null,
     "end_time": null,
     "exception": null,
     "start_time": null,
     "status": "pending"
    },
    "tags": []
   },
   "source": [
    "### Wait state\n",
    "\n",
    "A `Wait` state in Step Functions waits a specific amount of time. See [Wait](https://aws-step-functions-data-science-sdk.readthedocs.io/en/latest/states.html#stepfunctions.steps.states.Wait) in the AWS Step Functions Data Science SDK documentation."
   ]
  },
  {
   "cell_type": "code",
   "execution_count": 19,
   "id": "arctic-knock",
   "metadata": {
    "papermill": {
     "duration": null,
     "end_time": null,
     "exception": null,
     "start_time": null,
     "status": "pending"
    },
    "tags": []
   },
   "outputs": [],
   "source": [
    "wait_state = Wait(state_id=\"Wait for 3 seconds\", seconds=3)"
   ]
  },
  {
   "cell_type": "markdown",
   "id": "horizontal-puzzle",
   "metadata": {
    "papermill": {
     "duration": null,
     "end_time": null,
     "exception": null,
     "start_time": null,
     "status": "pending"
    },
    "tags": []
   },
   "source": [
    "### Parallel state\n",
    "\n",
    "A `Parallel` state in Step Functions is used to create parallel branches of execution in your workflow. This creates the `Parallel` step and adds two branches: `Hello` and `World`. See [Parallel](https://aws-step-functions-data-science-sdk.readthedocs.io/en/latest/states.html#stepfunctions.steps.states.Parallel) in the AWS Step Functions Data Science SDK documentation."
   ]
  },
  {
   "cell_type": "code",
   "execution_count": 20,
   "id": "breeding-cartoon",
   "metadata": {
    "papermill": {
     "duration": null,
     "end_time": null,
     "exception": null,
     "start_time": null,
     "status": "pending"
    },
    "tags": []
   },
   "outputs": [],
   "source": [
    "parallel_state = Parallel(\"MyParallelState\")\n",
    "parallel_state.add_branch(Pass(state_id=\"Hello\"))\n",
    "parallel_state.add_branch(Pass(state_id=\"World\"))"
   ]
  },
  {
   "cell_type": "markdown",
   "id": "musical-fleece",
   "metadata": {
    "papermill": {
     "duration": null,
     "end_time": null,
     "exception": null,
     "start_time": null,
     "status": "pending"
    },
    "tags": []
   },
   "source": [
    "### Lambda Task state\n",
    "\n",
    "A `Task` State in Step Functions represents a single unit of work performed by a workflow. Tasks can call Lambda functions and orchestrate other AWS services. See [AWS Service Integrations](https://docs.aws.amazon.com/step-functions/latest/dg/concepts-service-integrations.html) in the *AWS Step Functions Developer Guide*.\n",
    "\n",
    "#### Create a Lambda function\n",
    "\n",
    "The Lambda task state in this workflow uses a simple Lambda function **(Python 3.x)** that returns a base64 encoded string. Create the following function in the [Lambda console](https://console.aws.amazon.com/lambda/).\n",
    "\n",
    "```python\n",
    "import json\n",
    "import base64\n",
    " \n",
    "def lambda_handler(event, context):\n",
    "    return {\n",
    "        'statusCode': 200,\n",
    "        'input': event['input'],\n",
    "        'output': base64.b64encode(event['input'].encode()).decode('UTF-8')\n",
    "    }\n",
    "```"
   ]
  },
  {
   "cell_type": "markdown",
   "id": "engaging-schedule",
   "metadata": {
    "papermill": {
     "duration": null,
     "end_time": null,
     "exception": null,
     "start_time": null,
     "status": "pending"
    },
    "tags": []
   },
   "source": [
    "#### Define the Lambda Task state\n",
    "\n",
    "The following creates a [LambdaStep](https://aws-step-functions-data-science-sdk.readthedocs.io/en/latest/compute.html#stepfunctions.steps.compute.LambdaStep) called `lambda_state`, and then configures the options to [Retry](https://docs.aws.amazon.com/step-functions/latest/dg/concepts-error-handling.html#error-handling-retrying-after-an-error) if the Lambda function fails."
   ]
  },
  {
   "cell_type": "code",
   "execution_count": 21,
   "id": "indie-employment",
   "metadata": {
    "papermill": {
     "duration": null,
     "end_time": null,
     "exception": null,
     "start_time": null,
     "status": "pending"
    },
    "tags": []
   },
   "outputs": [],
   "source": [
    "lambda_state = LambdaStep(\n",
    "    state_id=\"Convert HelloWorld to Base64\",\n",
    "    parameters={\n",
    "        \"FunctionName\": \"<lambda-function-name>\",  # replace with the name of the function you created\n",
    "        \"Payload\": {\"input\": \"HelloWorld\"},\n",
    "    },\n",
    ")\n",
    "\n",
    "lambda_state.add_retry(\n",
    "    Retry(error_equals=[\"States.TaskFailed\"], interval_seconds=15, max_attempts=2, backoff_rate=4.0)\n",
    ")\n",
    "\n",
    "lambda_state.add_catch(\n",
    "    Catch(error_equals=[\"States.TaskFailed\"], next_step=Fail(\"LambdaTaskFailed\"))\n",
    ")"
   ]
  },
  {
   "cell_type": "markdown",
   "id": "graphic-carroll",
   "metadata": {
    "papermill": {
     "duration": null,
     "end_time": null,
     "exception": null,
     "start_time": null,
     "status": "pending"
    },
    "tags": []
   },
   "source": [
    "### Succeed state\n",
    "\n",
    "A `Succeed` state in Step Functions stops an execution successfully. See [Succeed](https://aws-step-functions-data-science-sdk.readthedocs.io/en/latest/states.html#stepfunctions.steps.states.Succeed) in the AWS Step Functions Data Science SDK documentation."
   ]
  },
  {
   "cell_type": "code",
   "execution_count": 22,
   "id": "variable-captain",
   "metadata": {
    "papermill": {
     "duration": null,
     "end_time": null,
     "exception": null,
     "start_time": null,
     "status": "pending"
    },
    "tags": []
   },
   "outputs": [],
   "source": [
    "succeed_state = Succeed(\"HelloWorldSuccessful\")"
   ]
  },
  {
   "cell_type": "markdown",
   "id": "arbitrary-oxford",
   "metadata": {
    "papermill": {
     "duration": null,
     "end_time": null,
     "exception": null,
     "start_time": null,
     "status": "pending"
    },
    "tags": []
   },
   "source": [
    "### Chain together steps for the happy path\n",
    "\n",
    "The following cell links together the steps you've created above into a sequential group called `happy_path`. The new path sequentially includes the Wait state, the Parallel state, the Lambda state, and the Succeed state that you created earlier.\n",
    "\n",
    "After chaining together the steps for the happy path, we will define the workflow and visualize the happy path."
   ]
  },
  {
   "cell_type": "code",
   "execution_count": 23,
   "id": "everyday-threshold",
   "metadata": {
    "papermill": {
     "duration": null,
     "end_time": null,
     "exception": null,
     "start_time": null,
     "status": "pending"
    },
    "tags": []
   },
   "outputs": [],
   "source": [
    "happy_path = Chain([wait_state, parallel_state, lambda_state, succeed_state])"
   ]
  },
  {
   "cell_type": "code",
   "execution_count": 24,
   "id": "compatible-detroit",
   "metadata": {
    "papermill": {
     "duration": null,
     "end_time": null,
     "exception": null,
     "start_time": null,
     "status": "pending"
    },
    "tags": []
   },
   "outputs": [
    {
     "data": {
      "text/html": [
       "\n",
       "<link rel=\"stylesheet\" type=\"text/css\" href=\"https://do0of8uwbahzz.cloudfront.net/graph.css\">\n",
       "<div id=\"graph-256\" class=\"workflowgraph\">\n",
       "    \n",
       "    <svg></svg>\n",
       "    \n",
       "</div>\n",
       "\n",
       "<script type=\"text/javascript\">\n",
       "\n",
       "require.config({\n",
       "    paths: {\n",
       "        sfn: \"https://do0of8uwbahzz.cloudfront.net/sfn\",\n",
       "    }\n",
       "});\n",
       "\n",
       "require(['sfn'], function(sfn) {\n",
       "    var element = document.getElementById('graph-256')\n",
       "\n",
       "    var options = {\n",
       "        width: parseFloat(getComputedStyle(element, null).width.replace(\"px\", \"\")),\n",
       "        height: 600,\n",
       "        layout: 'LR',\n",
       "        resizeHeight: true\n",
       "    };\n",
       "\n",
       "    var definition = {\"StartAt\": \"Wait for 3 seconds\", \"States\": {\"Wait for 3 seconds\": {\"Seconds\": 3, \"Type\": \"Wait\", \"Next\": \"MyParallelState\"}, \"MyParallelState\": {\"Type\": \"Parallel\", \"Next\": \"Convert HelloWorld to Base64\", \"Branches\": [{\"StartAt\": \"Hello\", \"States\": {\"Hello\": {\"Type\": \"Pass\", \"End\": true}}}, {\"StartAt\": \"World\", \"States\": {\"World\": {\"Type\": \"Pass\", \"End\": true}}}]}, \"Convert HelloWorld to Base64\": {\"Parameters\": {\"FunctionName\": \"<lambda-function-name>\", \"Payload\": {\"input\": \"HelloWorld\"}}, \"Resource\": \"arn:aws:states:::lambda:invoke\", \"Type\": \"Task\", \"Next\": \"HelloWorldSuccessful\", \"Retry\": [{\"ErrorEquals\": [\"States.TaskFailed\"], \"IntervalSeconds\": 15, \"MaxAttempts\": 2, \"BackoffRate\": 4.0}], \"Catch\": [{\"ErrorEquals\": [\"States.TaskFailed\"], \"Next\": \"LambdaTaskFailed\"}]}, \"HelloWorldSuccessful\": {\"Type\": \"Succeed\"}, \"LambdaTaskFailed\": {\"Type\": \"Fail\"}}};\n",
       "    var elementId = '#graph-256';\n",
       "\n",
       "    var graph = new sfn.StateMachineGraph(definition, elementId, options);\n",
       "    graph.render();\n",
       "});\n",
       "\n",
       "</script>\n"
      ],
      "text/plain": [
       "<IPython.core.display.HTML object>"
      ]
     },
     "execution_count": 24,
     "metadata": {},
     "output_type": "execute_result"
    }
   ],
   "source": [
    "# Next, we define the workflow\n",
    "happy_workflow = Workflow(\n",
    "    name=\"MyWorkflow_Happy\", definition=happy_path, role=workflow_execution_role\n",
    ")\n",
    "\n",
    "happy_workflow.render_graph()"
   ]
  },
  {
   "cell_type": "markdown",
   "id": "sophisticated-yahoo",
   "metadata": {
    "papermill": {
     "duration": null,
     "end_time": null,
     "exception": null,
     "start_time": null,
     "status": "pending"
    },
    "tags": []
   },
   "source": [
    "For the sad path, we simply end the workflow using a `Fail` state. See [Fail](https://aws-step-functions-data-science-sdk.readthedocs.io/en/latest/states.html#stepfunctions.steps.states.Fail) in the AWS Step Functions Data Science SDK documentation."
   ]
  },
  {
   "cell_type": "code",
   "execution_count": 25,
   "id": "baking-given",
   "metadata": {
    "papermill": {
     "duration": null,
     "end_time": null,
     "exception": null,
     "start_time": null,
     "status": "pending"
    },
    "tags": []
   },
   "outputs": [],
   "source": [
    "sad_state = Fail(\"HelloWorldFailed\")"
   ]
  },
  {
   "cell_type": "markdown",
   "id": "quick-former",
   "metadata": {
    "papermill": {
     "duration": null,
     "end_time": null,
     "exception": null,
     "start_time": null,
     "status": "pending"
    },
    "tags": []
   },
   "source": [
    "### Choice state\n",
    "\n",
    "Now, attach branches to the Choice state you created earlier. See *Choice Rules* in the [AWS Step Functions Data Science SDK documentation](https://aws-step-functions-data-science-sdk.readthedocs.io) ."
   ]
  },
  {
   "cell_type": "code",
   "execution_count": 26,
   "id": "closing-feeding",
   "metadata": {
    "papermill": {
     "duration": null,
     "end_time": null,
     "exception": null,
     "start_time": null,
     "status": "pending"
    },
    "tags": []
   },
   "outputs": [],
   "source": [
    "choice_state.add_choice(\n",
    "    rule=ChoiceRule.BooleanEquals(\n",
    "        variable=start_pass_state.output()[\"IsHelloWorldExample\"], value=True\n",
    "    ),\n",
    "    next_step=happy_path,\n",
    ")\n",
    "choice_state.add_choice(\n",
    "    ChoiceRule.BooleanEquals(\n",
    "        variable=start_pass_state.output()[\"IsHelloWorldExample\"], value=False\n",
    "    ),\n",
    "    next_step=sad_state,\n",
    ")"
   ]
  },
  {
   "cell_type": "markdown",
   "id": "considered-prerequisite",
   "metadata": {
    "papermill": {
     "duration": null,
     "end_time": null,
     "exception": null,
     "start_time": null,
     "status": "pending"
    },
    "tags": []
   },
   "source": [
    "## Chain together two steps\n",
    "\n",
    "In the next cell, you will chain the start_pass_state with the choice_state and define the workflow."
   ]
  },
  {
   "cell_type": "code",
   "execution_count": 27,
   "id": "accepted-cover",
   "metadata": {
    "papermill": {
     "duration": null,
     "end_time": null,
     "exception": null,
     "start_time": null,
     "status": "pending"
    },
    "tags": []
   },
   "outputs": [],
   "source": [
    "# First we chain the start pass state and the choice state\n",
    "branching_workflow_definition = Chain([start_pass_state, choice_state])\n",
    "\n",
    "# Next, we define the workflow\n",
    "branching_workflow = Workflow(\n",
    "    name=\"MyWorkflow_v2\", definition=branching_workflow_definition, role=workflow_execution_role\n",
    ")"
   ]
  },
  {
   "cell_type": "code",
   "execution_count": 28,
   "id": "according-reach",
   "metadata": {
    "papermill": {
     "duration": null,
     "end_time": null,
     "exception": null,
     "start_time": null,
     "status": "pending"
    },
    "scrolled": true,
    "tags": []
   },
   "outputs": [
    {
     "name": "stdout",
     "output_type": "stream",
     "text": [
      "{\n",
      "    \"StartAt\": \"MyPassState\",\n",
      "    \"States\": {\n",
      "        \"MyPassState\": {\n",
      "            \"Type\": \"Pass\",\n",
      "            \"Next\": \"Is this Hello World example?\"\n",
      "        },\n",
      "        \"Is this Hello World example?\": {\n",
      "            \"Type\": \"Choice\",\n",
      "            \"Choices\": [\n",
      "                {\n",
      "                    \"Variable\": \"$['IsHelloWorldExample']\",\n",
      "                    \"BooleanEquals\": true,\n",
      "                    \"Next\": \"Wait for 3 seconds\"\n",
      "                },\n",
      "                {\n",
      "                    \"Variable\": \"$['IsHelloWorldExample']\",\n",
      "                    \"BooleanEquals\": false,\n",
      "                    \"Next\": \"HelloWorldFailed\"\n",
      "                }\n",
      "            ]\n",
      "        },\n",
      "        \"Wait for 3 seconds\": {\n",
      "            \"Seconds\": 3,\n",
      "            \"Type\": \"Wait\",\n",
      "            \"Next\": \"MyParallelState\"\n",
      "        },\n",
      "        \"MyParallelState\": {\n",
      "            \"Type\": \"Parallel\",\n",
      "            \"Next\": \"Convert HelloWorld to Base64\",\n",
      "            \"Branches\": [\n",
      "                {\n",
      "                    \"StartAt\": \"Hello\",\n",
      "                    \"States\": {\n",
      "                        \"Hello\": {\n",
      "                            \"Type\": \"Pass\",\n",
      "                            \"End\": true\n",
      "                        }\n",
      "                    }\n",
      "                },\n",
      "                {\n",
      "                    \"StartAt\": \"World\",\n",
      "                    \"States\": {\n",
      "                        \"World\": {\n",
      "                            \"Type\": \"Pass\",\n",
      "                            \"End\": true\n",
      "                        }\n",
      "                    }\n",
      "                }\n",
      "            ]\n",
      "        },\n",
      "        \"Convert HelloWorld to Base64\": {\n",
      "            \"Parameters\": {\n",
      "                \"FunctionName\": \"<lambda-function-name>\",\n",
      "                \"Payload\": {\n",
      "                    \"input\": \"HelloWorld\"\n",
      "                }\n",
      "            },\n",
      "            \"Resource\": \"arn:aws:states:::lambda:invoke\",\n",
      "            \"Type\": \"Task\",\n",
      "            \"Next\": \"HelloWorldSuccessful\",\n",
      "            \"Retry\": [\n",
      "                {\n",
      "                    \"ErrorEquals\": [\n",
      "                        \"States.TaskFailed\"\n",
      "                    ],\n",
      "                    \"IntervalSeconds\": 15,\n",
      "                    \"MaxAttempts\": 2,\n",
      "                    \"BackoffRate\": 4.0\n",
      "                }\n",
      "            ],\n",
      "            \"Catch\": [\n",
      "                {\n",
      "                    \"ErrorEquals\": [\n",
      "                        \"States.TaskFailed\"\n",
      "                    ],\n",
      "                    \"Next\": \"LambdaTaskFailed\"\n",
      "                }\n",
      "            ]\n",
      "        },\n",
      "        \"HelloWorldSuccessful\": {\n",
      "            \"Type\": \"Succeed\"\n",
      "        },\n",
      "        \"LambdaTaskFailed\": {\n",
      "            \"Type\": \"Fail\"\n",
      "        },\n",
      "        \"HelloWorldFailed\": {\n",
      "            \"Type\": \"Fail\"\n",
      "        }\n",
      "    }\n",
      "}\n"
     ]
    }
   ],
   "source": [
    "# Review the Amazon States Language code for your workflow\n",
    "print(branching_workflow.definition.to_json(pretty=True))"
   ]
  },
  {
   "cell_type": "markdown",
   "id": "protective-revelation",
   "metadata": {
    "papermill": {
     "duration": null,
     "end_time": null,
     "exception": null,
     "start_time": null,
     "status": "pending"
    },
    "tags": []
   },
   "source": [
    "## Review a visualization for your workflow\n",
    "\n",
    "The following cell generates a graphical representation of your workflow."
   ]
  },
  {
   "cell_type": "code",
   "execution_count": 29,
   "id": "devoted-mattress",
   "metadata": {
    "papermill": {
     "duration": null,
     "end_time": null,
     "exception": null,
     "start_time": null,
     "status": "pending"
    },
    "tags": []
   },
   "outputs": [
    {
     "data": {
      "text/html": [
       "\n",
       "<link rel=\"stylesheet\" type=\"text/css\" href=\"https://do0of8uwbahzz.cloudfront.net/graph.css\">\n",
       "<div id=\"graph-345\" class=\"workflowgraph\">\n",
       "    \n",
       "    <svg></svg>\n",
       "    \n",
       "</div>\n",
       "\n",
       "<script type=\"text/javascript\">\n",
       "\n",
       "require.config({\n",
       "    paths: {\n",
       "        sfn: \"https://do0of8uwbahzz.cloudfront.net/sfn\",\n",
       "    }\n",
       "});\n",
       "\n",
       "require(['sfn'], function(sfn) {\n",
       "    var element = document.getElementById('graph-345')\n",
       "\n",
       "    var options = {\n",
       "        width: parseFloat(getComputedStyle(element, null).width.replace(\"px\", \"\")),\n",
       "        height: 600,\n",
       "        layout: 'LR',\n",
       "        resizeHeight: true\n",
       "    };\n",
       "\n",
       "    var definition = {\"StartAt\": \"MyPassState\", \"States\": {\"MyPassState\": {\"Type\": \"Pass\", \"Next\": \"Is this Hello World example?\"}, \"Is this Hello World example?\": {\"Type\": \"Choice\", \"Choices\": [{\"Variable\": \"$['IsHelloWorldExample']\", \"BooleanEquals\": true, \"Next\": \"Wait for 3 seconds\"}, {\"Variable\": \"$['IsHelloWorldExample']\", \"BooleanEquals\": false, \"Next\": \"HelloWorldFailed\"}]}, \"Wait for 3 seconds\": {\"Seconds\": 3, \"Type\": \"Wait\", \"Next\": \"MyParallelState\"}, \"MyParallelState\": {\"Type\": \"Parallel\", \"Next\": \"Convert HelloWorld to Base64\", \"Branches\": [{\"StartAt\": \"Hello\", \"States\": {\"Hello\": {\"Type\": \"Pass\", \"End\": true}}}, {\"StartAt\": \"World\", \"States\": {\"World\": {\"Type\": \"Pass\", \"End\": true}}}]}, \"Convert HelloWorld to Base64\": {\"Parameters\": {\"FunctionName\": \"<lambda-function-name>\", \"Payload\": {\"input\": \"HelloWorld\"}}, \"Resource\": \"arn:aws:states:::lambda:invoke\", \"Type\": \"Task\", \"Next\": \"HelloWorldSuccessful\", \"Retry\": [{\"ErrorEquals\": [\"States.TaskFailed\"], \"IntervalSeconds\": 15, \"MaxAttempts\": 2, \"BackoffRate\": 4.0}], \"Catch\": [{\"ErrorEquals\": [\"States.TaskFailed\"], \"Next\": \"LambdaTaskFailed\"}]}, \"HelloWorldSuccessful\": {\"Type\": \"Succeed\"}, \"LambdaTaskFailed\": {\"Type\": \"Fail\"}, \"HelloWorldFailed\": {\"Type\": \"Fail\"}}};\n",
       "    var elementId = '#graph-345';\n",
       "\n",
       "    var graph = new sfn.StateMachineGraph(definition, elementId, options);\n",
       "    graph.render();\n",
       "});\n",
       "\n",
       "</script>\n"
      ],
      "text/plain": [
       "<IPython.core.display.HTML object>"
      ]
     },
     "execution_count": 29,
     "metadata": {},
     "output_type": "execute_result"
    }
   ],
   "source": [
    "branching_workflow.render_graph(portrait=False)"
   ]
  },
  {
   "cell_type": "markdown",
   "id": "cheap-respondent",
   "metadata": {
    "papermill": {
     "duration": null,
     "end_time": null,
     "exception": null,
     "start_time": null,
     "status": "pending"
    },
    "tags": []
   },
   "source": [
    "## Create the workflow and execute\n",
    "\n",
    "In the next cells, we will create the branching happy workflow in AWS Step Functions with [create](https://aws-step-functions-data-science-sdk.readthedocs.io/en/latest/workflow.html#stepfunctions.workflow.Workflow.create) and execute it with [execute](https://aws-step-functions-data-science-sdk.readthedocs.io/en/latest/workflow.html#stepfunctions.workflow.Workflow.execute).\n",
    "\n",
    "Since IsHelloWorldExample is set to True, your execution should follow the happy path."
   ]
  },
  {
   "cell_type": "code",
   "execution_count": 30,
   "id": "boxed-domain",
   "metadata": {
    "papermill": {
     "duration": null,
     "end_time": null,
     "exception": null,
     "start_time": null,
     "status": "pending"
    },
    "tags": []
   },
   "outputs": [
    {
     "name": "stdout",
     "output_type": "stream",
     "text": [
      "\u001b[32m[INFO] Workflow created successfully on AWS Step Functions.\u001b[0m\n"
     ]
    },
    {
     "data": {
      "text/plain": [
       "'arn:aws:states:us-west-2:688520471316:stateMachine:MyWorkflow_v2'"
      ]
     },
     "execution_count": 30,
     "metadata": {},
     "output_type": "execute_result"
    }
   ],
   "source": [
    "branching_workflow.create()"
   ]
  },
  {
   "cell_type": "code",
   "execution_count": 31,
   "id": "unusual-buyer",
   "metadata": {
    "papermill": {
     "duration": null,
     "end_time": null,
     "exception": null,
     "start_time": null,
     "status": "pending"
    },
    "tags": []
   },
   "outputs": [
    {
     "name": "stdout",
     "output_type": "stream",
     "text": [
      "\u001b[32m[INFO] Workflow execution started successfully on AWS Step Functions.\u001b[0m\n"
     ]
    }
   ],
   "source": [
    "branching_workflow_execution = branching_workflow.execute(inputs={\"IsHelloWorldExample\": True})"
   ]
  },
  {
   "cell_type": "markdown",
   "id": "grateful-chamber",
   "metadata": {
    "papermill": {
     "duration": null,
     "end_time": null,
     "exception": null,
     "start_time": null,
     "status": "pending"
    },
    "tags": []
   },
   "source": [
    "## Review the progress\n",
    "\n",
    "Review the workflow progress with the [render_progress](https://aws-step-functions-data-science-sdk.readthedocs.io/en/latest/workflow.html#stepfunctions.workflow.Execution.render_progress).\n",
    "\n",
    "Review the execution history by calling [list_events](https://aws-step-functions-data-science-sdk.readthedocs.io/en/latest/workflow.html#stepfunctions.workflow.Execution.list_events) to list all events in the workflow execution."
   ]
  },
  {
   "cell_type": "code",
   "execution_count": 32,
   "id": "quick-journalist",
   "metadata": {
    "papermill": {
     "duration": null,
     "end_time": null,
     "exception": null,
     "start_time": null,
     "status": "pending"
    },
    "tags": []
   },
   "outputs": [
    {
     "data": {
      "text/html": [
       "\n",
       "<link rel=\"stylesheet\" type=\"text/css\" href=\"https://do0of8uwbahzz.cloudfront.net/graph.css\">\n",
       "<div id=\"graph-920\" class=\"workflowgraph\">\n",
       "    \n",
       "    <style>\n",
       "        .graph-legend ul {\n",
       "            list-style-type: none;\n",
       "            padding: 10px;\n",
       "            padding-left: 0;\n",
       "            margin: 0;\n",
       "            position: absolute;\n",
       "            top: 0;\n",
       "            background: transparent;\n",
       "        }\n",
       "\n",
       "        .graph-legend li {\n",
       "            margin-left: 10px;\n",
       "            display: inline-block;\n",
       "        }\n",
       "\n",
       "        .graph-legend li > div {\n",
       "            width: 10px;\n",
       "            height: 10px;\n",
       "            display: inline-block;\n",
       "        }\n",
       "\n",
       "        .graph-legend .success { background-color: #2BD62E }\n",
       "        .graph-legend .failed { background-color: #DE322F }\n",
       "        .graph-legend .cancelled { background-color: #DDDDDD }\n",
       "        .graph-legend .in-progress { background-color: #53C9ED }\n",
       "        .graph-legend .caught-error { background-color: #FFA500 }\n",
       "    </style>\n",
       "    <div class=\"graph-legend\">\n",
       "        <ul>\n",
       "            <li>\n",
       "                <div class=\"success\"></div>\n",
       "                <span>Success</span>\n",
       "            </li>\n",
       "            <li>\n",
       "                <div class=\"failed\"></div>\n",
       "                <span>Failed</span>\n",
       "            </li>\n",
       "            <li>\n",
       "                <div class=\"cancelled\"></div>\n",
       "                <span>Cancelled</span>\n",
       "            </li>\n",
       "            <li>\n",
       "                <div class=\"in-progress\"></div>\n",
       "                <span>In Progress</span>\n",
       "            </li>\n",
       "            <li>\n",
       "                <div class=\"caught-error\"></div>\n",
       "                <span>Caught Error</span>\n",
       "            </li>\n",
       "        </ul>\n",
       "    </div>\n",
       "\n",
       "    <svg></svg>\n",
       "    <a href=\"https://console.aws.amazon.com/states/home?region=us-west-2#/executions/details/arn:aws:states:us-west-2:688520471316:execution:MyWorkflow_v2:c0803c38-0094-464d-ba53-5fff757cdd5c\" target=\"_blank\"> Inspect in AWS Step Functions </a>\n",
       "</div>\n",
       "\n",
       "<script type=\"text/javascript\">\n",
       "\n",
       "require.config({\n",
       "    paths: {\n",
       "        sfn: \"https://do0of8uwbahzz.cloudfront.net/sfn\",\n",
       "    }\n",
       "});\n",
       "\n",
       "require(['sfn'], function(sfn) {\n",
       "    var element = document.getElementById('graph-920')\n",
       "\n",
       "    var options = {\n",
       "        width: parseFloat(getComputedStyle(element, null).width.replace(\"px\", \"\")),\n",
       "        height: 1000,\n",
       "        layout: 'LR',\n",
       "        resizeHeight: true\n",
       "    };\n",
       "\n",
       "    var definition = {\"StartAt\": \"MyPassState\", \"States\": {\"MyPassState\": {\"Type\": \"Pass\", \"Next\": \"Is this Hello World example?\"}, \"Is this Hello World example?\": {\"Type\": \"Choice\", \"Choices\": [{\"Variable\": \"$['IsHelloWorldExample']\", \"BooleanEquals\": true, \"Next\": \"Wait for 3 seconds\"}, {\"Variable\": \"$['IsHelloWorldExample']\", \"BooleanEquals\": false, \"Next\": \"HelloWorldFailed\"}]}, \"Wait for 3 seconds\": {\"Seconds\": 3, \"Type\": \"Wait\", \"Next\": \"MyParallelState\"}, \"MyParallelState\": {\"Type\": \"Parallel\", \"Next\": \"Convert HelloWorld to Base64\", \"Branches\": [{\"StartAt\": \"Hello\", \"States\": {\"Hello\": {\"Type\": \"Pass\", \"End\": true}}}, {\"StartAt\": \"World\", \"States\": {\"World\": {\"Type\": \"Pass\", \"End\": true}}}]}, \"Convert HelloWorld to Base64\": {\"Parameters\": {\"FunctionName\": \"<lambda-function-name>\", \"Payload\": {\"input\": \"HelloWorld\"}}, \"Resource\": \"arn:aws:states:::lambda:invoke\", \"Type\": \"Task\", \"Next\": \"HelloWorldSuccessful\", \"Retry\": [{\"ErrorEquals\": [\"States.TaskFailed\"], \"IntervalSeconds\": 15, \"MaxAttempts\": 2, \"BackoffRate\": 4.0}], \"Catch\": [{\"ErrorEquals\": [\"States.TaskFailed\"], \"Next\": \"LambdaTaskFailed\"}]}, \"HelloWorldSuccessful\": {\"Type\": \"Succeed\"}, \"LambdaTaskFailed\": {\"Type\": \"Fail\"}, \"HelloWorldFailed\": {\"Type\": \"Fail\"}}};\n",
       "    var elementId = '#graph-920';\n",
       "    var events = { 'events': [{\"timestamp\": 1622236333.907, \"type\": \"ExecutionStarted\", \"id\": 1, \"previousEventId\": 0, \"executionStartedEventDetails\": {\"input\": \"{\\n    \\\"IsHelloWorldExample\\\": true\\n}\", \"inputDetails\": {\"truncated\": false}, \"roleArn\": \"arn:aws:iam::688520471316:role/hongshan-sagemaker-experiment\"}}, {\"timestamp\": 1622236333.944, \"type\": \"PassStateEntered\", \"id\": 2, \"previousEventId\": 0, \"stateEnteredEventDetails\": {\"name\": \"MyPassState\", \"input\": \"{\\n    \\\"IsHelloWorldExample\\\": true\\n}\", \"inputDetails\": {\"truncated\": false}}}, {\"timestamp\": 1622236333.944, \"type\": \"PassStateExited\", \"id\": 3, \"previousEventId\": 2, \"stateExitedEventDetails\": {\"name\": \"MyPassState\", \"output\": \"{\\n    \\\"IsHelloWorldExample\\\": true\\n}\", \"outputDetails\": {\"truncated\": false}}}] };\n",
       "\n",
       "    var graph = new sfn.StateMachineExecutionGraph(definition, events, elementId, options);\n",
       "    graph.render();\n",
       "});\n",
       "\n",
       "</script>\n"
      ],
      "text/plain": [
       "<IPython.core.display.HTML object>"
      ]
     },
     "execution_count": 32,
     "metadata": {},
     "output_type": "execute_result"
    }
   ],
   "source": [
    "branching_workflow_execution.render_progress()"
   ]
  },
  {
   "cell_type": "code",
   "execution_count": 34,
   "id": "floppy-shepherd",
   "metadata": {
    "papermill": {
     "duration": null,
     "end_time": null,
     "exception": null,
     "start_time": null,
     "status": "pending"
    },
    "scrolled": true,
    "tags": []
   },
   "outputs": [
    {
     "data": {
      "text/plain": [
       "[{'timestamp': datetime.datetime(2021, 5, 28, 21, 12, 13, 907000, tzinfo=tzlocal()),\n",
       "  'type': 'ExecutionStarted',\n",
       "  'id': 1,\n",
       "  'previousEventId': 0,\n",
       "  'executionStartedEventDetails': {'input': '{\\n    \"IsHelloWorldExample\": true\\n}',\n",
       "   'inputDetails': {'truncated': False},\n",
       "   'roleArn': 'arn:aws:iam::688520471316:role/hongshan-sagemaker-experiment'}},\n",
       " {'timestamp': datetime.datetime(2021, 5, 28, 21, 12, 13, 944000, tzinfo=tzlocal()),\n",
       "  'type': 'PassStateEntered',\n",
       "  'id': 2,\n",
       "  'previousEventId': 0,\n",
       "  'stateEnteredEventDetails': {'name': 'MyPassState',\n",
       "   'input': '{\\n    \"IsHelloWorldExample\": true\\n}',\n",
       "   'inputDetails': {'truncated': False}}},\n",
       " {'timestamp': datetime.datetime(2021, 5, 28, 21, 12, 13, 944000, tzinfo=tzlocal()),\n",
       "  'type': 'PassStateExited',\n",
       "  'id': 3,\n",
       "  'previousEventId': 2,\n",
       "  'stateExitedEventDetails': {'name': 'MyPassState',\n",
       "   'output': '{\\n    \"IsHelloWorldExample\": true\\n}',\n",
       "   'outputDetails': {'truncated': False}}},\n",
       " {'timestamp': datetime.datetime(2021, 5, 28, 21, 12, 14, 44000, tzinfo=tzlocal()),\n",
       "  'type': 'ChoiceStateEntered',\n",
       "  'id': 4,\n",
       "  'previousEventId': 3,\n",
       "  'stateEnteredEventDetails': {'name': 'Is this Hello World example?',\n",
       "   'input': '{\\n    \"IsHelloWorldExample\": true\\n}',\n",
       "   'inputDetails': {'truncated': False}}},\n",
       " {'timestamp': datetime.datetime(2021, 5, 28, 21, 12, 14, 44000, tzinfo=tzlocal()),\n",
       "  'type': 'ChoiceStateExited',\n",
       "  'id': 5,\n",
       "  'previousEventId': 4,\n",
       "  'stateExitedEventDetails': {'name': 'Is this Hello World example?',\n",
       "   'output': '{\\n    \"IsHelloWorldExample\": true\\n}',\n",
       "   'outputDetails': {'truncated': False}}},\n",
       " {'timestamp': datetime.datetime(2021, 5, 28, 21, 12, 14, 144000, tzinfo=tzlocal()),\n",
       "  'type': 'WaitStateEntered',\n",
       "  'id': 6,\n",
       "  'previousEventId': 5,\n",
       "  'stateEnteredEventDetails': {'name': 'Wait for 3 seconds',\n",
       "   'input': '{\\n    \"IsHelloWorldExample\": true\\n}',\n",
       "   'inputDetails': {'truncated': False}}},\n",
       " {'timestamp': datetime.datetime(2021, 5, 28, 21, 12, 17, 273000, tzinfo=tzlocal()),\n",
       "  'type': 'WaitStateExited',\n",
       "  'id': 7,\n",
       "  'previousEventId': 6,\n",
       "  'stateExitedEventDetails': {'name': 'Wait for 3 seconds',\n",
       "   'output': '{\\n    \"IsHelloWorldExample\": true\\n}',\n",
       "   'outputDetails': {'truncated': False}}},\n",
       " {'timestamp': datetime.datetime(2021, 5, 28, 21, 12, 17, 279000, tzinfo=tzlocal()),\n",
       "  'type': 'ParallelStateEntered',\n",
       "  'id': 8,\n",
       "  'previousEventId': 7,\n",
       "  'stateEnteredEventDetails': {'name': 'MyParallelState',\n",
       "   'input': '{\\n    \"IsHelloWorldExample\": true\\n}',\n",
       "   'inputDetails': {'truncated': False}}},\n",
       " {'timestamp': datetime.datetime(2021, 5, 28, 21, 12, 17, 279000, tzinfo=tzlocal()),\n",
       "  'type': 'ParallelStateStarted',\n",
       "  'id': 9,\n",
       "  'previousEventId': 8},\n",
       " {'timestamp': datetime.datetime(2021, 5, 28, 21, 12, 17, 380000, tzinfo=tzlocal()),\n",
       "  'type': 'PassStateEntered',\n",
       "  'id': 10,\n",
       "  'previousEventId': 9,\n",
       "  'stateEnteredEventDetails': {'name': 'Hello',\n",
       "   'input': '{\\n    \"IsHelloWorldExample\": true\\n}',\n",
       "   'inputDetails': {'truncated': False}}},\n",
       " {'timestamp': datetime.datetime(2021, 5, 28, 21, 12, 17, 380000, tzinfo=tzlocal()),\n",
       "  'type': 'PassStateExited',\n",
       "  'id': 11,\n",
       "  'previousEventId': 10,\n",
       "  'stateExitedEventDetails': {'name': 'Hello',\n",
       "   'output': '{\\n    \"IsHelloWorldExample\": true\\n}',\n",
       "   'outputDetails': {'truncated': False}}},\n",
       " {'timestamp': datetime.datetime(2021, 5, 28, 21, 12, 17, 389000, tzinfo=tzlocal()),\n",
       "  'type': 'PassStateEntered',\n",
       "  'id': 12,\n",
       "  'previousEventId': 9,\n",
       "  'stateEnteredEventDetails': {'name': 'World',\n",
       "   'input': '{\\n    \"IsHelloWorldExample\": true\\n}',\n",
       "   'inputDetails': {'truncated': False}}},\n",
       " {'timestamp': datetime.datetime(2021, 5, 28, 21, 12, 17, 389000, tzinfo=tzlocal()),\n",
       "  'type': 'PassStateExited',\n",
       "  'id': 13,\n",
       "  'previousEventId': 12,\n",
       "  'stateExitedEventDetails': {'name': 'World',\n",
       "   'output': '{\\n    \"IsHelloWorldExample\": true\\n}',\n",
       "   'outputDetails': {'truncated': False}}},\n",
       " {'timestamp': datetime.datetime(2021, 5, 28, 21, 12, 17, 389000, tzinfo=tzlocal()),\n",
       "  'type': 'ParallelStateSucceeded',\n",
       "  'id': 14,\n",
       "  'previousEventId': 13},\n",
       " {'timestamp': datetime.datetime(2021, 5, 28, 21, 12, 17, 389000, tzinfo=tzlocal()),\n",
       "  'type': 'ParallelStateExited',\n",
       "  'id': 15,\n",
       "  'previousEventId': 13,\n",
       "  'stateExitedEventDetails': {'name': 'MyParallelState',\n",
       "   'output': '[{\\n    \"IsHelloWorldExample\": true\\n},{\\n    \"IsHelloWorldExample\": true\\n}]',\n",
       "   'outputDetails': {'truncated': False}}},\n",
       " {'timestamp': datetime.datetime(2021, 5, 28, 21, 12, 17, 397000, tzinfo=tzlocal()),\n",
       "  'type': 'TaskStateEntered',\n",
       "  'id': 16,\n",
       "  'previousEventId': 15,\n",
       "  'stateEnteredEventDetails': {'name': 'Convert HelloWorld to Base64',\n",
       "   'input': '[{\\n    \"IsHelloWorldExample\": true\\n},{\\n    \"IsHelloWorldExample\": true\\n}]',\n",
       "   'inputDetails': {'truncated': False}}},\n",
       " {'timestamp': datetime.datetime(2021, 5, 28, 21, 12, 17, 397000, tzinfo=tzlocal()),\n",
       "  'type': 'TaskScheduled',\n",
       "  'id': 17,\n",
       "  'previousEventId': 16,\n",
       "  'taskScheduledEventDetails': {'resourceType': 'lambda',\n",
       "   'resource': 'invoke',\n",
       "   'region': 'us-west-2',\n",
       "   'parameters': '{\"FunctionName\":\"<lambda-function-name>\",\"Payload\":{\"input\":\"HelloWorld\"}}'}},\n",
       " {'timestamp': datetime.datetime(2021, 5, 28, 21, 12, 17, 572000, tzinfo=tzlocal()),\n",
       "  'type': 'TaskStartFailed',\n",
       "  'id': 18,\n",
       "  'previousEventId': 17,\n",
       "  'taskStartFailedEventDetails': {'resourceType': 'lambda',\n",
       "   'resource': 'invoke',\n",
       "   'error': 'States.TaskFailed',\n",
       "   'cause': 'Neither the global service principal states.amazonaws.com, nor the regional one is authorized to assume the provided role.'}}]"
      ]
     },
     "execution_count": 34,
     "metadata": {},
     "output_type": "execute_result"
    }
   ],
   "source": [
    "branching_workflow_execution.list_events()"
   ]
  }
 ],
 "metadata": {
  "kernelspec": {
   "display_name": "Environment (conda_anaconda3)",
   "language": "python",
   "name": "conda_anaconda3"
  },
  "language_info": {
   "codemirror_mode": {
    "name": "ipython",
    "version": 3
   },
   "file_extension": ".py",
   "mimetype": "text/x-python",
   "name": "python",
   "nbconvert_exporter": "python",
   "pygments_lexer": "ipython3",
   "version": "3.7.6"
  },
  "papermill": {
   "default_parameters": {},
   "duration": 5.610446,
   "end_time": "2021-05-26T15:48:11.191285",
   "environment_variables": {},
   "exception": true,
   "input_path": "hello_world_workflow.ipynb",
   "output_path": "/opt/ml/processing/output/hello_world_workflow-2021-05-26-15-43-51.ipynb",
   "parameters": {
    "kms_key": "arn:aws:kms:us-west-2:521695447989:key/6e9984db-50cf-4c7e-926c-877ec47a8b25"
   },
   "start_time": "2021-05-26T15:48:05.580839",
   "version": "2.3.3"
  }
 },
 "nbformat": 4,
 "nbformat_minor": 5
}
