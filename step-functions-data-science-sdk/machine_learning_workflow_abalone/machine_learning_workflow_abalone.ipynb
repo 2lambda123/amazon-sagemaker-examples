{
 "cells": [
  {
   "cell_type": "markdown",
   "id": "universal-california",
   "metadata": {
    "papermill": {
     "duration": 0.01629,
     "end_time": "2021-05-26T15:48:01.086673",
     "exception": false,
     "start_time": "2021-05-26T15:48:01.070383",
     "status": "completed"
    },
    "tags": []
   },
   "source": [
    "# Build a machine learning workflow using Step Functions and SageMaker\n",
    "\n",
    "1. [Introduction](#Introduction)\n",
    "1. [Setup](#Setup)\n",
    "1. [Build a machine learning workflow](#Build-a-machine-learning-workflow)\n"
   ]
  },
  {
   "cell_type": "markdown",
   "id": "accepted-automation",
   "metadata": {
    "papermill": {
     "duration": 0.016129,
     "end_time": "2021-05-26T15:48:01.119185",
     "exception": false,
     "start_time": "2021-05-26T15:48:01.103056",
     "status": "completed"
    },
    "tags": []
   },
   "source": [
    "## Introduction\n",
    "\n",
    "This notebook describes using the AWS Step Functions Data Science SDK to create and manage workflows. The Step Functions SDK is an open source library that allows data scientists to easily create and execute machine learning workflows using AWS Step Functions and Amazon SageMaker. For more information, see the following.\n",
    "* [AWS Step Functions](https://aws.amazon.com/step-functions/)\n",
    "* [AWS Step Functions Developer Guide](https://docs.aws.amazon.com/step-functions/latest/dg/welcome.html)\n",
    "* [AWS Step Functions Data Science SDK](https://aws-step-functions-data-science-sdk.readthedocs.io)\n",
    "\n",
    "In this notebook we will use the SDK to create steps, link them together to create a workflow, and execute the workflow in AWS Step Functions. The first tutorial shows how to create an ML pipeline workflow, and the second shows how to run multiple experiments in parallel."
   ]
  },
  {
   "cell_type": "code",
   "execution_count": 2,
   "id": "aquatic-synthesis",
   "metadata": {
    "execution": {
     "iopub.execute_input": "2021-05-26T15:48:01.155919Z",
     "iopub.status.busy": "2021-05-26T15:48:01.155247Z",
     "iopub.status.idle": "2021-05-26T15:48:03.718585Z",
     "shell.execute_reply": "2021-05-26T15:48:03.718995Z"
    },
    "papermill": {
     "duration": 2.583752,
     "end_time": "2021-05-26T15:48:03.719135",
     "exception": false,
     "start_time": "2021-05-26T15:48:01.135383",
     "status": "completed"
    },
    "tags": []
   },
   "outputs": [
    {
     "name": "stdout",
     "output_type": "stream",
     "text": [
      "Collecting stepfunctions\n",
      "  Downloading stepfunctions-2.0.0.tar.gz (60 kB)\n",
      "\u001b[K     |████████████████████████████████| 60 kB 4.4 MB/s eta 0:00:011\n",
      "\u001b[?25hRequirement already satisfied, skipping upgrade: sagemaker>=2.1.0 in /opt/conda/lib/python3.7/site-packages (from stepfunctions) (2.42.0)\n",
      "Requirement already satisfied, skipping upgrade: boto3>=1.14.38 in /opt/conda/lib/python3.7/site-packages (from stepfunctions) (1.17.15)\n",
      "Requirement already satisfied, skipping upgrade: pyyaml in /opt/conda/lib/python3.7/site-packages (from stepfunctions) (5.3)\n",
      "Requirement already satisfied, skipping upgrade: protobuf3-to-dict>=0.1.5 in /opt/conda/lib/python3.7/site-packages (from sagemaker>=2.1.0->stepfunctions) (0.1.5)\n",
      "Requirement already satisfied, skipping upgrade: smdebug-rulesconfig==1.0.1 in /opt/conda/lib/python3.7/site-packages (from sagemaker>=2.1.0->stepfunctions) (1.0.1)\n",
      "Requirement already satisfied, skipping upgrade: pathos in /opt/conda/lib/python3.7/site-packages (from sagemaker>=2.1.0->stepfunctions) (0.2.7)\n",
      "Requirement already satisfied, skipping upgrade: numpy>=1.9.0 in /opt/conda/lib/python3.7/site-packages (from sagemaker>=2.1.0->stepfunctions) (1.18.1)\n",
      "Requirement already satisfied, skipping upgrade: pandas in /opt/conda/lib/python3.7/site-packages (from sagemaker>=2.1.0->stepfunctions) (1.0.1)\n",
      "Requirement already satisfied, skipping upgrade: importlib-metadata>=1.4.0 in /opt/conda/lib/python3.7/site-packages (from sagemaker>=2.1.0->stepfunctions) (1.5.0)\n",
      "Requirement already satisfied, skipping upgrade: packaging>=20.0 in /opt/conda/lib/python3.7/site-packages (from sagemaker>=2.1.0->stepfunctions) (20.1)\n",
      "Requirement already satisfied, skipping upgrade: google-pasta in /opt/conda/lib/python3.7/site-packages (from sagemaker>=2.1.0->stepfunctions) (0.2.0)\n",
      "Requirement already satisfied, skipping upgrade: protobuf>=3.1 in /opt/conda/lib/python3.7/site-packages (from sagemaker>=2.1.0->stepfunctions) (3.15.2)\n",
      "Requirement already satisfied, skipping upgrade: attrs in /opt/conda/lib/python3.7/site-packages (from sagemaker>=2.1.0->stepfunctions) (19.3.0)\n",
      "Requirement already satisfied, skipping upgrade: s3transfer<0.4.0,>=0.3.0 in /opt/conda/lib/python3.7/site-packages (from boto3>=1.14.38->stepfunctions) (0.3.4)\n",
      "Requirement already satisfied, skipping upgrade: jmespath<1.0.0,>=0.7.1 in /opt/conda/lib/python3.7/site-packages (from boto3>=1.14.38->stepfunctions) (0.10.0)\n",
      "Requirement already satisfied, skipping upgrade: botocore<1.21.0,>=1.20.15 in /opt/conda/lib/python3.7/site-packages (from boto3>=1.14.38->stepfunctions) (1.20.15)\n",
      "Requirement already satisfied, skipping upgrade: six in /opt/conda/lib/python3.7/site-packages (from protobuf3-to-dict>=0.1.5->sagemaker>=2.1.0->stepfunctions) (1.14.0)\n",
      "Requirement already satisfied, skipping upgrade: pox>=0.2.9 in /opt/conda/lib/python3.7/site-packages (from pathos->sagemaker>=2.1.0->stepfunctions) (0.2.9)\n",
      "Requirement already satisfied, skipping upgrade: ppft>=1.6.6.3 in /opt/conda/lib/python3.7/site-packages (from pathos->sagemaker>=2.1.0->stepfunctions) (1.6.6.3)\n",
      "Requirement already satisfied, skipping upgrade: dill>=0.3.3 in /opt/conda/lib/python3.7/site-packages (from pathos->sagemaker>=2.1.0->stepfunctions) (0.3.3)\n",
      "Requirement already satisfied, skipping upgrade: multiprocess>=0.70.11 in /opt/conda/lib/python3.7/site-packages (from pathos->sagemaker>=2.1.0->stepfunctions) (0.70.11.1)\n",
      "Requirement already satisfied, skipping upgrade: python-dateutil>=2.6.1 in /opt/conda/lib/python3.7/site-packages (from pandas->sagemaker>=2.1.0->stepfunctions) (2.8.1)\n",
      "Requirement already satisfied, skipping upgrade: pytz>=2017.2 in /opt/conda/lib/python3.7/site-packages (from pandas->sagemaker>=2.1.0->stepfunctions) (2019.3)\n",
      "Requirement already satisfied, skipping upgrade: zipp>=0.5 in /opt/conda/lib/python3.7/site-packages (from importlib-metadata>=1.4.0->sagemaker>=2.1.0->stepfunctions) (2.2.0)\n",
      "Requirement already satisfied, skipping upgrade: pyparsing>=2.0.2 in /opt/conda/lib/python3.7/site-packages (from packaging>=20.0->sagemaker>=2.1.0->stepfunctions) (2.4.6)\n",
      "Requirement already satisfied, skipping upgrade: urllib3<1.27,>=1.25.4 in /opt/conda/lib/python3.7/site-packages (from botocore<1.21.0,>=1.20.15->boto3>=1.14.38->stepfunctions) (1.25.8)\n",
      "Building wheels for collected packages: stepfunctions\n",
      "  Building wheel for stepfunctions (setup.py) ... \u001b[?25ldone\n",
      "\u001b[?25h  Created wheel for stepfunctions: filename=stepfunctions-2.0.0-py2.py3-none-any.whl size=71523 sha256=9bcd262073c9254a56827d69be5dee9fe0ac9448d04bc892aca68f28d7cbb443\n",
      "  Stored in directory: /root/.cache/pip/wheels/f7/28/66/3941892e5f990c5985163b23d075d27718cafd47588a100d5c\n",
      "Successfully built stepfunctions\n",
      "Installing collected packages: stepfunctions\n",
      "Successfully installed stepfunctions-2.0.0\n"
     ]
    }
   ],
   "source": [
    "import sys\n",
    "\n",
    "!{sys.executable} -m pip install --upgrade stepfunctions"
   ]
  },
  {
   "cell_type": "markdown",
   "id": "capable-colonial",
   "metadata": {
    "papermill": {
     "duration": 0.018507,
     "end_time": "2021-05-26T15:48:03.756624",
     "exception": false,
     "start_time": "2021-05-26T15:48:03.738117",
     "status": "completed"
    },
    "tags": []
   },
   "source": [
    "## Setup\n",
    "\n",
    "### Add a policy to your SageMaker role in IAM\n",
    "\n",
    "**If you are running this notebook on an Amazon SageMaker notebook instance**, the IAM role assumed by your notebook instance needs permission to create and run workflows in AWS Step Functions. To provide this permission to the role, do the following.\n",
    "\n",
    "1. Open the Amazon [SageMaker console](https://console.aws.amazon.com/sagemaker/). \n",
    "2. Select **Notebook instances** and choose the name of your notebook instance\n",
    "3. Under **Permissions and encryption** select the role ARN to view the role on the IAM console\n",
    "4. Choose **Attach policies** and search for `AWSStepFunctionsFullAccess`.\n",
    "5. Select the check box next to `AWSStepFunctionsFullAccess` and choose **Attach policy**\n",
    "\n",
    "If you are running this notebook in a local environment, the SDK will use your configured AWS CLI configuration. For more information, see [Configuring the AWS CLI](https://docs.aws.amazon.com/cli/latest/userguide/cli-chap-configure.html).\n",
    "\n",
    "Next, create an execution role in IAM for Step Functions. \n",
    "\n",
    "### Create an execution role for Step Functions\n",
    "\n",
    "You need an execution role so that you can create and execute workflows in Step Functions.\n",
    "\n",
    "1. Go to the [IAM console](https://console.aws.amazon.com/iam/)\n",
    "2. Select **Roles** and then **Create role**.\n",
    "3. Under **Choose the service that will use this role** select **Step Functions**\n",
    "4. Choose **Next** until you can enter a **Role name**\n",
    "5. Enter a name such as `AmazonSageMaker-StepFunctionsWorkflowExecutionRole` and then select **Create role**\n",
    "\n",
    "\n",
    "Attach a policy to the role you created. The following steps attach a policy that provides full access to Step Functions, however as a good practice you should only provide access to the resources you need.  \n",
    "\n",
    "1. Under the **Permissions** tab, click **Add inline policy**\n",
    "2. Enter the following in the **JSON** tab\n",
    "\n",
    "```json\n",
    "{\n",
    "    \"Version\": \"2012-10-17\",\n",
    "    \"Statement\": [\n",
    "        {\n",
    "            \"Effect\": \"Allow\",\n",
    "            \"Action\": [\n",
    "                \"sagemaker:CreateTransformJob\",\n",
    "                \"sagemaker:DescribeTransformJob\",\n",
    "                \"sagemaker:StopTransformJob\",\n",
    "                \"sagemaker:CreateTrainingJob\",\n",
    "                \"sagemaker:DescribeTrainingJob\",\n",
    "                \"sagemaker:StopTrainingJob\",\n",
    "                \"sagemaker:CreateHyperParameterTuningJob\",\n",
    "                \"sagemaker:DescribeHyperParameterTuningJob\",\n",
    "                \"sagemaker:StopHyperParameterTuningJob\",\n",
    "                \"sagemaker:CreateModel\",\n",
    "                \"sagemaker:CreateEndpointConfig\",\n",
    "                \"sagemaker:CreateEndpoint\",\n",
    "                \"sagemaker:DeleteEndpointConfig\",\n",
    "                \"sagemaker:DeleteEndpoint\",\n",
    "                \"sagemaker:UpdateEndpoint\",\n",
    "                \"sagemaker:ListTags\",\n",
    "                \"lambda:InvokeFunction\",\n",
    "                \"sqs:SendMessage\",\n",
    "                \"sns:Publish\",\n",
    "                \"ecs:RunTask\",\n",
    "                \"ecs:StopTask\",\n",
    "                \"ecs:DescribeTasks\",\n",
    "                \"dynamodb:GetItem\",\n",
    "                \"dynamodb:PutItem\",\n",
    "                \"dynamodb:UpdateItem\",\n",
    "                \"dynamodb:DeleteItem\",\n",
    "                \"batch:SubmitJob\",\n",
    "                \"batch:DescribeJobs\",\n",
    "                \"batch:TerminateJob\",\n",
    "                \"glue:StartJobRun\",\n",
    "                \"glue:GetJobRun\",\n",
    "                \"glue:GetJobRuns\",\n",
    "                \"glue:BatchStopJobRun\"\n",
    "            ],\n",
    "            \"Resource\": \"*\"\n",
    "        },\n",
    "        {\n",
    "            \"Effect\": \"Allow\",\n",
    "            \"Action\": [\n",
    "                \"iam:PassRole\"\n",
    "            ],\n",
    "            \"Resource\": \"*\",\n",
    "            \"Condition\": {\n",
    "                \"StringEquals\": {\n",
    "                    \"iam:PassedToService\": \"sagemaker.amazonaws.com\"\n",
    "                }\n",
    "            }\n",
    "        },\n",
    "        {\n",
    "            \"Effect\": \"Allow\",\n",
    "            \"Action\": [\n",
    "                \"events:PutTargets\",\n",
    "                \"events:PutRule\",\n",
    "                \"events:DescribeRule\"\n",
    "            ],\n",
    "            \"Resource\": [\n",
    "                \"arn:aws:events:*:*:rule/StepFunctionsGetEventsForSageMakerTrainingJobsRule\",\n",
    "                \"arn:aws:events:*:*:rule/StepFunctionsGetEventsForSageMakerTransformJobsRule\",\n",
    "                \"arn:aws:events:*:*:rule/StepFunctionsGetEventsForSageMakerTuningJobsRule\",\n",
    "                \"arn:aws:events:*:*:rule/StepFunctionsGetEventsForECSTaskRule\",\n",
    "                \"arn:aws:events:*:*:rule/StepFunctionsGetEventsForBatchJobsRule\"\n",
    "            ]\n",
    "        }\n",
    "    ]\n",
    "}\n",
    "```\n",
    "\n",
    "3. Choose **Review policy** and give the policy a name such as `AmazonSageMaker-StepFunctionsWorkflowExecutionPolicy`\n",
    "4. Choose **Create policy**. You will be redirected to the details page for the role.\n",
    "5. Copy the **Role ARN** at the top of the **Summary**"
   ]
  },
  {
   "cell_type": "markdown",
   "id": "painful-watson",
   "metadata": {
    "papermill": {
     "duration": 0.018336,
     "end_time": "2021-05-26T15:48:03.793440",
     "exception": false,
     "start_time": "2021-05-26T15:48:03.775104",
     "status": "completed"
    },
    "tags": []
   },
   "source": [
    "### Configure execution roles"
   ]
  },
  {
   "cell_type": "code",
   "execution_count": 3,
   "id": "relevant-mixture",
   "metadata": {
    "execution": {
     "iopub.execute_input": "2021-05-26T15:48:03.836354Z",
     "iopub.status.busy": "2021-05-26T15:48:03.835877Z",
     "iopub.status.idle": "2021-05-26T15:48:04.769727Z",
     "shell.execute_reply": "2021-05-26T15:48:04.770105Z"
    },
    "papermill": {
     "duration": 0.958285,
     "end_time": "2021-05-26T15:48:04.770260",
     "exception": false,
     "start_time": "2021-05-26T15:48:03.811975",
     "status": "completed"
    },
    "tags": []
   },
   "outputs": [],
   "source": [
    "import sagemaker\n",
    "\n",
    "# SageMaker Execution Role\n",
    "# You can use sagemaker.get_execution_role() if running inside sagemaker's notebook instance\n",
    "\n",
    "sagemaker_execution_role = (\n",
    "    sagemaker.get_execution_role()\n",
    ")  # Replace with ARN if not in an AWS SageMaker notebook\n",
    "\n",
    "# paste the AmazonSageMaker-StepFunctionsWorkflowExecutionRole ARN from above\n",
    "workflow_execution_role = '<paste the stepfunction execution role ARN here>'"
   ]
  },
  {
   "cell_type": "markdown",
   "id": "developmental-clinton",
   "metadata": {
    "papermill": {
     "duration": 0.018626,
     "end_time": "2021-05-26T15:48:04.807572",
     "exception": false,
     "start_time": "2021-05-26T15:48:04.788946",
     "status": "completed"
    },
    "tags": []
   },
   "source": [
    "### Import the required modules"
   ]
  },
  {
   "cell_type": "code",
   "execution_count": 4,
   "id": "powerful-reaction",
   "metadata": {
    "execution": {
     "iopub.execute_input": "2021-05-26T15:48:04.850199Z",
     "iopub.status.busy": "2021-05-26T15:48:04.849751Z",
     "iopub.status.idle": "2021-05-26T15:48:05.908941Z",
     "shell.execute_reply": "2021-05-26T15:48:05.909289Z"
    },
    "papermill": {
     "duration": 1.083284,
     "end_time": "2021-05-26T15:48:05.909432",
     "exception": false,
     "start_time": "2021-05-26T15:48:04.826148",
     "status": "completed"
    },
    "tags": []
   },
   "outputs": [],
   "source": [
    "import boto3\n",
    "import sagemaker\n",
    "import time\n",
    "import random\n",
    "import uuid\n",
    "import logging\n",
    "import stepfunctions\n",
    "import io\n",
    "import random\n",
    "\n",
    "from sagemaker.amazon.amazon_estimator import image_uris\n",
    "from stepfunctions import steps\n",
    "from stepfunctions.steps import TrainingStep, ModelStep, TransformStep\n",
    "from stepfunctions.inputs import ExecutionInput\n",
    "from stepfunctions.workflow import Workflow\n",
    "from stepfunctions.template import TrainingPipeline\n",
    "from stepfunctions.template.utils import replace_parameters_with_jsonpath\n",
    "\n",
    "session = sagemaker.Session()\n",
    "stepfunctions.set_stream_logger(level=logging.INFO)\n",
    "\n",
    "region = boto3.Session().region_name\n",
    "bucket = session.default_bucket()\n",
    "prefix = \"sagemaker/DEMO-xgboost-regression\"\n",
    "bucket_path = \"https://s3-{}.amazonaws.com/{}\".format(region, bucket)"
   ]
  },
  {
   "cell_type": "markdown",
   "id": "active-piano",
   "metadata": {
    "papermill": {
     "duration": 0.018801,
     "end_time": "2021-05-26T15:48:05.947128",
     "exception": false,
     "start_time": "2021-05-26T15:48:05.928327",
     "status": "completed"
    },
    "tags": []
   },
   "source": [
    "### Prepare the dataset\n",
    "\n",
    "The following cell defines utility methods to split a dataset into train, validation, and test datasets. It then defines methods to upload them to an Amazon S3 bucket."
   ]
  },
  {
   "cell_type": "code",
   "execution_count": 5,
   "id": "determined-means",
   "metadata": {
    "execution": {
     "iopub.execute_input": "2021-05-26T15:48:05.994421Z",
     "iopub.status.busy": "2021-05-26T15:48:05.993966Z",
     "iopub.status.idle": "2021-05-26T15:48:05.996224Z",
     "shell.execute_reply": "2021-05-26T15:48:05.995837Z"
    },
    "papermill": {
     "duration": 0.030644,
     "end_time": "2021-05-26T15:48:05.996325",
     "exception": false,
     "start_time": "2021-05-26T15:48:05.965681",
     "status": "completed"
    },
    "tags": []
   },
   "outputs": [],
   "source": [
    "def data_split(\n",
    "    FILE_DATA,\n",
    "    FILE_TRAIN,\n",
    "    FILE_VALIDATION,\n",
    "    FILE_TEST,\n",
    "    PERCENT_TRAIN,\n",
    "    PERCENT_VALIDATION,\n",
    "    PERCENT_TEST,\n",
    "):\n",
    "    data = [l for l in open(FILE_DATA, \"r\")]\n",
    "    train_file = open(FILE_TRAIN, \"w\")\n",
    "    valid_file = open(FILE_VALIDATION, \"w\")\n",
    "    tests_file = open(FILE_TEST, \"w\")\n",
    "\n",
    "    num_of_data = len(data)\n",
    "    num_train = int((PERCENT_TRAIN / 100.0) * num_of_data)\n",
    "    num_valid = int((PERCENT_VALIDATION / 100.0) * num_of_data)\n",
    "    num_tests = int((PERCENT_TEST / 100.0) * num_of_data)\n",
    "\n",
    "    data_fractions = [num_train, num_valid, num_tests]\n",
    "    split_data = [[], [], []]\n",
    "\n",
    "    rand_data_ind = 0\n",
    "\n",
    "    for split_ind, fraction in enumerate(data_fractions):\n",
    "        for i in range(fraction):\n",
    "            rand_data_ind = random.randint(0, len(data) - 1)\n",
    "            split_data[split_ind].append(data[rand_data_ind])\n",
    "            data.pop(rand_data_ind)\n",
    "\n",
    "    for l in split_data[0]:\n",
    "        train_file.write(l)\n",
    "\n",
    "    for l in split_data[1]:\n",
    "        valid_file.write(l)\n",
    "\n",
    "    for l in split_data[2]:\n",
    "        tests_file.write(l)\n",
    "\n",
    "    train_file.close()\n",
    "    valid_file.close()\n",
    "    tests_file.close()\n",
    "\n",
    "\n",
    "def write_to_s3(fobj, bucket, key):\n",
    "    return (\n",
    "        boto3.Session(region_name=region)\n",
    "        .resource(\"s3\")\n",
    "        .Bucket(bucket)\n",
    "        .Object(key)\n",
    "        .upload_fileobj(fobj)\n",
    "    )\n",
    "\n",
    "\n",
    "def upload_to_s3(bucket, channel, filename):\n",
    "    fobj = open(filename, \"rb\")\n",
    "    key = prefix + \"/\" + channel\n",
    "    url = \"s3://{}/{}/{}\".format(bucket, key, filename)\n",
    "    print(\"Writing to {}\".format(url))\n",
    "    write_to_s3(fobj, bucket, key)"
   ]
  },
  {
   "cell_type": "markdown",
   "id": "healthy-beatles",
   "metadata": {
    "papermill": {
     "duration": 0.019062,
     "end_time": "2021-05-26T15:48:06.035922",
     "exception": false,
     "start_time": "2021-05-26T15:48:06.016860",
     "status": "completed"
    },
    "tags": []
   },
   "source": [
    "This notebook uses the XGBoost algorithm to train and host a regression model. We use the [Abalone data](https://www.csie.ntu.edu.tw/~cjlin/libsvmtools/datasets/regression.html) originally from the [UCI data repository](https://archive.ics.uci.edu/ml/datasets/abalone). More details about the original dataset can be found [here](https://archive.ics.uci.edu/ml/machine-learning-databases/abalone/abalone.names).  In the libsvm converted [version](https://www.csie.ntu.edu.tw/~cjlin/libsvmtools/datasets/regression.html), the nominal feature (Male/Female/Infant) has been converted into a real valued feature. Age of abalone is to be predicted from eight physical measurements.  "
   ]
  },
  {
   "cell_type": "code",
   "execution_count": 6,
   "id": "irish-assets",
   "metadata": {
    "execution": {
     "iopub.execute_input": "2021-05-26T15:48:06.085620Z",
     "iopub.status.busy": "2021-05-26T15:48:06.085126Z",
     "iopub.status.idle": "2021-05-26T15:48:08.232957Z",
     "shell.execute_reply": "2021-05-26T15:48:08.233305Z"
    },
    "papermill": {
     "duration": 2.178553,
     "end_time": "2021-05-26T15:48:08.233445",
     "exception": false,
     "start_time": "2021-05-26T15:48:06.054892",
     "status": "completed"
    },
    "tags": []
   },
   "outputs": [
    {
     "name": "stdout",
     "output_type": "stream",
     "text": [
      "Writing to s3://sagemaker-us-west-2-521695447989/sagemaker/DEMO-xgboost-regression/train/abalone.train\n",
      "Writing to s3://sagemaker-us-west-2-521695447989/sagemaker/DEMO-xgboost-regression/validation/abalone.validation\n",
      "Writing to s3://sagemaker-us-west-2-521695447989/sagemaker/DEMO-xgboost-regression/test/abalone.test\n"
     ]
    }
   ],
   "source": [
    "try:  # python3\n",
    "    from urllib.request import urlretrieve\n",
    "except:  # python2\n",
    "    from urllib import urlretrieve\n",
    "\n",
    "# Load the dataset\n",
    "FILE_DATA = \"abalone\"\n",
    "urlretrieve(\"https://www.csie.ntu.edu.tw/~cjlin/libsvmtools/datasets/regression/abalone\", FILE_DATA)\n",
    "\n",
    "# split the downloaded data into train/test/validation files\n",
    "FILE_TRAIN = \"abalone.train\"\n",
    "FILE_VALIDATION = \"abalone.validation\"\n",
    "FILE_TEST = \"abalone.test\"\n",
    "PERCENT_TRAIN = 70\n",
    "PERCENT_VALIDATION = 15\n",
    "PERCENT_TEST = 15\n",
    "data_split(\n",
    "    FILE_DATA,\n",
    "    FILE_TRAIN,\n",
    "    FILE_VALIDATION,\n",
    "    FILE_TEST,\n",
    "    PERCENT_TRAIN,\n",
    "    PERCENT_VALIDATION,\n",
    "    PERCENT_TEST,\n",
    ")\n",
    "\n",
    "# upload the files to the S3 bucket\n",
    "upload_to_s3(bucket, \"train\", FILE_TRAIN)\n",
    "upload_to_s3(bucket, \"validation\", FILE_VALIDATION)\n",
    "upload_to_s3(bucket, \"test\", FILE_TEST)\n",
    "\n",
    "train_s3_file = bucket_path + \"/\" + prefix + \"/train\"\n",
    "validation_s3_file = bucket_path + \"/\" + prefix + \"/validation\"\n",
    "test_s3_file = bucket_path + \"/\" + prefix + \"/test\""
   ]
  },
  {
   "cell_type": "markdown",
   "id": "certain-shame",
   "metadata": {
    "papermill": {
     "duration": 0.019592,
     "end_time": "2021-05-26T15:48:08.272251",
     "exception": false,
     "start_time": "2021-05-26T15:48:08.252659",
     "status": "completed"
    },
    "tags": []
   },
   "source": [
    "### Configure the AWS Sagemaker estimator"
   ]
  },
  {
   "cell_type": "code",
   "execution_count": 7,
   "id": "reserved-saying",
   "metadata": {
    "execution": {
     "iopub.execute_input": "2021-05-26T15:48:08.315642Z",
     "iopub.status.busy": "2021-05-26T15:48:08.315189Z",
     "iopub.status.idle": "2021-05-26T15:48:08.323537Z",
     "shell.execute_reply": "2021-05-26T15:48:08.323871Z"
    },
    "papermill": {
     "duration": 0.032456,
     "end_time": "2021-05-26T15:48:08.324000",
     "exception": false,
     "start_time": "2021-05-26T15:48:08.291544",
     "status": "completed"
    },
    "tags": []
   },
   "outputs": [],
   "source": [
    "xgb = sagemaker.estimator.Estimator(\n",
    "    image_uris.retrieve(\"xgboost\", region, \"1.2-1\"),\n",
    "    sagemaker_execution_role,\n",
    "    train_instance_count=1,\n",
    "    train_instance_type=\"ml.m4.4xlarge\",\n",
    "    train_volume_size=5,\n",
    "    output_path=bucket_path + \"/\" + prefix + \"/single-xgboost\",\n",
    "    sagemaker_session=session,\n",
    ")\n",
    "\n",
    "xgb.set_hyperparameters(\n",
    "    objective=\"reg:linear\",\n",
    "    num_round=50,\n",
    "    max_depth=5,\n",
    "    eta=0.2,\n",
    "    gamma=4,\n",
    "    min_child_weight=6,\n",
    "    subsample=0.7,\n",
    ")"
   ]
  },
  {
   "cell_type": "markdown",
   "id": "apparent-citation",
   "metadata": {
    "papermill": {
     "duration": 0.019267,
     "end_time": "2021-05-26T15:48:08.362506",
     "exception": false,
     "start_time": "2021-05-26T15:48:08.343239",
     "status": "completed"
    },
    "tags": []
   },
   "source": [
    "\n",
    "## Build a machine learning workflow"
   ]
  },
  {
   "cell_type": "markdown",
   "id": "biblical-motivation",
   "metadata": {
    "papermill": {
     "duration": 0.019315,
     "end_time": "2021-05-26T15:48:08.401288",
     "exception": false,
     "start_time": "2021-05-26T15:48:08.381973",
     "status": "completed"
    },
    "tags": []
   },
   "source": [
    "<img src=\"img/e2e_pipeline.png\">"
   ]
  },
  {
   "cell_type": "markdown",
   "id": "marine-funeral",
   "metadata": {
    "papermill": {
     "duration": 0.01918,
     "end_time": "2021-05-26T15:48:08.439769",
     "exception": false,
     "start_time": "2021-05-26T15:48:08.420589",
     "status": "completed"
    },
    "tags": []
   },
   "source": [
    "You can use a workflow to create a machine learning pipeline. The AWS Data Science Workflows SDK provides several AWS SageMaker workflow steps that you can use to construct an ML pipeline. In this tutorial you will use the Train and Transform steps.\n",
    "\n",
    "* [**TrainingStep**](https://aws-step-functions-data-science-sdk.readthedocs.io/en/latest/sagemaker.html#stepfunctions.steps.sagemaker.TrainingStep) - Starts a Sagemaker training job and outputs the model artifacts to S3.\n",
    "* [**ModelStep**](https://aws-step-functions-data-science-sdk.readthedocs.io/en/latest/sagemaker.html#stepfunctions.steps.sagemaker.ModelStep) - Creates a model on SageMaker using the model artifacts from S3.\n",
    "* [**TransformStep**](https://aws-step-functions-data-science-sdk.readthedocs.io/en/latest/sagemaker.html#stepfunctions.steps.sagemaker.TransformStep) - Starts a SageMaker transform job\n",
    "* [**EndpointConfigStep**](https://aws-step-functions-data-science-sdk.readthedocs.io/en/latest/sagemaker.html#stepfunctions.steps.sagemaker.EndpointConfigStep) - Defines an endpoint configuration on SageMaker.\n",
    "* [**EndpointStep**](https://aws-step-functions-data-science-sdk.readthedocs.io/en/latest/sagemaker.html#stepfunctions.steps.sagemaker.EndpointStep) - Deploys the trained model to the configured endpoint."
   ]
  },
  {
   "cell_type": "markdown",
   "id": "express-rebound",
   "metadata": {
    "papermill": {
     "duration": 0.019167,
     "end_time": "2021-05-26T15:48:08.478113",
     "exception": false,
     "start_time": "2021-05-26T15:48:08.458946",
     "status": "completed"
    },
    "tags": []
   },
   "source": [
    "### Define the input schema for a workflow execution\n",
    "\n",
    "The [**ExecutionInput**](https://aws-step-functions-data-science-sdk.readthedocs.io/en/latest/placeholders.html#stepfunctions.inputs.ExecutionInput) API defines the options to dynamically pass information to a workflow at runtime.\n",
    "\n",
    "The following cell defines the fields that must be passed to your workflow when starting an execution.\n",
    "\n",
    "While the workflow is usually static after it is defined, you may want to pass values dynamically that are used by steps in your workflow. To help with this, the SDK provides a way to create placeholders when you define your workflow. These placeholders can be dynamically assigned values when you execute your workflow.\n",
    "\n",
    "ExecutionInput values are accessible to each step of your workflow. You have the ability to define a schema for this placeholder collection, as shown in the cell below. When you execute your workflow the SDK will verify if the dynamic input conforms to the schema you defined."
   ]
  },
  {
   "cell_type": "code",
   "execution_count": 8,
   "id": "expired-poker",
   "metadata": {
    "execution": {
     "iopub.execute_input": "2021-05-26T15:48:08.519973Z",
     "iopub.status.busy": "2021-05-26T15:48:08.519537Z",
     "iopub.status.idle": "2021-05-26T15:48:08.521397Z",
     "shell.execute_reply": "2021-05-26T15:48:08.521761Z"
    },
    "papermill": {
     "duration": 0.024661,
     "end_time": "2021-05-26T15:48:08.521884",
     "exception": false,
     "start_time": "2021-05-26T15:48:08.497223",
     "status": "completed"
    },
    "tags": []
   },
   "outputs": [],
   "source": [
    "# SageMaker expects unique names for each job, model and endpoint.\n",
    "# If these names are not unique the execution will fail. Pass these\n",
    "# dynamically for each execution using placeholders.\n",
    "execution_input = ExecutionInput(schema={\"JobName\": str, \"ModelName\": str, \"EndpointName\": str})"
   ]
  },
  {
   "cell_type": "markdown",
   "id": "incredible-azerbaijan",
   "metadata": {
    "papermill": {
     "duration": 0.01933,
     "end_time": "2021-05-26T15:48:08.560730",
     "exception": false,
     "start_time": "2021-05-26T15:48:08.541400",
     "status": "completed"
    },
    "tags": []
   },
   "source": [
    "### Create the training step \n",
    "\n",
    "In the following cell we create the training step and pass the estimator we defined above. See  [TrainingStep](https://aws-step-functions-data-science-sdk.readthedocs.io/en/latest/sagemaker.html#stepfunctions.steps.sagemaker.TrainingStep) in the AWS Step Functions Data Science SDK documentation."
   ]
  },
  {
   "cell_type": "code",
   "execution_count": 9,
   "id": "future-california",
   "metadata": {
    "execution": {
     "iopub.execute_input": "2021-05-26T15:48:08.604135Z",
     "iopub.status.busy": "2021-05-26T15:48:08.603428Z",
     "iopub.status.idle": "2021-05-26T15:48:08.612010Z",
     "shell.execute_reply": "2021-05-26T15:48:08.611549Z"
    },
    "papermill": {
     "duration": 0.032196,
     "end_time": "2021-05-26T15:48:08.612109",
     "exception": false,
     "start_time": "2021-05-26T15:48:08.579913",
     "status": "completed"
    },
    "tags": []
   },
   "outputs": [],
   "source": [
    "training_step = steps.TrainingStep(\n",
    "    \"Train Step\",\n",
    "    estimator=xgb,\n",
    "    data={\n",
    "        \"train\": sagemaker.TrainingInput(train_s3_file, content_type=\"text/libsvm\"),\n",
    "        \"validation\": sagemaker.TrainingInput(validation_s3_file, content_type=\"text/libsvm\"),\n",
    "    },\n",
    "    job_name=execution_input[\"JobName\"],\n",
    ")"
   ]
  },
  {
   "cell_type": "markdown",
   "id": "surprising-pastor",
   "metadata": {
    "papermill": {
     "duration": 0.019175,
     "end_time": "2021-05-26T15:48:08.650759",
     "exception": false,
     "start_time": "2021-05-26T15:48:08.631584",
     "status": "completed"
    },
    "tags": []
   },
   "source": [
    "### Create the model step \n",
    "\n",
    "In the following cell we define a model step that will create a model in SageMaker using the artifacts created during the TrainingStep. See  [ModelStep](https://aws-step-functions-data-science-sdk.readthedocs.io/en/latest/sagemaker.html#stepfunctions.steps.sagemaker.ModelStep) in the AWS Step Functions Data Science SDK documentation.\n",
    "\n",
    "The model creation step typically follows the training step. The Step Functions SDK provides the [get_expected_model](https://aws-step-functions-data-science-sdk.readthedocs.io/en/latest/sagemaker.html#stepfunctions.steps.sagemaker.TrainingStep.get_expected_model) method in the TrainingStep class to provide a reference for the trained model artifacts. Please note that this method is only useful when the ModelStep directly follows the TrainingStep."
   ]
  },
  {
   "cell_type": "code",
   "execution_count": 10,
   "id": "activated-novel",
   "metadata": {
    "execution": {
     "iopub.execute_input": "2021-05-26T15:48:08.693019Z",
     "iopub.status.busy": "2021-05-26T15:48:08.692566Z",
     "iopub.status.idle": "2021-05-26T15:48:08.694437Z",
     "shell.execute_reply": "2021-05-26T15:48:08.694814Z"
    },
    "papermill": {
     "duration": 0.024964,
     "end_time": "2021-05-26T15:48:08.694939",
     "exception": false,
     "start_time": "2021-05-26T15:48:08.669975",
     "status": "completed"
    },
    "tags": []
   },
   "outputs": [],
   "source": [
    "model_step = steps.ModelStep(\n",
    "    \"Save model\", model=training_step.get_expected_model(), model_name=execution_input[\"ModelName\"]\n",
    ")"
   ]
  },
  {
   "cell_type": "markdown",
   "id": "special-coordinate",
   "metadata": {
    "papermill": {
     "duration": 0.019465,
     "end_time": "2021-05-26T15:48:08.733902",
     "exception": false,
     "start_time": "2021-05-26T15:48:08.714437",
     "status": "completed"
    },
    "tags": []
   },
   "source": [
    "### Create the transform step\n",
    "\n",
    "In the following cell we create the transform step. See  [TransformStep](https://aws-step-functions-data-science-sdk.readthedocs.io/en/latest/sagemaker.html#stepfunctions.steps.sagemaker.TransformStep) in the AWS Step Functions Data Science SDK documentation."
   ]
  },
  {
   "cell_type": "code",
   "execution_count": 11,
   "id": "every-custody",
   "metadata": {
    "execution": {
     "iopub.execute_input": "2021-05-26T15:48:08.777122Z",
     "iopub.status.busy": "2021-05-26T15:48:08.776646Z",
     "iopub.status.idle": "2021-05-26T15:48:08.778335Z",
     "shell.execute_reply": "2021-05-26T15:48:08.778671Z"
    },
    "papermill": {
     "duration": 0.02549,
     "end_time": "2021-05-26T15:48:08.778816",
     "exception": false,
     "start_time": "2021-05-26T15:48:08.753326",
     "status": "completed"
    },
    "tags": []
   },
   "outputs": [],
   "source": [
    "transform_step = steps.TransformStep(\n",
    "    \"Transform Input Dataset\",\n",
    "    transformer=xgb.transformer(instance_count=1, instance_type=\"ml.m5.large\"),\n",
    "    job_name=execution_input[\"JobName\"],\n",
    "    model_name=execution_input[\"ModelName\"],\n",
    "    data=test_s3_file,\n",
    "    content_type=\"text/libsvm\",\n",
    ")"
   ]
  },
  {
   "cell_type": "markdown",
   "id": "ceramic-reach",
   "metadata": {
    "papermill": {
     "duration": 0.01948,
     "end_time": "2021-05-26T15:48:08.817642",
     "exception": false,
     "start_time": "2021-05-26T15:48:08.798162",
     "status": "completed"
    },
    "tags": []
   },
   "source": [
    "### Create an endpoint configuration step\n",
    "\n",
    "In the following cell we create an endpoint configuration step. See [EndpointConfigStep](https://aws-step-functions-data-science-sdk.readthedocs.io/en/latest/sagemaker.html#stepfunctions.steps.sagemaker.EndpointConfigStep) in the AWS Step Functions Data Science SDK documentation.\n",
    "\n"
   ]
  },
  {
   "cell_type": "code",
   "execution_count": 12,
   "id": "recognized-bradford",
   "metadata": {
    "execution": {
     "iopub.execute_input": "2021-05-26T15:48:08.862626Z",
     "iopub.status.busy": "2021-05-26T15:48:08.861978Z",
     "iopub.status.idle": "2021-05-26T15:48:08.863810Z",
     "shell.execute_reply": "2021-05-26T15:48:08.864156Z"
    },
    "papermill": {
     "duration": 0.027103,
     "end_time": "2021-05-26T15:48:08.864281",
     "exception": false,
     "start_time": "2021-05-26T15:48:08.837178",
     "status": "completed"
    },
    "tags": []
   },
   "outputs": [],
   "source": [
    "endpoint_config_step = steps.EndpointConfigStep(\n",
    "    \"Create Endpoint Config\",\n",
    "    endpoint_config_name=execution_input[\"ModelName\"],\n",
    "    model_name=execution_input[\"ModelName\"],\n",
    "    initial_instance_count=1,\n",
    "    instance_type=\"ml.m5.large\",\n",
    ")"
   ]
  },
  {
   "cell_type": "markdown",
   "id": "functioning-nylon",
   "metadata": {
    "papermill": {
     "duration": 0.019622,
     "end_time": "2021-05-26T15:48:08.903720",
     "exception": false,
     "start_time": "2021-05-26T15:48:08.884098",
     "status": "completed"
    },
    "tags": []
   },
   "source": [
    "### Create an endpoint\n",
    "\n",
    "In the following cell we create a step to deploy the trained model to an endpoint in AWS SageMaker. See [EndpointStep](https://aws-step-functions-data-science-sdk.readthedocs.io/en/latest/sagemaker.html#stepfunctions.steps.sagemaker.EndpointStep) in the AWS Step Functions Data Science SDK documentation."
   ]
  },
  {
   "cell_type": "code",
   "execution_count": 13,
   "id": "ordinary-conservation",
   "metadata": {
    "execution": {
     "iopub.execute_input": "2021-05-26T15:48:08.946555Z",
     "iopub.status.busy": "2021-05-26T15:48:08.946082Z",
     "iopub.status.idle": "2021-05-26T15:48:08.947844Z",
     "shell.execute_reply": "2021-05-26T15:48:08.948179Z"
    },
    "papermill": {
     "duration": 0.025016,
     "end_time": "2021-05-26T15:48:08.948300",
     "exception": false,
     "start_time": "2021-05-26T15:48:08.923284",
     "status": "completed"
    },
    "tags": []
   },
   "outputs": [],
   "source": [
    "endpoint_step = steps.EndpointStep(\n",
    "    \"Create Endpoint\",\n",
    "    endpoint_name=execution_input[\"EndpointName\"],\n",
    "    endpoint_config_name=execution_input[\"ModelName\"],\n",
    ")"
   ]
  },
  {
   "cell_type": "markdown",
   "id": "adolescent-madagascar",
   "metadata": {
    "papermill": {
     "duration": 0.019553,
     "end_time": "2021-05-26T15:48:08.987424",
     "exception": false,
     "start_time": "2021-05-26T15:48:08.967871",
     "status": "completed"
    },
    "tags": []
   },
   "source": [
    "### Chain together steps for your workflow\n",
    "\n",
    "Create your workflow definition by chaining the steps together. See [Chain](https://aws-step-functions-data-science-sdk.readthedocs.io/en/latest/sagemaker.html#stepfunctions.steps.states.Chain) in the AWS Step Functions Data Science SDK documentation."
   ]
  },
  {
   "cell_type": "code",
   "execution_count": 14,
   "id": "prospective-pioneer",
   "metadata": {
    "execution": {
     "iopub.execute_input": "2021-05-26T15:48:09.030232Z",
     "iopub.status.busy": "2021-05-26T15:48:09.029619Z",
     "iopub.status.idle": "2021-05-26T15:48:09.031400Z",
     "shell.execute_reply": "2021-05-26T15:48:09.031754Z"
    },
    "papermill": {
     "duration": 0.024878,
     "end_time": "2021-05-26T15:48:09.031877",
     "exception": false,
     "start_time": "2021-05-26T15:48:09.006999",
     "status": "completed"
    },
    "tags": []
   },
   "outputs": [],
   "source": [
    "workflow_definition = steps.Chain(\n",
    "    [training_step, model_step, transform_step, endpoint_config_step, endpoint_step]\n",
    ")"
   ]
  },
  {
   "cell_type": "markdown",
   "id": "romance-mississippi",
   "metadata": {
    "papermill": {
     "duration": 0.019825,
     "end_time": "2021-05-26T15:48:09.071599",
     "exception": false,
     "start_time": "2021-05-26T15:48:09.051774",
     "status": "completed"
    },
    "tags": []
   },
   "source": [
    "Create your workflow using the workflow definition above, and render the graph with [render_graph](https://aws-step-functions-data-science-sdk.readthedocs.io/en/latest/workflow.html#stepfunctions.workflow.Workflow.render_graph)."
   ]
  },
  {
   "cell_type": "code",
   "execution_count": 15,
   "id": "latin-bottom",
   "metadata": {
    "execution": {
     "iopub.execute_input": "2021-05-26T15:48:09.123853Z",
     "iopub.status.busy": "2021-05-26T15:48:09.123112Z",
     "iopub.status.idle": "2021-05-26T15:48:09.144041Z",
     "shell.execute_reply": "2021-05-26T15:48:09.144404Z"
    },
    "papermill": {
     "duration": 0.053112,
     "end_time": "2021-05-26T15:48:09.144539",
     "exception": false,
     "start_time": "2021-05-26T15:48:09.091427",
     "status": "completed"
    },
    "tags": []
   },
   "outputs": [],
   "source": [
    "workflow = Workflow(\n",
    "    name=\"MyTrainTransformDeploy_v1\",\n",
    "    definition=workflow_definition,\n",
    "    role=workflow_execution_role,\n",
    "    execution_input=execution_input,\n",
    ")"
   ]
  },
  {
   "cell_type": "code",
   "execution_count": 16,
   "id": "expressed-guidance",
   "metadata": {
    "execution": {
     "iopub.execute_input": "2021-05-26T15:48:09.193009Z",
     "iopub.status.busy": "2021-05-26T15:48:09.192539Z",
     "iopub.status.idle": "2021-05-26T15:48:09.195342Z",
     "shell.execute_reply": "2021-05-26T15:48:09.194895Z"
    },
    "papermill": {
     "duration": 0.030504,
     "end_time": "2021-05-26T15:48:09.195442",
     "exception": false,
     "start_time": "2021-05-26T15:48:09.164938",
     "status": "completed"
    },
    "tags": []
   },
   "outputs": [
    {
     "data": {
      "text/html": [
       "\n",
       "<link rel=\"stylesheet\" type=\"text/css\" href=\"https://do0of8uwbahzz.cloudfront.net/graph.css\">\n",
       "<div id=\"graph-239\" class=\"workflowgraph\">\n",
       "    \n",
       "    <svg></svg>\n",
       "    \n",
       "</div>\n",
       "\n",
       "<script type=\"text/javascript\">\n",
       "\n",
       "require.config({\n",
       "    paths: {\n",
       "        sfn: \"https://do0of8uwbahzz.cloudfront.net/sfn\",\n",
       "    }\n",
       "});\n",
       "\n",
       "require(['sfn'], function(sfn) {\n",
       "    var element = document.getElementById('graph-239')\n",
       "\n",
       "    var options = {\n",
       "        width: parseFloat(getComputedStyle(element, null).width.replace(\"px\", \"\")),\n",
       "        height: 600,\n",
       "        layout: 'LR',\n",
       "        resizeHeight: true\n",
       "    };\n",
       "\n",
       "    var definition = {\"StartAt\": \"Train Step\", \"States\": {\"Train Step\": {\"Resource\": \"arn:aws:states:::sagemaker:createTrainingJob.sync\", \"Parameters\": {\"AlgorithmSpecification\": {\"TrainingImage\": \"246618743249.dkr.ecr.us-west-2.amazonaws.com/sagemaker-xgboost:1.2-1\", \"TrainingInputMode\": \"File\"}, \"OutputDataConfig\": {\"S3OutputPath\": \"https://s3-us-west-2.amazonaws.com/sagemaker-us-west-2-521695447989/sagemaker/DEMO-xgboost-regression/single-xgboost\"}, \"StoppingCondition\": {\"MaxRuntimeInSeconds\": 86400}, \"ResourceConfig\": {\"InstanceCount\": 1, \"InstanceType\": \"ml.m4.4xlarge\", \"VolumeSizeInGB\": 5}, \"RoleArn\": \"arn:aws:iam::521695447989:role/ProdBuildSystemStack-ReleaseBuildRoleFB326D49-QK8LUA2UI1IC\", \"InputDataConfig\": [{\"DataSource\": {\"S3DataSource\": {\"S3DataType\": \"S3Prefix\", \"S3Uri\": \"https://s3-us-west-2.amazonaws.com/sagemaker-us-west-2-521695447989/sagemaker/DEMO-xgboost-regression/train\", \"S3DataDistributionType\": \"FullyReplicated\"}}, \"ContentType\": \"text/libsvm\", \"ChannelName\": \"train\"}, {\"DataSource\": {\"S3DataSource\": {\"S3DataType\": \"S3Prefix\", \"S3Uri\": \"https://s3-us-west-2.amazonaws.com/sagemaker-us-west-2-521695447989/sagemaker/DEMO-xgboost-regression/validation\", \"S3DataDistributionType\": \"FullyReplicated\"}}, \"ContentType\": \"text/libsvm\", \"ChannelName\": \"validation\"}], \"HyperParameters\": {\"objective\": \"reg:linear\", \"num_round\": \"50\", \"max_depth\": \"5\", \"eta\": \"0.2\", \"gamma\": \"4\", \"min_child_weight\": \"6\", \"subsample\": \"0.7\"}, \"TrainingJobName.$\": \"$$.Execution.Input['JobName']\"}, \"Type\": \"Task\", \"Next\": \"Save model\"}, \"Save model\": {\"Parameters\": {\"ExecutionRoleArn\": \"arn:aws:iam::521695447989:role/ProdBuildSystemStack-ReleaseBuildRoleFB326D49-QK8LUA2UI1IC\", \"ModelName.$\": \"$$.Execution.Input['ModelName']\", \"PrimaryContainer\": {\"Environment\": {}, \"Image\": \"246618743249.dkr.ecr.us-west-2.amazonaws.com/sagemaker-xgboost:1.2-1\", \"ModelDataUrl.$\": \"$['ModelArtifacts']['S3ModelArtifacts']\"}}, \"Resource\": \"arn:aws:states:::sagemaker:createModel\", \"Type\": \"Task\", \"Next\": \"Transform Input Dataset\"}, \"Transform Input Dataset\": {\"Resource\": \"arn:aws:states:::sagemaker:createTransformJob.sync\", \"Parameters\": {\"TransformJobName.$\": \"$$.Execution.Input['JobName']\", \"ModelName.$\": \"$$.Execution.Input['ModelName']\", \"TransformInput\": {\"DataSource\": {\"S3DataSource\": {\"S3DataType\": \"S3Prefix\", \"S3Uri\": \"https://s3-us-west-2.amazonaws.com/sagemaker-us-west-2-521695447989/sagemaker/DEMO-xgboost-regression/test\"}}, \"ContentType\": \"text/libsvm\"}, \"TransformOutput\": {\"S3OutputPath\": \"s3://sagemaker-us-west-2-521695447989/sagemaker-xgboost-2021-05-26-15-48-08-775\"}, \"TransformResources\": {\"InstanceCount\": 1, \"InstanceType\": \"ml.m5.large\"}}, \"Type\": \"Task\", \"Next\": \"Create Endpoint Config\"}, \"Create Endpoint Config\": {\"Resource\": \"arn:aws:states:::sagemaker:createEndpointConfig\", \"Parameters\": {\"EndpointConfigName.$\": \"$$.Execution.Input['ModelName']\", \"ProductionVariants\": [{\"InitialInstanceCount\": 1, \"InstanceType\": \"ml.m5.large\", \"ModelName.$\": \"$$.Execution.Input['ModelName']\", \"VariantName\": \"AllTraffic\"}]}, \"Type\": \"Task\", \"Next\": \"Create Endpoint\"}, \"Create Endpoint\": {\"Resource\": \"arn:aws:states:::sagemaker:createEndpoint\", \"Parameters\": {\"EndpointConfigName.$\": \"$$.Execution.Input['ModelName']\", \"EndpointName.$\": \"$$.Execution.Input['EndpointName']\"}, \"Type\": \"Task\", \"End\": true}}};\n",
       "    var elementId = '#graph-239';\n",
       "\n",
       "    var graph = new sfn.StateMachineGraph(definition, elementId, options);\n",
       "    graph.render();\n",
       "});\n",
       "\n",
       "</script>\n"
      ],
      "text/plain": [
       "<IPython.core.display.HTML object>"
      ]
     },
     "execution_count": 16,
     "metadata": {},
     "output_type": "execute_result"
    }
   ],
   "source": [
    "workflow.render_graph()"
   ]
  },
  {
   "cell_type": "markdown",
   "id": "precious-warehouse",
   "metadata": {
    "papermill": {
     "duration": 0.020393,
     "end_time": "2021-05-26T15:48:09.236299",
     "exception": false,
     "start_time": "2021-05-26T15:48:09.215906",
     "status": "completed"
    },
    "tags": []
   },
   "source": [
    "Create the workflow in AWS Step Functions with [create](https://aws-step-functions-data-science-sdk.readthedocs.io/en/latest/workflow.html#stepfunctions.workflow.Workflow.create)."
   ]
  },
  {
   "cell_type": "code",
   "execution_count": 17,
   "id": "central-adelaide",
   "metadata": {
    "execution": {
     "iopub.execute_input": "2021-05-26T15:48:09.282056Z",
     "iopub.status.busy": "2021-05-26T15:48:09.281539Z",
     "iopub.status.idle": "2021-05-26T15:48:09.402439Z",
     "shell.execute_reply": "2021-05-26T15:48:09.401828Z"
    },
    "papermill": {
     "duration": 0.145973,
     "end_time": "2021-05-26T15:48:09.402628",
     "exception": true,
     "start_time": "2021-05-26T15:48:09.256655",
     "status": "failed"
    },
    "tags": []
   },
   "outputs": [
    {
     "ename": "InvalidArn",
     "evalue": "An error occurred (InvalidArn) when calling the CreateStateMachine operation: Invalid Role Arn: '<execution-role-arn>'",
     "output_type": "error",
     "traceback": [
      "\u001b[0;31m---------------------------------------------------------------------------\u001b[0m",
      "\u001b[0;31mInvalidArn\u001b[0m                                Traceback (most recent call last)",
      "\u001b[0;32m<ipython-input-17-5fc95ba75b1e>\u001b[0m in \u001b[0;36m<module>\u001b[0;34m\u001b[0m\n\u001b[0;32m----> 1\u001b[0;31m \u001b[0mworkflow\u001b[0m\u001b[0;34m.\u001b[0m\u001b[0mcreate\u001b[0m\u001b[0;34m(\u001b[0m\u001b[0;34m)\u001b[0m\u001b[0;34m\u001b[0m\u001b[0;34m\u001b[0m\u001b[0m\n\u001b[0m",
      "\u001b[0;32m/opt/conda/lib/python3.7/site-packages/stepfunctions/workflow/stepfunctions.py\u001b[0m in \u001b[0;36mcreate\u001b[0;34m(self)\u001b[0m\n\u001b[1;32m    203\u001b[0m \u001b[0;34m\u001b[0m\u001b[0m\n\u001b[1;32m    204\u001b[0m         \u001b[0;32mtry\u001b[0m\u001b[0;34m:\u001b[0m\u001b[0;34m\u001b[0m\u001b[0;34m\u001b[0m\u001b[0m\n\u001b[0;32m--> 205\u001b[0;31m             \u001b[0mself\u001b[0m\u001b[0;34m.\u001b[0m\u001b[0mstate_machine_arn\u001b[0m \u001b[0;34m=\u001b[0m \u001b[0mself\u001b[0m\u001b[0;34m.\u001b[0m\u001b[0m_create\u001b[0m\u001b[0;34m(\u001b[0m\u001b[0;34m)\u001b[0m\u001b[0;34m\u001b[0m\u001b[0;34m\u001b[0m\u001b[0m\n\u001b[0m\u001b[1;32m    206\u001b[0m         \u001b[0;32mexcept\u001b[0m \u001b[0mself\u001b[0m\u001b[0;34m.\u001b[0m\u001b[0mclient\u001b[0m\u001b[0;34m.\u001b[0m\u001b[0mexceptions\u001b[0m\u001b[0;34m.\u001b[0m\u001b[0mStateMachineAlreadyExists\u001b[0m \u001b[0;32mas\u001b[0m \u001b[0me\u001b[0m\u001b[0;34m:\u001b[0m\u001b[0;34m\u001b[0m\u001b[0;34m\u001b[0m\u001b[0m\n\u001b[1;32m    207\u001b[0m             \u001b[0mself\u001b[0m\u001b[0;34m.\u001b[0m\u001b[0mstate_machine_arn\u001b[0m \u001b[0;34m=\u001b[0m \u001b[0mself\u001b[0m\u001b[0;34m.\u001b[0m\u001b[0m_extract_state_machine_arn\u001b[0m\u001b[0;34m(\u001b[0m\u001b[0me\u001b[0m\u001b[0;34m)\u001b[0m\u001b[0;34m\u001b[0m\u001b[0;34m\u001b[0m\u001b[0m\n",
      "\u001b[0;32m/opt/conda/lib/python3.7/site-packages/stepfunctions/workflow/stepfunctions.py\u001b[0m in \u001b[0;36m_create\u001b[0;34m(self)\u001b[0m\n\u001b[1;32m    215\u001b[0m             \u001b[0mdefinition\u001b[0m\u001b[0;34m=\u001b[0m\u001b[0mself\u001b[0m\u001b[0;34m.\u001b[0m\u001b[0mdefinition\u001b[0m\u001b[0;34m.\u001b[0m\u001b[0mto_json\u001b[0m\u001b[0;34m(\u001b[0m\u001b[0mpretty\u001b[0m\u001b[0;34m=\u001b[0m\u001b[0mself\u001b[0m\u001b[0;34m.\u001b[0m\u001b[0mformat_json\u001b[0m\u001b[0;34m)\u001b[0m\u001b[0;34m,\u001b[0m\u001b[0;34m\u001b[0m\u001b[0;34m\u001b[0m\u001b[0m\n\u001b[1;32m    216\u001b[0m             \u001b[0mroleArn\u001b[0m\u001b[0;34m=\u001b[0m\u001b[0mself\u001b[0m\u001b[0;34m.\u001b[0m\u001b[0mrole\u001b[0m\u001b[0;34m,\u001b[0m\u001b[0;34m\u001b[0m\u001b[0;34m\u001b[0m\u001b[0m\n\u001b[0;32m--> 217\u001b[0;31m             \u001b[0mtags\u001b[0m\u001b[0;34m=\u001b[0m\u001b[0mself\u001b[0m\u001b[0;34m.\u001b[0m\u001b[0mtags\u001b[0m\u001b[0;34m\u001b[0m\u001b[0;34m\u001b[0m\u001b[0m\n\u001b[0m\u001b[1;32m    218\u001b[0m         )\n\u001b[1;32m    219\u001b[0m         \u001b[0mlogger\u001b[0m\u001b[0;34m.\u001b[0m\u001b[0minfo\u001b[0m\u001b[0;34m(\u001b[0m\u001b[0;34m\"Workflow created successfully on AWS Step Functions.\"\u001b[0m\u001b[0;34m)\u001b[0m\u001b[0;34m\u001b[0m\u001b[0;34m\u001b[0m\u001b[0m\n",
      "\u001b[0;32m/opt/conda/lib/python3.7/site-packages/botocore/client.py\u001b[0m in \u001b[0;36m_api_call\u001b[0;34m(self, *args, **kwargs)\u001b[0m\n\u001b[1;32m    355\u001b[0m                     \"%s() only accepts keyword arguments.\" % py_operation_name)\n\u001b[1;32m    356\u001b[0m             \u001b[0;31m# The \"self\" in this scope is referring to the BaseClient.\u001b[0m\u001b[0;34m\u001b[0m\u001b[0;34m\u001b[0m\u001b[0;34m\u001b[0m\u001b[0m\n\u001b[0;32m--> 357\u001b[0;31m             \u001b[0;32mreturn\u001b[0m \u001b[0mself\u001b[0m\u001b[0;34m.\u001b[0m\u001b[0m_make_api_call\u001b[0m\u001b[0;34m(\u001b[0m\u001b[0moperation_name\u001b[0m\u001b[0;34m,\u001b[0m \u001b[0mkwargs\u001b[0m\u001b[0;34m)\u001b[0m\u001b[0;34m\u001b[0m\u001b[0;34m\u001b[0m\u001b[0m\n\u001b[0m\u001b[1;32m    358\u001b[0m \u001b[0;34m\u001b[0m\u001b[0m\n\u001b[1;32m    359\u001b[0m         \u001b[0m_api_call\u001b[0m\u001b[0;34m.\u001b[0m\u001b[0m__name__\u001b[0m \u001b[0;34m=\u001b[0m \u001b[0mstr\u001b[0m\u001b[0;34m(\u001b[0m\u001b[0mpy_operation_name\u001b[0m\u001b[0;34m)\u001b[0m\u001b[0;34m\u001b[0m\u001b[0;34m\u001b[0m\u001b[0m\n",
      "\u001b[0;32m/opt/conda/lib/python3.7/site-packages/botocore/client.py\u001b[0m in \u001b[0;36m_make_api_call\u001b[0;34m(self, operation_name, api_params)\u001b[0m\n\u001b[1;32m    674\u001b[0m             \u001b[0merror_code\u001b[0m \u001b[0;34m=\u001b[0m \u001b[0mparsed_response\u001b[0m\u001b[0;34m.\u001b[0m\u001b[0mget\u001b[0m\u001b[0;34m(\u001b[0m\u001b[0;34m\"Error\"\u001b[0m\u001b[0;34m,\u001b[0m \u001b[0;34m{\u001b[0m\u001b[0;34m}\u001b[0m\u001b[0;34m)\u001b[0m\u001b[0;34m.\u001b[0m\u001b[0mget\u001b[0m\u001b[0;34m(\u001b[0m\u001b[0;34m\"Code\"\u001b[0m\u001b[0;34m)\u001b[0m\u001b[0;34m\u001b[0m\u001b[0;34m\u001b[0m\u001b[0m\n\u001b[1;32m    675\u001b[0m             \u001b[0merror_class\u001b[0m \u001b[0;34m=\u001b[0m \u001b[0mself\u001b[0m\u001b[0;34m.\u001b[0m\u001b[0mexceptions\u001b[0m\u001b[0;34m.\u001b[0m\u001b[0mfrom_code\u001b[0m\u001b[0;34m(\u001b[0m\u001b[0merror_code\u001b[0m\u001b[0;34m)\u001b[0m\u001b[0;34m\u001b[0m\u001b[0;34m\u001b[0m\u001b[0m\n\u001b[0;32m--> 676\u001b[0;31m             \u001b[0;32mraise\u001b[0m \u001b[0merror_class\u001b[0m\u001b[0;34m(\u001b[0m\u001b[0mparsed_response\u001b[0m\u001b[0;34m,\u001b[0m \u001b[0moperation_name\u001b[0m\u001b[0;34m)\u001b[0m\u001b[0;34m\u001b[0m\u001b[0;34m\u001b[0m\u001b[0m\n\u001b[0m\u001b[1;32m    677\u001b[0m         \u001b[0;32melse\u001b[0m\u001b[0;34m:\u001b[0m\u001b[0;34m\u001b[0m\u001b[0;34m\u001b[0m\u001b[0m\n\u001b[1;32m    678\u001b[0m             \u001b[0;32mreturn\u001b[0m \u001b[0mparsed_response\u001b[0m\u001b[0;34m\u001b[0m\u001b[0;34m\u001b[0m\u001b[0m\n",
      "\u001b[0;31mInvalidArn\u001b[0m: An error occurred (InvalidArn) when calling the CreateStateMachine operation: Invalid Role Arn: '<execution-role-arn>'"
     ]
    }
   ],
   "source": [
    "workflow.create()"
   ]
  },
  {
   "cell_type": "markdown",
   "id": "fatal-authorization",
   "metadata": {
    "papermill": {
     "duration": null,
     "end_time": null,
     "exception": null,
     "start_time": null,
     "status": "pending"
    },
    "tags": []
   },
   "source": [
    "Run the workflow with [execute](https://aws-step-functions-data-science-sdk.readthedocs.io/en/latest/workflow.html#stepfunctions.workflow.Workflow.execute)."
   ]
  },
  {
   "cell_type": "code",
   "execution_count": null,
   "id": "religious-coordination",
   "metadata": {
    "papermill": {
     "duration": null,
     "end_time": null,
     "exception": null,
     "start_time": null,
     "status": "pending"
    },
    "tags": []
   },
   "outputs": [],
   "source": [
    "execution = workflow.execute(\n",
    "    inputs={\n",
    "        \"JobName\": \"regression-{}\".format(\n",
    "            uuid.uuid1().hex\n",
    "        ),  # Each Sagemaker Job requires a unique name\n",
    "        \"ModelName\": \"regression-{}\".format(uuid.uuid1().hex),  # Each Model requires a unique name,\n",
    "        \"EndpointName\": \"regression-{}\".format(\n",
    "            uuid.uuid1().hex\n",
    "        ),  # Each Endpoint requires a unique name,\n",
    "    }\n",
    ")"
   ]
  },
  {
   "cell_type": "markdown",
   "id": "signed-amplifier",
   "metadata": {
    "papermill": {
     "duration": null,
     "end_time": null,
     "exception": null,
     "start_time": null,
     "status": "pending"
    },
    "tags": []
   },
   "source": [
    "Render workflow progress with the [render_progress](https://aws-step-functions-data-science-sdk.readthedocs.io/en/latest/workflow.html#stepfunctions.workflow.Execution.render_progress).\n",
    "\n",
    "This generates a snapshot of the current state of your workflow as it executes. This is a static image. Run the cell again to check progress. "
   ]
  },
  {
   "cell_type": "code",
   "execution_count": null,
   "id": "artistic-warner",
   "metadata": {
    "papermill": {
     "duration": null,
     "end_time": null,
     "exception": null,
     "start_time": null,
     "status": "pending"
    },
    "scrolled": true,
    "tags": []
   },
   "outputs": [],
   "source": [
    "execution.render_progress()"
   ]
  },
  {
   "cell_type": "markdown",
   "id": "electric-credit",
   "metadata": {
    "papermill": {
     "duration": null,
     "end_time": null,
     "exception": null,
     "start_time": null,
     "status": "pending"
    },
    "tags": []
   },
   "source": [
    "Use [list_events](https://aws-step-functions-data-science-sdk.readthedocs.io/en/latest/workflow.html#stepfunctions.workflow.Execution.list_events) to list all events in the workflow execution."
   ]
  },
  {
   "cell_type": "code",
   "execution_count": null,
   "id": "diagnostic-acceptance",
   "metadata": {
    "papermill": {
     "duration": null,
     "end_time": null,
     "exception": null,
     "start_time": null,
     "status": "pending"
    },
    "tags": []
   },
   "outputs": [],
   "source": [
    "execution.list_events(html=True)"
   ]
  },
  {
   "cell_type": "markdown",
   "id": "union-finnish",
   "metadata": {
    "papermill": {
     "duration": null,
     "end_time": null,
     "exception": null,
     "start_time": null,
     "status": "pending"
    },
    "tags": []
   },
   "source": [
    "Use [list_executions](https://aws-step-functions-data-science-sdk.readthedocs.io/en/latest/workflow.html#stepfunctions.workflow.Workflow.list_executions) to list all executions for a specific workflow."
   ]
  },
  {
   "cell_type": "code",
   "execution_count": null,
   "id": "altered-jerusalem",
   "metadata": {
    "papermill": {
     "duration": null,
     "end_time": null,
     "exception": null,
     "start_time": null,
     "status": "pending"
    },
    "tags": []
   },
   "outputs": [],
   "source": [
    "workflow.list_executions(html=True)"
   ]
  },
  {
   "cell_type": "markdown",
   "id": "unauthorized-clock",
   "metadata": {
    "papermill": {
     "duration": null,
     "end_time": null,
     "exception": null,
     "start_time": null,
     "status": "pending"
    },
    "tags": []
   },
   "source": [
    "Use [list_workflows](https://aws-step-functions-data-science-sdk.readthedocs.io/en/latest/workflow.html#stepfunctions.workflow.Workflow.list_workflows) to list all workflows in your AWS account."
   ]
  },
  {
   "cell_type": "code",
   "execution_count": null,
   "id": "endless-toyota",
   "metadata": {
    "papermill": {
     "duration": null,
     "end_time": null,
     "exception": null,
     "start_time": null,
     "status": "pending"
    },
    "scrolled": true,
    "tags": []
   },
   "outputs": [],
   "source": [
    "Workflow.list_workflows(html=True)"
   ]
  },
  {
   "cell_type": "markdown",
   "id": "educational-retail",
   "metadata": {
    "papermill": {
     "duration": null,
     "end_time": null,
     "exception": null,
     "start_time": null,
     "status": "pending"
    },
    "tags": []
   },
   "source": [
    "---"
   ]
  }
 ],
 "metadata": {
  "kernelspec": {
   "display_name": "Environment (conda_python3)",
   "language": "python",
   "name": "conda_python3"
  },
  "language_info": {
   "codemirror_mode": {
    "name": "ipython",
    "version": 3
   },
   "file_extension": ".py",
   "mimetype": "text/x-python",
   "name": "python",
   "nbconvert_exporter": "python",
   "pygments_lexer": "ipython3",
   "version": "3.6.10"
  },
  "papermill": {
   "default_parameters": {},
   "duration": 9.694515,
   "end_time": "2021-05-26T15:48:09.909967",
   "environment_variables": {},
   "exception": true,
   "input_path": "machine_learning_workflow_abalone.ipynb",
   "output_path": "/opt/ml/processing/output/machine_learning_workflow_abalone-2021-05-26-15-43-47.ipynb",
   "parameters": {
    "kms_key": "arn:aws:kms:us-west-2:521695447989:key/6e9984db-50cf-4c7e-926c-877ec47a8b25"
   },
   "start_time": "2021-05-26T15:48:00.215452",
   "version": "2.3.3"
  }
 },
 "nbformat": 4,
 "nbformat_minor": 5
}
