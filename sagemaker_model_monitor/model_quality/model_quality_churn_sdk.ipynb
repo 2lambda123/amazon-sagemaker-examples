{
 "cells": [
  {
   "cell_type": "markdown",
   "id": "lasting-precipitation",
   "metadata": {
    "papermill": {
     "duration": 0.031398,
     "end_time": "2021-05-25T01:24:58.265566",
     "exception": false,
     "start_time": "2021-05-25T01:24:58.234168",
     "status": "completed"
    },
    "tags": []
   },
   "source": [
    "# Amazon SageMaker Model Quality Monitor\n",
    "#### Host a trained machine learning model in Amazon SageMaker.  Monitor and detect machine learning model quality drift\n",
    "\n",
    "\n",
    "This notebook shows how to:\n",
    "* Host a machine learning model in Amazon SageMaker and capture inference requests, results, and metadata \n",
    "* Generate a baseline of model quality and suggested constraints\n",
    "* Monitor a live endpoint for violations against the suggested constraints\n",
    "* Generate CloudWatch Alarms on model quality drift\n",
    "\n",
    "\n",
    "**Table of Contents** \n",
    "\n",
    "1. [Introduction](#intro)\n",
    "2. [Section 1 - Setup](#setup)\n",
    "3. [Section 2 - Deploy pre-trained model with data capture enabled](#deploy)\n",
    "5. [Section 3 - Generate baseline for model quality performance](#generate-baseline)\n",
    "6. [Section 4 - Setup continuous model monitoring to identify model quality drift](#analyze-model-quality-drift)\n",
    "7. [Section 5 - Analyze model quality CloudWatch metrics](#analyze-cloudwatch-metrics)\n",
    "8. [Clean up](#cleanup)\n",
    "\n",
    "\n",
    "\n",
    "## Introduction <a id='intro'></a>    \n",
    "\n",
    "Amazon SageMaker provides every developer and data scientist with the ability to build, train, and deploy machine learning (ML) models quickly by bringing together a broad set of capabilities purpose-built for ML. Amazon SageMaker is a fully-managed service that encompasses the entire ML workflow. You can label and prepare your data, choose an algorithm, train a model, and then tune and optimize it for deployment. You can deploy your models to production with Amazon SageMaker to make predictions and lower costs than it was previously possible.\n",
    "\n",
    "Amazon SageMaker Model Monitor allows you to maintain high quality ML models by automatically detecting and helping you remediate inaccuracies in model predictions. Model Monitor helps\n",
    "you detect changes in properties of independent variables to help maintain data quality, and\n",
    "monitors model performance characteristics such as accuracy and precision in real-time to\n",
    "help maintain model quality.\n",
    "\n",
    "In this notebook, you learn how to use Amazon SageMaker model quality monitoring capability to monitor model performance characteristics of your in-production ML models. You will learn how to configure Amazon CloudWatch alerts to get notified if the model quality degrades from the configured baseline quality."
   ]
  },
  {
   "cell_type": "markdown",
   "id": "universal-wireless",
   "metadata": {
    "papermill": {
     "duration": 0.031535,
     "end_time": "2021-05-25T01:24:58.328540",
     "exception": false,
     "start_time": "2021-05-25T01:24:58.297005",
     "status": "completed"
    },
    "tags": []
   },
   "source": [
    "## Section 1 - Setup <a id='setup'></a>\n",
    "\n",
    "In this section, you will import the necessary libraries, setup variables and examine data that was used to train the XGBoost customer churn model provided with this notebook.\n",
    "\n",
    "Let's start by specifying:\n",
    "\n",
    "* The AWS region used to host your model.\n",
    "* The IAM role associated with this SageMaker notebook instance.\n",
    "* The S3 bucket used to store the data used to train your model, any additional model data, and the data captured from model invocations."
   ]
  },
  {
   "cell_type": "markdown",
   "id": "flexible-shore",
   "metadata": {
    "papermill": {
     "duration": 0.031311,
     "end_time": "2021-05-25T01:24:58.391270",
     "exception": false,
     "start_time": "2021-05-25T01:24:58.359959",
     "status": "completed"
    },
    "tags": []
   },
   "source": [
    "#### 1.1 Import necessary libraries"
   ]
  },
  {
   "cell_type": "code",
   "execution_count": 2,
   "id": "indoor-march",
   "metadata": {
    "execution": {
     "iopub.execute_input": "2021-05-25T01:24:58.459103Z",
     "iopub.status.busy": "2021-05-25T01:24:58.458593Z",
     "iopub.status.idle": "2021-05-25T01:24:58.925993Z",
     "shell.execute_reply": "2021-05-25T01:24:58.926321Z"
    },
    "papermill": {
     "duration": 0.503478,
     "end_time": "2021-05-25T01:24:58.926472",
     "exception": false,
     "start_time": "2021-05-25T01:24:58.422994",
     "status": "completed"
    },
    "tags": []
   },
   "outputs": [
    {
     "name": "stdout",
     "output_type": "stream",
     "text": [
      "CPU times: user 84.3 ms, sys: 4.01 ms, total: 88.3 ms\n",
      "Wall time: 90.6 ms\n"
     ]
    }
   ],
   "source": [
    "%%time\n",
    "\n",
    "from datetime import datetime, timedelta, timezone\n",
    "import json\n",
    "import os\n",
    "import re\n",
    "import boto3\n",
    "from time import sleep\n",
    "from threading import Thread\n",
    "\n",
    "import pandas as pd\n",
    "\n",
    "from sagemaker import get_execution_role, session, Session, image_uris\n",
    "from sagemaker.s3 import S3Downloader, S3Uploader\n",
    "from sagemaker.processing import ProcessingJob\n",
    "from sagemaker.serializers import CSVSerializer\n",
    "\n",
    "from sagemaker.model import Model\n",
    "from sagemaker.model_monitor import DataCaptureConfig\n",
    "\n",
    "session = Session()"
   ]
  },
  {
   "cell_type": "markdown",
   "id": "handmade-fountain",
   "metadata": {
    "papermill": {
     "duration": 0.031879,
     "end_time": "2021-05-25T01:24:58.990288",
     "exception": false,
     "start_time": "2021-05-25T01:24:58.958409",
     "status": "completed"
    },
    "tags": []
   },
   "source": [
    "#### 1.2 AWS region and  IAM Role"
   ]
  },
  {
   "cell_type": "code",
   "execution_count": 3,
   "id": "fossil-indication",
   "metadata": {
    "execution": {
     "iopub.execute_input": "2021-05-25T01:24:59.066153Z",
     "iopub.status.busy": "2021-05-25T01:24:59.065699Z",
     "iopub.status.idle": "2021-05-25T01:24:59.515363Z",
     "shell.execute_reply": "2021-05-25T01:24:59.514968Z"
    },
    "papermill": {
     "duration": 0.49354,
     "end_time": "2021-05-25T01:24:59.515470",
     "exception": false,
     "start_time": "2021-05-25T01:24:59.021930",
     "status": "completed"
    },
    "tags": []
   },
   "outputs": [
    {
     "name": "stdout",
     "output_type": "stream",
     "text": [
      "RoleArn: arn:aws:iam::688520471316:role/hongshan-sagemaker-experiment\n",
      "Region: us-west-2\n"
     ]
    }
   ],
   "source": [
    "# Get Execution role\n",
    "role = get_execution_role()\n",
    "print(\"RoleArn:\", role)\n",
    "\n",
    "region = session.boto_region_name\n",
    "print(\"Region:\", region)"
   ]
  },
  {
   "cell_type": "markdown",
   "id": "prepared-orchestra",
   "metadata": {
    "papermill": {
     "duration": 0.03287,
     "end_time": "2021-05-25T01:24:59.580664",
     "exception": false,
     "start_time": "2021-05-25T01:24:59.547794",
     "status": "completed"
    },
    "tags": []
   },
   "source": [
    "#### 1.3 S3 bucket and prefixes"
   ]
  },
  {
   "cell_type": "code",
   "execution_count": 4,
   "id": "illegal-definition",
   "metadata": {
    "execution": {
     "iopub.execute_input": "2021-05-25T01:24:59.649644Z",
     "iopub.status.busy": "2021-05-25T01:24:59.649173Z",
     "iopub.status.idle": "2021-05-25T01:24:59.848165Z",
     "shell.execute_reply": "2021-05-25T01:24:59.848525Z"
    },
    "papermill": {
     "duration": 0.235873,
     "end_time": "2021-05-25T01:24:59.848661",
     "exception": false,
     "start_time": "2021-05-25T01:24:59.612788",
     "status": "completed"
    },
    "tags": []
   },
   "outputs": [
    {
     "name": "stdout",
     "output_type": "stream",
     "text": [
      "Demo Bucket: sagemaker-us-west-2-688520471316\n",
      "Image URI: 159807026194.dkr.ecr.us-west-2.amazonaws.com/sagemaker-model-monitor-analyzer\n",
      "Capture path: s3://sagemaker-us-west-2-688520471316/sagemaker/Churn-ModelQualityMonitor-20201201/datacapture\n",
      "Ground truth path: s3://sagemaker-us-west-2-688520471316/sagemaker/Churn-ModelQualityMonitor-20201201/ground_truth_data/2021-05-26-00-14-43\n",
      "Report path: s3://sagemaker-us-west-2-688520471316/sagemaker/Churn-ModelQualityMonitor-20201201/reports\n"
     ]
    }
   ],
   "source": [
    "# Setup S3 bucket\n",
    "# You can use a different bucket, but make sure the role you chose for this notebook\n",
    "# has the s3:PutObject permissions. This is the bucket into which the data is captured\n",
    "bucket = session.default_bucket()\n",
    "print(\"Demo Bucket:\", bucket)\n",
    "prefix = \"sagemaker/Churn-ModelQualityMonitor-20201201\"\n",
    "\n",
    "##S3 prefixes\n",
    "data_capture_prefix = f\"{prefix}/datacapture\"\n",
    "s3_capture_upload_path = f\"s3://{bucket}/{data_capture_prefix}\"\n",
    "\n",
    "ground_truth_upload_path = (\n",
    "    f\"s3://{bucket}/{prefix}/ground_truth_data/{datetime.now():%Y-%m-%d-%H-%M-%S}\"\n",
    ")\n",
    "\n",
    "reports_prefix = f\"{prefix}/reports\"\n",
    "s3_report_path = f\"s3://{bucket}/{reports_prefix}\"\n",
    "\n",
    "##Get the model monitor image\n",
    "monitor_image_uri = image_uris.retrieve(framework=\"model-monitor\", region=region)\n",
    "\n",
    "print(\"Image URI:\", monitor_image_uri)\n",
    "print(f\"Capture path: {s3_capture_upload_path}\")\n",
    "print(f\"Ground truth path: {ground_truth_upload_path}\")\n",
    "print(f\"Report path: {s3_report_path}\")"
   ]
  },
  {
   "cell_type": "markdown",
   "id": "incident-orbit",
   "metadata": {
    "papermill": {
     "duration": 0.033356,
     "end_time": "2021-05-25T01:24:59.914372",
     "exception": false,
     "start_time": "2021-05-25T01:24:59.881016",
     "status": "completed"
    },
    "tags": []
   },
   "source": [
    "#### 1.4 Test access to the S3 bucket\n",
    "Let's quickly verify that the notebook has the right permissions to access the S3 bucket specified above.\n",
    "Upload a simple test object into the S3 bucket.  If this command fails, the data capture and model monitoring capabilities will not work from this notebook.  You can fix this by updating the role associated with this notebook instance to have \"s3:PutObject\" permissions and try this validation again"
   ]
  },
  {
   "cell_type": "code",
   "execution_count": 5,
   "id": "marine-softball",
   "metadata": {
    "execution": {
     "iopub.execute_input": "2021-05-25T01:24:59.991433Z",
     "iopub.status.busy": "2021-05-25T01:24:59.990721Z",
     "iopub.status.idle": "2021-05-25T01:25:00.110178Z",
     "shell.execute_reply": "2021-05-25T01:25:00.110559Z"
    },
    "papermill": {
     "duration": 0.162758,
     "end_time": "2021-05-25T01:25:00.110730",
     "exception": false,
     "start_time": "2021-05-25T01:24:59.947972",
     "status": "completed"
    },
    "tags": []
   },
   "outputs": [
    {
     "name": "stdout",
     "output_type": "stream",
     "text": [
      "Success! You are all set to proceed.\n"
     ]
    }
   ],
   "source": [
    "# Upload some test files\n",
    "S3Uploader.upload(\"test_data/upload-test-file.txt\", f\"s3://{bucket}/test_upload\")\n",
    "print(\"Success! You are all set to proceed.\")"
   ]
  },
  {
   "cell_type": "markdown",
   "id": "boxed-thursday",
   "metadata": {
    "papermill": {
     "duration": 0.033294,
     "end_time": "2021-05-25T01:25:00.177642",
     "exception": false,
     "start_time": "2021-05-25T01:25:00.144348",
     "status": "completed"
    },
    "tags": []
   },
   "source": [
    "## Section 2 - Deploy pre-trained model with data capture enabled <a id='deploy'></a>\n",
    "\n",
    "In this section, you will upload the pretrained model to the S3 bucket, create an Amazon SageMaker Model, create an Amazon SageMaker real time endpoint, and enable data capture on the endpoint to capture endpoint invocations, predictions, and metadata."
   ]
  },
  {
   "cell_type": "markdown",
   "id": "parental-constitutional",
   "metadata": {
    "papermill": {
     "duration": 0.032979,
     "end_time": "2021-05-25T01:25:00.244107",
     "exception": false,
     "start_time": "2021-05-25T01:25:00.211128",
     "status": "completed"
    },
    "tags": []
   },
   "source": [
    "#### 2.1 Upload the pre-trained model to S3\n",
    "\n",
    "This code uploads a pre-trained XGBoost model that is ready for you to deploy. This model was trained using the XGB Churn Prediction Notebook in SageMaker. You can also use your own pre-trained model in this step. If you already have a pretrained model in Amazon S3, you can add it instead by specifying the s3_key.\n"
   ]
  },
  {
   "cell_type": "code",
   "execution_count": 6,
   "id": "lonely-championship",
   "metadata": {
    "execution": {
     "iopub.execute_input": "2021-05-25T01:25:00.321517Z",
     "iopub.status.busy": "2021-05-25T01:25:00.321064Z",
     "iopub.status.idle": "2021-05-25T01:25:00.519400Z",
     "shell.execute_reply": "2021-05-25T01:25:00.519759Z"
    },
    "papermill": {
     "duration": 0.242862,
     "end_time": "2021-05-25T01:25:00.519906",
     "exception": false,
     "start_time": "2021-05-25T01:25:00.277044",
     "status": "completed"
    },
    "tags": []
   },
   "outputs": [
    {
     "data": {
      "text/plain": [
       "'s3://sagemaker-us-west-2-688520471316/sagemaker/Churn-ModelQualityMonitor-20201201/xgb-churn-prediction-model.tar.gz'"
      ]
     },
     "execution_count": 6,
     "metadata": {},
     "output_type": "execute_result"
    }
   ],
   "source": [
    "##Upload the pretrained model to S3\n",
    "s3_key = f\"s3://{bucket}/{prefix}\"\n",
    "model_url = S3Uploader.upload(\"model/xgb-churn-prediction-model.tar.gz\", s3_key)\n",
    "model_url"
   ]
  },
  {
   "cell_type": "markdown",
   "id": "novel-diversity",
   "metadata": {
    "papermill": {
     "duration": 0.03339,
     "end_time": "2021-05-25T01:25:00.586933",
     "exception": false,
     "start_time": "2021-05-25T01:25:00.553543",
     "status": "completed"
    },
    "tags": []
   },
   "source": [
    "#### 2.2 Create SageMaker Model entity\n",
    "\n",
    "This step creates an Amazon SageMaker model from the  model file uploaded to S3."
   ]
  },
  {
   "cell_type": "code",
   "execution_count": 7,
   "id": "affected-channels",
   "metadata": {
    "execution": {
     "iopub.execute_input": "2021-05-25T01:25:00.657042Z",
     "iopub.status.busy": "2021-05-25T01:25:00.656610Z",
     "iopub.status.idle": "2021-05-25T01:25:00.665267Z",
     "shell.execute_reply": "2021-05-25T01:25:00.664889Z"
    },
    "papermill": {
     "duration": 0.045324,
     "end_time": "2021-05-25T01:25:00.665370",
     "exception": false,
     "start_time": "2021-05-25T01:25:00.620046",
     "status": "completed"
    },
    "tags": []
   },
   "outputs": [],
   "source": [
    "model_name = f\"DEMO-xgb-churn-pred-model-monitor-{datetime.utcnow():%Y-%m-%d-%H%M}\"\n",
    "\n",
    "image_uri = image_uris.retrieve(framework=\"xgboost\", version=\"0.90-1\", region=region)\n",
    "\n",
    "model = Model(image_uri=image_uri, model_data=model_url, role=role, sagemaker_session=session)"
   ]
  },
  {
   "cell_type": "markdown",
   "id": "polar-hands",
   "metadata": {
    "papermill": {
     "duration": 0.032954,
     "end_time": "2021-05-25T01:25:00.731263",
     "exception": false,
     "start_time": "2021-05-25T01:25:00.698309",
     "status": "completed"
    },
    "tags": []
   },
   "source": [
    "#### 2.3 Deploy the model with data capture enabled.\n",
    "Next, deploy the SageMaker model on a specific instance with data capture enabled."
   ]
  },
  {
   "cell_type": "code",
   "execution_count": 8,
   "id": "entitled-delta",
   "metadata": {
    "execution": {
     "iopub.execute_input": "2021-05-25T01:25:00.800830Z",
     "iopub.status.busy": "2021-05-25T01:25:00.800368Z",
     "iopub.status.idle": "2021-05-25T01:32:32.764638Z",
     "shell.execute_reply": "2021-05-25T01:32:32.765001Z"
    },
    "papermill": {
     "duration": 452.001198,
     "end_time": "2021-05-25T01:32:32.765136",
     "exception": false,
     "start_time": "2021-05-25T01:25:00.763938",
     "status": "completed"
    },
    "tags": []
   },
   "outputs": [
    {
     "name": "stdout",
     "output_type": "stream",
     "text": [
      "EndpointName = DEMO-xgb-churn-model-quality-monitor-2021-05-26-0014\n",
      "---------------!"
     ]
    }
   ],
   "source": [
    "endpoint_name = f\"DEMO-xgb-churn-model-quality-monitor-{datetime.utcnow():%Y-%m-%d-%H%M}\"\n",
    "print(\"EndpointName =\", endpoint_name)\n",
    "\n",
    "data_capture_config = DataCaptureConfig(\n",
    "    enable_capture=True, sampling_percentage=100, destination_s3_uri=s3_capture_upload_path\n",
    ")\n",
    "\n",
    "model.deploy(\n",
    "    initial_instance_count=1,\n",
    "    instance_type=\"ml.m4.xlarge\",\n",
    "    endpoint_name=endpoint_name,\n",
    "    data_capture_config=data_capture_config,\n",
    ")"
   ]
  },
  {
   "cell_type": "markdown",
   "id": "dense-webcam",
   "metadata": {
    "papermill": {
     "duration": 0.035821,
     "end_time": "2021-05-25T01:32:32.836938",
     "exception": false,
     "start_time": "2021-05-25T01:32:32.801117",
     "status": "completed"
    },
    "tags": []
   },
   "source": [
    "#### 2.4 Create the SageMaker Predictor object from the endpoint to be used for invoking the model"
   ]
  },
  {
   "cell_type": "code",
   "execution_count": 9,
   "id": "selective-snowboard",
   "metadata": {
    "execution": {
     "iopub.execute_input": "2021-05-25T01:32:32.912245Z",
     "iopub.status.busy": "2021-05-25T01:32:32.911780Z",
     "iopub.status.idle": "2021-05-25T01:32:32.913762Z",
     "shell.execute_reply": "2021-05-25T01:32:32.913396Z"
    },
    "papermill": {
     "duration": 0.041114,
     "end_time": "2021-05-25T01:32:32.913859",
     "exception": false,
     "start_time": "2021-05-25T01:32:32.872745",
     "status": "completed"
    },
    "tags": []
   },
   "outputs": [],
   "source": [
    "from sagemaker.predictor import Predictor\n",
    "\n",
    "predictor = Predictor(\n",
    "    endpoint_name=endpoint_name, sagemaker_session=session, serializer=CSVSerializer()\n",
    ")"
   ]
  },
  {
   "cell_type": "markdown",
   "id": "acquired-sucking",
   "metadata": {
    "papermill": {
     "duration": 0.035724,
     "end_time": "2021-05-25T01:32:32.985536",
     "exception": false,
     "start_time": "2021-05-25T01:32:32.949812",
     "status": "completed"
    },
    "tags": []
   },
   "source": [
    "##  Section 3 - Generate a baseline for model quality performance <a id='generate-baseline'></a>\n",
    "\n",
    "In this section, you will invoke the endpoint created above using validation data. Predictions from the deployed model using this validation data will be used as a baseline dataset.  You will then use SageMaker's Model Monitoring to execute a baseline job that computes model performance data, and suggest model quality constraints based on the baseline dataset."
   ]
  },
  {
   "cell_type": "markdown",
   "id": "trained-alias",
   "metadata": {
    "papermill": {
     "duration": 0.035667,
     "end_time": "2021-05-25T01:32:33.056875",
     "exception": false,
     "start_time": "2021-05-25T01:32:33.021208",
     "status": "completed"
    },
    "tags": []
   },
   "source": [
    "#### 3.1 Execute predictions using the validation dataset. \n",
    "\n",
    "The deployed model returns probability that a customer will churn. Let's choose an arbitrary 0.8 cutoff to consider that a customer will churn."
   ]
  },
  {
   "cell_type": "code",
   "execution_count": 10,
   "id": "frequent-costs",
   "metadata": {
    "execution": {
     "iopub.execute_input": "2021-05-25T01:32:33.131855Z",
     "iopub.status.busy": "2021-05-25T01:32:33.131272Z",
     "iopub.status.idle": "2021-05-25T01:32:33.133435Z",
     "shell.execute_reply": "2021-05-25T01:32:33.132985Z"
    },
    "papermill": {
     "duration": 0.040961,
     "end_time": "2021-05-25T01:32:33.133535",
     "exception": false,
     "start_time": "2021-05-25T01:32:33.092574",
     "status": "completed"
    },
    "tags": []
   },
   "outputs": [],
   "source": [
    "churn_cutoff = 0.8\n",
    "validate_dataset = \"validation_with_predictions.csv\""
   ]
  },
  {
   "cell_type": "code",
   "execution_count": 11,
   "id": "sized-rating",
   "metadata": {
    "execution": {
     "iopub.execute_input": "2021-05-25T01:32:33.212024Z",
     "iopub.status.busy": "2021-05-25T01:32:33.210318Z",
     "iopub.status.idle": "2021-05-25T01:34:16.260255Z",
     "shell.execute_reply": "2021-05-25T01:34:16.260613Z"
    },
    "papermill": {
     "duration": 103.091314,
     "end_time": "2021-05-25T01:34:16.260751",
     "exception": false,
     "start_time": "2021-05-25T01:32:33.169437",
     "status": "completed"
    },
    "tags": []
   },
   "outputs": [
    {
     "name": "stdout",
     "output_type": "stream",
     "text": [
      "........................................................................................................................................................................................................\n",
      "Done!\n"
     ]
    }
   ],
   "source": [
    "limit = 200  # Need at least 200 samples to compute standard deviations\n",
    "i = 0\n",
    "with open(f\"test_data/{validate_dataset}\", \"w\") as baseline_file:\n",
    "    baseline_file.write(\"probability,prediction,label\\n\")  # our header\n",
    "    with open(\"test_data/validation.csv\", \"r\") as f:\n",
    "        for row in f:\n",
    "            (label, input_cols) = row.split(\",\", 1)\n",
    "            probability = float(predictor.predict(input_cols))\n",
    "            prediction = \"1\" if probability > churn_cutoff else \"0\"\n",
    "            baseline_file.write(f\"{probability},{prediction},{label}\\n\")\n",
    "            i += 1\n",
    "            if i > limit:\n",
    "                break\n",
    "            print(\".\", end=\"\", flush=True)\n",
    "            sleep(0.5)\n",
    "print()\n",
    "print(\"Done!\")"
   ]
  },
  {
   "cell_type": "markdown",
   "id": "understood-illustration",
   "metadata": {
    "papermill": {
     "duration": 0.072032,
     "end_time": "2021-05-25T01:34:16.405182",
     "exception": false,
     "start_time": "2021-05-25T01:34:16.333150",
     "status": "completed"
    },
    "tags": []
   },
   "source": [
    "#### 3.2 Examine the predictions from the model\n"
   ]
  },
  {
   "cell_type": "code",
   "execution_count": 12,
   "id": "cooked-toddler",
   "metadata": {
    "execution": {
     "iopub.execute_input": "2021-05-25T01:34:16.552574Z",
     "iopub.status.busy": "2021-05-25T01:34:16.552135Z",
     "iopub.status.idle": "2021-05-25T01:34:16.698991Z",
     "shell.execute_reply": "2021-05-25T01:34:16.698530Z"
    },
    "papermill": {
     "duration": 0.222149,
     "end_time": "2021-05-25T01:34:16.699105",
     "exception": false,
     "start_time": "2021-05-25T01:34:16.476956",
     "status": "completed"
    },
    "tags": []
   },
   "outputs": [
    {
     "name": "stdout",
     "output_type": "stream",
     "text": [
      "probability,prediction,label\n",
      "0.01516005303710699,0,0\n",
      "0.1684480607509613,0,0\n",
      "0.21427156031131744,0,0\n",
      "0.06330718100070953,0,0\n",
      "0.02791607193648815,0,0\n",
      "0.014169521629810333,0,0\n",
      "0.00571369007229805,0,0\n",
      "0.10534518957138062,0,0\n",
      "0.025899196043610573,0,0\n"
     ]
    }
   ],
   "source": [
    "!head test_data/validation_with_predictions.csv"
   ]
  },
  {
   "cell_type": "markdown",
   "id": "temporal-hunger",
   "metadata": {
    "papermill": {
     "duration": 0.072487,
     "end_time": "2021-05-25T01:34:16.844217",
     "exception": false,
     "start_time": "2021-05-25T01:34:16.771730",
     "status": "completed"
    },
    "tags": []
   },
   "source": [
    "#### 3.3 Upload the predictions as a baseline dataset.\n",
    "Now we will upload the predictions made using validation dataset to S3 which will be used for creating model quality baseline statistics and constraints"
   ]
  },
  {
   "cell_type": "code",
   "execution_count": 13,
   "id": "norwegian-charge",
   "metadata": {
    "execution": {
     "iopub.execute_input": "2021-05-25T01:34:16.992742Z",
     "iopub.status.busy": "2021-05-25T01:34:16.992244Z",
     "iopub.status.idle": "2021-05-25T01:34:16.994533Z",
     "shell.execute_reply": "2021-05-25T01:34:16.994910Z"
    },
    "papermill": {
     "duration": 0.078842,
     "end_time": "2021-05-25T01:34:16.995045",
     "exception": false,
     "start_time": "2021-05-25T01:34:16.916203",
     "status": "completed"
    },
    "tags": []
   },
   "outputs": [
    {
     "name": "stdout",
     "output_type": "stream",
     "text": [
      "Baseline data uri: s3://sagemaker-us-west-2-688520471316/sagemaker/Churn-ModelQualityMonitor-20201201/baselining/data\n",
      "Baseline results uri: s3://sagemaker-us-west-2-688520471316/sagemaker/Churn-ModelQualityMonitor-20201201/baselining/results\n"
     ]
    }
   ],
   "source": [
    "baseline_prefix = prefix + \"/baselining\"\n",
    "baseline_data_prefix = baseline_prefix + \"/data\"\n",
    "baseline_results_prefix = baseline_prefix + \"/results\"\n",
    "\n",
    "baseline_data_uri = f\"s3://{bucket}/{baseline_data_prefix}\"\n",
    "baseline_results_uri = f\"s3://{bucket}/{baseline_results_prefix}\"\n",
    "print(f\"Baseline data uri: {baseline_data_uri}\")\n",
    "print(f\"Baseline results uri: {baseline_results_uri}\")"
   ]
  },
  {
   "cell_type": "code",
   "execution_count": 14,
   "id": "composite-democracy",
   "metadata": {
    "execution": {
     "iopub.execute_input": "2021-05-25T01:34:17.152082Z",
     "iopub.status.busy": "2021-05-25T01:34:17.151636Z",
     "iopub.status.idle": "2021-05-25T01:34:17.282431Z",
     "shell.execute_reply": "2021-05-25T01:34:17.282810Z"
    },
    "papermill": {
     "duration": 0.215367,
     "end_time": "2021-05-25T01:34:17.282950",
     "exception": false,
     "start_time": "2021-05-25T01:34:17.067583",
     "status": "completed"
    },
    "tags": []
   },
   "outputs": [
    {
     "data": {
      "text/plain": [
       "'s3://sagemaker-us-west-2-688520471316/sagemaker/Churn-ModelQualityMonitor-20201201/baselining/data/validation_with_predictions.csv'"
      ]
     },
     "execution_count": 14,
     "metadata": {},
     "output_type": "execute_result"
    }
   ],
   "source": [
    "baseline_dataset_uri = S3Uploader.upload(f\"test_data/{validate_dataset}\", baseline_data_uri)\n",
    "baseline_dataset_uri"
   ]
  },
  {
   "cell_type": "markdown",
   "id": "convenient-cheat",
   "metadata": {
    "papermill": {
     "duration": 0.072919,
     "end_time": "2021-05-25T01:34:17.428861",
     "exception": false,
     "start_time": "2021-05-25T01:34:17.355942",
     "status": "completed"
    },
    "tags": []
   },
   "source": [
    "#### 3.4 Create a baselining job with validation dataset predictions\n",
    "Define the model quality monitoring object and execute the model quality monitoring baseline job. Model monitor will automatically generate baseline statistics and constraints based on the validation dataset provided."
   ]
  },
  {
   "cell_type": "code",
   "execution_count": 15,
   "id": "joint-animal",
   "metadata": {
    "execution": {
     "iopub.execute_input": "2021-05-25T01:34:17.578720Z",
     "iopub.status.busy": "2021-05-25T01:34:17.578120Z",
     "iopub.status.idle": "2021-05-25T01:34:17.579963Z",
     "shell.execute_reply": "2021-05-25T01:34:17.580353Z"
    },
    "papermill": {
     "duration": 0.07873,
     "end_time": "2021-05-25T01:34:17.580491",
     "exception": false,
     "start_time": "2021-05-25T01:34:17.501761",
     "status": "completed"
    },
    "tags": []
   },
   "outputs": [],
   "source": [
    "from sagemaker.model_monitor import ModelQualityMonitor\n",
    "from sagemaker.model_monitor import EndpointInput\n",
    "from sagemaker.model_monitor.dataset_format import DatasetFormat"
   ]
  },
  {
   "cell_type": "code",
   "execution_count": 16,
   "id": "delayed-prophet",
   "metadata": {
    "execution": {
     "iopub.execute_input": "2021-05-25T01:34:17.729850Z",
     "iopub.status.busy": "2021-05-25T01:34:17.729404Z",
     "iopub.status.idle": "2021-05-25T01:34:17.738187Z",
     "shell.execute_reply": "2021-05-25T01:34:17.737744Z"
    },
    "papermill": {
     "duration": 0.084877,
     "end_time": "2021-05-25T01:34:17.738286",
     "exception": false,
     "start_time": "2021-05-25T01:34:17.653409",
     "status": "completed"
    },
    "tags": []
   },
   "outputs": [],
   "source": [
    "# Create the model quality monitoring object\n",
    "churn_model_quality_monitor = ModelQualityMonitor(\n",
    "    role=role,\n",
    "    instance_count=1,\n",
    "    instance_type=\"ml.m5.xlarge\",\n",
    "    volume_size_in_gb=20,\n",
    "    max_runtime_in_seconds=1800,\n",
    "    sagemaker_session=session,\n",
    ")"
   ]
  },
  {
   "cell_type": "code",
   "execution_count": 17,
   "id": "hindu-anderson",
   "metadata": {
    "execution": {
     "iopub.execute_input": "2021-05-25T01:34:17.886723Z",
     "iopub.status.busy": "2021-05-25T01:34:17.886228Z",
     "iopub.status.idle": "2021-05-25T01:34:17.888067Z",
     "shell.execute_reply": "2021-05-25T01:34:17.888409Z"
    },
    "papermill": {
     "duration": 0.077584,
     "end_time": "2021-05-25T01:34:17.888532",
     "exception": false,
     "start_time": "2021-05-25T01:34:17.810948",
     "status": "completed"
    },
    "tags": []
   },
   "outputs": [],
   "source": [
    "# Name of the model quality baseline job\n",
    "baseline_job_name = f\"DEMO-xgb-churn-model-baseline-job-{datetime.utcnow():%Y-%m-%d-%H%M}\""
   ]
  },
  {
   "cell_type": "code",
   "execution_count": 18,
   "id": "aggregate-latin",
   "metadata": {
    "execution": {
     "iopub.execute_input": "2021-05-25T01:34:18.040891Z",
     "iopub.status.busy": "2021-05-25T01:34:18.038360Z",
     "iopub.status.idle": "2021-05-25T01:39:54.621854Z",
     "shell.execute_reply": "2021-05-25T01:39:54.621486Z"
    },
    "papermill": {
     "duration": 336.660892,
     "end_time": "2021-05-25T01:39:54.621969",
     "exception": false,
     "start_time": "2021-05-25T01:34:17.961077",
     "status": "completed"
    },
    "tags": []
   },
   "outputs": [
    {
     "name": "stdout",
     "output_type": "stream",
     "text": [
      "\n",
      "Job Name:  DEMO-xgb-churn-model-baseline-job-2021-05-26-0024\n",
      "Inputs:  [{'InputName': 'baseline_dataset_input', 'AppManaged': False, 'S3Input': {'S3Uri': 's3://sagemaker-us-west-2-688520471316/sagemaker/Churn-ModelQualityMonitor-20201201/baselining/data/validation_with_predictions.csv', 'LocalPath': '/opt/ml/processing/input/baseline_dataset_input', 'S3DataType': 'S3Prefix', 'S3InputMode': 'File', 'S3DataDistributionType': 'FullyReplicated', 'S3CompressionType': 'None'}}]\n",
      "Outputs:  [{'OutputName': 'monitoring_output', 'AppManaged': False, 'S3Output': {'S3Uri': 's3://sagemaker-us-west-2-688520471316/sagemaker/Churn-ModelQualityMonitor-20201201/baselining/results', 'LocalPath': '/opt/ml/processing/output', 'S3UploadMode': 'EndOfJob'}}]\n",
      "..............................................................!"
     ]
    }
   ],
   "source": [
    "# Execute the baseline suggestion job.\n",
    "# You will specify problem type, in this case Binary Classification, and provide other required attributes.\n",
    "job = churn_model_quality_monitor.suggest_baseline(\n",
    "    job_name=baseline_job_name,\n",
    "    baseline_dataset=baseline_dataset_uri,\n",
    "    dataset_format=DatasetFormat.csv(header=True),\n",
    "    output_s3_uri=baseline_results_uri,\n",
    "    problem_type=\"BinaryClassification\",\n",
    "    inference_attribute=\"prediction\",\n",
    "    probability_attribute=\"probability\",\n",
    "    ground_truth_attribute=\"label\",\n",
    ")\n",
    "job.wait(logs=False)"
   ]
  },
  {
   "cell_type": "markdown",
   "id": "geographic-equivalent",
   "metadata": {
    "papermill": {
     "duration": 0.085801,
     "end_time": "2021-05-25T01:39:54.793533",
     "exception": false,
     "start_time": "2021-05-25T01:39:54.707732",
     "status": "completed"
    },
    "tags": []
   },
   "source": [
    "#### 3.5 Explore the results of the baselining job\n",
    "You could see the baseline constraints and statistics files are uploaded to the S3 location."
   ]
  },
  {
   "cell_type": "code",
   "execution_count": 19,
   "id": "automatic-casting",
   "metadata": {
    "execution": {
     "iopub.execute_input": "2021-05-25T01:39:54.968961Z",
     "iopub.status.busy": "2021-05-25T01:39:54.968504Z",
     "iopub.status.idle": "2021-05-25T01:39:54.970273Z",
     "shell.execute_reply": "2021-05-25T01:39:54.970648Z"
    },
    "papermill": {
     "duration": 0.091182,
     "end_time": "2021-05-25T01:39:54.970778",
     "exception": false,
     "start_time": "2021-05-25T01:39:54.879596",
     "status": "completed"
    },
    "tags": []
   },
   "outputs": [],
   "source": [
    "baseline_job = churn_model_quality_monitor.latest_baselining_job"
   ]
  },
  {
   "cell_type": "markdown",
   "id": "compressed-community",
   "metadata": {
    "papermill": {
     "duration": 0.086196,
     "end_time": "2021-05-25T01:39:55.142502",
     "exception": false,
     "start_time": "2021-05-25T01:39:55.056306",
     "status": "completed"
    },
    "tags": []
   },
   "source": [
    "##### 3.5.1 View the metrics generated\n",
    "You could see that the baseline statistics and constraints files are already uploaded to S3."
   ]
  },
  {
   "cell_type": "code",
   "execution_count": 20,
   "id": "extra-timer",
   "metadata": {
    "execution": {
     "iopub.execute_input": "2021-05-25T01:39:55.317618Z",
     "iopub.status.busy": "2021-05-25T01:39:55.317167Z",
     "iopub.status.idle": "2021-05-25T01:39:55.415324Z",
     "shell.execute_reply": "2021-05-25T01:39:55.415671Z"
    },
    "papermill": {
     "duration": 0.187583,
     "end_time": "2021-05-25T01:39:55.415825",
     "exception": false,
     "start_time": "2021-05-25T01:39:55.228242",
     "status": "completed"
    },
    "tags": []
   },
   "outputs": [
    {
     "data": {
      "text/html": [
       "<div>\n",
       "<style scoped>\n",
       "    .dataframe tbody tr th:only-of-type {\n",
       "        vertical-align: middle;\n",
       "    }\n",
       "\n",
       "    .dataframe tbody tr th {\n",
       "        vertical-align: top;\n",
       "    }\n",
       "\n",
       "    .dataframe thead th {\n",
       "        text-align: right;\n",
       "    }\n",
       "</style>\n",
       "<table border=\"1\" class=\"dataframe\">\n",
       "  <thead>\n",
       "    <tr style=\"text-align: right;\">\n",
       "      <th></th>\n",
       "      <th>0</th>\n",
       "    </tr>\n",
       "  </thead>\n",
       "  <tbody>\n",
       "    <tr>\n",
       "      <th>confusion_matrix.0.0</th>\n",
       "      <td>173</td>\n",
       "    </tr>\n",
       "    <tr>\n",
       "      <th>confusion_matrix.0.1</th>\n",
       "      <td>0</td>\n",
       "    </tr>\n",
       "    <tr>\n",
       "      <th>confusion_matrix.1.0</th>\n",
       "      <td>12</td>\n",
       "    </tr>\n",
       "    <tr>\n",
       "      <th>confusion_matrix.1.1</th>\n",
       "      <td>16</td>\n",
       "    </tr>\n",
       "    <tr>\n",
       "      <th>recall.value</th>\n",
       "      <td>0.571429</td>\n",
       "    </tr>\n",
       "    <tr>\n",
       "      <th>recall.standard_deviation</th>\n",
       "      <td>0.039088</td>\n",
       "    </tr>\n",
       "    <tr>\n",
       "      <th>precision.value</th>\n",
       "      <td>1.0</td>\n",
       "    </tr>\n",
       "    <tr>\n",
       "      <th>precision.standard_deviation</th>\n",
       "      <td>0.0</td>\n",
       "    </tr>\n",
       "    <tr>\n",
       "      <th>accuracy.value</th>\n",
       "      <td>0.940299</td>\n",
       "    </tr>\n",
       "    <tr>\n",
       "      <th>accuracy.standard_deviation</th>\n",
       "      <td>0.008559</td>\n",
       "    </tr>\n",
       "    <tr>\n",
       "      <th>recall_best_constant_classifier.value</th>\n",
       "      <td>0.0</td>\n",
       "    </tr>\n",
       "    <tr>\n",
       "      <th>recall_best_constant_classifier.standard_deviation</th>\n",
       "      <td>0.0</td>\n",
       "    </tr>\n",
       "    <tr>\n",
       "      <th>precision_best_constant_classifier.value</th>\n",
       "      <td>0.0</td>\n",
       "    </tr>\n",
       "    <tr>\n",
       "      <th>precision_best_constant_classifier.standard_deviation</th>\n",
       "      <td>0.0</td>\n",
       "    </tr>\n",
       "    <tr>\n",
       "      <th>accuracy_best_constant_classifier.value</th>\n",
       "      <td>0.860697</td>\n",
       "    </tr>\n",
       "    <tr>\n",
       "      <th>accuracy_best_constant_classifier.standard_deviation</th>\n",
       "      <td>0.019813</td>\n",
       "    </tr>\n",
       "    <tr>\n",
       "      <th>true_positive_rate.value</th>\n",
       "      <td>0.571429</td>\n",
       "    </tr>\n",
       "    <tr>\n",
       "      <th>true_positive_rate.standard_deviation</th>\n",
       "      <td>0.039088</td>\n",
       "    </tr>\n",
       "    <tr>\n",
       "      <th>true_negative_rate.value</th>\n",
       "      <td>1.0</td>\n",
       "    </tr>\n",
       "    <tr>\n",
       "      <th>true_negative_rate.standard_deviation</th>\n",
       "      <td>0.0</td>\n",
       "    </tr>\n",
       "    <tr>\n",
       "      <th>false_positive_rate.value</th>\n",
       "      <td>0.0</td>\n",
       "    </tr>\n",
       "    <tr>\n",
       "      <th>false_positive_rate.standard_deviation</th>\n",
       "      <td>0.0</td>\n",
       "    </tr>\n",
       "    <tr>\n",
       "      <th>false_negative_rate.value</th>\n",
       "      <td>0.428571</td>\n",
       "    </tr>\n",
       "    <tr>\n",
       "      <th>false_negative_rate.standard_deviation</th>\n",
       "      <td>0.039088</td>\n",
       "    </tr>\n",
       "    <tr>\n",
       "      <th>receiver_operating_characteristic_curve.false_positive_rates</th>\n",
       "      <td>[0.0, 0.0, 0.0, 0.0, 0.0, 0.0, 0.0, 0.0, 0.0, ...</td>\n",
       "    </tr>\n",
       "    <tr>\n",
       "      <th>receiver_operating_characteristic_curve.true_positive_rates</th>\n",
       "      <td>[0.0, 0.03571428571428571, 0.07142857142857142...</td>\n",
       "    </tr>\n",
       "    <tr>\n",
       "      <th>precision_recall_curve.precisions</th>\n",
       "      <td>[1.0, 1.0, 1.0, 1.0, 1.0, 1.0, 1.0, 1.0, 1.0, ...</td>\n",
       "    </tr>\n",
       "    <tr>\n",
       "      <th>precision_recall_curve.recalls</th>\n",
       "      <td>[0.0, 0.03571428571428571, 0.07142857142857142...</td>\n",
       "    </tr>\n",
       "    <tr>\n",
       "      <th>auc.value</th>\n",
       "      <td>0.939513</td>\n",
       "    </tr>\n",
       "    <tr>\n",
       "      <th>auc.standard_deviation</th>\n",
       "      <td>0.01012</td>\n",
       "    </tr>\n",
       "    <tr>\n",
       "      <th>f0_5.value</th>\n",
       "      <td>0.869565</td>\n",
       "    </tr>\n",
       "    <tr>\n",
       "      <th>f0_5.standard_deviation</th>\n",
       "      <td>0.017865</td>\n",
       "    </tr>\n",
       "    <tr>\n",
       "      <th>f1.value</th>\n",
       "      <td>0.727273</td>\n",
       "    </tr>\n",
       "    <tr>\n",
       "      <th>f1.standard_deviation</th>\n",
       "      <td>0.031415</td>\n",
       "    </tr>\n",
       "    <tr>\n",
       "      <th>f2.value</th>\n",
       "      <td>0.625</td>\n",
       "    </tr>\n",
       "    <tr>\n",
       "      <th>f2.standard_deviation</th>\n",
       "      <td>0.037302</td>\n",
       "    </tr>\n",
       "    <tr>\n",
       "      <th>f0_5_best_constant_classifier.value</th>\n",
       "      <td>0.0</td>\n",
       "    </tr>\n",
       "    <tr>\n",
       "      <th>f0_5_best_constant_classifier.standard_deviation</th>\n",
       "      <td>0.0</td>\n",
       "    </tr>\n",
       "    <tr>\n",
       "      <th>f1_best_constant_classifier.value</th>\n",
       "      <td>0.0</td>\n",
       "    </tr>\n",
       "    <tr>\n",
       "      <th>f1_best_constant_classifier.standard_deviation</th>\n",
       "      <td>0.0</td>\n",
       "    </tr>\n",
       "    <tr>\n",
       "      <th>f2_best_constant_classifier.value</th>\n",
       "      <td>0.0</td>\n",
       "    </tr>\n",
       "    <tr>\n",
       "      <th>f2_best_constant_classifier.standard_deviation</th>\n",
       "      <td>0.0</td>\n",
       "    </tr>\n",
       "  </tbody>\n",
       "</table>\n",
       "</div>"
      ],
      "text/plain": [
       "                                                                                                    0\n",
       "confusion_matrix.0.0                                                                              173\n",
       "confusion_matrix.0.1                                                                                0\n",
       "confusion_matrix.1.0                                                                               12\n",
       "confusion_matrix.1.1                                                                               16\n",
       "recall.value                                                                                 0.571429\n",
       "recall.standard_deviation                                                                    0.039088\n",
       "precision.value                                                                                   1.0\n",
       "precision.standard_deviation                                                                      0.0\n",
       "accuracy.value                                                                               0.940299\n",
       "accuracy.standard_deviation                                                                  0.008559\n",
       "recall_best_constant_classifier.value                                                             0.0\n",
       "recall_best_constant_classifier.standard_deviation                                                0.0\n",
       "precision_best_constant_classifier.value                                                          0.0\n",
       "precision_best_constant_classifier.standard_dev...                                                0.0\n",
       "accuracy_best_constant_classifier.value                                                      0.860697\n",
       "accuracy_best_constant_classifier.standard_devi...                                           0.019813\n",
       "true_positive_rate.value                                                                     0.571429\n",
       "true_positive_rate.standard_deviation                                                        0.039088\n",
       "true_negative_rate.value                                                                          1.0\n",
       "true_negative_rate.standard_deviation                                                             0.0\n",
       "false_positive_rate.value                                                                         0.0\n",
       "false_positive_rate.standard_deviation                                                            0.0\n",
       "false_negative_rate.value                                                                    0.428571\n",
       "false_negative_rate.standard_deviation                                                       0.039088\n",
       "receiver_operating_characteristic_curve.false_p...  [0.0, 0.0, 0.0, 0.0, 0.0, 0.0, 0.0, 0.0, 0.0, ...\n",
       "receiver_operating_characteristic_curve.true_po...  [0.0, 0.03571428571428571, 0.07142857142857142...\n",
       "precision_recall_curve.precisions                   [1.0, 1.0, 1.0, 1.0, 1.0, 1.0, 1.0, 1.0, 1.0, ...\n",
       "precision_recall_curve.recalls                      [0.0, 0.03571428571428571, 0.07142857142857142...\n",
       "auc.value                                                                                    0.939513\n",
       "auc.standard_deviation                                                                        0.01012\n",
       "f0_5.value                                                                                   0.869565\n",
       "f0_5.standard_deviation                                                                      0.017865\n",
       "f1.value                                                                                     0.727273\n",
       "f1.standard_deviation                                                                        0.031415\n",
       "f2.value                                                                                        0.625\n",
       "f2.standard_deviation                                                                        0.037302\n",
       "f0_5_best_constant_classifier.value                                                               0.0\n",
       "f0_5_best_constant_classifier.standard_deviation                                                  0.0\n",
       "f1_best_constant_classifier.value                                                                 0.0\n",
       "f1_best_constant_classifier.standard_deviation                                                    0.0\n",
       "f2_best_constant_classifier.value                                                                 0.0\n",
       "f2_best_constant_classifier.standard_deviation                                                    0.0"
      ]
     },
     "execution_count": 20,
     "metadata": {},
     "output_type": "execute_result"
    }
   ],
   "source": [
    "binary_metrics = baseline_job.baseline_statistics().body_dict[\"binary_classification_metrics\"]\n",
    "pd.json_normalize(binary_metrics).T"
   ]
  },
  {
   "cell_type": "markdown",
   "id": "protective-signature",
   "metadata": {
    "papermill": {
     "duration": 0.086707,
     "end_time": "2021-05-25T01:39:55.589314",
     "exception": false,
     "start_time": "2021-05-25T01:39:55.502607",
     "status": "completed"
    },
    "tags": []
   },
   "source": [
    "##### 3.5.2 View the constraints generated"
   ]
  },
  {
   "cell_type": "code",
   "execution_count": 21,
   "id": "facial-dancing",
   "metadata": {
    "execution": {
     "iopub.execute_input": "2021-05-25T01:39:55.771056Z",
     "iopub.status.busy": "2021-05-25T01:39:55.770571Z",
     "iopub.status.idle": "2021-05-25T01:39:55.851623Z",
     "shell.execute_reply": "2021-05-25T01:39:55.851152Z"
    },
    "papermill": {
     "duration": 0.175391,
     "end_time": "2021-05-25T01:39:55.851731",
     "exception": false,
     "start_time": "2021-05-25T01:39:55.676340",
     "status": "completed"
    },
    "tags": []
   },
   "outputs": [
    {
     "data": {
      "text/html": [
       "<div>\n",
       "<style scoped>\n",
       "    .dataframe tbody tr th:only-of-type {\n",
       "        vertical-align: middle;\n",
       "    }\n",
       "\n",
       "    .dataframe tbody tr th {\n",
       "        vertical-align: top;\n",
       "    }\n",
       "\n",
       "    .dataframe thead th {\n",
       "        text-align: right;\n",
       "    }\n",
       "</style>\n",
       "<table border=\"1\" class=\"dataframe\">\n",
       "  <thead>\n",
       "    <tr style=\"text-align: right;\">\n",
       "      <th></th>\n",
       "      <th>threshold</th>\n",
       "      <th>comparison_operator</th>\n",
       "    </tr>\n",
       "  </thead>\n",
       "  <tbody>\n",
       "    <tr>\n",
       "      <th>recall</th>\n",
       "      <td>0.571429</td>\n",
       "      <td>LessThanThreshold</td>\n",
       "    </tr>\n",
       "    <tr>\n",
       "      <th>precision</th>\n",
       "      <td>1.0</td>\n",
       "      <td>LessThanThreshold</td>\n",
       "    </tr>\n",
       "    <tr>\n",
       "      <th>accuracy</th>\n",
       "      <td>0.940299</td>\n",
       "      <td>LessThanThreshold</td>\n",
       "    </tr>\n",
       "    <tr>\n",
       "      <th>true_positive_rate</th>\n",
       "      <td>0.571429</td>\n",
       "      <td>LessThanThreshold</td>\n",
       "    </tr>\n",
       "    <tr>\n",
       "      <th>true_negative_rate</th>\n",
       "      <td>1.0</td>\n",
       "      <td>LessThanThreshold</td>\n",
       "    </tr>\n",
       "    <tr>\n",
       "      <th>false_positive_rate</th>\n",
       "      <td>0.0</td>\n",
       "      <td>GreaterThanThreshold</td>\n",
       "    </tr>\n",
       "    <tr>\n",
       "      <th>false_negative_rate</th>\n",
       "      <td>0.428571</td>\n",
       "      <td>GreaterThanThreshold</td>\n",
       "    </tr>\n",
       "    <tr>\n",
       "      <th>auc</th>\n",
       "      <td>0.939513</td>\n",
       "      <td>LessThanThreshold</td>\n",
       "    </tr>\n",
       "    <tr>\n",
       "      <th>f0_5</th>\n",
       "      <td>0.869565</td>\n",
       "      <td>LessThanThreshold</td>\n",
       "    </tr>\n",
       "    <tr>\n",
       "      <th>f1</th>\n",
       "      <td>0.727273</td>\n",
       "      <td>LessThanThreshold</td>\n",
       "    </tr>\n",
       "    <tr>\n",
       "      <th>f2</th>\n",
       "      <td>0.625</td>\n",
       "      <td>LessThanThreshold</td>\n",
       "    </tr>\n",
       "  </tbody>\n",
       "</table>\n",
       "</div>"
      ],
      "text/plain": [
       "                    threshold   comparison_operator\n",
       "recall               0.571429     LessThanThreshold\n",
       "precision                 1.0     LessThanThreshold\n",
       "accuracy             0.940299     LessThanThreshold\n",
       "true_positive_rate   0.571429     LessThanThreshold\n",
       "true_negative_rate        1.0     LessThanThreshold\n",
       "false_positive_rate       0.0  GreaterThanThreshold\n",
       "false_negative_rate  0.428571  GreaterThanThreshold\n",
       "auc                  0.939513     LessThanThreshold\n",
       "f0_5                 0.869565     LessThanThreshold\n",
       "f1                   0.727273     LessThanThreshold\n",
       "f2                      0.625     LessThanThreshold"
      ]
     },
     "execution_count": 21,
     "metadata": {},
     "output_type": "execute_result"
    }
   ],
   "source": [
    "pd.DataFrame(baseline_job.suggested_constraints().body_dict[\"binary_classification_constraints\"]).T"
   ]
  },
  {
   "cell_type": "markdown",
   "id": "active-yield",
   "metadata": {
    "papermill": {
     "duration": 0.086696,
     "end_time": "2021-05-25T01:39:56.025249",
     "exception": false,
     "start_time": "2021-05-25T01:39:55.938553",
     "status": "completed"
    },
    "tags": []
   },
   "source": [
    "In the above example you can see that model quality monitor suggested a constraint that will ensure that the model F2 score should note drop below 0.625. Few generated constraints _may_ be a tad aggressive like precision, where it will alert on any drops below 1.0. It is recommended to modify this file as necessary prior to using for monitoring."
   ]
  },
  {
   "cell_type": "markdown",
   "id": "conceptual-ribbon",
   "metadata": {
    "papermill": {
     "duration": 0.08688,
     "end_time": "2021-05-25T01:39:56.198758",
     "exception": false,
     "start_time": "2021-05-25T01:39:56.111878",
     "status": "completed"
    },
    "tags": []
   },
   "source": [
    "##  Section 4 - Setup continuous model monitoring to identify model quality drift <a id='analyze-model-quality-drift'></a>\n",
    "\n",
    "In this section, you will setup a continuous model monitoring job that monitors the quality of the deployed model against the baseline generated in the previous section.  This is to ensure that the quality does not degrade over time.\n",
    "\n",
    "In addition to the generated baseline, Amazon SageMaker Model Quality Monitoring needs two additional inputs - predictions made by the deployed model endpoint and the ground truth data to be provided by the model consuming application.  Since you already enabled data capture on the endpoint, prediction data is captured in S3.  The ground truth data depends on the what your model is predicting and what the business use case is.  In this case, since the model is predicting customer churn, ground truth data may indicate if the customer actually left the company or not.  For the purposes of this notebook, you will generate synthetic data as ground truth."
   ]
  },
  {
   "cell_type": "markdown",
   "id": "czech-action",
   "metadata": {
    "papermill": {
     "duration": 0.086955,
     "end_time": "2021-05-25T01:39:56.372274",
     "exception": false,
     "start_time": "2021-05-25T01:39:56.285319",
     "status": "completed"
    },
    "tags": []
   },
   "source": [
    "#### 4.1 Generate prediction data for Model Quality  Monitoring\n",
    "\n",
    "Start generating some artificial traffic.  The cell below starts a thread to send some traffic to the endpoint. Note that you need to stop the kernel to terminate this thread. If there is no traffic, the monitoring jobs are marked as `Failed` since there is no data to process."
   ]
  },
  {
   "cell_type": "code",
   "execution_count": 22,
   "id": "unavailable-sunday",
   "metadata": {
    "execution": {
     "iopub.execute_input": "2021-05-25T01:39:56.553529Z",
     "iopub.status.busy": "2021-05-25T01:39:56.553076Z",
     "iopub.status.idle": "2021-05-25T01:39:56.554931Z",
     "shell.execute_reply": "2021-05-25T01:39:56.555247Z"
    },
    "papermill": {
     "duration": 0.096291,
     "end_time": "2021-05-25T01:39:56.555387",
     "exception": false,
     "start_time": "2021-05-25T01:39:56.459096",
     "status": "completed"
    },
    "tags": []
   },
   "outputs": [],
   "source": [
    "def invoke_endpoint(ep_name, file_name):\n",
    "    with open(file_name, \"r\") as f:\n",
    "        i = 0\n",
    "        for row in f:\n",
    "            payload = row.rstrip(\"\\n\")\n",
    "            response = session.sagemaker_runtime_client.invoke_endpoint(\n",
    "                EndpointName=endpoint_name,\n",
    "                ContentType=\"text/csv\",\n",
    "                Body=payload,\n",
    "                InferenceId=str(i),  # unique ID per row\n",
    "            )[\"Body\"].read()\n",
    "            i += 1\n",
    "            sleep(1)\n",
    "\n",
    "\n",
    "def invoke_endpoint_forever():\n",
    "    while True:\n",
    "        invoke_endpoint(endpoint_name, \"test_data/test-dataset-input-cols.csv\")\n",
    "\n",
    "\n",
    "thread = Thread(target=invoke_endpoint_forever)\n",
    "thread.start()"
   ]
  },
  {
   "cell_type": "markdown",
   "id": "union-conviction",
   "metadata": {
    "papermill": {
     "duration": 0.086215,
     "end_time": "2021-05-25T01:39:56.729240",
     "exception": false,
     "start_time": "2021-05-25T01:39:56.643025",
     "status": "completed"
    },
    "tags": []
   },
   "source": [
    "Notice the new attribute `inferenceId`, which we're setting when invoking the endpoint. This is used to join the prediction data with the ground truth data."
   ]
  },
  {
   "cell_type": "markdown",
   "id": "prospective-crystal",
   "metadata": {
    "papermill": {
     "duration": 0.086074,
     "end_time": "2021-05-25T01:39:56.901137",
     "exception": false,
     "start_time": "2021-05-25T01:39:56.815063",
     "status": "completed"
    },
    "tags": []
   },
   "source": [
    "#### 4.2 View captured data\n",
    "\n",
    "Now list the data capture files stored in Amazon S3. You should expect to see different files from different time periods organized based on the hour in which the invocation occurred. The format of the Amazon S3 path is:\n",
    "\n",
    "`s3://{destination-bucket-prefix}/{endpoint-name}/{variant-name}/yyyy/mm/dd/hh/filename.jsonl`"
   ]
  },
  {
   "cell_type": "code",
   "execution_count": 23,
   "id": "bizarre-agriculture",
   "metadata": {
    "execution": {
     "iopub.execute_input": "2021-05-25T01:39:57.088885Z",
     "iopub.status.busy": "2021-05-25T01:39:57.088390Z",
     "iopub.status.idle": "2021-05-25T01:41:06.252591Z",
     "shell.execute_reply": "2021-05-25T01:41:06.252950Z"
    },
    "papermill": {
     "duration": 69.265644,
     "end_time": "2021-05-25T01:41:06.253085",
     "exception": false,
     "start_time": "2021-05-25T01:39:56.987441",
     "status": "completed"
    },
    "tags": []
   },
   "outputs": [
    {
     "name": "stdout",
     "output_type": "stream",
     "text": [
      "Waiting for captures to show up..............................................\n",
      "Found Capture Files:\n",
      "s3://sagemaker-us-west-2-688520471316/sagemaker/Churn-ModelQualityMonitor-20201201/datacapture/DEMO-xgb-churn-model-quality-monitor-2021-05-26-0014/AllTraffic/2021/05/26/00/22-17-054-70a93103-85b3-48e3-9520-a279e5a2078f.jsonl\n",
      " s3://sagemaker-us-west-2-688520471316/sagemaker/Churn-ModelQualityMonitor-20201201/datacapture/DEMO-xgb-churn-model-quality-monitor-2021-05-26-0014/AllTraffic/2021/05/26/00/23-17-121-37d6bf1a-981a-4d60-a9d5-ae59053d4b7a.jsonl\n",
      " s3://sagemaker-us-west-2-688520471316/sagemaker/Churn-ModelQualityMonitor-20201201/datacapture/DEMO-xgb-churn-model-quality-monitor-2021-05-26-0014/AllTraffic/2021/05/26/00/29-13-680-a48f92b6-49ef-4423-8400-21022f5f38fc.jsonl\n"
     ]
    }
   ],
   "source": [
    "print(\"Waiting for captures to show up\", end=\"\")\n",
    "for _ in range(120):\n",
    "    capture_files = sorted(S3Downloader.list(f\"{s3_capture_upload_path}/{endpoint_name}\"))\n",
    "    if capture_files:\n",
    "        capture_file = S3Downloader.read_file(capture_files[-1]).split(\"\\n\")\n",
    "        capture_record = json.loads(capture_file[0])\n",
    "        if \"inferenceId\" in capture_record[\"eventMetadata\"]:\n",
    "            break\n",
    "    print(\".\", end=\"\", flush=True)\n",
    "    sleep(1)\n",
    "print()\n",
    "print(\"Found Capture Files:\")\n",
    "print(\"\\n \".join(capture_files[-3:]))"
   ]
  },
  {
   "cell_type": "markdown",
   "id": "compound-sponsorship",
   "metadata": {
    "papermill": {
     "duration": 0.0953,
     "end_time": "2021-05-25T01:41:06.443785",
     "exception": false,
     "start_time": "2021-05-25T01:41:06.348485",
     "status": "completed"
    },
    "tags": []
   },
   "source": [
    "Next, view the contents of a single capture file. Here you should see all the data captured in an Amazon SageMaker specific JSON-line formatted file. Take a quick peek at the first few lines in the captured file."
   ]
  },
  {
   "cell_type": "code",
   "execution_count": 24,
   "id": "judicial-investor",
   "metadata": {
    "execution": {
     "iopub.execute_input": "2021-05-25T01:41:06.638313Z",
     "iopub.status.busy": "2021-05-25T01:41:06.637828Z",
     "iopub.status.idle": "2021-05-25T01:41:06.639966Z",
     "shell.execute_reply": "2021-05-25T01:41:06.640301Z"
    },
    "papermill": {
     "duration": 0.101433,
     "end_time": "2021-05-25T01:41:06.640423",
     "exception": false,
     "start_time": "2021-05-25T01:41:06.538990",
     "status": "completed"
    },
    "tags": []
   },
   "outputs": [
    {
     "name": "stdout",
     "output_type": "stream",
     "text": [
      "{\"captureData\":{\"endpointInput\":{\"observedContentType\":\"text/csv\",\"mode\":\"INPUT\",\"data\":\"61,0,260.0,123,210.5,127,234.7,70,9.0,3,1,0,0,0,0,0,0,0,0,0,0,0,0,0,0,0,0,0,0,0,0,1,0,0,0,0,0,0,0,0,0,0,0,0,0,0,0,0,0,0,0,0,0,0,0,0,0,0,0,0,0,0,0,1,0,1,0,1,0\",\"encoding\":\"CSV\"},\"endpointOutput\":{\"observedContentType\":\"text/csv; charset=utf-8\",\"mode\":\"OUTPUT\",\"data\":\"0.5217539072036743\",\"encoding\":\"CSV\"}},\"eventMetadata\":{\"eventId\":\"8bdec035-7c2d-47f5-bcf9-b7be2c9aac0c\",\"inferenceId\":\"57\",\"inferenceTime\":\"2021-05-26T00:30:11Z\"},\"eventVersion\":\"0\"}\n",
      "{\"captureData\":{\"endpointInput\":{\"observedContentType\":\"text/csv\",\"mode\":\"INPUT\",\"data\":\"41,0,159.3,66,125.9,75,261.9,76,11.1,5,1,1,0,0,0,0,0,0,0,0,0,0,0,0,0,0,0,0,0,0,0,0,0,0,0,0,0,0,0,0,0,0,0,0,0,0,0,0,0,0,0,0,0,0,0,0,0,0,0,0,0,0,0,1,0,1,0,1,0\",\"encoding\":\"CSV\"},\"endpointOutput\":{\"observedContentType\":\"text/csv; charset=utf-8\",\"mode\":\"OUTPUT\",\"data\":\"0.01216088142246008\",\"encoding\":\"CSV\"}},\"eventMetadata\":{\"eventId\":\"c0985a1d-af6e-4911-a229-77e40b10c4ec\",\"inferenceId\":\"58\",\"inferenceTime\":\"2021-05-26T00:30:12Z\"},\"eventVersion\":\"0\"}\n"
     ]
    }
   ],
   "source": [
    "print(\"\\n\".join(capture_file[-3:-1]))"
   ]
  },
  {
   "cell_type": "markdown",
   "id": "traditional-garbage",
   "metadata": {
    "papermill": {
     "duration": 0.095205,
     "end_time": "2021-05-25T01:41:06.831192",
     "exception": false,
     "start_time": "2021-05-25T01:41:06.735987",
     "status": "completed"
    },
    "tags": []
   },
   "source": [
    "Finally, the contents of a single line is present below in a formatted JSON file so that you can observe a little better.\n",
    "\n",
    "Again, notice the `inferenceId` attribute that is set as part of the invoke_endpoint call.  If this is present, it will be used to join with ground truth data (otherwise `eventId` will be used):"
   ]
  },
  {
   "cell_type": "code",
   "execution_count": 25,
   "id": "integral-halloween",
   "metadata": {
    "execution": {
     "iopub.execute_input": "2021-05-25T01:41:07.025675Z",
     "iopub.status.busy": "2021-05-25T01:41:07.025187Z",
     "iopub.status.idle": "2021-05-25T01:41:07.027431Z",
     "shell.execute_reply": "2021-05-25T01:41:07.027769Z"
    },
    "papermill": {
     "duration": 0.101387,
     "end_time": "2021-05-25T01:41:07.027886",
     "exception": false,
     "start_time": "2021-05-25T01:41:06.926499",
     "status": "completed"
    },
    "tags": []
   },
   "outputs": [
    {
     "name": "stdout",
     "output_type": "stream",
     "text": [
      "{\n",
      "  \"captureData\": {\n",
      "    \"endpointInput\": {\n",
      "      \"observedContentType\": \"text/csv\",\n",
      "      \"mode\": \"INPUT\",\n",
      "      \"data\": \"186,0.1,137.8,97,187.7,118,146.4,85,8.7,6,1,0.2,0.3,0.4,0.5,0.6,0.7,0.8,0.9,0.10,0.11,0.12,0.13,0.14,0.15,0.16,0.17,1.1,0.18,0.19,0.20,0.21,0.22,0.23,0.24,0.25,0.26,0.27,0.28,0.29,0.30,0.31,0.32,0.33,0.34,0.35,0.36,0.37,0.38,0.39,0.40,0.41,0.42,0.43,0.44,0.45,0.46,0.47,0.48,0.49,0.50,0.51,0.52,0.53,1.2,1.3,0.54,1.4,0.55\",\n",
      "      \"encoding\": \"CSV\"\n",
      "    },\n",
      "    \"endpointOutput\": {\n",
      "      \"observedContentType\": \"text/csv; charset=utf-8\",\n",
      "      \"mode\": \"OUTPUT\",\n",
      "      \"data\": \"0.01584203727543354\",\n",
      "      \"encoding\": \"CSV\"\n",
      "    }\n",
      "  },\n",
      "  \"eventMetadata\": {\n",
      "    \"eventId\": \"f7b00938-fc14-49bb-ae00-c6bf39dc7cbd\",\n",
      "    \"inferenceId\": \"0\",\n",
      "    \"inferenceTime\": \"2021-05-26T00:29:13Z\"\n",
      "  },\n",
      "  \"eventVersion\": \"0\"\n",
      "}\n"
     ]
    }
   ],
   "source": [
    "print(json.dumps(capture_record, indent=2))"
   ]
  },
  {
   "cell_type": "markdown",
   "id": "swedish-strap",
   "metadata": {
    "papermill": {
     "duration": 0.095945,
     "end_time": "2021-05-25T01:41:07.219999",
     "exception": false,
     "start_time": "2021-05-25T01:41:07.124054",
     "status": "completed"
    },
    "tags": []
   },
   "source": [
    "#### 4.3 Generate synthetic ground truth\n",
    "\n",
    "Next, start generating ground truth data. The model quality job will fail if there's no ground truth data to merge."
   ]
  },
  {
   "cell_type": "code",
   "execution_count": 26,
   "id": "sunrise-discharge",
   "metadata": {
    "execution": {
     "iopub.execute_input": "2021-05-25T01:41:07.419839Z",
     "iopub.status.busy": "2021-05-25T01:41:07.419256Z",
     "iopub.status.idle": "2021-05-25T01:41:07.420962Z",
     "shell.execute_reply": "2021-05-25T01:41:07.421302Z"
    },
    "papermill": {
     "duration": 0.105889,
     "end_time": "2021-05-25T01:41:07.421424",
     "exception": false,
     "start_time": "2021-05-25T01:41:07.315535",
     "status": "completed"
    },
    "tags": []
   },
   "outputs": [],
   "source": [
    "import random\n",
    "\n",
    "\n",
    "def ground_truth_with_id(inference_id):\n",
    "    random.seed(inference_id)  # to get consistent results\n",
    "    rand = random.random()\n",
    "    return {\n",
    "        \"groundTruthData\": {\n",
    "            \"data\": \"1\" if rand < 0.7 else \"0\",  # randomly generate positive labels 70% of the time\n",
    "            \"encoding\": \"CSV\",\n",
    "        },\n",
    "        \"eventMetadata\": {\n",
    "            \"eventId\": str(inference_id),\n",
    "        },\n",
    "        \"eventVersion\": \"0\",\n",
    "    }\n",
    "\n",
    "\n",
    "def upload_ground_truth(records, upload_time):\n",
    "    fake_records = [json.dumps(r) for r in records]\n",
    "    data_to_upload = \"\\n\".join(fake_records)\n",
    "    target_s3_uri = f\"{ground_truth_upload_path}/{upload_time:%Y/%m/%d/%H/%M%S}.jsonl\"\n",
    "    print(f\"Uploading {len(fake_records)} records to\", target_s3_uri)\n",
    "    S3Uploader.upload_string_as_file_body(data_to_upload, target_s3_uri)"
   ]
  },
  {
   "cell_type": "code",
   "execution_count": 27,
   "id": "graphic-colon",
   "metadata": {
    "execution": {
     "iopub.execute_input": "2021-05-25T01:41:07.630695Z",
     "iopub.status.busy": "2021-05-25T01:41:07.630200Z",
     "iopub.status.idle": "2021-05-25T01:41:07.637192Z",
     "shell.execute_reply": "2021-05-25T01:41:07.637739Z"
    },
    "papermill": {
     "duration": 0.118595,
     "end_time": "2021-05-25T01:41:07.637910",
     "exception": false,
     "start_time": "2021-05-25T01:41:07.519315",
     "status": "completed"
    },
    "tags": []
   },
   "outputs": [
    {
     "name": "stdout",
     "output_type": "stream",
     "text": [
      "Uploading 334 records to s3://sagemaker-us-west-2-688520471316/sagemaker/Churn-ModelQualityMonitor-20201201/ground_truth_data/2021-05-26-00-14-43/2021/05/26/00/3019.jsonl\n"
     ]
    }
   ],
   "source": [
    "NUM_GROUND_TRUTH_RECORDS = 334  # 334 are the number of rows in data we're sending for inference\n",
    "\n",
    "\n",
    "def generate_fake_ground_truth_forever():\n",
    "    j = 0\n",
    "    while True:\n",
    "        fake_records = [ground_truth_with_id(i) for i in range(NUM_GROUND_TRUTH_RECORDS)]\n",
    "        upload_ground_truth(fake_records, datetime.utcnow())\n",
    "        j = (j + 1) % 5\n",
    "        sleep(60 * 60)  # do this once an hour\n",
    "\n",
    "\n",
    "gt_thread = Thread(target=generate_fake_ground_truth_forever)\n",
    "gt_thread.start()"
   ]
  },
  {
   "cell_type": "markdown",
   "id": "protected-monthly",
   "metadata": {
    "papermill": {
     "duration": 0.095918,
     "end_time": "2021-05-25T01:41:07.843986",
     "exception": false,
     "start_time": "2021-05-25T01:41:07.748068",
     "status": "completed"
    },
    "tags": []
   },
   "source": [
    "#### 4.4 Create a monitoring schedule\n",
    "\n",
    "Now that you have the baseline information and ground truth labels, create a monitoring schedule to run model quality monitoring job."
   ]
  },
  {
   "cell_type": "code",
   "execution_count": 28,
   "id": "expanded-mention",
   "metadata": {
    "execution": {
     "iopub.execute_input": "2021-05-25T01:41:08.039200Z",
     "iopub.status.busy": "2021-05-25T01:41:08.038761Z",
     "iopub.status.idle": "2021-05-25T01:41:08.040938Z",
     "shell.execute_reply": "2021-05-25T01:41:08.040566Z"
    },
    "papermill": {
     "duration": 0.101065,
     "end_time": "2021-05-25T01:41:08.041039",
     "exception": false,
     "start_time": "2021-05-25T01:41:07.939974",
     "status": "completed"
    },
    "tags": []
   },
   "outputs": [],
   "source": [
    "##Monitoring schedule name\n",
    "churn_monitor_schedule_name = (\n",
    "    f\"DEMO-xgb-churn-monitoring-schedule-{datetime.utcnow():%Y-%m-%d-%H%M}\"\n",
    ")"
   ]
  },
  {
   "cell_type": "markdown",
   "id": "double-statistics",
   "metadata": {
    "papermill": {
     "duration": 0.096351,
     "end_time": "2021-05-25T01:41:08.233736",
     "exception": false,
     "start_time": "2021-05-25T01:41:08.137385",
     "status": "completed"
    },
    "tags": []
   },
   "source": [
    "For the monitoring schedule you need to specify how to interpret an endpoint's output. Given that the endpoint in this notebook outputs CSV data, the below code specifies that the first column of the output, `0`, contains a probability (of churn in this example). You will further specify `0.5` as the cutoff  used to determine a positive label (that is, predict that a customer will churn)."
   ]
  },
  {
   "cell_type": "code",
   "execution_count": 29,
   "id": "veterinary-sender",
   "metadata": {
    "execution": {
     "iopub.execute_input": "2021-05-25T01:41:08.429107Z",
     "iopub.status.busy": "2021-05-25T01:41:08.428634Z",
     "iopub.status.idle": "2021-05-25T01:41:08.430244Z",
     "shell.execute_reply": "2021-05-25T01:41:08.430579Z"
    },
    "papermill": {
     "duration": 0.100934,
     "end_time": "2021-05-25T01:41:08.430726",
     "exception": false,
     "start_time": "2021-05-25T01:41:08.329792",
     "status": "completed"
    },
    "tags": []
   },
   "outputs": [],
   "source": [
    "# Create an enpointInput\n",
    "endpointInput = EndpointInput(\n",
    "    endpoint_name=predictor.endpoint_name,\n",
    "    probability_attribute=\"0\",\n",
    "    probability_threshold_attribute=0.5,\n",
    "    destination=\"/opt/ml/processing/input_data\",\n",
    ")"
   ]
  },
  {
   "cell_type": "code",
   "execution_count": 30,
   "id": "lucky-corporation",
   "metadata": {
    "execution": {
     "iopub.execute_input": "2021-05-25T01:41:08.631041Z",
     "iopub.status.busy": "2021-05-25T01:41:08.630463Z",
     "iopub.status.idle": "2021-05-25T01:41:09.371539Z",
     "shell.execute_reply": "2021-05-25T01:41:09.371909Z"
    },
    "papermill": {
     "duration": 0.845773,
     "end_time": "2021-05-25T01:41:09.372048",
     "exception": false,
     "start_time": "2021-05-25T01:41:08.526275",
     "status": "completed"
    },
    "tags": []
   },
   "outputs": [],
   "source": [
    "# Create the monitoring schedule to execute every hour.\n",
    "from sagemaker.model_monitor import CronExpressionGenerator\n",
    "\n",
    "response = churn_model_quality_monitor.create_monitoring_schedule(\n",
    "    monitor_schedule_name=churn_monitor_schedule_name,\n",
    "    endpoint_input=endpointInput,\n",
    "    output_s3_uri=baseline_results_uri,\n",
    "    problem_type=\"BinaryClassification\",\n",
    "    ground_truth_input=ground_truth_upload_path,\n",
    "    constraints=baseline_job.suggested_constraints(),\n",
    "    schedule_cron_expression=CronExpressionGenerator.hourly(),\n",
    "    enable_cloudwatch_metrics=True,\n",
    ")"
   ]
  },
  {
   "cell_type": "code",
   "execution_count": 31,
   "id": "integrated-accreditation",
   "metadata": {
    "execution": {
     "iopub.execute_input": "2021-05-25T01:41:09.575332Z",
     "iopub.status.busy": "2021-05-25T01:41:09.574866Z",
     "iopub.status.idle": "2021-05-25T01:41:09.614372Z",
     "shell.execute_reply": "2021-05-25T01:41:09.614756Z"
    },
    "papermill": {
     "duration": 0.145926,
     "end_time": "2021-05-25T01:41:09.614896",
     "exception": false,
     "start_time": "2021-05-25T01:41:09.468970",
     "status": "completed"
    },
    "tags": []
   },
   "outputs": [
    {
     "data": {
      "text/plain": [
       "{'MonitoringScheduleArn': 'arn:aws:sagemaker:us-west-2:688520471316:monitoring-schedule/demo-xgb-churn-monitoring-schedule-2021-05-26-0030',\n",
       " 'MonitoringScheduleName': 'DEMO-xgb-churn-monitoring-schedule-2021-05-26-0030',\n",
       " 'MonitoringScheduleStatus': 'Pending',\n",
       " 'MonitoringType': 'ModelQuality',\n",
       " 'CreationTime': datetime.datetime(2021, 5, 26, 0, 30, 19, 424000, tzinfo=tzlocal()),\n",
       " 'LastModifiedTime': datetime.datetime(2021, 5, 26, 0, 30, 19, 459000, tzinfo=tzlocal()),\n",
       " 'MonitoringScheduleConfig': {'ScheduleConfig': {'ScheduleExpression': 'cron(0 * ? * * *)'},\n",
       "  'MonitoringJobDefinitionName': 'model-quality-job-definition-2021-05-26-00-30-19-149',\n",
       "  'MonitoringType': 'ModelQuality'},\n",
       " 'EndpointName': 'DEMO-xgb-churn-model-quality-monitor-2021-05-26-0014',\n",
       " 'ResponseMetadata': {'RequestId': 'acecd501-1583-4882-9054-78284f08ab08',\n",
       "  'HTTPStatusCode': 200,\n",
       "  'HTTPHeaders': {'x-amzn-requestid': 'acecd501-1583-4882-9054-78284f08ab08',\n",
       "   'content-type': 'application/x-amz-json-1.1',\n",
       "   'content-length': '630',\n",
       "   'date': 'Wed, 26 May 2021 00:30:18 GMT'},\n",
       "  'RetryAttempts': 0}}"
      ]
     },
     "execution_count": 31,
     "metadata": {},
     "output_type": "execute_result"
    }
   ],
   "source": [
    "# Create the monitoring schedule\n",
    "# You will see the monitoring schedule in the 'Scheduled' status\n",
    "churn_model_quality_monitor.describe_schedule()"
   ]
  },
  {
   "cell_type": "markdown",
   "id": "optimum-somerset",
   "metadata": {
    "papermill": {
     "duration": 0.096727,
     "end_time": "2021-05-25T01:41:09.808525",
     "exception": false,
     "start_time": "2021-05-25T01:41:09.711798",
     "status": "completed"
    },
    "tags": []
   },
   "source": [
    "#### 4.5 Examine monitoring schedule executions"
   ]
  },
  {
   "cell_type": "code",
   "execution_count": 32,
   "id": "promising-enzyme",
   "metadata": {
    "execution": {
     "iopub.execute_input": "2021-05-25T01:41:10.007686Z",
     "iopub.status.busy": "2021-05-25T01:41:10.007260Z",
     "iopub.status.idle": "2021-05-25T01:41:10.076727Z",
     "shell.execute_reply": "2021-05-25T01:41:10.077067Z"
    },
    "papermill": {
     "duration": 0.172016,
     "end_time": "2021-05-25T01:41:10.077202",
     "exception": false,
     "start_time": "2021-05-25T01:41:09.905186",
     "status": "completed"
    },
    "tags": []
   },
   "outputs": [
    {
     "name": "stdout",
     "output_type": "stream",
     "text": [
      "No executions found for schedule. monitoring_schedule_name: DEMO-xgb-churn-monitoring-schedule-2021-05-26-0030\n"
     ]
    },
    {
     "data": {
      "text/plain": [
       "[]"
      ]
     },
     "execution_count": 32,
     "metadata": {},
     "output_type": "execute_result"
    }
   ],
   "source": [
    "# Initially there will be no executions since the first execution happens at the top of the hour\n",
    "# Note that it is common for the execution to luanch upto 20 min after the hour.\n",
    "executions = churn_model_quality_monitor.list_executions()\n",
    "executions"
   ]
  },
  {
   "cell_type": "code",
   "execution_count": 33,
   "id": "fuzzy-advertiser",
   "metadata": {
    "execution": {
     "iopub.execute_input": "2021-05-25T01:41:10.279240Z",
     "iopub.status.busy": "2021-05-25T01:41:10.278737Z",
     "iopub.status.idle": "2021-05-25T02:06:20.512150Z",
     "shell.execute_reply": "2021-05-25T02:06:20.512502Z"
    },
    "papermill": {
     "duration": 1510.337753,
     "end_time": "2021-05-25T02:06:20.512635",
     "exception": false,
     "start_time": "2021-05-25T01:41:10.174882",
     "status": "completed"
    },
    "tags": []
   },
   "outputs": [
    {
     "name": "stdout",
     "output_type": "stream",
     "text": [
      "Waiting for first execution..............................................................................................................................................................................................................\n",
      "Execution found!\n"
     ]
    }
   ],
   "source": [
    "# Wait for the first execution of the monitoring_schedule\n",
    "print(\"Waiting for first execution\", end=\"\")\n",
    "while True:\n",
    "    execution = churn_model_quality_monitor.describe_schedule().get(\n",
    "        \"LastMonitoringExecutionSummary\"\n",
    "    )\n",
    "    if execution:\n",
    "        break\n",
    "    print(\".\", end=\"\", flush=True)\n",
    "    sleep(10)\n",
    "print()\n",
    "print(\"Execution found!\")"
   ]
  },
  {
   "cell_type": "code",
   "execution_count": 34,
   "id": "coupled-context",
   "metadata": {
    "execution": {
     "iopub.execute_input": "2021-05-25T02:06:20.770243Z",
     "iopub.status.busy": "2021-05-25T02:06:20.769730Z",
     "iopub.status.idle": "2021-05-25T02:06:30.868374Z",
     "shell.execute_reply": "2021-05-25T02:06:30.868753Z"
    },
    "papermill": {
     "duration": 10.229565,
     "end_time": "2021-05-25T02:06:30.868894",
     "exception": false,
     "start_time": "2021-05-25T02:06:20.639329",
     "status": "completed"
    },
    "tags": []
   },
   "outputs": [
    {
     "data": {
      "text/plain": [
       "{'ProcessingInputs': [{'InputName': 'groundtruth_input_1',\n",
       "   'AppManaged': False,\n",
       "   'S3Input': {'S3Uri': 's3://sagemaker-us-west-2-688520471316/sagemaker/Churn-ModelQualityMonitor-20201201/ground_truth_data/2021-05-26-00-14-43/2021/05/26/00',\n",
       "    'LocalPath': '/opt/ml/processing/groundtruth/2021/05/26/00',\n",
       "    'S3DataType': 'S3Prefix',\n",
       "    'S3InputMode': 'File',\n",
       "    'S3DataDistributionType': 'FullyReplicated',\n",
       "    'S3CompressionType': 'None'}},\n",
       "  {'InputName': 'endpoint_input_1',\n",
       "   'AppManaged': False,\n",
       "   'S3Input': {'S3Uri': 's3://sagemaker-us-west-2-688520471316/sagemaker/Churn-ModelQualityMonitor-20201201/datacapture/DEMO-xgb-churn-model-quality-monitor-2021-05-26-0014/AllTraffic/2021/05/26/00',\n",
       "    'LocalPath': '/opt/ml/processing/input_data/DEMO-xgb-churn-model-quality-monitor-2021-05-26-0014/AllTraffic/2021/05/26/00',\n",
       "    'S3DataType': 'S3Prefix',\n",
       "    'S3InputMode': 'File',\n",
       "    'S3DataDistributionType': 'FullyReplicated',\n",
       "    'S3CompressionType': 'None'}}],\n",
       " 'ProcessingOutputConfig': {'Outputs': [{'OutputName': 'result',\n",
       "    'S3Output': {'S3Uri': 's3://sagemaker-us-west-2-688520471316/sagemaker/Churn-ModelQualityMonitor-20201201/baselining/results/merge',\n",
       "     'LocalPath': '/opt/ml/processing/output',\n",
       "     'S3UploadMode': 'EndOfJob'},\n",
       "    'AppManaged': False}]},\n",
       " 'ProcessingJobName': 'groundtruth-merge-202105260100-daba5c00170dd5cdfc2fa368',\n",
       " 'ProcessingResources': {'ClusterConfig': {'InstanceCount': 1,\n",
       "   'InstanceType': 'ml.m5.xlarge',\n",
       "   'VolumeSizeInGB': 20}},\n",
       " 'StoppingCondition': {'MaxRuntimeInSeconds': 1800},\n",
       " 'AppSpecification': {'ImageUri': '159807026194.dkr.ecr.us-west-2.amazonaws.com/sagemaker-model-monitor-groundtruth-merger'},\n",
       " 'Environment': {'dataset_source': '/opt/ml/processing/input_data',\n",
       "  'ground_truth_source': '/opt/ml/processing/groundtruth',\n",
       "  'output_path': '/opt/ml/processing/output'},\n",
       " 'RoleArn': 'arn:aws:iam::688520471316:role/hongshan-sagemaker-experiment',\n",
       " 'ProcessingJobArn': 'arn:aws:sagemaker:us-west-2:688520471316:processing-job/groundtruth-merge-202105260100-daba5c00170dd5cdfc2fa368',\n",
       " 'ProcessingJobStatus': 'InProgress',\n",
       " 'LastModifiedTime': datetime.datetime(2021, 5, 26, 1, 4, 58, 442000, tzinfo=tzlocal()),\n",
       " 'CreationTime': datetime.datetime(2021, 5, 26, 1, 4, 58, 121000, tzinfo=tzlocal()),\n",
       " 'MonitoringScheduleArn': 'arn:aws:sagemaker:us-west-2:688520471316:monitoring-schedule/demo-xgb-churn-monitoring-schedule-2021-05-26-0030',\n",
       " 'ResponseMetadata': {'RequestId': '92083c4f-aab9-4a1f-b9ba-9560ca54a714',\n",
       "  'HTTPStatusCode': 200,\n",
       "  'HTTPHeaders': {'x-amzn-requestid': '92083c4f-aab9-4a1f-b9ba-9560ca54a714',\n",
       "   'content-type': 'application/x-amz-json-1.1',\n",
       "   'content-length': '2139',\n",
       "   'date': 'Wed, 26 May 2021 01:05:11 GMT'},\n",
       "  'RetryAttempts': 0}}"
      ]
     },
     "execution_count": 34,
     "metadata": {},
     "output_type": "execute_result"
    }
   ],
   "source": [
    "while not executions:\n",
    "    executions = churn_model_quality_monitor.list_executions()\n",
    "    sleep(10)\n",
    "latest_execution = executions[-1]\n",
    "latest_execution.describe()"
   ]
  },
  {
   "cell_type": "markdown",
   "id": "placed-integral",
   "metadata": {
    "papermill": {
     "duration": 0.124437,
     "end_time": "2021-05-25T02:06:31.117695",
     "exception": false,
     "start_time": "2021-05-25T02:06:30.993258",
     "status": "completed"
    },
    "tags": []
   },
   "source": [
    "##### Inspect a specific execution (latest execution)\n",
    "In the previous cell, you picked up the latest completed or failed scheduled execution. Here are the possible terminal states and what each of them mean: \n",
    "* Completed - This means the monitoring execution completed and no issues were found in the violations report.\n",
    "* CompletedWithViolations - This means the execution completed, but constraint violations were detected.\n",
    "* Failed - The monitoring execution failed, maybe due to client error (perhaps incorrect role permissions) or infrastructure issues. Further examination of FailureReason and ExitMessage is necessary to identify what exactly happened.\n",
    "* Stopped - job exceeded max runtime or was manually stopped."
   ]
  },
  {
   "cell_type": "code",
   "execution_count": 35,
   "id": "legal-photography",
   "metadata": {
    "execution": {
     "iopub.execute_input": "2021-05-25T02:06:31.373420Z",
     "iopub.status.busy": "2021-05-25T02:06:31.372954Z",
     "iopub.status.idle": "2021-05-18T01:14:21.744095Z",
     "shell.execute_reply": "2021-05-18T01:14:21.744454Z"
    },
    "papermill": {
     "duration": null,
     "end_time": null,
     "exception": false,
     "start_time": "2021-05-25T02:06:31.242102",
     "status": "running"
    },
    "tags": []
   },
   "outputs": [
    {
     "name": "stdout",
     "output_type": "stream",
     "text": [
      "Waiting for execution to finish...............................................................!\n",
      "groundtruth-merge-202105260100-daba5c00170dd5cdfc2fa368 job status: Completed\n",
      "groundtruth-merge-202105260100-daba5c00170dd5cdfc2fa368 job exit message, if any: None\n",
      "groundtruth-merge-202105260100-daba5c00170dd5cdfc2fa368 job failure reason, if any: None\n",
      "Waiting for execution to finish.........................................................................!\n",
      "model-quality-monitoring-202105260100-daba5c00170dd5cdfc2fa368 job status: Completed\n",
      "model-quality-monitoring-202105260100-daba5c00170dd5cdfc2fa368 job exit message, if any: CompletedWithViolations: Job completed successfully with 10 violations.\n",
      "model-quality-monitoring-202105260100-daba5c00170dd5cdfc2fa368 job failure reason, if any: None\n",
      "Execution status is: CompletedWithViolations\n",
      "{'MonitoringScheduleName': 'DEMO-xgb-churn-monitoring-schedule-2021-05-26-0030', 'ScheduledTime': datetime.datetime(2021, 5, 26, 1, 0, tzinfo=tzlocal()), 'CreationTime': datetime.datetime(2021, 5, 26, 1, 4, 56, 409000, tzinfo=tzlocal()), 'LastModifiedTime': datetime.datetime(2021, 5, 26, 1, 17, 7, 344000, tzinfo=tzlocal()), 'MonitoringExecutionStatus': 'CompletedWithViolations', 'ProcessingJobArn': 'arn:aws:sagemaker:us-west-2:688520471316:processing-job/model-quality-monitoring-202105260100-daba5c00170dd5cdfc2fa368', 'EndpointName': 'DEMO-xgb-churn-model-quality-monitor-2021-05-26-0014'}\n",
      "====STOP==== \n",
      " No completed executions to inspect further. Please wait till an execution completes or investigate previously reported failures.\n"
     ]
    }
   ],
   "source": [
    "status = execution[\"MonitoringExecutionStatus\"]\n",
    "\n",
    "while status in [\"Pending\", \"InProgress\"]:\n",
    "    print(\"Waiting for execution to finish\", end=\"\")\n",
    "    latest_execution.wait(logs=False)\n",
    "    latest_job = latest_execution.describe()\n",
    "    print()\n",
    "    print(f\"{latest_job['ProcessingJobName']} job status:\", latest_job[\"ProcessingJobStatus\"])\n",
    "    print(\n",
    "        f\"{latest_job['ProcessingJobName']} job exit message, if any:\",\n",
    "        latest_job.get(\"ExitMessage\"),\n",
    "    )\n",
    "    print(\n",
    "        f\"{latest_job['ProcessingJobName']} job failure reason, if any:\",\n",
    "        latest_job.get(\"FailureReason\"),\n",
    "    )\n",
    "    sleep(\n",
    "        30\n",
    "    )  # model quality executions consist of two Processing jobs, wait for second job to start\n",
    "    latest_execution = churn_model_quality_monitor.list_executions()[-1]\n",
    "    execution = churn_model_quality_monitor.describe_schedule()[\"LastMonitoringExecutionSummary\"]\n",
    "    status = execution[\"MonitoringExecutionStatus\"]\n",
    "\n",
    "print(\"Execution status is:\", status)\n",
    "\n",
    "if status != \"Completed\":\n",
    "    print(execution)\n",
    "    print(\n",
    "        \"====STOP==== \\n No completed executions to inspect further. Please wait till an execution completes or investigate previously reported failures.\"\n",
    "    )"
   ]
  },
  {
   "cell_type": "code",
   "execution_count": 36,
   "id": "accepted-consistency",
   "metadata": {
    "execution": {
     "iopub.execute_input": "2021-05-18T01:14:22.063559Z",
     "iopub.status.busy": "2021-05-18T01:14:22.063104Z",
     "iopub.status.idle": "2021-05-18T01:14:22.130069Z",
     "shell.execute_reply": "2021-05-18T01:14:22.130451Z"
    },
    "papermill": {
     "duration": null,
     "end_time": null,
     "exception": null,
     "start_time": null,
     "status": "pending"
    },
    "tags": []
   },
   "outputs": [
    {
     "name": "stdout",
     "output_type": "stream",
     "text": [
      "Report Uri: s3://sagemaker-us-west-2-688520471316/sagemaker/Churn-ModelQualityMonitor-20201201/baselining/results/DEMO-xgb-churn-model-quality-monitor-2021-05-26-0014/DEMO-xgb-churn-monitoring-schedule-2021-05-26-0030/2021/05/26/01\n"
     ]
    }
   ],
   "source": [
    "latest_execution = churn_model_quality_monitor.list_executions()[-1]\n",
    "report_uri = latest_execution.describe()[\"ProcessingOutputConfig\"][\"Outputs\"][0][\"S3Output\"][\n",
    "    \"S3Uri\"\n",
    "]\n",
    "print(\"Report Uri:\", report_uri)"
   ]
  },
  {
   "cell_type": "markdown",
   "id": "functioning-convergence",
   "metadata": {
    "papermill": {
     "duration": null,
     "end_time": null,
     "exception": null,
     "start_time": null,
     "status": "pending"
    },
    "tags": []
   },
   "source": [
    "#### 4.5 View violations generated by monitoring schedule"
   ]
  },
  {
   "cell_type": "markdown",
   "id": "cosmetic-current",
   "metadata": {
    "papermill": {
     "duration": null,
     "end_time": null,
     "exception": null,
     "start_time": null,
     "status": "pending"
    },
    "tags": []
   },
   "source": [
    "If there are any violations compared to the baseline, they will be listed in the reports uploaded to S3."
   ]
  },
  {
   "cell_type": "code",
   "execution_count": 37,
   "id": "earlier-collect",
   "metadata": {
    "execution": {
     "iopub.execute_input": "2021-05-18T01:14:23.084023Z",
     "iopub.status.busy": "2021-05-18T01:14:23.083534Z",
     "iopub.status.idle": "2021-05-18T01:14:23.173056Z",
     "shell.execute_reply": "2021-05-18T01:14:23.173421Z"
    },
    "papermill": {
     "duration": null,
     "end_time": null,
     "exception": null,
     "start_time": null,
     "status": "pending"
    },
    "tags": []
   },
   "outputs": [
    {
     "data": {
      "text/html": [
       "<div>\n",
       "<style scoped>\n",
       "    .dataframe tbody tr th:only-of-type {\n",
       "        vertical-align: middle;\n",
       "    }\n",
       "\n",
       "    .dataframe tbody tr th {\n",
       "        vertical-align: top;\n",
       "    }\n",
       "\n",
       "    .dataframe thead th {\n",
       "        text-align: right;\n",
       "    }\n",
       "</style>\n",
       "<table border=\"1\" class=\"dataframe\">\n",
       "  <thead>\n",
       "    <tr style=\"text-align: right;\">\n",
       "      <th></th>\n",
       "      <th>constraint_check_type</th>\n",
       "      <th>description</th>\n",
       "      <th>metric_name</th>\n",
       "    </tr>\n",
       "  </thead>\n",
       "  <tbody>\n",
       "    <tr>\n",
       "      <th>0</th>\n",
       "      <td>LessThanThreshold</td>\n",
       "      <td>Metric auc with 0.515363047795135 +/- 0.012887520442626008 was LessThanThreshold '0.9395127993393898'</td>\n",
       "      <td>auc</td>\n",
       "    </tr>\n",
       "    <tr>\n",
       "      <th>1</th>\n",
       "      <td>LessThanThreshold</td>\n",
       "      <td>Metric precision with 0.6990740740740741 +/- 0.011633050186414431 was LessThanThreshold '1.0'</td>\n",
       "      <td>precision</td>\n",
       "    </tr>\n",
       "    <tr>\n",
       "      <th>2</th>\n",
       "      <td>LessThanThreshold</td>\n",
       "      <td>Metric truePositiveRate with 0.11456752655538695 +/- 0.0031164575525145627 was LessThanThreshold '0.5714285714285714'</td>\n",
       "      <td>truePositiveRate</td>\n",
       "    </tr>\n",
       "    <tr>\n",
       "      <th>3</th>\n",
       "      <td>LessThanThreshold</td>\n",
       "      <td>Metric f1 with 0.196870925684485 +/- 0.004784340102189688 was LessThanThreshold '0.7272727272727273'</td>\n",
       "      <td>f1</td>\n",
       "    </tr>\n",
       "    <tr>\n",
       "      <th>4</th>\n",
       "      <td>LessThanThreshold</td>\n",
       "      <td>Metric accuracy with 0.3219592735277931 +/- 0.004478016362733995 was LessThanThreshold '0.9402985074626866'</td>\n",
       "      <td>accuracy</td>\n",
       "    </tr>\n",
       "    <tr>\n",
       "      <th>5</th>\n",
       "      <td>GreaterThanThreshold</td>\n",
       "      <td>Metric falsePositiveRate with 0.13026052104208416 +/- 0.007414796163354082 was GreaterThanThreshold '0.0'</td>\n",
       "      <td>falsePositiveRate</td>\n",
       "    </tr>\n",
       "    <tr>\n",
       "      <th>6</th>\n",
       "      <td>LessThanThreshold</td>\n",
       "      <td>Metric trueNegativeRate with 0.8697394789579158 +/- 0.007414796163354049 was LessThanThreshold '1.0'</td>\n",
       "      <td>trueNegativeRate</td>\n",
       "    </tr>\n",
       "    <tr>\n",
       "      <th>7</th>\n",
       "      <td>GreaterThanThreshold</td>\n",
       "      <td>Metric falseNegativeRate with 0.8854324734446131 +/- 0.0031164575525145714 was GreaterThanThreshold '0.4285714285714286'</td>\n",
       "      <td>falseNegativeRate</td>\n",
       "    </tr>\n",
       "    <tr>\n",
       "      <th>8</th>\n",
       "      <td>LessThanThreshold</td>\n",
       "      <td>Metric recall with 0.11456752655538695 +/- 0.0031164575525145627 was LessThanThreshold '0.5714285714285714'</td>\n",
       "      <td>recall</td>\n",
       "    </tr>\n",
       "    <tr>\n",
       "      <th>9</th>\n",
       "      <td>LessThanThreshold</td>\n",
       "      <td>Metric f2 with 0.1375728862973761 +/- 0.003627554789531606 was LessThanThreshold '0.625'</td>\n",
       "      <td>f2</td>\n",
       "    </tr>\n",
       "  </tbody>\n",
       "</table>\n",
       "</div>"
      ],
      "text/plain": [
       "  constraint_check_type  \\\n",
       "0     LessThanThreshold   \n",
       "1     LessThanThreshold   \n",
       "2     LessThanThreshold   \n",
       "3     LessThanThreshold   \n",
       "4     LessThanThreshold   \n",
       "5  GreaterThanThreshold   \n",
       "6     LessThanThreshold   \n",
       "7  GreaterThanThreshold   \n",
       "8     LessThanThreshold   \n",
       "9     LessThanThreshold   \n",
       "\n",
       "                                                                                                                description  \\\n",
       "0                     Metric auc with 0.515363047795135 +/- 0.012887520442626008 was LessThanThreshold '0.9395127993393898'   \n",
       "1                             Metric precision with 0.6990740740740741 +/- 0.011633050186414431 was LessThanThreshold '1.0'   \n",
       "2     Metric truePositiveRate with 0.11456752655538695 +/- 0.0031164575525145627 was LessThanThreshold '0.5714285714285714'   \n",
       "3                      Metric f1 with 0.196870925684485 +/- 0.004784340102189688 was LessThanThreshold '0.7272727272727273'   \n",
       "4               Metric accuracy with 0.3219592735277931 +/- 0.004478016362733995 was LessThanThreshold '0.9402985074626866'   \n",
       "5                 Metric falsePositiveRate with 0.13026052104208416 +/- 0.007414796163354082 was GreaterThanThreshold '0.0'   \n",
       "6                      Metric trueNegativeRate with 0.8697394789579158 +/- 0.007414796163354049 was LessThanThreshold '1.0'   \n",
       "7  Metric falseNegativeRate with 0.8854324734446131 +/- 0.0031164575525145714 was GreaterThanThreshold '0.4285714285714286'   \n",
       "8               Metric recall with 0.11456752655538695 +/- 0.0031164575525145627 was LessThanThreshold '0.5714285714285714'   \n",
       "9                                  Metric f2 with 0.1375728862973761 +/- 0.003627554789531606 was LessThanThreshold '0.625'   \n",
       "\n",
       "         metric_name  \n",
       "0                auc  \n",
       "1          precision  \n",
       "2   truePositiveRate  \n",
       "3                 f1  \n",
       "4           accuracy  \n",
       "5  falsePositiveRate  \n",
       "6   trueNegativeRate  \n",
       "7  falseNegativeRate  \n",
       "8             recall  \n",
       "9                 f2  "
      ]
     },
     "execution_count": 37,
     "metadata": {},
     "output_type": "execute_result"
    }
   ],
   "source": [
    "pd.options.display.max_colwidth = None\n",
    "violations = latest_execution.constraint_violations().body_dict[\"violations\"]\n",
    "violations_df = pd.json_normalize(violations)\n",
    "violations_df.head(10)"
   ]
  },
  {
   "cell_type": "markdown",
   "id": "legitimate-symphony",
   "metadata": {
    "papermill": {
     "duration": null,
     "end_time": null,
     "exception": null,
     "start_time": null,
     "status": "pending"
    },
    "tags": []
   },
   "source": [
    "Here you can see that one of the violations generated is that the f2 score is less than the threshold value set as part of baselining."
   ]
  },
  {
   "cell_type": "markdown",
   "id": "superb-senator",
   "metadata": {
    "papermill": {
     "duration": null,
     "end_time": null,
     "exception": null,
     "start_time": null,
     "status": "pending"
    },
    "tags": []
   },
   "source": [
    "## Section 5 - Analyze model quality CloudWatch metrics <a id='analyze-cloudwatch-metrics'></a> \n",
    "\n",
    "In addition to the violations, the monitoring schedule also emits CloudWatch metrics. In this section, you will view the metrics generated and setup an CloudWatch alarm to be triggered when the model quality drifts from the baseline thresholds. You could use CloudWatch alarms to trigger remedial actions such as retraining your model or updating the training dataset."
   ]
  },
  {
   "cell_type": "markdown",
   "id": "clear-spelling",
   "metadata": {
    "papermill": {
     "duration": null,
     "end_time": null,
     "exception": null,
     "start_time": null,
     "status": "pending"
    },
    "tags": []
   },
   "source": [
    "#### 5.1 List the CW metrics generated."
   ]
  },
  {
   "cell_type": "code",
   "execution_count": 38,
   "id": "veterinary-skirt",
   "metadata": {
    "execution": {
     "iopub.execute_input": "2021-05-18T01:14:24.444686Z",
     "iopub.status.busy": "2021-05-18T01:14:24.444206Z",
     "iopub.status.idle": "2021-05-18T01:14:24.465511Z",
     "shell.execute_reply": "2021-05-18T01:14:24.465043Z"
    },
    "papermill": {
     "duration": null,
     "end_time": null,
     "exception": null,
     "start_time": null,
     "status": "pending"
    },
    "tags": []
   },
   "outputs": [],
   "source": [
    "# Create CloudWatch client\n",
    "cw_client = boto3.Session().client(\"cloudwatch\")\n",
    "\n",
    "namespace = \"aws/sagemaker/Endpoints/model-metrics\"\n",
    "\n",
    "cw_dimensions = [\n",
    "    {\"Name\": \"Endpoint\", \"Value\": endpoint_name},\n",
    "    {\"Name\": \"MonitoringSchedule\", \"Value\": churn_monitor_schedule_name},\n",
    "]"
   ]
  },
  {
   "cell_type": "code",
   "execution_count": 39,
   "id": "hazardous-questionnaire",
   "metadata": {
    "execution": {
     "iopub.execute_input": "2021-05-18T01:14:24.786748Z",
     "iopub.status.busy": "2021-05-18T01:14:24.786002Z",
     "iopub.status.idle": "2021-05-18T01:14:24.830991Z",
     "shell.execute_reply": "2021-05-18T01:14:24.830535Z"
    },
    "papermill": {
     "duration": null,
     "end_time": null,
     "exception": null,
     "start_time": null,
     "status": "pending"
    },
    "tags": []
   },
   "outputs": [
    {
     "name": "stdout",
     "output_type": "stream",
     "text": [
      "f0_5_best_constant_classifier\n",
      "f2_best_constant_classifier\n",
      "f1_best_constant_classifier\n",
      "auc\n",
      "precision\n",
      "accuracy_best_constant_classifier\n",
      "true_positive_rate\n",
      "f1\n",
      "accuracy\n",
      "false_positive_rate\n",
      "f0_5\n",
      "true_negative_rate\n",
      "false_negative_rate\n",
      "recall_best_constant_classifier\n",
      "precision_best_constant_classifier\n",
      "recall\n",
      "f2\n"
     ]
    }
   ],
   "source": [
    "# List metrics through the pagination interface\n",
    "paginator = cw_client.get_paginator(\"list_metrics\")\n",
    "\n",
    "for response in paginator.paginate(Dimensions=cw_dimensions, Namespace=namespace):\n",
    "    model_quality_metrics = response[\"Metrics\"]\n",
    "    for metric in model_quality_metrics:\n",
    "        print(metric[\"MetricName\"])"
   ]
  },
  {
   "cell_type": "markdown",
   "id": "experimental-element",
   "metadata": {
    "papermill": {
     "duration": null,
     "end_time": null,
     "exception": null,
     "start_time": null,
     "status": "pending"
    },
    "tags": []
   },
   "source": [
    "#### 5.2 Create a CloudWatch Alarm\n",
    "\n",
    "Based on the cloud watch metrics, you can create a cloud watch alarm when a specific metric does not meet the threshold configured. Here you will create an alarm if the f2 value of the model fall below the threshold suggested by the baseline constraints."
   ]
  },
  {
   "cell_type": "code",
   "execution_count": 40,
   "id": "working-orange",
   "metadata": {
    "execution": {
     "iopub.execute_input": "2021-05-18T01:14:25.479577Z",
     "iopub.status.busy": "2021-05-18T01:14:25.479097Z",
     "iopub.status.idle": "2021-05-18T01:14:25.581238Z",
     "shell.execute_reply": "2021-05-18T01:14:25.580789Z"
    },
    "papermill": {
     "duration": null,
     "end_time": null,
     "exception": null,
     "start_time": null,
     "status": "pending"
    },
    "tags": []
   },
   "outputs": [
    {
     "data": {
      "text/plain": [
       "{'ResponseMetadata': {'RequestId': '4e9537e8-f8f8-4a73-8997-19168b155552',\n",
       "  'HTTPStatusCode': 200,\n",
       "  'HTTPHeaders': {'x-amzn-requestid': '4e9537e8-f8f8-4a73-8997-19168b155552',\n",
       "   'content-type': 'text/xml',\n",
       "   'content-length': '214',\n",
       "   'date': 'Wed, 26 May 2021 01:17:37 GMT'},\n",
       "  'RetryAttempts': 0}}"
      ]
     },
     "execution_count": 40,
     "metadata": {},
     "output_type": "execute_result"
    }
   ],
   "source": [
    "alarm_name = \"MODEL_QUALITY_F2_SCORE\"\n",
    "alarm_desc = (\n",
    "    \"Trigger an CloudWatch alarm when the f2 score drifts away from the baseline constraints\"\n",
    ")\n",
    "mdoel_quality_f2_drift_threshold = (\n",
    "    0.625  ##Setting this threshold purposefully low to see the alarm quickly.\n",
    ")\n",
    "metric_name = \"f2\"\n",
    "namespace = \"aws/sagemaker/Endpoints/model-metrics\"\n",
    "\n",
    "cw_client.put_metric_alarm(\n",
    "    AlarmName=alarm_name,\n",
    "    AlarmDescription=alarm_desc,\n",
    "    ActionsEnabled=True,\n",
    "    MetricName=metric_name,\n",
    "    Namespace=namespace,\n",
    "    Statistic=\"Average\",\n",
    "    Dimensions=[\n",
    "        {\"Name\": \"Endpoint\", \"Value\": endpoint_name},\n",
    "        {\"Name\": \"MonitoringSchedule\", \"Value\": churn_monitor_schedule_name},\n",
    "    ],\n",
    "    Period=600,\n",
    "    EvaluationPeriods=1,\n",
    "    DatapointsToAlarm=1,\n",
    "    Threshold=mdoel_quality_f2_drift_threshold,\n",
    "    ComparisonOperator=\"LessThanOrEqualToThreshold\",\n",
    "    TreatMissingData=\"breaching\",\n",
    ")"
   ]
  },
  {
   "cell_type": "markdown",
   "id": "correct-active",
   "metadata": {
    "papermill": {
     "duration": null,
     "end_time": null,
     "exception": null,
     "start_time": null,
     "status": "pending"
    },
    "tags": []
   },
   "source": [
    "#### 5.3 Validation\n",
    "In a few minutes, you should see a CloudWatch alarm created. The alarm will first be in \"Insufficient Data\" state and moves into \"Alert\" state. This can be verified in the CloudWatch console"
   ]
  },
  {
   "cell_type": "markdown",
   "id": "artistic-class",
   "metadata": {
    "papermill": {
     "duration": null,
     "end_time": null,
     "exception": null,
     "start_time": null,
     "status": "pending"
    },
    "tags": []
   },
   "source": [
    "<IMG src=images/CW_ALARM_Model_Quality_1.png/>"
   ]
  },
  {
   "cell_type": "markdown",
   "id": "bound-player",
   "metadata": {
    "papermill": {
     "duration": null,
     "end_time": null,
     "exception": null,
     "start_time": null,
     "status": "pending"
    },
    "tags": []
   },
   "source": [
    "<IMG src=images/CW_ALARM_Model_Quality_2.png/>"
   ]
  },
  {
   "cell_type": "markdown",
   "id": "protected-lesson",
   "metadata": {
    "papermill": {
     "duration": null,
     "end_time": null,
     "exception": null,
     "start_time": null,
     "status": "pending"
    },
    "tags": []
   },
   "source": [
    "Once the CW Alarm is generated, you can decide on what actions you want to take on these alerts.  A possible action could be updating the training data an retraining the model \n"
   ]
  },
  {
   "cell_type": "markdown",
   "id": "seasonal-place",
   "metadata": {
    "papermill": {
     "duration": null,
     "end_time": null,
     "exception": null,
     "start_time": null,
     "status": "pending"
    },
    "tags": []
   },
   "source": [
    "## Clean up <a id='cleanup'></a>  "
   ]
  },
  {
   "cell_type": "markdown",
   "id": "piano-calendar",
   "metadata": {
    "papermill": {
     "duration": null,
     "end_time": null,
     "exception": null,
     "start_time": null,
     "status": "pending"
    },
    "tags": []
   },
   "source": [
    "You can keep your endpoint running to continue capturing data. If you do not plan to collect more data or use this endpoint further, you should delete the endpoint to avoid incurring additional charges. Note that deleting your endpoint does not delete the data that was captured during the model invocations. That data persists in Amazon S3 until you delete it yourself.\n",
    "\n",
    "But before that, you need to delete the schedule first."
   ]
  },
  {
   "cell_type": "code",
   "execution_count": 41,
   "id": "dirty-corruption",
   "metadata": {
    "execution": {
     "iopub.execute_input": "2021-05-18T01:14:27.810178Z",
     "iopub.status.busy": "2021-05-18T01:14:27.809662Z",
     "iopub.status.idle": "2021-05-18T01:14:38.375144Z",
     "shell.execute_reply": "2021-05-18T01:14:38.374624Z"
    },
    "papermill": {
     "duration": null,
     "end_time": null,
     "exception": null,
     "start_time": null,
     "status": "pending"
    },
    "tags": []
   },
   "outputs": [
    {
     "name": "stdout",
     "output_type": "stream",
     "text": [
      "\n",
      "Deleting Monitoring Schedule with name: DEMO-xgb-churn-monitoring-schedule-2021-05-26-0030\n"
     ]
    }
   ],
   "source": [
    "churn_model_quality_monitor.delete_monitoring_schedule()"
   ]
  },
  {
   "cell_type": "markdown",
   "id": "alternate-yukon",
   "metadata": {},
   "source": [
    "If you delete the endpoint now, the thread you started to ping the endpoint will complain. So we wrap the endpoint deletion into a try / except block."
   ]
  },
  {
   "cell_type": "code",
   "execution_count": 42,
   "id": "extended-architect",
   "metadata": {
    "execution": {
     "iopub.execute_input": "2021-05-18T01:14:38.697032Z",
     "iopub.status.busy": "2021-05-18T01:14:38.696562Z",
     "iopub.status.idle": "2021-05-18T01:14:39.174802Z",
     "shell.execute_reply": "2021-05-18T01:14:39.174034Z"
    },
    "papermill": {
     "duration": null,
     "end_time": null,
     "exception": null,
     "start_time": null,
     "status": "pending"
    },
    "tags": []
   },
   "outputs": [
    {
     "name": "stderr",
     "output_type": "stream",
     "text": [
      "Exception in thread Thread-4:\n",
      "Traceback (most recent call last):\n",
      "  File \"/home/ubuntu/anaconda3/lib/python3.7/threading.py\", line 926, in _bootstrap_inner\n",
      "    self.run()\n",
      "  File \"/home/ubuntu/anaconda3/lib/python3.7/threading.py\", line 870, in run\n",
      "    self._target(*self._args, **self._kwargs)\n",
      "  File \"<ipython-input-22-66f5d32c9212>\", line 18, in invoke_endpoint_forever\n",
      "    invoke_endpoint(endpoint_name, \"test_data/test-dataset-input-cols.csv\")\n",
      "  File \"<ipython-input-22-66f5d32c9212>\", line 10, in invoke_endpoint\n",
      "    InferenceId=str(i),  # unique ID per row\n",
      "  File \"/home/ubuntu/anaconda3/lib/python3.7/site-packages/botocore/client.py\", line 357, in _api_call\n",
      "    return self._make_api_call(operation_name, kwargs)\n",
      "  File \"/home/ubuntu/anaconda3/lib/python3.7/site-packages/botocore/client.py\", line 676, in _make_api_call\n",
      "    raise error_class(parsed_response, operation_name)\n",
      "botocore.errorfactory.ValidationError: An error occurred (ValidationError) when calling the InvokeEndpoint operation: Endpoint DEMO-xgb-churn-model-quality-monitor-2021-05-26-0014 of account 688520471316 not found.\n",
      "\n"
     ]
    },
    {
     "name": "stdout",
     "output_type": "stream",
     "text": [
      "Uploading 334 records to s3://sagemaker-us-west-2-688520471316/sagemaker/Churn-ModelQualityMonitor-20201201/ground_truth_data/2021-05-26-00-14-43/2021/05/26/01/3019.jsonl\n"
     ]
    }
   ],
   "source": [
    "try:\n",
    "    predictor.delete_endpoint()\n",
    "except Exception as e:\n",
    "    print(e)"
   ]
  },
  {
   "cell_type": "code",
   "execution_count": null,
   "id": "seventh-collect",
   "metadata": {
    "papermill": {
     "duration": null,
     "end_time": null,
     "exception": null,
     "start_time": null,
     "status": "pending"
    },
    "tags": []
   },
   "outputs": [],
   "source": []
  }
 ],
 "metadata": {
  "instance_type": "ml.t3.medium",
  "kernelspec": {
   "display_name": "Environment (conda_anaconda3)",
   "language": "python",
   "name": "conda_anaconda3"
  },
  "language_info": {
   "codemirror_mode": {
    "name": "ipython",
    "version": 3
   },
   "file_extension": ".py",
   "mimetype": "text/x-python",
   "name": "python",
   "nbconvert_exporter": "python",
   "pygments_lexer": "ipython3",
   "version": "3.7.6"
  },
  "papermill": {
   "default_parameters": {},
   "duration": null,
   "end_time": null,
   "environment_variables": {},
   "exception": null,
   "input_path": "model_quality_churn_sdk.ipynb",
   "output_path": "/opt/ml/processing/output/model_quality_churn_sdk-2021-05-25-01-20-58.ipynb",
   "parameters": {
    "kms_key": "arn:aws:kms:us-west-2:521695447989:key/6e9984db-50cf-4c7e-926c-877ec47a8b25"
   },
   "start_time": "2021-05-25T01:24:57.333870",
   "version": "2.3.3"
  }
 },
 "nbformat": 4,
 "nbformat_minor": 5
}
