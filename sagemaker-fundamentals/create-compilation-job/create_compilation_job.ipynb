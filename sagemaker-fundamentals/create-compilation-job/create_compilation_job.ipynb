{
 "cells": [
  {
   "cell_type": "code",
   "execution_count": 1,
   "id": "complicated-vitamin",
   "metadata": {},
   "outputs": [],
   "source": [
    "import torch\n",
    "import torchvision.models as models\n",
    "import tarfile\n",
    "\n",
    "resnet18 = models.resnet18(pretrained=True)\n",
    "input_shape = [1, 3, 224, 224]\n",
    "trace = torch.jit.trace(resnet18.float().eval(), torch.zeros(input_shape).float())\n",
    "trace.save(\"model.pth\")\n",
    "\n",
    "with tarfile.open(\"model.tar.gz\", \"w:gz\") as f:\n",
    "    f.add(\"model.pth\")\n",
    "    f.add(\"resnet18.py\")"
   ]
  },
  {
   "cell_type": "code",
   "execution_count": 2,
   "id": "korean-antenna",
   "metadata": {},
   "outputs": [
    {
     "data": {
      "text/plain": [
       "ResNet(\n",
       "  original_name=ResNet\n",
       "  (conv1): Conv2d(original_name=Conv2d)\n",
       "  (bn1): BatchNorm2d(original_name=BatchNorm2d)\n",
       "  (relu): ReLU(original_name=ReLU)\n",
       "  (maxpool): MaxPool2d(original_name=MaxPool2d)\n",
       "  (layer1): Sequential(\n",
       "    original_name=Sequential\n",
       "    (0): BasicBlock(\n",
       "      original_name=BasicBlock\n",
       "      (conv1): Conv2d(original_name=Conv2d)\n",
       "      (bn1): BatchNorm2d(original_name=BatchNorm2d)\n",
       "      (relu): ReLU(original_name=ReLU)\n",
       "      (conv2): Conv2d(original_name=Conv2d)\n",
       "      (bn2): BatchNorm2d(original_name=BatchNorm2d)\n",
       "    )\n",
       "    (1): BasicBlock(\n",
       "      original_name=BasicBlock\n",
       "      (conv1): Conv2d(original_name=Conv2d)\n",
       "      (bn1): BatchNorm2d(original_name=BatchNorm2d)\n",
       "      (relu): ReLU(original_name=ReLU)\n",
       "      (conv2): Conv2d(original_name=Conv2d)\n",
       "      (bn2): BatchNorm2d(original_name=BatchNorm2d)\n",
       "    )\n",
       "  )\n",
       "  (layer2): Sequential(\n",
       "    original_name=Sequential\n",
       "    (0): BasicBlock(\n",
       "      original_name=BasicBlock\n",
       "      (conv1): Conv2d(original_name=Conv2d)\n",
       "      (bn1): BatchNorm2d(original_name=BatchNorm2d)\n",
       "      (relu): ReLU(original_name=ReLU)\n",
       "      (conv2): Conv2d(original_name=Conv2d)\n",
       "      (bn2): BatchNorm2d(original_name=BatchNorm2d)\n",
       "      (downsample): Sequential(\n",
       "        original_name=Sequential\n",
       "        (0): Conv2d(original_name=Conv2d)\n",
       "        (1): BatchNorm2d(original_name=BatchNorm2d)\n",
       "      )\n",
       "    )\n",
       "    (1): BasicBlock(\n",
       "      original_name=BasicBlock\n",
       "      (conv1): Conv2d(original_name=Conv2d)\n",
       "      (bn1): BatchNorm2d(original_name=BatchNorm2d)\n",
       "      (relu): ReLU(original_name=ReLU)\n",
       "      (conv2): Conv2d(original_name=Conv2d)\n",
       "      (bn2): BatchNorm2d(original_name=BatchNorm2d)\n",
       "    )\n",
       "  )\n",
       "  (layer3): Sequential(\n",
       "    original_name=Sequential\n",
       "    (0): BasicBlock(\n",
       "      original_name=BasicBlock\n",
       "      (conv1): Conv2d(original_name=Conv2d)\n",
       "      (bn1): BatchNorm2d(original_name=BatchNorm2d)\n",
       "      (relu): ReLU(original_name=ReLU)\n",
       "      (conv2): Conv2d(original_name=Conv2d)\n",
       "      (bn2): BatchNorm2d(original_name=BatchNorm2d)\n",
       "      (downsample): Sequential(\n",
       "        original_name=Sequential\n",
       "        (0): Conv2d(original_name=Conv2d)\n",
       "        (1): BatchNorm2d(original_name=BatchNorm2d)\n",
       "      )\n",
       "    )\n",
       "    (1): BasicBlock(\n",
       "      original_name=BasicBlock\n",
       "      (conv1): Conv2d(original_name=Conv2d)\n",
       "      (bn1): BatchNorm2d(original_name=BatchNorm2d)\n",
       "      (relu): ReLU(original_name=ReLU)\n",
       "      (conv2): Conv2d(original_name=Conv2d)\n",
       "      (bn2): BatchNorm2d(original_name=BatchNorm2d)\n",
       "    )\n",
       "  )\n",
       "  (layer4): Sequential(\n",
       "    original_name=Sequential\n",
       "    (0): BasicBlock(\n",
       "      original_name=BasicBlock\n",
       "      (conv1): Conv2d(original_name=Conv2d)\n",
       "      (bn1): BatchNorm2d(original_name=BatchNorm2d)\n",
       "      (relu): ReLU(original_name=ReLU)\n",
       "      (conv2): Conv2d(original_name=Conv2d)\n",
       "      (bn2): BatchNorm2d(original_name=BatchNorm2d)\n",
       "      (downsample): Sequential(\n",
       "        original_name=Sequential\n",
       "        (0): Conv2d(original_name=Conv2d)\n",
       "        (1): BatchNorm2d(original_name=BatchNorm2d)\n",
       "      )\n",
       "    )\n",
       "    (1): BasicBlock(\n",
       "      original_name=BasicBlock\n",
       "      (conv1): Conv2d(original_name=Conv2d)\n",
       "      (bn1): BatchNorm2d(original_name=BatchNorm2d)\n",
       "      (relu): ReLU(original_name=ReLU)\n",
       "      (conv2): Conv2d(original_name=Conv2d)\n",
       "      (bn2): BatchNorm2d(original_name=BatchNorm2d)\n",
       "    )\n",
       "  )\n",
       "  (avgpool): AdaptiveAvgPool2d(original_name=AdaptiveAvgPool2d)\n",
       "  (fc): Linear(original_name=Linear)\n",
       ")"
      ]
     },
     "execution_count": 2,
     "metadata": {},
     "output_type": "execute_result"
    }
   ],
   "source": [
    "trace"
   ]
  },
  {
   "cell_type": "code",
   "execution_count": 3,
   "id": "impaired-details",
   "metadata": {},
   "outputs": [
    {
     "name": "stdout",
     "output_type": "stream",
     "text": [
      "Uploaded model to s3:\n",
      "s3://sagemaker-us-west-2-688520471316/TorchVision-ResNet18-Neo-Inf1-2021-05-28-22-33-18-829/model/model.tar.gz\n",
      "Output path for compiled model:\n",
      "s3://sagemaker-us-west-2-688520471316/TorchVision-ResNet18-Neo-Inf1-2021-05-28-22-33-18-829/output\n"
     ]
    }
   ],
   "source": [
    "import boto3\n",
    "import sagemaker\n",
    "import time\n",
    "from sagemaker.utils import name_from_base\n",
    "\n",
    "role = sagemaker.get_execution_role()\n",
    "sess = sagemaker.Session()\n",
    "region = sess.boto_region_name\n",
    "bucket = sess.default_bucket()\n",
    "\n",
    "compilation_job_name = name_from_base(\"TorchVision-ResNet18-Neo-Inf1\")\n",
    "\n",
    "model_key = \"{}/model/model.tar.gz\".format(compilation_job_name)\n",
    "model_path = \"s3://{}/{}\".format(bucket, model_key)\n",
    "boto3.resource(\"s3\").Bucket(bucket).upload_file(\"model.tar.gz\", model_key)\n",
    "print(\"Uploaded model to s3:\")\n",
    "print(model_path)\n",
    "\n",
    "sm_client = boto3.client(\"sagemaker\")\n",
    "compiled_model_path = \"s3://{}/{}/output\".format(bucket, compilation_job_name)\n",
    "print(\"Output path for compiled model:\")\n",
    "print(compiled_model_path)"
   ]
  },
  {
   "cell_type": "code",
   "execution_count": 4,
   "id": "corporate-reflection",
   "metadata": {},
   "outputs": [],
   "source": [
    "# Define a PyTorch Model\n",
    "\n",
    "from sagemaker.pytorch.model import PyTorchModel\n",
    "\n",
    "pytorch_model = PyTorchModel(\n",
    "    model_data=model_path,\n",
    "    role=role,\n",
    "    entry_point=\"resnet18.py\",\n",
    "    framework_version=\"1.5.1\",\n",
    "    py_version=\"py3\",\n",
    ")"
   ]
  },
  {
   "cell_type": "code",
   "execution_count": 6,
   "id": "precious-favorite",
   "metadata": {},
   "outputs": [
    {
     "name": "stdout",
     "output_type": "stream",
     "text": [
      "TorchVision-ResNet18-Neo-Inf1-2021-05-28-22-33-18-829\n"
     ]
    }
   ],
   "source": [
    "print(compilation_job_name)"
   ]
  },
  {
   "cell_type": "code",
   "execution_count": 13,
   "id": "furnished-height",
   "metadata": {},
   "outputs": [
    {
     "data": {
      "text/plain": [
       "{'CompilationJobArn': 'arn:aws:sagemaker:us-west-2:688520471316:compilation-job/TorchVision-ResNet18-Neo-Inf1-2021-05-28-22-33-18-829',\n",
       " 'ResponseMetadata': {'RequestId': '5223e070-a348-4ef1-9475-0548dca67584',\n",
       "  'HTTPStatusCode': 200,\n",
       "  'HTTPHeaders': {'x-amzn-requestid': '5223e070-a348-4ef1-9475-0548dca67584',\n",
       "   'content-type': 'application/x-amz-json-1.1',\n",
       "   'content-length': '134',\n",
       "   'date': 'Fri, 28 May 2021 22:54:12 GMT'},\n",
       "  'RetryAttempts': 0}}"
      ]
     },
     "execution_count": 13,
     "metadata": {},
     "output_type": "execute_result"
    }
   ],
   "source": [
    "# Create Compilation Job\n",
    "import json\n",
    "\n",
    "sm_cli = boto3.client('sagemaker')\n",
    "\n",
    "input_config = {\n",
    "    \"S3Uri\": model_path,\n",
    "    \"DataInputConfig\": json.dumps({\"input0\": [1, 3, 224, 224]}),\n",
    "    \"Framework\" : \"PYTORCH\",\n",
    "    #\"FrameworkVersion\": \"1.5.1\",\n",
    "}\n",
    "\n",
    "output_config = {\n",
    "    \"S3OutputLocation\" : compiled_model_path,\n",
    "    \"TargetDevice\": \"ml_inf1\",\n",
    "    'CompilerOptions': json.dumps({\"num-neuroncores\":2})\n",
    "}\n",
    "\n",
    "\n",
    "sm_cli.create_compilation_job(\n",
    "    CompilationJobName = compilation_job_name,\n",
    "    RoleArn = role,\n",
    "    InputConfig=input_config,\n",
    "    OutputConfig=output_config,\n",
    "    StoppingCondition={\n",
    "        'MaxRuntimeInSeconds': 1200,\n",
    "        'MaxWaitTimeInSeconds': 1200\n",
    "    },\n",
    ")"
   ]
  },
  {
   "cell_type": "code",
   "execution_count": 17,
   "id": "neural-rehabilitation",
   "metadata": {},
   "outputs": [
    {
     "data": {
      "text/plain": [
       "{'CompilationJobName': 'TorchVision-ResNet18-Neo-Inf1-2021-05-28-22-33-18-829',\n",
       " 'CompilationJobArn': 'arn:aws:sagemaker:us-west-2:688520471316:compilation-job/TorchVision-ResNet18-Neo-Inf1-2021-05-28-22-33-18-829',\n",
       " 'CompilationJobStatus': 'FAILED',\n",
       " 'CompilationStartTime': datetime.datetime(2021, 5, 28, 22, 54, 13, tzinfo=tzlocal()),\n",
       " 'CompilationEndTime': datetime.datetime(2021, 5, 28, 23, 10, 6, tzinfo=tzlocal()),\n",
       " 'StoppingCondition': {'MaxRuntimeInSeconds': 1200},\n",
       " 'CreationTime': datetime.datetime(2021, 5, 28, 22, 54, 12, tzinfo=tzlocal()),\n",
       " 'LastModifiedTime': datetime.datetime(2021, 5, 28, 23, 10, 6, tzinfo=tzlocal()),\n",
       " 'FailureReason': \"ClientError: CompilationError: Unable to compile model for ml_inf1:', 'No operations were successfully partitioned and compiled to neuron for this model - aborting trace!')\",\n",
       " 'RoleArn': 'arn:aws:iam::688520471316:role/hongshan-sagemaker-experiment',\n",
       " 'InputConfig': {'S3Uri': 's3://sagemaker-us-west-2-688520471316/TorchVision-ResNet18-Neo-Inf1-2021-05-28-22-33-18-829/model/model.tar.gz',\n",
       "  'DataInputConfig': '{\"input0\": [1, 3, 224, 224]}',\n",
       "  'Framework': 'PYTORCH'},\n",
       " 'OutputConfig': {'S3OutputLocation': 's3://sagemaker-us-west-2-688520471316/TorchVision-ResNet18-Neo-Inf1-2021-05-28-22-33-18-829/output',\n",
       "  'TargetDevice': 'ml_inf1',\n",
       "  'CompilerOptions': '{\"num-neuroncores\": 2}'},\n",
       " 'ResponseMetadata': {'RequestId': '3cbdbaab-fd53-4a3e-aad0-a852c111d67a',\n",
       "  'HTTPStatusCode': 200,\n",
       "  'HTTPHeaders': {'x-amzn-requestid': '3cbdbaab-fd53-4a3e-aad0-a852c111d67a',\n",
       "   'content-type': 'application/x-amz-json-1.1',\n",
       "   'content-length': '1107',\n",
       "   'date': 'Fri, 28 May 2021 23:25:36 GMT'},\n",
       "  'RetryAttempts': 0}}"
      ]
     },
     "execution_count": 17,
     "metadata": {},
     "output_type": "execute_result"
    }
   ],
   "source": [
    "sm_cli.describe_compilation_job(\n",
    "    CompilationJobName=compilation_job_name)"
   ]
  },
  {
   "cell_type": "code",
   "execution_count": null,
   "id": "appointed-dressing",
   "metadata": {},
   "outputs": [],
   "source": [
    "\n",
    "response = client.create_compilation_job(\n",
    "    CompilationJobName='string',\n",
    "    RoleArn='string',\n",
    "    InputConfig={\n",
    "        'S3Uri': 'string',\n",
    "        'DataInputConfig': 'string',\n",
    "        'Framework': 'TENSORFLOW'|'KERAS'|'MXNET'|'ONNX'|'PYTORCH'|'XGBOOST'|'TFLITE'|'DARKNET'|'SKLEARN',\n",
    "        'FrameworkVersion': 'string'\n",
    "    },\n",
    "    OutputConfig={\n",
    "        'S3OutputLocation': 'string',\n",
    "        'TargetDevice': 'lambda'|'ml_m4'|'ml_m5'|'ml_c4'|'ml_c5'|'ml_p2'|'ml_p3'|'ml_g4dn'|'ml_inf1'|'ml_eia2'|'jetson_tx1'|'jetson_tx2'|'jetson_nano'|'jetson_xavier'|'rasp3b'|'imx8qm'|'deeplens'|'rk3399'|'rk3288'|'aisage'|'sbe_c'|'qcs605'|'qcs603'|'sitara_am57x'|'amba_cv22'|'x86_win32'|'x86_win64'|'coreml'|'jacinto_tda4vm',\n",
    "        'TargetPlatform': {\n",
    "            'Os': 'ANDROID'|'LINUX',\n",
    "            'Arch': 'X86_64'|'X86'|'ARM64'|'ARM_EABI'|'ARM_EABIHF',\n",
    "            'Accelerator': 'INTEL_GRAPHICS'|'MALI'|'NVIDIA'\n",
    "        },\n",
    "        'CompilerOptions': 'string',\n",
    "        'KmsKeyId': 'string'\n",
    "    },\n",
    "    StoppingCondition={\n",
    "        'MaxRuntimeInSeconds': 123,\n",
    "        'MaxWaitTimeInSeconds': 123\n",
    "    },\n",
    "    Tags=[\n",
    "        {\n",
    "            'Key': 'string',\n",
    "            'Value': 'string'\n",
    "        },\n",
    "    ]\n",
    ")\n",
    "   "
   ]
  }
 ],
 "metadata": {
  "kernelspec": {
   "display_name": "Environment (conda_pytorch_p36)",
   "language": "python",
   "name": "conda_pytorch_p36"
  },
  "language_info": {
   "codemirror_mode": {
    "name": "ipython",
    "version": 3
   },
   "file_extension": ".py",
   "mimetype": "text/x-python",
   "name": "python",
   "nbconvert_exporter": "python",
   "pygments_lexer": "ipython3",
   "version": "3.6.10"
  }
 },
 "nbformat": 4,
 "nbformat_minor": 5
}
