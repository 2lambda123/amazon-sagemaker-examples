{
 "cells": [
  {
   "cell_type": "markdown",
   "id": "inside-eagle",
   "metadata": {
    "papermill": {
     "duration": 0.015888,
     "end_time": "2021-05-26T15:42:25.170694",
     "exception": false,
     "start_time": "2021-05-26T15:42:25.154806",
     "status": "completed"
    },
    "tags": []
   },
   "source": [
    "# Deploying pre-trained PyTorch vision models with Amazon SageMaker Neo On Inf1 Instance"
   ]
  },
  {
   "cell_type": "markdown",
   "id": "operating-analyst",
   "metadata": {
    "papermill": {
     "duration": 0.015883,
     "end_time": "2021-05-26T15:42:25.202542",
     "exception": false,
     "start_time": "2021-05-26T15:42:25.186659",
     "status": "completed"
    },
    "tags": []
   },
   "source": [
    "Neo is a capability of Amazon SageMaker that enables machine learning models to train once and run anywhere in the cloud and at the edge. Inf1 instances are built from the ground up to support machine learning inference applications and feature up to 16 AWS Inferentia chips, high-performance machine learning inference chips designed and built by AWS. This notebook will show you how to deploy a pretrained PyTorch model to an Inf1 instance."
   ]
  },
  {
   "cell_type": "markdown",
   "id": "acute-milan",
   "metadata": {
    "papermill": {
     "duration": 0.015716,
     "end_time": "2021-05-26T15:42:25.234135",
     "exception": false,
     "start_time": "2021-05-26T15:42:25.218419",
     "status": "completed"
    },
    "tags": []
   },
   "source": [
    "Please use sagemaker version at least 2.11.0 in order to support compile PyTorch model on Inf1 instances."
   ]
  },
  {
   "cell_type": "code",
   "execution_count": 18,
   "id": "statistical-alabama",
   "metadata": {
    "execution": {
     "iopub.execute_input": "2021-05-26T15:42:26.945609Z",
     "iopub.status.busy": "2021-05-26T15:42:26.945096Z",
     "iopub.status.idle": "2021-05-26T15:42:27.493628Z",
     "shell.execute_reply": "2021-05-26T15:42:27.493179Z"
    },
    "papermill": {
     "duration": 0.567834,
     "end_time": "2021-05-26T15:42:27.493742",
     "exception": false,
     "start_time": "2021-05-26T15:42:26.925908",
     "status": "completed"
    },
    "tags": []
   },
   "outputs": [
    {
     "name": "stdout",
     "output_type": "stream",
     "text": [
      "2.23.1\n"
     ]
    }
   ],
   "source": [
    "import sagemaker\n",
    "\n",
    "print(sagemaker.__version__)"
   ]
  },
  {
   "cell_type": "markdown",
   "id": "smoking-perspective",
   "metadata": {
    "papermill": {
     "duration": 0.016219,
     "end_time": "2021-05-26T15:42:27.526742",
     "exception": false,
     "start_time": "2021-05-26T15:42:27.510523",
     "status": "completed"
    },
    "tags": []
   },
   "source": [
    "## Import ResNet18 from TorchVision"
   ]
  },
  {
   "cell_type": "markdown",
   "id": "signal-atlanta",
   "metadata": {
    "papermill": {
     "duration": 0.016166,
     "end_time": "2021-05-26T15:42:27.559246",
     "exception": false,
     "start_time": "2021-05-26T15:42:27.543080",
     "status": "completed"
    },
    "tags": []
   },
   "source": [
    "We'll import [ResNet18](https://arxiv.org/abs/1512.03385) model from TorchVision and create a model artifact `model.tar.gz`"
   ]
  },
  {
   "cell_type": "code",
   "execution_count": 4,
   "id": "laden-variance",
   "metadata": {
    "execution": {
     "iopub.execute_input": "2021-05-26T15:42:27.596944Z",
     "iopub.status.busy": "2021-05-26T15:42:27.596183Z",
     "iopub.status.idle": "2021-05-26T15:42:31.651064Z",
     "shell.execute_reply": "2021-05-26T15:42:31.651462Z"
    },
    "papermill": {
     "duration": 4.076133,
     "end_time": "2021-05-26T15:42:31.651598",
     "exception": false,
     "start_time": "2021-05-26T15:42:27.575465",
     "status": "completed"
    },
    "tags": []
   },
   "outputs": [
    {
     "name": "stderr",
     "output_type": "stream",
     "text": [
      "Downloading: \"https://download.pytorch.org/models/resnet18-5c106cde.pth\" to /home/ubuntu/.cache/torch/hub/checkpoints/resnet18-5c106cde.pth\n"
     ]
    },
    {
     "data": {
      "application/vnd.jupyter.widget-view+json": {
       "model_id": "a07a5f06c6c34375978aa6520fbfce7a",
       "version_major": 2,
       "version_minor": 0
      },
      "text/plain": [
       "HBox(children=(FloatProgress(value=0.0, max=46827520.0), HTML(value='')))"
      ]
     },
     "metadata": {},
     "output_type": "display_data"
    },
    {
     "name": "stdout",
     "output_type": "stream",
     "text": [
      "\n"
     ]
    }
   ],
   "source": [
    "import torch\n",
    "import torchvision.models as models\n",
    "import tarfile\n",
    "\n",
    "resnet18 = models.resnet18(pretrained=True)\n",
    "input_shape = [1, 3, 224, 224]\n",
    "trace = torch.jit.trace(resnet18.float().eval(), torch.zeros(input_shape).float())\n",
    "trace.save(\"model.pth\")\n",
    "\n",
    "with tarfile.open(\"model.tar.gz\", \"w:gz\") as f:\n",
    "    f.add(\"model.pth\")\n",
    "    f.add(\"resnet18.py\")"
   ]
  },
  {
   "cell_type": "markdown",
   "id": "victorian-tobago",
   "metadata": {
    "papermill": {
     "duration": 0.017442,
     "end_time": "2021-05-26T15:42:31.687003",
     "exception": false,
     "start_time": "2021-05-26T15:42:31.669561",
     "status": "completed"
    },
    "tags": []
   },
   "source": [
    "--------"
   ]
  },
  {
   "cell_type": "markdown",
   "id": "centered-thesis",
   "metadata": {
    "papermill": {
     "duration": 0.017476,
     "end_time": "2021-05-26T15:42:31.721958",
     "exception": false,
     "start_time": "2021-05-26T15:42:31.704482",
     "status": "completed"
    },
    "tags": []
   },
   "source": [
    "# Compile Model with Default Settings"
   ]
  },
  {
   "cell_type": "markdown",
   "id": "guided-perry",
   "metadata": {
    "papermill": {
     "duration": 0.017229,
     "end_time": "2021-05-26T15:42:31.756536",
     "exception": false,
     "start_time": "2021-05-26T15:42:31.739307",
     "status": "completed"
    },
    "tags": []
   },
   "source": [
    "We will forward the model artifact to Neo Compilation API. In this section, we will compile model with one core which is the default setting for compilation.\n",
    "\n",
    "We will go through how to compile model for multiple cores using compiler options in the next section."
   ]
  },
  {
   "cell_type": "code",
   "execution_count": 5,
   "id": "polyphonic-garlic",
   "metadata": {
    "execution": {
     "iopub.execute_input": "2021-05-26T15:42:31.805220Z",
     "iopub.status.busy": "2021-05-26T15:42:31.804732Z",
     "iopub.status.idle": "2021-05-26T15:42:33.296994Z",
     "shell.execute_reply": "2021-05-26T15:42:33.297363Z"
    },
    "papermill": {
     "duration": 1.523514,
     "end_time": "2021-05-26T15:42:33.297518",
     "exception": false,
     "start_time": "2021-05-26T15:42:31.774004",
     "status": "completed"
    },
    "tags": []
   },
   "outputs": [
    {
     "name": "stdout",
     "output_type": "stream",
     "text": [
      "Uploaded model to s3:\n",
      "s3://sagemaker-us-west-2-688520471316/TorchVision-ResNet18-Neo-Inf1-2021-05-28-21-03-56-772/model/model.tar.gz\n",
      "Output path for compiled model:\n",
      "s3://sagemaker-us-west-2-688520471316/TorchVision-ResNet18-Neo-Inf1-2021-05-28-21-03-56-772/output\n"
     ]
    }
   ],
   "source": [
    "import boto3\n",
    "import sagemaker\n",
    "import time\n",
    "from sagemaker.utils import name_from_base\n",
    "\n",
    "role = sagemaker.get_execution_role()\n",
    "sess = sagemaker.Session()\n",
    "region = sess.boto_region_name\n",
    "bucket = sess.default_bucket()\n",
    "\n",
    "compilation_job_name = name_from_base(\"TorchVision-ResNet18-Neo-Inf1\")\n",
    "\n",
    "model_key = \"{}/model/model.tar.gz\".format(compilation_job_name)\n",
    "model_path = \"s3://{}/{}\".format(bucket, model_key)\n",
    "boto3.resource(\"s3\").Bucket(bucket).upload_file(\"model.tar.gz\", model_key)\n",
    "print(\"Uploaded model to s3:\")\n",
    "print(model_path)\n",
    "\n",
    "sm_client = boto3.client(\"sagemaker\")\n",
    "compiled_model_path = \"s3://{}/{}/output\".format(bucket, compilation_job_name)\n",
    "print(\"Output path for compiled model:\")\n",
    "print(compiled_model_path)"
   ]
  },
  {
   "cell_type": "markdown",
   "id": "respiratory-reservation",
   "metadata": {
    "papermill": {
     "duration": 0.017613,
     "end_time": "2021-05-26T15:42:33.332678",
     "exception": false,
     "start_time": "2021-05-26T15:42:33.315065",
     "status": "completed"
    },
    "tags": []
   },
   "source": [
    "We then create a PyTorchModel object, with default settings."
   ]
  },
  {
   "cell_type": "code",
   "execution_count": 6,
   "id": "broad-recovery",
   "metadata": {
    "execution": {
     "iopub.execute_input": "2021-05-26T15:42:33.372027Z",
     "iopub.status.busy": "2021-05-26T15:42:33.371570Z",
     "iopub.status.idle": "2021-05-26T15:42:33.375226Z",
     "shell.execute_reply": "2021-05-26T15:42:33.374851Z"
    },
    "papermill": {
     "duration": 0.024938,
     "end_time": "2021-05-26T15:42:33.375327",
     "exception": false,
     "start_time": "2021-05-26T15:42:33.350389",
     "status": "completed"
    },
    "tags": []
   },
   "outputs": [],
   "source": [
    "from sagemaker.pytorch.model import PyTorchModel\n",
    "\n",
    "pytorch_model = PyTorchModel(\n",
    "    model_data=model_path,\n",
    "    role=role,\n",
    "    entry_point=\"resnet18.py\",\n",
    "    framework_version=\"1.5.1\",\n",
    "    py_version=\"py3\",\n",
    ")"
   ]
  },
  {
   "cell_type": "markdown",
   "id": "suburban-heart",
   "metadata": {
    "papermill": {
     "duration": 0.017591,
     "end_time": "2021-05-26T15:42:33.410956",
     "exception": false,
     "start_time": "2021-05-26T15:42:33.393365",
     "status": "completed"
    },
    "tags": []
   },
   "source": [
    "## Deploy model on Inf1 instance for real-time inferences\n",
    "\n",
    "After creating the PyTorch model, we compile the model using Amazon SageMaker Neo to optize performance for our desired deployment target. To compile our model for deploying on Inf1 instances, we are using the  ``compile()`` method and select ``'ml_inf1'`` as our deployment target. The compiled model will then be deployed on an endpoint using Inf1 instances in Amazon SageMaker. \n",
    "\n",
    "## Compile the model \n",
    "\n",
    "The ``input_shape`` is the definition for the model's input tensor and ``output_path`` is where the compiled model will be stored in S3. **Important. If the following command result in a permission error, scroll up and locate the value of execution role returned by `get_execution_role()`. The role must have access to the S3 bucket specified in ``output_path``.**"
   ]
  },
  {
   "cell_type": "code",
   "execution_count": 7,
   "id": "harmful-dream",
   "metadata": {
    "execution": {
     "iopub.execute_input": "2021-05-26T15:42:33.455815Z",
     "iopub.status.busy": "2021-05-26T15:42:33.455324Z",
     "iopub.status.idle": "2021-05-26T15:45:22.589856Z",
     "shell.execute_reply": "2021-05-26T15:45:22.590234Z"
    },
    "papermill": {
     "duration": 169.161539,
     "end_time": "2021-05-26T15:45:22.590364",
     "exception": false,
     "start_time": "2021-05-26T15:42:33.428825",
     "status": "completed"
    },
    "tags": []
   },
   "outputs": [
    {
     "name": "stdout",
     "output_type": "stream",
     "text": [
      "?...................................!"
     ]
    }
   ],
   "source": [
    "neo_model = pytorch_model.compile(\n",
    "    target_instance_family=\"ml_inf1\",\n",
    "    input_shape={\"input0\": [1, 3, 224, 224]},\n",
    "    output_path=compiled_model_path,\n",
    "    framework=\"pytorch\",\n",
    "    framework_version=\"1.5.1\",\n",
    "    role=role,\n",
    "    job_name=compilation_job_name,\n",
    ")"
   ]
  },
  {
   "cell_type": "markdown",
   "id": "binary-budapest",
   "metadata": {
    "papermill": {
     "duration": 0.025043,
     "end_time": "2021-05-26T15:45:22.640390",
     "exception": false,
     "start_time": "2021-05-26T15:45:22.615347",
     "status": "completed"
    },
    "tags": []
   },
   "source": [
    "## Deploy the compiled model on a SageMaker endpoint\n",
    "\n",
    "Now that we have the compiled model, we will deploy it on an Amazon SageMaker endpoint. Inf1 instances in Amazon SageMaker are available in four sizes: ml.inf1.xlarge, ml.inf1.2xlarge, ml.inf1.6xlarge, and ml.inf1.24xlarge. In this example, we are using ``'ml.inf1.xlarge'`` for deploying our model."
   ]
  },
  {
   "cell_type": "code",
   "execution_count": 8,
   "id": "intelligent-merchandise",
   "metadata": {
    "execution": {
     "iopub.execute_input": "2021-05-26T15:45:22.694754Z",
     "iopub.status.busy": "2021-05-26T15:45:22.694037Z",
     "iopub.status.idle": "2021-05-26T15:51:56.153583Z",
     "shell.execute_reply": "2021-05-26T15:51:56.153961Z"
    },
    "papermill": {
     "duration": 393.488869,
     "end_time": "2021-05-26T15:51:56.154079",
     "exception": false,
     "start_time": "2021-05-26T15:45:22.665210",
     "status": "completed"
    },
    "tags": []
   },
   "outputs": [
    {
     "name": "stdout",
     "output_type": "stream",
     "text": [
      "-------------!"
     ]
    }
   ],
   "source": [
    "predictor = neo_model.deploy(instance_type=\"ml.inf1.xlarge\", initial_instance_count=1)"
   ]
  },
  {
   "cell_type": "code",
   "execution_count": 9,
   "id": "intensive-documentary",
   "metadata": {
    "execution": {
     "iopub.execute_input": "2021-05-26T15:51:56.217357Z",
     "iopub.status.busy": "2021-05-26T15:51:56.216766Z",
     "iopub.status.idle": "2021-05-26T15:51:56.219363Z",
     "shell.execute_reply": "2021-05-26T15:51:56.219726Z"
    },
    "papermill": {
     "duration": 0.03789,
     "end_time": "2021-05-26T15:51:56.219833",
     "exception": false,
     "start_time": "2021-05-26T15:51:56.181943",
     "status": "completed"
    },
    "tags": []
   },
   "outputs": [
    {
     "data": {
      "text/plain": [
       "'sagemaker-neo-pytorch-ml-inf1-2021-05-28-21-07-15-912'"
      ]
     },
     "execution_count": 9,
     "metadata": {},
     "output_type": "execute_result"
    }
   ],
   "source": [
    "predictor.endpoint_name"
   ]
  },
  {
   "cell_type": "markdown",
   "id": "closing-leisure",
   "metadata": {
    "papermill": {
     "duration": 0.028909,
     "end_time": "2021-05-26T15:51:56.278785",
     "exception": false,
     "start_time": "2021-05-26T15:51:56.249876",
     "status": "completed"
    },
    "tags": []
   },
   "source": [
    "## Invoking the endpoint\n",
    "\n",
    "Once the endpoint is ready, you can send requests to it and receive inference results in real-time with low latency. "
   ]
  },
  {
   "cell_type": "markdown",
   "id": "cutting-period",
   "metadata": {
    "papermill": {
     "duration": 0.028106,
     "end_time": "2021-05-26T15:51:56.335123",
     "exception": false,
     "start_time": "2021-05-26T15:51:56.307017",
     "status": "completed"
    },
    "tags": []
   },
   "source": [
    "Let's try to send a cat picture.\n",
    "\n",
    "![title](cat.jpg)"
   ]
  },
  {
   "cell_type": "code",
   "execution_count": 10,
   "id": "federal-gentleman",
   "metadata": {
    "execution": {
     "iopub.execute_input": "2021-05-26T15:51:56.404400Z",
     "iopub.status.busy": "2021-05-26T15:51:56.403939Z",
     "iopub.status.idle": "2021-05-26T15:52:01.960276Z",
     "shell.execute_reply": "2021-05-26T15:52:01.960621Z"
    },
    "papermill": {
     "duration": 5.597562,
     "end_time": "2021-05-26T15:52:01.960751",
     "exception": false,
     "start_time": "2021-05-26T15:51:56.363189",
     "status": "completed"
    },
    "tags": []
   },
   "outputs": [
    {
     "name": "stdout",
     "output_type": "stream",
     "text": [
      "{'ResponseMetadata': {'RequestId': 'f2a70e61-dfd8-4826-9ed8-47addbf90d57', 'HTTPStatusCode': 200, 'HTTPHeaders': {'x-amzn-requestid': 'f2a70e61-dfd8-4826-9ed8-47addbf90d57', 'x-amzn-invoked-production-variant': 'AllTraffic', 'date': 'Fri, 28 May 2021 21:13:53 GMT', 'content-type': 'application/json', 'content-length': '10863'}, 'RetryAttempts': 0}, 'ContentType': 'application/json', 'InvokedProductionVariant': 'AllTraffic', 'Body': <botocore.response.StreamingBody object at 0x7f0559ba57f0>}\n",
      "Most likely class: 282\n"
     ]
    }
   ],
   "source": [
    "import json\n",
    "import numpy as np\n",
    "\n",
    "sm_runtime = boto3.Session().client(\"sagemaker-runtime\")\n",
    "\n",
    "with open(\"cat.jpg\", \"rb\") as f:\n",
    "    payload = f.read()\n",
    "\n",
    "response = sm_runtime.invoke_endpoint(\n",
    "    EndpointName=predictor.endpoint_name, ContentType=\"application/x-image\", Body=payload\n",
    ")\n",
    "print(response)\n",
    "result = json.loads(response[\"Body\"].read().decode())\n",
    "print(\"Most likely class: {}\".format(np.argmax(result)))"
   ]
  },
  {
   "cell_type": "code",
   "execution_count": 11,
   "id": "valid-symposium",
   "metadata": {
    "execution": {
     "iopub.execute_input": "2021-05-26T15:52:02.023848Z",
     "iopub.status.busy": "2021-05-26T15:52:02.022611Z",
     "iopub.status.idle": "2021-05-26T15:52:02.026237Z",
     "shell.execute_reply": "2021-05-26T15:52:02.026622Z"
    },
    "papermill": {
     "duration": 0.036932,
     "end_time": "2021-05-26T15:52:02.026749",
     "exception": false,
     "start_time": "2021-05-26T15:52:01.989817",
     "status": "completed"
    },
    "tags": []
   },
   "outputs": [
    {
     "name": "stdout",
     "output_type": "stream",
     "text": [
      "Result: label -  'tiger cat', probability - 15.125\n"
     ]
    }
   ],
   "source": [
    "# Load names for ImageNet classes\n",
    "object_categories = {}\n",
    "with open(\"imagenet1000_clsidx_to_labels.txt\", \"r\") as f:\n",
    "    for line in f:\n",
    "        key, val = line.strip().split(\":\")\n",
    "        object_categories[key] = val\n",
    "print(\n",
    "    \"Result: label - \"\n",
    "    + object_categories[str(np.argmax(result))]\n",
    "    + \" probability - \"\n",
    "    + str(np.amax(result))\n",
    ")"
   ]
  },
  {
   "cell_type": "markdown",
   "id": "scheduled-jimmy",
   "metadata": {
    "papermill": {
     "duration": 0.02891,
     "end_time": "2021-05-26T15:52:02.084763",
     "exception": false,
     "start_time": "2021-05-26T15:52:02.055853",
     "status": "completed"
    },
    "tags": []
   },
   "source": [
    "## Delete the Endpoint\n",
    "Having an endpoint running will incur some costs. Therefore as a clean-up job, we should delete the endpoint."
   ]
  },
  {
   "cell_type": "code",
   "execution_count": 12,
   "id": "polyphonic-courage",
   "metadata": {
    "execution": {
     "iopub.execute_input": "2021-05-26T15:52:02.145997Z",
     "iopub.status.busy": "2021-05-26T15:52:02.145457Z",
     "iopub.status.idle": "2021-05-26T15:52:02.224783Z",
     "shell.execute_reply": "2021-05-26T15:52:02.224307Z"
    },
    "papermill": {
     "duration": 0.111317,
     "end_time": "2021-05-26T15:52:02.224888",
     "exception": false,
     "start_time": "2021-05-26T15:52:02.113571",
     "status": "completed"
    },
    "tags": []
   },
   "outputs": [],
   "source": [
    "sess.delete_endpoint(predictor.endpoint_name)"
   ]
  },
  {
   "cell_type": "markdown",
   "id": "extreme-lighter",
   "metadata": {
    "papermill": {
     "duration": 0.029161,
     "end_time": "2021-05-26T15:52:02.283387",
     "exception": false,
     "start_time": "2021-05-26T15:52:02.254226",
     "status": "completed"
    },
    "tags": []
   },
   "source": [
    "------------------------"
   ]
  }
 ],
 "metadata": {
  "kernelspec": {
   "display_name": "Environment (conda_pytorch_p36)",
   "language": "python",
   "name": "conda_pytorch_p36"
  },
  "language_info": {
   "codemirror_mode": {
    "name": "ipython",
    "version": 3
   },
   "file_extension": ".py",
   "mimetype": "text/x-python",
   "name": "python",
   "nbconvert_exporter": "python",
   "pygments_lexer": "ipython3",
   "version": "3.6.10"
  },
  "papermill": {
   "default_parameters": {},
   "duration": 1322.192302,
   "end_time": "2021-05-26T16:04:26.490844",
   "environment_variables": {},
   "exception": true,
   "input_path": "pytorch_torchvision_neo_on_Inf1.ipynb",
   "output_path": "/opt/ml/processing/output/pytorch_torchvision_neo_on_Inf1-2021-05-26-15-38-31.ipynb",
   "parameters": {
    "kms_key": "arn:aws:kms:us-west-2:521695447989:key/6e9984db-50cf-4c7e-926c-877ec47a8b25"
   },
   "start_time": "2021-05-26T15:42:24.298542",
   "version": "2.3.3"
  },
  "widgets": {
   "application/vnd.jupyter.widget-state+json": {
    "state": {
     "01e7d9c439a64e918a94dbe1abbef2d1": {
      "model_module": "@jupyter-widgets/controls",
      "model_module_version": "1.5.0",
      "model_name": "HTMLModel",
      "state": {
       "_dom_classes": [],
       "_model_module": "@jupyter-widgets/controls",
       "_model_module_version": "1.5.0",
       "_model_name": "HTMLModel",
       "_view_count": null,
       "_view_module": "@jupyter-widgets/controls",
       "_view_module_version": "1.5.0",
       "_view_name": "HTMLView",
       "description": "",
       "description_tooltip": null,
       "layout": "IPY_MODEL_4d74fad47cfc4b21949179e66a9faf47",
       "placeholder": "​",
       "style": "IPY_MODEL_a077571e8c8b487990bbb4ca413d33ab",
       "value": " 44.7M/44.7M [00:00&lt;00:00, 187MB/s]"
      }
     },
     "036289e816544022afc9809a1fe89e41": {
      "model_module": "@jupyter-widgets/controls",
      "model_module_version": "1.5.0",
      "model_name": "DescriptionStyleModel",
      "state": {
       "_model_module": "@jupyter-widgets/controls",
       "_model_module_version": "1.5.0",
       "_model_name": "DescriptionStyleModel",
       "_view_count": null,
       "_view_module": "@jupyter-widgets/base",
       "_view_module_version": "1.2.0",
       "_view_name": "StyleView",
       "description_width": ""
      }
     },
     "45da2631a32a4e60880d45230a926fea": {
      "model_module": "@jupyter-widgets/controls",
      "model_module_version": "1.5.0",
      "model_name": "ProgressStyleModel",
      "state": {
       "_model_module": "@jupyter-widgets/controls",
       "_model_module_version": "1.5.0",
       "_model_name": "ProgressStyleModel",
       "_view_count": null,
       "_view_module": "@jupyter-widgets/base",
       "_view_module_version": "1.2.0",
       "_view_name": "StyleView",
       "bar_color": null,
       "description_width": ""
      }
     },
     "46e90f741e094e8fb4abc58432cdda89": {
      "model_module": "@jupyter-widgets/base",
      "model_module_version": "1.2.0",
      "model_name": "LayoutModel",
      "state": {
       "_model_module": "@jupyter-widgets/base",
       "_model_module_version": "1.2.0",
       "_model_name": "LayoutModel",
       "_view_count": null,
       "_view_module": "@jupyter-widgets/base",
       "_view_module_version": "1.2.0",
       "_view_name": "LayoutView",
       "align_content": null,
       "align_items": null,
       "align_self": null,
       "border": null,
       "bottom": null,
       "display": null,
       "flex": null,
       "flex_flow": null,
       "grid_area": null,
       "grid_auto_columns": null,
       "grid_auto_flow": null,
       "grid_auto_rows": null,
       "grid_column": null,
       "grid_gap": null,
       "grid_row": null,
       "grid_template_areas": null,
       "grid_template_columns": null,
       "grid_template_rows": null,
       "height": null,
       "justify_content": null,
       "justify_items": null,
       "left": null,
       "margin": null,
       "max_height": null,
       "max_width": null,
       "min_height": null,
       "min_width": null,
       "object_fit": null,
       "object_position": null,
       "order": null,
       "overflow": null,
       "overflow_x": null,
       "overflow_y": null,
       "padding": null,
       "right": null,
       "top": null,
       "visibility": null,
       "width": null
      }
     },
     "4d74fad47cfc4b21949179e66a9faf47": {
      "model_module": "@jupyter-widgets/base",
      "model_module_version": "1.2.0",
      "model_name": "LayoutModel",
      "state": {
       "_model_module": "@jupyter-widgets/base",
       "_model_module_version": "1.2.0",
       "_model_name": "LayoutModel",
       "_view_count": null,
       "_view_module": "@jupyter-widgets/base",
       "_view_module_version": "1.2.0",
       "_view_name": "LayoutView",
       "align_content": null,
       "align_items": null,
       "align_self": null,
       "border": null,
       "bottom": null,
       "display": null,
       "flex": null,
       "flex_flow": null,
       "grid_area": null,
       "grid_auto_columns": null,
       "grid_auto_flow": null,
       "grid_auto_rows": null,
       "grid_column": null,
       "grid_gap": null,
       "grid_row": null,
       "grid_template_areas": null,
       "grid_template_columns": null,
       "grid_template_rows": null,
       "height": null,
       "justify_content": null,
       "justify_items": null,
       "left": null,
       "margin": null,
       "max_height": null,
       "max_width": null,
       "min_height": null,
       "min_width": null,
       "object_fit": null,
       "object_position": null,
       "order": null,
       "overflow": null,
       "overflow_x": null,
       "overflow_y": null,
       "padding": null,
       "right": null,
       "top": null,
       "visibility": null,
       "width": null
      }
     },
     "60979d4ecf7f46fbabad2356a313e08c": {
      "model_module": "@jupyter-widgets/controls",
      "model_module_version": "1.5.0",
      "model_name": "HTMLModel",
      "state": {
       "_dom_classes": [],
       "_model_module": "@jupyter-widgets/controls",
       "_model_module_version": "1.5.0",
       "_model_name": "HTMLModel",
       "_view_count": null,
       "_view_module": "@jupyter-widgets/controls",
       "_view_module_version": "1.5.0",
       "_view_name": "HTMLView",
       "description": "",
       "description_tooltip": null,
       "layout": "IPY_MODEL_6d888ad34d7443e180aaf617acf8b8bf",
       "placeholder": "​",
       "style": "IPY_MODEL_036289e816544022afc9809a1fe89e41",
       "value": "100%"
      }
     },
     "6d888ad34d7443e180aaf617acf8b8bf": {
      "model_module": "@jupyter-widgets/base",
      "model_module_version": "1.2.0",
      "model_name": "LayoutModel",
      "state": {
       "_model_module": "@jupyter-widgets/base",
       "_model_module_version": "1.2.0",
       "_model_name": "LayoutModel",
       "_view_count": null,
       "_view_module": "@jupyter-widgets/base",
       "_view_module_version": "1.2.0",
       "_view_name": "LayoutView",
       "align_content": null,
       "align_items": null,
       "align_self": null,
       "border": null,
       "bottom": null,
       "display": null,
       "flex": null,
       "flex_flow": null,
       "grid_area": null,
       "grid_auto_columns": null,
       "grid_auto_flow": null,
       "grid_auto_rows": null,
       "grid_column": null,
       "grid_gap": null,
       "grid_row": null,
       "grid_template_areas": null,
       "grid_template_columns": null,
       "grid_template_rows": null,
       "height": null,
       "justify_content": null,
       "justify_items": null,
       "left": null,
       "margin": null,
       "max_height": null,
       "max_width": null,
       "min_height": null,
       "min_width": null,
       "object_fit": null,
       "object_position": null,
       "order": null,
       "overflow": null,
       "overflow_x": null,
       "overflow_y": null,
       "padding": null,
       "right": null,
       "top": null,
       "visibility": null,
       "width": null
      }
     },
     "7909390e52ee424b8300bb365e31af15": {
      "model_module": "@jupyter-widgets/base",
      "model_module_version": "1.2.0",
      "model_name": "LayoutModel",
      "state": {
       "_model_module": "@jupyter-widgets/base",
       "_model_module_version": "1.2.0",
       "_model_name": "LayoutModel",
       "_view_count": null,
       "_view_module": "@jupyter-widgets/base",
       "_view_module_version": "1.2.0",
       "_view_name": "LayoutView",
       "align_content": null,
       "align_items": null,
       "align_self": null,
       "border": null,
       "bottom": null,
       "display": null,
       "flex": null,
       "flex_flow": null,
       "grid_area": null,
       "grid_auto_columns": null,
       "grid_auto_flow": null,
       "grid_auto_rows": null,
       "grid_column": null,
       "grid_gap": null,
       "grid_row": null,
       "grid_template_areas": null,
       "grid_template_columns": null,
       "grid_template_rows": null,
       "height": null,
       "justify_content": null,
       "justify_items": null,
       "left": null,
       "margin": null,
       "max_height": null,
       "max_width": null,
       "min_height": null,
       "min_width": null,
       "object_fit": null,
       "object_position": null,
       "order": null,
       "overflow": null,
       "overflow_x": null,
       "overflow_y": null,
       "padding": null,
       "right": null,
       "top": null,
       "visibility": null,
       "width": null
      }
     },
     "7a0af4eb15764bd2b3fee9f7b1ae8df9": {
      "model_module": "@jupyter-widgets/controls",
      "model_module_version": "1.5.0",
      "model_name": "FloatProgressModel",
      "state": {
       "_dom_classes": [],
       "_model_module": "@jupyter-widgets/controls",
       "_model_module_version": "1.5.0",
       "_model_name": "FloatProgressModel",
       "_view_count": null,
       "_view_module": "@jupyter-widgets/controls",
       "_view_module_version": "1.5.0",
       "_view_name": "ProgressView",
       "bar_style": "success",
       "description": "",
       "description_tooltip": null,
       "layout": "IPY_MODEL_7909390e52ee424b8300bb365e31af15",
       "max": 46827520,
       "min": 0,
       "orientation": "horizontal",
       "style": "IPY_MODEL_45da2631a32a4e60880d45230a926fea",
       "value": 46827520
      }
     },
     "a077571e8c8b487990bbb4ca413d33ab": {
      "model_module": "@jupyter-widgets/controls",
      "model_module_version": "1.5.0",
      "model_name": "DescriptionStyleModel",
      "state": {
       "_model_module": "@jupyter-widgets/controls",
       "_model_module_version": "1.5.0",
       "_model_name": "DescriptionStyleModel",
       "_view_count": null,
       "_view_module": "@jupyter-widgets/base",
       "_view_module_version": "1.2.0",
       "_view_name": "StyleView",
       "description_width": ""
      }
     },
     "d9bfb363ffd34d13bbad660d278f9132": {
      "model_module": "@jupyter-widgets/controls",
      "model_module_version": "1.5.0",
      "model_name": "HBoxModel",
      "state": {
       "_dom_classes": [],
       "_model_module": "@jupyter-widgets/controls",
       "_model_module_version": "1.5.0",
       "_model_name": "HBoxModel",
       "_view_count": null,
       "_view_module": "@jupyter-widgets/controls",
       "_view_module_version": "1.5.0",
       "_view_name": "HBoxView",
       "box_style": "",
       "children": [
        "IPY_MODEL_60979d4ecf7f46fbabad2356a313e08c",
        "IPY_MODEL_7a0af4eb15764bd2b3fee9f7b1ae8df9",
        "IPY_MODEL_01e7d9c439a64e918a94dbe1abbef2d1"
       ],
       "layout": "IPY_MODEL_46e90f741e094e8fb4abc58432cdda89"
      }
     }
    },
    "version_major": 2,
    "version_minor": 0
   }
  }
 },
 "nbformat": 4,
 "nbformat_minor": 5
}
