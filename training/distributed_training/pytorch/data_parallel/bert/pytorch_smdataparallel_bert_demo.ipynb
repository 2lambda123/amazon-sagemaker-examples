{
 "cells": [
  {
   "cell_type": "markdown",
   "id": "million-evidence",
   "metadata": {
    "papermill": {
     "duration": 0.00828,
     "end_time": "2021-06-07T00:10:30.932038",
     "exception": false,
     "start_time": "2021-06-07T00:10:30.923758",
     "status": "completed"
    },
    "tags": []
   },
   "source": [
    "# Data parallel distributed BERT model training with PyTorch and SageMaker distributed\n",
    "\n",
    "[Amazon SageMaker's distributed library](https://docs.aws.amazon.com/sagemaker/latest/dg/distributed-training.html) can be used to train deep learning models faster and cheaper. The [data parallel](https://docs.aws.amazon.com/sagemaker/latest/dg/data-parallel.html) feature in this library (`smdistributed.dataparallel`) is a distributed data parallel training framework for PyTorch, TensorFlow, and MXNet.\n",
    "\n",
    "This notebook example shows how to use `smdistributed.dataparallel` with PyTorch(version 1.8.1) on [Amazon SageMaker](https://aws.amazon.com/sagemaker/) to train a BERT model using [Amazon FSx for Lustre file-system](https://aws.amazon.com/fsx/lustre/) as data source.\n",
    "\n",
    "\n",
    "The outline of steps is as follows:\n",
    "\n",
    "1. Stage dataset in [Amazon S3](https://aws.amazon.com/s3/). Original dataset for BERT pretraining consists of text passages from BooksCorpus (800M words) (Zhu et al. 2015) and English Wikipedia (2,500M words). Please follow original guidelines by NVidia to prepare training data in hdf5 format - \n",
    "https://github.com/NVIDIA/DeepLearningExamples/blob/master/PyTorch/LanguageModeling/BERT/README.md#getting-the-data\n",
    "2. Create Amazon FSx Lustre file-system and import data into the file-system from S3\n",
    "3. Build Docker training image and push it to [Amazon ECR](https://aws.amazon.com/ecr/)\n",
    "4. Configure data input channels for SageMaker\n",
    "5. Configure hyper-prarameters\n",
    "6. Define training metrics\n",
    "7. Define training job, set distribution strategy to SMDataParallel and start training\n",
    "\n",
    "**NOTE:**  With large traning dataset, we recommend using [Amazon FSx](https://aws.amazon.com/fsx/) as the input filesystem for the SageMaker training job. FSx file input to SageMaker significantly cuts down training start up time on SageMaker because it avoids downloading the training data each time you start the training job (as done with S3 input for SageMaker training job) and provides good data read throughput.\n",
    "\n",
    "\n",
    "**NOTE:** This example requires SageMaker Python SDK v2.X.\n"
   ]
  },
  {
   "cell_type": "markdown",
   "id": "foster-supplement",
   "metadata": {
    "papermill": {
     "duration": 0.007958,
     "end_time": "2021-06-07T00:10:30.948055",
     "exception": false,
     "start_time": "2021-06-07T00:10:30.940097",
     "status": "completed"
    },
    "tags": []
   },
   "source": [
    "## Amazon SageMaker Initialization\n",
    "\n",
    "Initialize the notebook instance. Get the aws region, sagemaker execution role.\n",
    "\n",
    "The following code cell defines `role` which is the IAM role ARN used to create and run SageMaker training and hosting jobs. This is the same IAM role used to create this SageMaker Notebook instance. \n",
    "\n",
    "`role` must have permission to create a SageMaker training job and endpoint. For granular policies you can use to grant these permissions, see [Amazon SageMaker Roles](https://docs.aws.amazon.com/sagemaker/latest/dg/sagemaker-roles.html). If you do not require fine-tuned permissions for this demo, you can used the IAM managed policy AmazonSageMakerFullAccess to complete this demo. \n",
    "\n",
    "As described above, since we will be using FSx, please make sure to attach `FSx Access` permission to this IAM role."
   ]
  },
  {
   "cell_type": "code",
   "execution_count": 2,
   "id": "french-passing",
   "metadata": {
    "execution": {
     "iopub.execute_input": "2021-06-07T00:10:30.969787Z",
     "iopub.status.busy": "2021-06-07T00:10:30.969017Z",
     "iopub.status.idle": "2021-06-07T00:10:35.723354Z",
     "shell.execute_reply": "2021-06-07T00:10:35.723739Z"
    },
    "papermill": {
     "duration": 4.767726,
     "end_time": "2021-06-07T00:10:35.723867",
     "exception": false,
     "start_time": "2021-06-07T00:10:30.956141",
     "status": "completed"
    },
    "tags": []
   },
   "outputs": [
    {
     "name": "stdout",
     "output_type": "stream",
     "text": [
      "Requirement already satisfied: sagemaker in /opt/conda/lib/python3.6/site-packages (2.42.0)\n",
      "Collecting sagemaker\n",
      "  Downloading sagemaker-2.44.0.tar.gz (414 kB)\n",
      "\u001b[K     |████████████████████████████████| 414 kB 8.3 MB/s eta 0:00:01\n",
      "\u001b[?25hRequirement already satisfied: attrs in /opt/conda/lib/python3.6/site-packages (from sagemaker) (20.3.0)\n",
      "Requirement already satisfied: boto3>=1.16.32 in /opt/conda/lib/python3.6/site-packages (from sagemaker) (1.17.13)\n",
      "Requirement already satisfied: google-pasta in /opt/conda/lib/python3.6/site-packages (from sagemaker) (0.2.0)\n",
      "Requirement already satisfied: numpy>=1.9.0 in /opt/conda/lib/python3.6/site-packages (from sagemaker) (1.19.1)\n",
      "Requirement already satisfied: protobuf>=3.1 in /opt/conda/lib/python3.6/site-packages (from sagemaker) (3.15.1)\n",
      "Requirement already satisfied: protobuf3-to-dict>=0.1.5 in /opt/conda/lib/python3.6/site-packages (from sagemaker) (0.1.5)\n",
      "Requirement already satisfied: smdebug_rulesconfig==1.0.1 in /opt/conda/lib/python3.6/site-packages (from sagemaker) (1.0.1)\n",
      "Requirement already satisfied: importlib-metadata>=1.4.0 in /opt/conda/lib/python3.6/site-packages (from sagemaker) (3.4.0)\n",
      "Requirement already satisfied: packaging>=20.0 in /opt/conda/lib/python3.6/site-packages (from sagemaker) (20.9)\n",
      "Requirement already satisfied: pandas in /opt/conda/lib/python3.6/site-packages (from sagemaker) (1.1.5)\n",
      "Requirement already satisfied: pathos in /opt/conda/lib/python3.6/site-packages (from sagemaker) (0.2.7)\n",
      "Requirement already satisfied: s3transfer<0.4.0,>=0.3.0 in /opt/conda/lib/python3.6/site-packages (from boto3>=1.16.32->sagemaker) (0.3.4)\n",
      "Requirement already satisfied: botocore<1.21.0,>=1.20.13 in /opt/conda/lib/python3.6/site-packages (from boto3>=1.16.32->sagemaker) (1.20.13)\n",
      "Requirement already satisfied: jmespath<1.0.0,>=0.7.1 in /opt/conda/lib/python3.6/site-packages (from boto3>=1.16.32->sagemaker) (0.10.0)\n",
      "Requirement already satisfied: urllib3<1.27,>=1.25.4 in /opt/conda/lib/python3.6/site-packages (from botocore<1.21.0,>=1.20.13->boto3>=1.16.32->sagemaker) (1.26.3)\n",
      "Requirement already satisfied: python-dateutil<3.0.0,>=2.1 in /opt/conda/lib/python3.6/site-packages (from botocore<1.21.0,>=1.20.13->boto3>=1.16.32->sagemaker) (2.8.1)\n",
      "Requirement already satisfied: typing-extensions>=3.6.4 in /opt/conda/lib/python3.6/site-packages (from importlib-metadata>=1.4.0->sagemaker) (3.7.4.3)\n",
      "Requirement already satisfied: zipp>=0.5 in /opt/conda/lib/python3.6/site-packages (from importlib-metadata>=1.4.0->sagemaker) (3.4.0)\n",
      "Requirement already satisfied: pyparsing>=2.0.2 in /opt/conda/lib/python3.6/site-packages (from packaging>=20.0->sagemaker) (2.4.7)\n",
      "Requirement already satisfied: six>=1.9 in /opt/conda/lib/python3.6/site-packages (from protobuf>=3.1->sagemaker) (1.15.0)\n",
      "Requirement already satisfied: pytz>=2017.2 in /opt/conda/lib/python3.6/site-packages (from pandas->sagemaker) (2021.1)\n",
      "Requirement already satisfied: dill>=0.3.3 in /opt/conda/lib/python3.6/site-packages (from pathos->sagemaker) (0.3.3)\n",
      "Requirement already satisfied: ppft>=1.6.6.3 in /opt/conda/lib/python3.6/site-packages (from pathos->sagemaker) (1.6.6.3)\n",
      "Requirement already satisfied: multiprocess>=0.70.11 in /opt/conda/lib/python3.6/site-packages (from pathos->sagemaker) (0.70.11.1)\n",
      "Requirement already satisfied: pox>=0.2.9 in /opt/conda/lib/python3.6/site-packages (from pathos->sagemaker) (0.2.9)\n",
      "Building wheels for collected packages: sagemaker\n",
      "  Building wheel for sagemaker (setup.py) ... \u001b[?25ldone\n",
      "\u001b[?25h  Created wheel for sagemaker: filename=sagemaker-2.44.0-py2.py3-none-any.whl size=580907 sha256=24b75a52f3a5e2e5a99de05815097ada7d730ae5af85d507f1b684bc06b037b2\n",
      "  Stored in directory: /root/.cache/pip/wheels/4c/69/38/a3ff8d5354c0f36eb3c31f1da71a08a1d2fc7909768012e7ac\n",
      "Successfully built sagemaker\n",
      "Installing collected packages: sagemaker\n",
      "  Attempting uninstall: sagemaker\n",
      "    Found existing installation: sagemaker 2.42.0\n",
      "    Uninstalling sagemaker-2.42.0:\n",
      "      Successfully uninstalled sagemaker-2.42.0\n",
      "Successfully installed sagemaker-2.44.0\n",
      "SageMaker Execution Role:arn:aws:iam::521695447989:role/ProdBuildSystemStack-ReleaseBuildRoleFB326D49-QK8LUA2UI1IC\n",
      "AWS account:521695447989\n",
      "AWS region:us-west-2\n",
      "CPU times: user 880 ms, sys: 329 ms, total: 1.21 s\n",
      "Wall time: 4.75 s\n"
     ]
    }
   ],
   "source": [
    "%%time\n",
    "! python3 -m pip install --upgrade sagemaker\n",
    "import sagemaker\n",
    "from sagemaker import get_execution_role\n",
    "from sagemaker.estimator import Estimator\n",
    "import boto3\n",
    "\n",
    "sagemaker_session = sagemaker.Session()\n",
    "bucket = sagemaker_session.default_bucket()\n",
    "\n",
    "role = (\n",
    "    get_execution_role()\n",
    ")  # provide a pre-existing role ARN as an alternative to creating a new role\n",
    "print(f\"SageMaker Execution Role:{role}\")\n",
    "\n",
    "client = boto3.client(\"sts\")\n",
    "account = client.get_caller_identity()[\"Account\"]\n",
    "print(f\"AWS account:{account}\")\n",
    "\n",
    "session = boto3.session.Session()\n",
    "region = session.region_name\n",
    "print(f\"AWS region:{region}\")"
   ]
  },
  {
   "cell_type": "markdown",
   "id": "happy-archives",
   "metadata": {
    "papermill": {
     "duration": 0.011725,
     "end_time": "2021-06-07T00:10:35.749153",
     "exception": false,
     "start_time": "2021-06-07T00:10:35.737428",
     "status": "completed"
    },
    "tags": []
   },
   "source": [
    "To verify that the role above has required permissions:\n",
    "\n",
    "1. Go to the IAM console: https://console.aws.amazon.com/iam/home.\n",
    "2. Select **Roles**.\n",
    "3. Enter the role name in the search box to search for that role. \n",
    "4. Select the role.\n",
    "5. Use the **Permissions** tab to verify this role has required permissions attached."
   ]
  },
  {
   "cell_type": "markdown",
   "id": "roman-retirement",
   "metadata": {
    "papermill": {
     "duration": 0.011538,
     "end_time": "2021-06-07T00:10:35.772390",
     "exception": false,
     "start_time": "2021-06-07T00:10:35.760852",
     "status": "completed"
    },
    "tags": []
   },
   "source": [
    "## Prepare SageMaker Training Images\n",
    "\n",
    "1. SageMaker by default use the latest [Amazon Deep Learning Container Images (DLC)](https://github.com/aws/deep-learning-containers/blob/master/available_images.md) PyTorch training image. In this step, we use it as a base image and install additional dependencies required for training BERT model.\n",
    "2. In the Github repository https://github.com/HerringForks/DeepLearningExamples.git we have made PyTorch-SMDataParallel BERT training script available for your use. This repository will be cloned in the training image for running the model training.\n",
    "\n",
    "### Build and Push Docker Image to ECR\n",
    "\n",
    "Run the below command build the docker image and push it to ECR."
   ]
  },
  {
   "cell_type": "code",
   "execution_count": 3,
   "id": "stuck-silicon",
   "metadata": {
    "execution": {
     "iopub.execute_input": "2021-06-07T00:10:35.799459Z",
     "iopub.status.busy": "2021-06-07T00:10:35.798985Z",
     "iopub.status.idle": "2021-06-07T00:10:35.800794Z",
     "shell.execute_reply": "2021-06-07T00:10:35.801159Z"
    },
    "papermill": {
     "duration": 0.01709,
     "end_time": "2021-06-07T00:10:35.801277",
     "exception": false,
     "start_time": "2021-06-07T00:10:35.784187",
     "status": "completed"
    },
    "tags": []
   },
   "outputs": [],
   "source": [
    "image = \"<ADD NAME OF REPO>\"  # Example: bert-smdataparallel-sagemaker\n",
    "tag = \"<ADD TAG FOR IMAGE>\"  # Example: pt1.8"
   ]
  },
  {
   "cell_type": "code",
   "execution_count": 4,
   "id": "north-resistance",
   "metadata": {
    "execution": {
     "iopub.execute_input": "2021-06-07T00:10:35.828173Z",
     "iopub.status.busy": "2021-06-07T00:10:35.827720Z",
     "iopub.status.idle": "2021-06-07T00:10:36.594602Z",
     "shell.execute_reply": "2021-06-07T00:10:36.594165Z"
    },
    "papermill": {
     "duration": 0.781719,
     "end_time": "2021-06-07T00:10:36.594712",
     "exception": false,
     "start_time": "2021-06-07T00:10:35.812993",
     "status": "completed"
    },
    "tags": []
   },
   "outputs": [
    {
     "name": "stdout",
     "output_type": "stream",
     "text": [
      "\u001b[34mARG\u001b[39;49;00m region\n",
      "\n",
      "\u001b[34mFROM\u001b[39;49;00m \u001b[33m763104351884.dkr.ecr.${region}.amazonaws.com/pytorch-training:1.8.1-gpu-py36-cu111-ubuntu18.04\u001b[39;49;00m\n",
      "\n",
      "\u001b[34mARG\u001b[39;49;00m \u001b[31mWORK_DIR\u001b[39;49;00m=\u001b[33m\"apex_build\"\u001b[39;49;00m\n",
      "\u001b[34mRUN\u001b[39;49;00m pip --no-cache-dir --no-cache install h5py boto3 \u001b[33m'git+https://github.com/NVIDIA/dllogger'\u001b[39;49;00m tqdm requests; \u001b[33m\\\u001b[39;49;00m\n",
      "      \u001b[36mcd\u001b[39;49;00m \u001b[31m$WORK_DIR\u001b[39;49;00m; \u001b[33m\\\u001b[39;49;00m\n",
      "      git clone https://github.com/NVIDIA/apex; \u001b[36mcd\u001b[39;49;00m apex; \u001b[33m\\\u001b[39;49;00m\n",
      "      python setup.py install --cuda_ext --cpp_ext; \u001b[33m\\\u001b[39;49;00m\n",
      "      \u001b[36mcd\u001b[39;49;00m ../..; rm -rf \u001b[31m$WORK_DIR\u001b[39;49;00m;\n"
     ]
    }
   ],
   "source": [
    "!pygmentize ./Dockerfile"
   ]
  },
  {
   "cell_type": "code",
   "execution_count": 5,
   "id": "temporal-traveler",
   "metadata": {
    "execution": {
     "iopub.execute_input": "2021-06-07T00:10:36.623525Z",
     "iopub.status.busy": "2021-06-07T00:10:36.623046Z",
     "iopub.status.idle": "2021-06-07T00:10:37.361305Z",
     "shell.execute_reply": "2021-06-07T00:10:37.361704Z"
    },
    "papermill": {
     "duration": 0.754676,
     "end_time": "2021-06-07T00:10:37.361833",
     "exception": false,
     "start_time": "2021-06-07T00:10:36.607157",
     "status": "completed"
    },
    "tags": []
   },
   "outputs": [
    {
     "name": "stdout",
     "output_type": "stream",
     "text": [
      "\u001b[37m#!/usr/bin/env bash\u001b[39;49;00m\n",
      "\u001b[37m# This script shows how to build the Docker image and push it to ECR to be ready for use\u001b[39;49;00m\n",
      "\u001b[37m# by SageMaker.\u001b[39;49;00m\n",
      "\u001b[37m# The argument to this script is the image name. This will be used as the image on the local\u001b[39;49;00m\n",
      "\u001b[37m# machine and combined with the account and region to form the repository name for ECR.\u001b[39;49;00m\n",
      "\u001b[37m# set region\u001b[39;49;00m\n",
      "\n",
      "\u001b[31mDIR\u001b[39;49;00m=\u001b[33m\"\u001b[39;49;00m\u001b[34m$(\u001b[39;49;00m \u001b[36mcd\u001b[39;49;00m \u001b[33m\"\u001b[39;49;00m\u001b[34m$(\u001b[39;49;00m dirname \u001b[33m\"\u001b[39;49;00m\u001b[33m${\u001b[39;49;00m\u001b[31mBASH_SOURCE\u001b[39;49;00m[0]\u001b[33m}\u001b[39;49;00m\u001b[33m\"\u001b[39;49;00m \u001b[34m)\u001b[39;49;00m\u001b[33m\"\u001b[39;49;00m && \u001b[36mpwd\u001b[39;49;00m \u001b[34m)\u001b[39;49;00m\u001b[33m\"\u001b[39;49;00m\n",
      "\n",
      "\u001b[34mif\u001b[39;49;00m [ \u001b[33m\"\u001b[39;49;00m\u001b[31m$#\u001b[39;49;00m\u001b[33m\"\u001b[39;49;00m -eq \u001b[34m3\u001b[39;49;00m ]; \u001b[34mthen\u001b[39;49;00m\n",
      "    \u001b[31mregion\u001b[39;49;00m=\u001b[31m$1\u001b[39;49;00m\n",
      "    \u001b[31mimage\u001b[39;49;00m=\u001b[31m$2\u001b[39;49;00m\n",
      "    \u001b[31mtag\u001b[39;49;00m=\u001b[31m$3\u001b[39;49;00m\n",
      "\u001b[34melse\u001b[39;49;00m\n",
      "    \u001b[36mecho\u001b[39;49;00m \u001b[33m\"\u001b[39;49;00m\u001b[33musage: \u001b[39;49;00m\u001b[31m$0\u001b[39;49;00m\u001b[33m <aws-region> \u001b[39;49;00m\u001b[31m$1\u001b[39;49;00m\u001b[33m <image-repo> \u001b[39;49;00m\u001b[31m$2\u001b[39;49;00m\u001b[33m <image-tag>\u001b[39;49;00m\u001b[33m\"\u001b[39;49;00m\n",
      "    \u001b[36mexit\u001b[39;49;00m \u001b[34m1\u001b[39;49;00m\n",
      "\u001b[34mfi\u001b[39;49;00m\n",
      "\u001b[37m# Get the account number associated with the current IAM credentials\u001b[39;49;00m\n",
      "\u001b[31maccount\u001b[39;49;00m=\u001b[34m$(\u001b[39;49;00maws sts get-caller-identity --query Account --output text\u001b[34m)\u001b[39;49;00m\n",
      "\u001b[34mif\u001b[39;49;00m [ \u001b[31m$?\u001b[39;49;00m -ne \u001b[34m0\u001b[39;49;00m ]\n",
      "\u001b[34mthen\u001b[39;49;00m\n",
      "    \u001b[36mexit\u001b[39;49;00m \u001b[34m255\u001b[39;49;00m\n",
      "\u001b[34mfi\u001b[39;49;00m\n",
      "\n",
      "\u001b[31mfullname\u001b[39;49;00m=\u001b[33m\"\u001b[39;49;00m\u001b[33m${\u001b[39;49;00m\u001b[31maccount\u001b[39;49;00m\u001b[33m}\u001b[39;49;00m\u001b[33m.dkr.ecr.\u001b[39;49;00m\u001b[33m${\u001b[39;49;00m\u001b[31mregion\u001b[39;49;00m\u001b[33m}\u001b[39;49;00m\u001b[33m.amazonaws.com/\u001b[39;49;00m\u001b[33m${\u001b[39;49;00m\u001b[31mimage\u001b[39;49;00m\u001b[33m}\u001b[39;49;00m\u001b[33m:\u001b[39;49;00m\u001b[33m${\u001b[39;49;00m\u001b[31mtag\u001b[39;49;00m\u001b[33m}\u001b[39;49;00m\u001b[33m\"\u001b[39;49;00m\n",
      "\u001b[37m# If the repository doesn't exist in ECR, create it.\u001b[39;49;00m\n",
      "aws ecr describe-repositories --region \u001b[33m${\u001b[39;49;00m\u001b[31mregion\u001b[39;49;00m\u001b[33m}\u001b[39;49;00m --repository-names \u001b[33m\"\u001b[39;49;00m\u001b[33m${\u001b[39;49;00m\u001b[31mimage\u001b[39;49;00m\u001b[33m}\u001b[39;49;00m\u001b[33m\"\u001b[39;49;00m > /dev/null \u001b[34m2\u001b[39;49;00m>&\u001b[34m1\u001b[39;49;00m\n",
      "\u001b[34mif\u001b[39;49;00m [ \u001b[31m$?\u001b[39;49;00m -ne \u001b[34m0\u001b[39;49;00m ]; \u001b[34mthen\u001b[39;49;00m\n",
      "    aws ecr create-repository --region \u001b[33m${\u001b[39;49;00m\u001b[31mregion\u001b[39;49;00m\u001b[33m}\u001b[39;49;00m --repository-name \u001b[33m\"\u001b[39;49;00m\u001b[33m${\u001b[39;49;00m\u001b[31mimage\u001b[39;49;00m\u001b[33m}\u001b[39;49;00m\u001b[33m\"\u001b[39;49;00m > /dev/null\n",
      "\u001b[34mfi\u001b[39;49;00m\n",
      "\u001b[37m# Build the docker image locally with the image name and then push it to ECR\u001b[39;49;00m\n",
      "\u001b[37m# with the full name.\u001b[39;49;00m\n",
      "\u001b[37m# login ECR for the current account\u001b[39;49;00m\n",
      "\n",
      "aws ecr get-login-password --region \u001b[33m${\u001b[39;49;00m\u001b[31mregion\u001b[39;49;00m\u001b[33m}\u001b[39;49;00m | docker login --username AWS --password-stdin \u001b[33m${\u001b[39;49;00m\u001b[31maccount\u001b[39;49;00m\u001b[33m}\u001b[39;49;00m.dkr.ecr.\u001b[33m${\u001b[39;49;00m\u001b[31mregion\u001b[39;49;00m\u001b[33m}\u001b[39;49;00m.amazonaws.com\n",
      "\n",
      "docker build \u001b[33m${\u001b[39;49;00m\u001b[31mDIR\u001b[39;49;00m\u001b[33m}\u001b[39;49;00m/ -t \u001b[33m${\u001b[39;49;00m\u001b[31mimage\u001b[39;49;00m\u001b[33m}\u001b[39;49;00m -f \u001b[33m${\u001b[39;49;00m\u001b[31mDIR\u001b[39;49;00m\u001b[33m}\u001b[39;49;00m/Dockerfile  --build-arg \u001b[31mregion\u001b[39;49;00m=\u001b[33m${\u001b[39;49;00m\u001b[31mregion\u001b[39;49;00m\u001b[33m}\u001b[39;49;00m\n",
      "docker tag \u001b[33m${\u001b[39;49;00m\u001b[31mimage\u001b[39;49;00m\u001b[33m}\u001b[39;49;00m \u001b[33m${\u001b[39;49;00m\u001b[31mfullname\u001b[39;49;00m\u001b[33m}\u001b[39;49;00m\n",
      "docker push \u001b[33m${\u001b[39;49;00m\u001b[31mfullname\u001b[39;49;00m\u001b[33m}\u001b[39;49;00m\n",
      "\u001b[34mif\u001b[39;49;00m [ \u001b[31m$?\u001b[39;49;00m -eq \u001b[34m0\u001b[39;49;00m ]; \u001b[34mthen\u001b[39;49;00m\n",
      "\t\u001b[36mecho\u001b[39;49;00m \u001b[33m\"\u001b[39;49;00m\u001b[33mAmazon ECR URI: \u001b[39;49;00m\u001b[33m${\u001b[39;49;00m\u001b[31mfullname\u001b[39;49;00m\u001b[33m}\u001b[39;49;00m\u001b[33m\"\u001b[39;49;00m\n",
      "\u001b[34melse\u001b[39;49;00m\n",
      "\t\u001b[36mecho\u001b[39;49;00m \u001b[33m\"Error: Image build and push failed\"\u001b[39;49;00m\n",
      "\t\u001b[36mexit\u001b[39;49;00m \u001b[34m1\u001b[39;49;00m\n",
      "\u001b[34mfi\u001b[39;49;00m\n"
     ]
    }
   ],
   "source": [
    "!pygmentize ./build_and_push.sh"
   ]
  },
  {
   "cell_type": "code",
   "execution_count": 6,
   "id": "opposite-reset",
   "metadata": {
    "execution": {
     "iopub.execute_input": "2021-06-07T00:10:37.391113Z",
     "iopub.status.busy": "2021-06-07T00:10:37.390669Z",
     "iopub.status.idle": "2021-06-07T00:10:37.535989Z",
     "shell.execute_reply": "2021-06-07T00:10:37.536367Z"
    },
    "papermill": {
     "duration": 0.162016,
     "end_time": "2021-06-07T00:10:37.536490",
     "exception": false,
     "start_time": "2021-06-07T00:10:37.374474",
     "status": "completed"
    },
    "tags": []
   },
   "outputs": [
    {
     "name": "stdout",
     "output_type": "stream",
     "text": [
      "/bin/sh: 1: Syntax error: redirection unexpected\n",
      "CPU times: user 0 ns, sys: 5.89 ms, total: 5.89 ms\n",
      "Wall time: 142 ms\n"
     ]
    }
   ],
   "source": [
    "%%time\n",
    "! chmod +x build_and_push.sh; bash build_and_push.sh {region} {image} {tag}"
   ]
  },
  {
   "cell_type": "markdown",
   "id": "documented-course",
   "metadata": {
    "papermill": {
     "duration": 0.012999,
     "end_time": "2021-06-07T00:10:37.562492",
     "exception": false,
     "start_time": "2021-06-07T00:10:37.549493",
     "status": "completed"
    },
    "tags": []
   },
   "source": [
    "### Training script\n",
    "\n",
    "In the Github repository https://github.com/HerringForks/DeepLearningExamples.git we have made PyTorch-SMDataParallel BERT training script available for your use. Clone the repository."
   ]
  },
  {
   "cell_type": "code",
   "execution_count": 7,
   "id": "cutting-theory",
   "metadata": {
    "execution": {
     "iopub.execute_input": "2021-06-07T00:10:37.592906Z",
     "iopub.status.busy": "2021-06-07T00:10:37.592400Z",
     "iopub.status.idle": "2021-06-07T00:10:41.222608Z",
     "shell.execute_reply": "2021-06-07T00:10:41.223013Z"
    },
    "papermill": {
     "duration": 3.647721,
     "end_time": "2021-06-07T00:10:41.223140",
     "exception": false,
     "start_time": "2021-06-07T00:10:37.575419",
     "status": "completed"
    },
    "tags": []
   },
   "outputs": [
    {
     "name": "stdout",
     "output_type": "stream",
     "text": [
      "Cloning into 'DeepLearningExamples'...\n",
      "remote: Enumerating objects: 23187, done.\u001b[K\n",
      "remote: Counting objects: 100% (97/97), done.\u001b[K\n",
      "remote: Compressing objects: 100% (74/74), done.\u001b[K\n",
      "remote: Total 23187 (delta 35), reused 59 (delta 17), pack-reused 23090\u001b[K\n",
      "Receiving objects: 100% (23187/23187), 57.83 MiB | 32.56 MiB/s, done.\n",
      "Resolving deltas: 100% (17854/17854), done.\n"
     ]
    }
   ],
   "source": [
    "!rm -rf DeepLearningExamples\n",
    "!git clone https://github.com/HerringForks/DeepLearningExamples"
   ]
  },
  {
   "cell_type": "markdown",
   "id": "rolled-samba",
   "metadata": {
    "papermill": {
     "duration": 0.018954,
     "end_time": "2021-06-07T00:10:41.261316",
     "exception": false,
     "start_time": "2021-06-07T00:10:41.242362",
     "status": "completed"
    },
    "tags": []
   },
   "source": [
    "## Configure hyperparameters for your training"
   ]
  },
  {
   "cell_type": "code",
   "execution_count": 8,
   "id": "solved-occupation",
   "metadata": {
    "execution": {
     "iopub.execute_input": "2021-06-07T00:10:41.305685Z",
     "iopub.status.busy": "2021-06-07T00:10:41.302968Z",
     "iopub.status.idle": "2021-06-07T00:10:42.023923Z",
     "shell.execute_reply": "2021-06-07T00:10:42.023491Z"
    },
    "papermill": {
     "duration": 0.743736,
     "end_time": "2021-06-07T00:10:42.024029",
     "exception": false,
     "start_time": "2021-06-07T00:10:41.280293",
     "status": "completed"
    },
    "tags": []
   },
   "outputs": [
    {
     "name": "stdout",
     "output_type": "stream",
     "text": [
      "\u001b[36mexport\u001b[39;49;00m \u001b[31mHDF5_USE_FILE_LOCKING\u001b[39;49;00m=FALSE\n",
      "\n",
      "python ./DeepLearningExamples/PyTorch/LanguageModeling/BERT/run_pretraining.py \u001b[33m\\\u001b[39;49;00m\n",
      "--input_dir=\u001b[31m$SM_CHANNEL_TRAINING\u001b[39;49;00m \u001b[33m\\\u001b[39;49;00m\n",
      "--output_dir=\u001b[31m$SM_MODEL_DIR\u001b[39;49;00m \u001b[33m\\\u001b[39;49;00m\n",
      "--config_file=./DeepLearningExamples/PyTorch/LanguageModeling/BERT/bert_config.json \u001b[33m\\\u001b[39;49;00m\n",
      "--bert_model=bert-large-uncased \u001b[33m\\\u001b[39;49;00m\n",
      "--train_batch_size=\u001b[34m64\u001b[39;49;00m \u001b[33m\\\u001b[39;49;00m\n",
      "--max_seq_length=\u001b[34m128\u001b[39;49;00m \u001b[33m\\\u001b[39;49;00m\n",
      "--max_predictions_per_seq=\u001b[34m20\u001b[39;49;00m \u001b[33m\\\u001b[39;49;00m\n",
      "--max_steps=\u001b[34m900864\u001b[39;49;00m \u001b[33m\\\u001b[39;49;00m\n",
      "--warmup_proportion=\u001b[34m0\u001b[39;49;00m.2843 \u001b[33m\\\u001b[39;49;00m\n",
      "--num_steps_per_checkpoint=\u001b[34m900864\u001b[39;49;00m \u001b[33m\\\u001b[39;49;00m\n",
      "--learning_rate=\u001b[34m1\u001b[39;49;00m.12e-3 \u001b[33m\\\u001b[39;49;00m\n",
      "--seed=\u001b[34m42\u001b[39;49;00m \u001b[33m\\\u001b[39;49;00m\n",
      "--fp16 \u001b[33m\\\u001b[39;49;00m\n",
      "--do_train \u001b[33m\\\u001b[39;49;00m\n",
      "--json-summary ./DeepLearningExamples/PyTorch/LanguageModeling/BERT/results/dllogger.json \u001b[34m2\u001b[39;49;00m>&\u001b[34m1\u001b[39;49;00m\n"
     ]
    }
   ],
   "source": [
    "!pygmentize train.sh"
   ]
  },
  {
   "cell_type": "markdown",
   "id": "bound-student",
   "metadata": {
    "papermill": {
     "duration": 0.019479,
     "end_time": "2021-06-07T00:10:42.063230",
     "exception": false,
     "start_time": "2021-06-07T00:10:42.043751",
     "status": "completed"
    },
    "tags": []
   },
   "source": [
    "## Preparing FSx Input for SageMaker\n",
    "\n",
    "1. Download and prepare your training dataset on S3.\n",
    "2. Follow the steps listed here to create a FSx linked with your S3 bucket with training data - https://docs.aws.amazon.com/fsx/latest/LustreGuide/create-fs-linked-data-repo.html. Make sure to add an endpoint to your VPC allowing S3 access.\n",
    "3. Follow the steps listed here to configure your SageMaker training job to use FSx https://aws.amazon.com/blogs/machine-learning/speed-up-training-on-amazon-sagemaker-using-amazon-efs-or-amazon-fsx-for-lustre-file-systems/\n",
    "\n",
    "\n",
    "### Important Caveats\n",
    "\n",
    "1. You need use the same `subnet` and `vpc` and `security group` used with FSx when launching the SageMaker notebook instance. The same configurations will be used by your SageMaker training job.\n",
    "2. Make sure you set appropriate inbound/output rules in the `security group`. Specically, opening up these ports is necessary for SageMaker to access the FSx filesystem in the training job. https://docs.aws.amazon.com/fsx/latest/LustreGuide/limit-access-security-groups.html\n",
    "3. Make sure `SageMaker IAM Role` used to launch this SageMaker training job has access to `AmazonFSx`."
   ]
  },
  {
   "cell_type": "code",
   "execution_count": 9,
   "id": "optional-leeds",
   "metadata": {
    "execution": {
     "iopub.execute_input": "2021-06-07T00:10:42.107841Z",
     "iopub.status.busy": "2021-06-07T00:10:42.107385Z",
     "iopub.status.idle": "2021-06-07T00:10:42.109247Z",
     "shell.execute_reply": "2021-06-07T00:10:42.109573Z"
    },
    "papermill": {
     "duration": 0.026933,
     "end_time": "2021-06-07T00:10:42.109704",
     "exception": false,
     "start_time": "2021-06-07T00:10:42.082771",
     "status": "completed"
    },
    "tags": []
   },
   "outputs": [],
   "source": [
    "from sagemaker.inputs import FileSystemInput\n",
    "\n",
    "subnets = [\"<SUBNET_ID>\"]  # Should be same as Subnet used for FSx. Example: subnet-01aXXXX\n",
    "security_group_ids = [\n",
    "    \"<SECURITY_GROUP_ID>\"\n",
    "]  # Should be same as Security group used for FSx. sg-075ZZZZZZ\n",
    "file_system_id = \"<FSX_ID>\"  # FSx file system ID with your training dataset. Example: 'fs-0bYYYYYY'\n",
    "\n",
    "file_system_directory_path = \"YOUR_MOUNT_PATH_FOR_TRAINING_DATA\"  # NOTE: '/fsx/' will be the root mount path. Example: '/fsx/bert/pt/phase1'\n",
    "file_system_access_mode = \"ro\"\n",
    "\n",
    "file_system_type = \"FSxLustre\"\n",
    "\n",
    "train_fs = FileSystemInput(\n",
    "    file_system_id=file_system_id,\n",
    "    file_system_type=file_system_type,\n",
    "    directory_path=file_system_directory_path,\n",
    "    file_system_access_mode=file_system_access_mode,\n",
    ")"
   ]
  },
  {
   "cell_type": "markdown",
   "id": "perceived-argentina",
   "metadata": {
    "papermill": {
     "duration": 0.019336,
     "end_time": "2021-06-07T00:10:42.148834",
     "exception": false,
     "start_time": "2021-06-07T00:10:42.129498",
     "status": "completed"
    },
    "tags": []
   },
   "source": [
    "## SageMaker PyTorch Estimator function options\n",
    "\n",
    "In the following code block, you can update the estimator function to use a different instance type, instance count, and distrubtion strategy. You're also passing in the training script you reviewed in the previous cell.\n",
    "\n",
    "**Instance types**\n",
    "\n",
    "SMDataParallel supports model training on SageMaker with the following instance types only. For best performance, it is recommended you use an instance type that supports Amazon Elastic Fabric Adapter (ml.p3dn.24xlarge and ml.p4d.24xlarge).\n",
    "\n",
    "1. ml.p3.16xlarge\n",
    "1. ml.p3dn.24xlarge [Recommended]\n",
    "1. ml.p4d.24xlarge [Recommended]\n",
    "\n",
    "**Instance count**\n",
    "\n",
    "To get the best performance and the most out of SMDataParallel, you should use at least 2 instances, but you can also use 1 for testing this example.\n",
    "\n",
    "**Distribution strategy**\n",
    "\n",
    "Note that to use DDP mode, you update the the `distribution` strategy, and set it to use `smdistributed dataparallel`. "
   ]
  },
  {
   "cell_type": "code",
   "execution_count": 10,
   "id": "caroline-delicious",
   "metadata": {
    "execution": {
     "iopub.execute_input": "2021-06-07T00:10:42.194846Z",
     "iopub.status.busy": "2021-06-07T00:10:42.194301Z",
     "iopub.status.idle": "2021-06-07T00:10:42.203049Z",
     "shell.execute_reply": "2021-06-07T00:10:42.203402Z"
    },
    "papermill": {
     "duration": 0.035194,
     "end_time": "2021-06-07T00:10:42.203520",
     "exception": false,
     "start_time": "2021-06-07T00:10:42.168326",
     "status": "completed"
    },
    "tags": []
   },
   "outputs": [
    {
     "name": "stdout",
     "output_type": "stream",
     "text": [
      "Job name:  pt-bert-smdataparallel-N2-p3dn\n"
     ]
    }
   ],
   "source": [
    "from sagemaker.pytorch import PyTorch\n",
    "\n",
    "docker_image = f\"{account}.dkr.ecr.{region}.amazonaws.com/{image}:{tag}\"  # YOUR_ECR_IMAGE_BUILT_WITH_ABOVE_DOCKER_FILE\n",
    "instance_type = \"ml.p3dn.24xlarge\"  # Other supported instance type: ml.p3.16xlarge, ml.p4d.24xlarge\n",
    "instance_count = 2  # You can use 2, 4, 8 etc.\n",
    "# This job name is used as prefix to the sagemaker training job. Makes it easy for your look for your training job in SageMaker Training job console.\n",
    "job_name = \"pt-bert-smdataparallel-N%d-%s\" % (instance_count, instance_type.split(\".\")[1])\n",
    "print(\"Job name: \", job_name)\n",
    "\n",
    "estimator = PyTorch(\n",
    "    base_job_name=job_name,\n",
    "    source_dir=\".\",\n",
    "    entry_point=\"train.sh\",\n",
    "    role=role,\n",
    "    image_uri=docker_image,\n",
    "    framework_version=\"1.8.1\",\n",
    "    py_version=\"py36\",\n",
    "    instance_count=instance_count,\n",
    "    instance_type=instance_type,\n",
    "    sagemaker_session=sagemaker_session,\n",
    "    subnets=subnets,\n",
    "    security_group_ids=security_group_ids,\n",
    "    debugger_hook_config=False,\n",
    "    # Training using SMDataParallel Distributed Training Framework\n",
    "    distribution={\"smdistributed\": {\"dataparallel\": {\"enabled\": True}}},\n",
    ")"
   ]
  },
  {
   "cell_type": "markdown",
   "id": "downtown-investigator",
   "metadata": {
    "tags": [
     "papermill-error-cell-tag"
    ]
   },
   "source": [
    "<span id=\"papermill-error-cell\" style=\"color:red; font-family:Helvetica Neue, Helvetica, Arial, sans-serif; font-size:2em;\">Execution using papermill encountered an exception here and stopped:</span>"
   ]
  },
  {
   "cell_type": "code",
   "execution_count": 11,
   "id": "sophisticated-course",
   "metadata": {
    "execution": {
     "iopub.execute_input": "2021-06-07T00:10:42.247022Z",
     "iopub.status.busy": "2021-06-07T00:10:42.246581Z",
     "iopub.status.idle": "2021-06-07T00:11:03.111629Z",
     "shell.execute_reply": "2021-06-07T00:11:03.110844Z"
    },
    "papermill": {
     "duration": 20.888258,
     "end_time": "2021-06-07T00:11:03.111843",
     "exception": true,
     "start_time": "2021-06-07T00:10:42.223585",
     "status": "failed"
    },
    "tags": []
   },
   "outputs": [
    {
     "name": "stdout",
     "output_type": "stream",
     "text": [
      "\u001b[36mexport\u001b[39;49;00m \u001b[31mHDF5_USE_FILE_LOCKING\u001b[39;49;00m=FALSE\n",
      "\n",
      "python ./DeepLearningExamples/PyTorch/LanguageModeling/BERT/run_pretraining.py \u001b[33m\\\u001b[39;49;00m\n",
      "--input_dir=\u001b[31m$SM_CHANNEL_TRAINING\u001b[39;49;00m \u001b[33m\\\u001b[39;49;00m\n",
      "--output_dir=\u001b[31m$SM_MODEL_DIR\u001b[39;49;00m \u001b[33m\\\u001b[39;49;00m\n",
      "--config_file=./DeepLearningExamples/PyTorch/LanguageModeling/BERT/bert_config.json \u001b[33m\\\u001b[39;49;00m\n",
      "--bert_model=bert-large-uncased \u001b[33m\\\u001b[39;49;00m\n",
      "--train_batch_size=\u001b[34m64\u001b[39;49;00m \u001b[33m\\\u001b[39;49;00m\n",
      "--max_seq_length=\u001b[34m128\u001b[39;49;00m \u001b[33m\\\u001b[39;49;00m\n",
      "--max_predictions_per_seq=\u001b[34m20\u001b[39;49;00m \u001b[33m\\\u001b[39;49;00m\n",
      "--max_steps=\u001b[34m900864\u001b[39;49;00m \u001b[33m\\\u001b[39;49;00m\n",
      "--warmup_proportion=\u001b[34m0\u001b[39;49;00m.2843 \u001b[33m\\\u001b[39;49;00m\n",
      "--num_steps_per_checkpoint=\u001b[34m900864\u001b[39;49;00m \u001b[33m\\\u001b[39;49;00m\n",
      "--learning_rate=\u001b[34m1\u001b[39;49;00m.12e-3 \u001b[33m\\\u001b[39;49;00m\n",
      "--seed=\u001b[34m42\u001b[39;49;00m \u001b[33m\\\u001b[39;49;00m\n",
      "--fp16 \u001b[33m\\\u001b[39;49;00m\n",
      "--do_train \u001b[33m\\\u001b[39;49;00m\n",
      "--json-summary ./DeepLearningExamples/PyTorch/LanguageModeling/BERT/results/dllogger.json \u001b[34m2\u001b[39;49;00m>&\u001b[34m1\u001b[39;49;00m\n"
     ]
    },
    {
     "ename": "ParamValidationError",
     "evalue": "Parameter validation failed:\nInvalid length for parameter InputDataConfig[0].DataSource.FileSystemDataSource.FileSystemId, value: 8, valid min length: 11",
     "output_type": "error",
     "traceback": [
      "\u001b[0;31m---------------------------------------------------------------------------\u001b[0m",
      "\u001b[0;31mParamValidationError\u001b[0m                      Traceback (most recent call last)",
      "\u001b[0;32m<ipython-input-11-a774b8dfd9f2>\u001b[0m in \u001b[0;36m<module>\u001b[0;34m\u001b[0m\n\u001b[1;32m      1\u001b[0m \u001b[0mget_ipython\u001b[0m\u001b[0;34m(\u001b[0m\u001b[0;34m)\u001b[0m\u001b[0;34m.\u001b[0m\u001b[0msystem\u001b[0m\u001b[0;34m(\u001b[0m\u001b[0;34m'pygmentize train.sh'\u001b[0m\u001b[0;34m)\u001b[0m\u001b[0;34m\u001b[0m\u001b[0;34m\u001b[0m\u001b[0m\n\u001b[1;32m      2\u001b[0m \u001b[0;34m\u001b[0m\u001b[0m\n\u001b[0;32m----> 3\u001b[0;31m \u001b[0mestimator\u001b[0m\u001b[0;34m.\u001b[0m\u001b[0mfit\u001b[0m\u001b[0;34m(\u001b[0m\u001b[0mtrain_fs\u001b[0m\u001b[0;34m)\u001b[0m\u001b[0;34m\u001b[0m\u001b[0;34m\u001b[0m\u001b[0m\n\u001b[0m",
      "\u001b[0;32m/opt/conda/lib/python3.6/site-packages/sagemaker/estimator.py\u001b[0m in \u001b[0;36mfit\u001b[0;34m(self, inputs, wait, logs, job_name, experiment_config)\u001b[0m\n\u001b[1;32m    677\u001b[0m         \u001b[0mself\u001b[0m\u001b[0;34m.\u001b[0m\u001b[0m_prepare_for_training\u001b[0m\u001b[0;34m(\u001b[0m\u001b[0mjob_name\u001b[0m\u001b[0;34m=\u001b[0m\u001b[0mjob_name\u001b[0m\u001b[0;34m)\u001b[0m\u001b[0;34m\u001b[0m\u001b[0;34m\u001b[0m\u001b[0m\n\u001b[1;32m    678\u001b[0m \u001b[0;34m\u001b[0m\u001b[0m\n\u001b[0;32m--> 679\u001b[0;31m         \u001b[0mself\u001b[0m\u001b[0;34m.\u001b[0m\u001b[0mlatest_training_job\u001b[0m \u001b[0;34m=\u001b[0m \u001b[0m_TrainingJob\u001b[0m\u001b[0;34m.\u001b[0m\u001b[0mstart_new\u001b[0m\u001b[0;34m(\u001b[0m\u001b[0mself\u001b[0m\u001b[0;34m,\u001b[0m \u001b[0minputs\u001b[0m\u001b[0;34m,\u001b[0m \u001b[0mexperiment_config\u001b[0m\u001b[0;34m)\u001b[0m\u001b[0;34m\u001b[0m\u001b[0;34m\u001b[0m\u001b[0m\n\u001b[0m\u001b[1;32m    680\u001b[0m         \u001b[0mself\u001b[0m\u001b[0;34m.\u001b[0m\u001b[0mjobs\u001b[0m\u001b[0;34m.\u001b[0m\u001b[0mappend\u001b[0m\u001b[0;34m(\u001b[0m\u001b[0mself\u001b[0m\u001b[0;34m.\u001b[0m\u001b[0mlatest_training_job\u001b[0m\u001b[0;34m)\u001b[0m\u001b[0;34m\u001b[0m\u001b[0;34m\u001b[0m\u001b[0m\n\u001b[1;32m    681\u001b[0m         \u001b[0;32mif\u001b[0m \u001b[0mwait\u001b[0m\u001b[0;34m:\u001b[0m\u001b[0;34m\u001b[0m\u001b[0;34m\u001b[0m\u001b[0m\n",
      "\u001b[0;32m/opt/conda/lib/python3.6/site-packages/sagemaker/estimator.py\u001b[0m in \u001b[0;36mstart_new\u001b[0;34m(cls, estimator, inputs, experiment_config)\u001b[0m\n\u001b[1;32m   1447\u001b[0m         \"\"\"\n\u001b[1;32m   1448\u001b[0m         \u001b[0mtrain_args\u001b[0m \u001b[0;34m=\u001b[0m \u001b[0mcls\u001b[0m\u001b[0;34m.\u001b[0m\u001b[0m_get_train_args\u001b[0m\u001b[0;34m(\u001b[0m\u001b[0mestimator\u001b[0m\u001b[0;34m,\u001b[0m \u001b[0minputs\u001b[0m\u001b[0;34m,\u001b[0m \u001b[0mexperiment_config\u001b[0m\u001b[0;34m)\u001b[0m\u001b[0;34m\u001b[0m\u001b[0;34m\u001b[0m\u001b[0m\n\u001b[0;32m-> 1449\u001b[0;31m         \u001b[0mestimator\u001b[0m\u001b[0;34m.\u001b[0m\u001b[0msagemaker_session\u001b[0m\u001b[0;34m.\u001b[0m\u001b[0mtrain\u001b[0m\u001b[0;34m(\u001b[0m\u001b[0;34m**\u001b[0m\u001b[0mtrain_args\u001b[0m\u001b[0;34m)\u001b[0m\u001b[0;34m\u001b[0m\u001b[0;34m\u001b[0m\u001b[0m\n\u001b[0m\u001b[1;32m   1450\u001b[0m \u001b[0;34m\u001b[0m\u001b[0m\n\u001b[1;32m   1451\u001b[0m         \u001b[0;32mreturn\u001b[0m \u001b[0mcls\u001b[0m\u001b[0;34m(\u001b[0m\u001b[0mestimator\u001b[0m\u001b[0;34m.\u001b[0m\u001b[0msagemaker_session\u001b[0m\u001b[0;34m,\u001b[0m \u001b[0mestimator\u001b[0m\u001b[0;34m.\u001b[0m\u001b[0m_current_job_name\u001b[0m\u001b[0;34m)\u001b[0m\u001b[0;34m\u001b[0m\u001b[0;34m\u001b[0m\u001b[0m\n",
      "\u001b[0;32m/opt/conda/lib/python3.6/site-packages/sagemaker/session.py\u001b[0m in \u001b[0;36mtrain\u001b[0;34m(self, input_mode, input_config, role, job_name, output_config, resource_config, vpc_config, hyperparameters, stop_condition, tags, metric_definitions, enable_network_isolation, image_uri, algorithm_arn, encrypt_inter_container_traffic, use_spot_instances, checkpoint_s3_uri, checkpoint_local_path, experiment_config, debugger_rule_configs, debugger_hook_config, tensorboard_output_config, enable_sagemaker_metrics, profiler_rule_configs, profiler_config, environment, retry_strategy)\u001b[0m\n\u001b[1;32m    570\u001b[0m         \u001b[0mLOGGER\u001b[0m\u001b[0;34m.\u001b[0m\u001b[0minfo\u001b[0m\u001b[0;34m(\u001b[0m\u001b[0;34m\"Creating training-job with name: %s\"\u001b[0m\u001b[0;34m,\u001b[0m \u001b[0mjob_name\u001b[0m\u001b[0;34m)\u001b[0m\u001b[0;34m\u001b[0m\u001b[0;34m\u001b[0m\u001b[0m\n\u001b[1;32m    571\u001b[0m         \u001b[0mLOGGER\u001b[0m\u001b[0;34m.\u001b[0m\u001b[0mdebug\u001b[0m\u001b[0;34m(\u001b[0m\u001b[0;34m\"train request: %s\"\u001b[0m\u001b[0;34m,\u001b[0m \u001b[0mjson\u001b[0m\u001b[0;34m.\u001b[0m\u001b[0mdumps\u001b[0m\u001b[0;34m(\u001b[0m\u001b[0mtrain_request\u001b[0m\u001b[0;34m,\u001b[0m \u001b[0mindent\u001b[0m\u001b[0;34m=\u001b[0m\u001b[0;36m4\u001b[0m\u001b[0;34m)\u001b[0m\u001b[0;34m)\u001b[0m\u001b[0;34m\u001b[0m\u001b[0;34m\u001b[0m\u001b[0m\n\u001b[0;32m--> 572\u001b[0;31m         \u001b[0mself\u001b[0m\u001b[0;34m.\u001b[0m\u001b[0msagemaker_client\u001b[0m\u001b[0;34m.\u001b[0m\u001b[0mcreate_training_job\u001b[0m\u001b[0;34m(\u001b[0m\u001b[0;34m**\u001b[0m\u001b[0mtrain_request\u001b[0m\u001b[0;34m)\u001b[0m\u001b[0;34m\u001b[0m\u001b[0;34m\u001b[0m\u001b[0m\n\u001b[0m\u001b[1;32m    573\u001b[0m \u001b[0;34m\u001b[0m\u001b[0m\n\u001b[1;32m    574\u001b[0m     def _get_train_request(  # noqa: C901\n",
      "\u001b[0;32m/opt/conda/lib/python3.6/site-packages/botocore/client.py\u001b[0m in \u001b[0;36m_api_call\u001b[0;34m(self, *args, **kwargs)\u001b[0m\n\u001b[1;32m    355\u001b[0m                     \"%s() only accepts keyword arguments.\" % py_operation_name)\n\u001b[1;32m    356\u001b[0m             \u001b[0;31m# The \"self\" in this scope is referring to the BaseClient.\u001b[0m\u001b[0;34m\u001b[0m\u001b[0;34m\u001b[0m\u001b[0;34m\u001b[0m\u001b[0m\n\u001b[0;32m--> 357\u001b[0;31m             \u001b[0;32mreturn\u001b[0m \u001b[0mself\u001b[0m\u001b[0;34m.\u001b[0m\u001b[0m_make_api_call\u001b[0m\u001b[0;34m(\u001b[0m\u001b[0moperation_name\u001b[0m\u001b[0;34m,\u001b[0m \u001b[0mkwargs\u001b[0m\u001b[0;34m)\u001b[0m\u001b[0;34m\u001b[0m\u001b[0;34m\u001b[0m\u001b[0m\n\u001b[0m\u001b[1;32m    358\u001b[0m \u001b[0;34m\u001b[0m\u001b[0m\n\u001b[1;32m    359\u001b[0m         \u001b[0m_api_call\u001b[0m\u001b[0;34m.\u001b[0m\u001b[0m__name__\u001b[0m \u001b[0;34m=\u001b[0m \u001b[0mstr\u001b[0m\u001b[0;34m(\u001b[0m\u001b[0mpy_operation_name\u001b[0m\u001b[0;34m)\u001b[0m\u001b[0;34m\u001b[0m\u001b[0;34m\u001b[0m\u001b[0m\n",
      "\u001b[0;32m/opt/conda/lib/python3.6/site-packages/botocore/client.py\u001b[0m in \u001b[0;36m_make_api_call\u001b[0;34m(self, operation_name, api_params)\u001b[0m\n\u001b[1;32m    647\u001b[0m         }\n\u001b[1;32m    648\u001b[0m         request_dict = self._convert_to_request_dict(\n\u001b[0;32m--> 649\u001b[0;31m             api_params, operation_model, context=request_context)\n\u001b[0m\u001b[1;32m    650\u001b[0m \u001b[0;34m\u001b[0m\u001b[0m\n\u001b[1;32m    651\u001b[0m         \u001b[0mservice_id\u001b[0m \u001b[0;34m=\u001b[0m \u001b[0mself\u001b[0m\u001b[0;34m.\u001b[0m\u001b[0m_service_model\u001b[0m\u001b[0;34m.\u001b[0m\u001b[0mservice_id\u001b[0m\u001b[0;34m.\u001b[0m\u001b[0mhyphenize\u001b[0m\u001b[0;34m(\u001b[0m\u001b[0;34m)\u001b[0m\u001b[0;34m\u001b[0m\u001b[0;34m\u001b[0m\u001b[0m\n",
      "\u001b[0;32m/opt/conda/lib/python3.6/site-packages/botocore/client.py\u001b[0m in \u001b[0;36m_convert_to_request_dict\u001b[0;34m(self, api_params, operation_model, context)\u001b[0m\n\u001b[1;32m    695\u001b[0m             api_params, operation_model, context)\n\u001b[1;32m    696\u001b[0m         request_dict = self._serializer.serialize_to_request(\n\u001b[0;32m--> 697\u001b[0;31m             api_params, operation_model)\n\u001b[0m\u001b[1;32m    698\u001b[0m         \u001b[0;32mif\u001b[0m \u001b[0;32mnot\u001b[0m \u001b[0mself\u001b[0m\u001b[0;34m.\u001b[0m\u001b[0m_client_config\u001b[0m\u001b[0;34m.\u001b[0m\u001b[0minject_host_prefix\u001b[0m\u001b[0;34m:\u001b[0m\u001b[0;34m\u001b[0m\u001b[0;34m\u001b[0m\u001b[0m\n\u001b[1;32m    699\u001b[0m             \u001b[0mrequest_dict\u001b[0m\u001b[0;34m.\u001b[0m\u001b[0mpop\u001b[0m\u001b[0;34m(\u001b[0m\u001b[0;34m'host_prefix'\u001b[0m\u001b[0;34m,\u001b[0m \u001b[0;32mNone\u001b[0m\u001b[0;34m)\u001b[0m\u001b[0;34m\u001b[0m\u001b[0;34m\u001b[0m\u001b[0m\n",
      "\u001b[0;32m/opt/conda/lib/python3.6/site-packages/botocore/validate.py\u001b[0m in \u001b[0;36mserialize_to_request\u001b[0;34m(self, parameters, operation_model)\u001b[0m\n\u001b[1;32m    291\u001b[0m                                                     operation_model.input_shape)\n\u001b[1;32m    292\u001b[0m             \u001b[0;32mif\u001b[0m \u001b[0mreport\u001b[0m\u001b[0;34m.\u001b[0m\u001b[0mhas_errors\u001b[0m\u001b[0;34m(\u001b[0m\u001b[0;34m)\u001b[0m\u001b[0;34m:\u001b[0m\u001b[0;34m\u001b[0m\u001b[0;34m\u001b[0m\u001b[0m\n\u001b[0;32m--> 293\u001b[0;31m                 \u001b[0;32mraise\u001b[0m \u001b[0mParamValidationError\u001b[0m\u001b[0;34m(\u001b[0m\u001b[0mreport\u001b[0m\u001b[0;34m=\u001b[0m\u001b[0mreport\u001b[0m\u001b[0;34m.\u001b[0m\u001b[0mgenerate_report\u001b[0m\u001b[0;34m(\u001b[0m\u001b[0;34m)\u001b[0m\u001b[0;34m)\u001b[0m\u001b[0;34m\u001b[0m\u001b[0;34m\u001b[0m\u001b[0m\n\u001b[0m\u001b[1;32m    294\u001b[0m         return self._serializer.serialize_to_request(parameters,\n\u001b[1;32m    295\u001b[0m                                                      operation_model)\n",
      "\u001b[0;31mParamValidationError\u001b[0m: Parameter validation failed:\nInvalid length for parameter InputDataConfig[0].DataSource.FileSystemDataSource.FileSystemId, value: 8, valid min length: 11"
     ]
    }
   ],
   "source": [
    "!pygmentize train.sh\n",
    "\n",
    "estimator.fit(train_fs)"
   ]
  },
  {
   "cell_type": "code",
   "execution_count": null,
   "id": "unusual-classics",
   "metadata": {
    "papermill": {
     "duration": null,
     "end_time": null,
     "exception": null,
     "start_time": null,
     "status": "pending"
    },
    "tags": []
   },
   "outputs": [],
   "source": [
    "model_data = estimator.model_data\n",
    "print(\"Storing {} as model_data\".format(model_data))\n",
    "%store model_data"
   ]
  }
 ],
 "metadata": {
  "kernelspec": {
   "display_name": "Environment (conda_pytorch_p36)",
   "language": "python",
   "name": "conda_pytorch_p36"
  },
  "language_info": {
   "codemirror_mode": {
    "name": "ipython",
    "version": 3
   },
   "file_extension": ".py",
   "mimetype": "text/x-python",
   "name": "python",
   "nbconvert_exporter": "python",
   "pygments_lexer": "ipython3",
   "version": "3.6.10"
  },
  "papermill": {
   "default_parameters": {},
   "duration": 33.744711,
   "end_time": "2021-06-07T00:11:03.639227",
   "environment_variables": {},
   "exception": true,
   "input_path": "pytorch_smdataparallel_bert_demo.ipynb",
   "output_path": "/opt/ml/processing/output/pytorch_smdataparallel_bert_demo-2021-06-07-00-06-19.ipynb",
   "parameters": {
    "kms_key": "arn:aws:kms:us-west-2:521695447989:key/6e9984db-50cf-4c7e-926c-877ec47a8b25"
   },
   "start_time": "2021-06-07T00:10:29.894516",
   "version": "2.3.3"
  }
 },
 "nbformat": 4,
 "nbformat_minor": 5
}
