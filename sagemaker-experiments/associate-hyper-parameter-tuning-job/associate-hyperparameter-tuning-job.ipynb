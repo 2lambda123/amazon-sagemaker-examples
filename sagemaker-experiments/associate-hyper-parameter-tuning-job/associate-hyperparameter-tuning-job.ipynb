{
 "cells": [
  {
   "cell_type": "markdown",
   "id": "rental-craps",
   "metadata": {
    "papermill": {
     "duration": 0.004199,
     "end_time": "2021-06-01T00:10:52.481667",
     "exception": false,
     "start_time": "2021-06-01T00:10:52.477468",
     "status": "completed"
    },
    "tags": []
   },
   "source": [
    "# Experiment Management for Hyperparameter Tuning Jobs\n",
    "\n",
    "Demonstrates how to associate trial components created by a hyperparameter tuning job with an experiment management trial.\n",
    "\n",
    "Prerequisite - hyperparameter tuning job has already been created.\n",
    "\n",
    "## Steps\n",
    "1. retrieves the most recently created tuning job\n",
    "1. creates an experiment or retrieve an existing one\n",
    "1. creates a trial or retrieve an existing one\n",
    "1. retrieve all the training jobs created by the tuning job\n",
    "1. retrieve all the trial components created by those training jobs\n",
    "1. associate the trial components with the trial\n",
    "\n",
    "_Testing using SageMaker Studio with the `Python 3(Data Science)` kernel._"
   ]
  },
  {
   "cell_type": "code",
   "execution_count": 2,
   "id": "distinguished-ireland",
   "metadata": {
    "execution": {
     "iopub.execute_input": "2021-06-01T00:10:52.493466Z",
     "iopub.status.busy": "2021-06-01T00:10:52.493036Z",
     "iopub.status.idle": "2021-06-01T00:10:54.370986Z",
     "shell.execute_reply": "2021-06-01T00:10:54.370568Z"
    },
    "papermill": {
     "duration": 1.88515,
     "end_time": "2021-06-01T00:10:54.371097",
     "exception": false,
     "start_time": "2021-06-01T00:10:52.485947",
     "status": "completed"
    },
    "tags": []
   },
   "outputs": [],
   "source": [
    "import sys\n",
    "\n",
    "!{sys.executable} -m pip install sagemaker-experiments==0.1.25"
   ]
  },
  {
   "cell_type": "code",
   "execution_count": 1,
   "id": "universal-collector",
   "metadata": {
    "execution": {
     "iopub.execute_input": "2021-06-01T00:10:54.387157Z",
     "iopub.status.busy": "2021-06-01T00:10:54.386709Z",
     "iopub.status.idle": "2021-06-01T00:10:55.035986Z",
     "shell.execute_reply": "2021-06-01T00:10:55.035438Z"
    },
    "papermill": {
     "duration": 0.658956,
     "end_time": "2021-06-01T00:10:55.036113",
     "exception": false,
     "start_time": "2021-06-01T00:10:54.377157",
     "status": "completed"
    },
    "tags": []
   },
   "outputs": [],
   "source": [
    "import time\n",
    "from datetime import timezone\n",
    "\n",
    "import boto3\n",
    "from sagemaker import HyperparameterTuningJobAnalytics, Session\n",
    "from smexperiments.experiment import Experiment\n",
    "from smexperiments.search_expression import Filter, Operator, SearchExpression\n",
    "from smexperiments.trial import Trial\n",
    "from smexperiments.trial_component import TrialComponent\n",
    "\n",
    "sess = boto3.Session()\n",
    "sm = sess.client(\"sagemaker\")\n",
    "sagemaker_session = Session(sess)"
   ]
  },
  {
   "cell_type": "code",
   "execution_count": 3,
   "id": "unusual-guyana",
   "metadata": {
    "execution": {
     "iopub.execute_input": "2021-06-01T00:10:55.052797Z",
     "iopub.status.busy": "2021-06-01T00:10:55.052353Z",
     "iopub.status.idle": "2021-06-01T00:10:55.176556Z",
     "shell.execute_reply": "2021-06-01T00:10:55.176901Z"
    },
    "papermill": {
     "duration": 0.135147,
     "end_time": "2021-06-01T00:10:55.177026",
     "exception": false,
     "start_time": "2021-06-01T00:10:55.041879",
     "status": "completed"
    },
    "tags": []
   },
   "outputs": [],
   "source": [
    "# get the most recently created tuning job\n",
    "\n",
    "list_tuning_jobs_response = sm.list_hyper_parameter_tuning_jobs(\n",
    "    SortBy=\"CreationTime\", SortOrder=\"Descending\"\n",
    ")\n",
    "print(f'Found {len(list_tuning_jobs_response[\"HyperParameterTuningJobSummaries\"])} tuning jobs.')\n",
    "tuning_jobs = list_tuning_jobs_response[\"HyperParameterTuningJobSummaries\"]\n",
    "most_recently_created_tuning_job = tuning_jobs[0]\n",
    "tuning_job_name = most_recently_created_tuning_job[\"HyperParameterTuningJobName\"]\n",
    "experiment_name = \"example-experiment-with-tuning-jobs\"\n",
    "trial_name = tuning_job_name + \"-trial\"\n",
    "\n",
    "print(f\"Associate all training jobs created by {tuning_job_name} with trial {trial_name}\")"
   ]
  },
  {
   "cell_type": "code",
   "execution_count": 4,
   "id": "turkish-remainder",
   "metadata": {
    "execution": {
     "iopub.execute_input": "2021-06-01T00:10:55.200295Z",
     "iopub.status.busy": "2021-06-01T00:10:55.195460Z",
     "iopub.status.idle": "2021-06-01T00:10:55.551959Z",
     "shell.execute_reply": "2021-06-01T00:10:55.552334Z"
    },
    "papermill": {
     "duration": 0.369561,
     "end_time": "2021-06-01T00:10:55.552473",
     "exception": false,
     "start_time": "2021-06-01T00:10:55.182912",
     "status": "completed"
    },
    "tags": []
   },
   "outputs": [],
   "source": [
    "# create the experiment if it doesn't exist\n",
    "try:\n",
    "    experiment = Experiment.load(experiment_name=experiment_name)\n",
    "except Exception as ex:\n",
    "    if \"ResourceNotFound\" in str(ex):\n",
    "        experiment = Experiment.create(experiment_name=experiment_name)\n",
    "\n",
    "\n",
    "# create the trial if it doesn't exist\n",
    "try:\n",
    "    trial = Trial.load(trial_name=trial_name)\n",
    "except Exception as ex:\n",
    "    if \"ResourceNotFound\" in str(ex):\n",
    "        trial = Trial.create(experiment_name=experiment_name, trial_name=trial_name)"
   ]
  },
  {
   "cell_type": "code",
   "execution_count": 5,
   "id": "occasional-terror",
   "metadata": {
    "execution": {
     "iopub.execute_input": "2021-06-01T00:10:55.571228Z",
     "iopub.status.busy": "2021-06-01T00:10:55.570787Z",
     "iopub.status.idle": "2021-06-01T00:10:55.964814Z",
     "shell.execute_reply": "2021-06-01T00:10:55.964409Z"
    },
    "papermill": {
     "duration": 0.406419,
     "end_time": "2021-06-01T00:10:55.964938",
     "exception": false,
     "start_time": "2021-06-01T00:10:55.558519",
     "status": "completed"
    },
    "tags": []
   },
   "outputs": [],
   "source": [
    "# get the trial components derived from the training jobs\n",
    "\n",
    "creation_time = most_recently_created_tuning_job[\"CreationTime\"]\n",
    "creation_time = creation_time.astimezone(timezone.utc)\n",
    "creation_time = creation_time.strftime(\"%Y-%m-%dT%H:%M:%SZ\")\n",
    "\n",
    "created_after_filter = Filter(\n",
    "    name=\"CreationTime\",\n",
    "    operator=Operator.GREATER_THAN_OR_EQUAL,\n",
    "    value=str(creation_time),\n",
    ")\n",
    "\n",
    "# the training job names contain the tuning job name (and the training job name is in the source arn)\n",
    "source_arn_filter = Filter(\n",
    "    name=\"TrialComponentName\", operator=Operator.CONTAINS, value=tuning_job_name\n",
    ")\n",
    "source_type_filter = Filter(\n",
    "    name=\"Source.SourceType\", operator=Operator.EQUALS, value=\"SageMakerTrainingJob\"\n",
    ")\n",
    "\n",
    "search_expression = SearchExpression(\n",
    "    filters=[created_after_filter, source_arn_filter, source_type_filter]\n",
    ")\n",
    "\n",
    "# search iterates over every page of results by default\n",
    "trial_component_search_results = list(\n",
    "    TrialComponent.search(search_expression=search_expression, sagemaker_boto_client=sm)\n",
    ")\n",
    "print(f\"Found {len(trial_component_search_results)} trial components.\")"
   ]
  },
  {
   "cell_type": "code",
   "execution_count": null,
   "id": "still-forum",
   "metadata": {
    "execution": {
     "iopub.execute_input": "2021-06-01T00:10:55.982196Z",
     "iopub.status.busy": "2021-06-01T00:10:55.981749Z",
     "iopub.status.idle": "2021-06-01T00:11:15.085892Z",
     "shell.execute_reply": "2021-06-01T00:11:15.085163Z"
    },
    "papermill": {
     "duration": 19.114804,
     "end_time": "2021-06-01T00:11:15.086105",
     "exception": true,
     "start_time": "2021-06-01T00:10:55.971301",
     "status": "failed"
    },
    "tags": []
   },
   "outputs": [],
   "source": [
    "# associate the trial components with the trial\n",
    "for tc in trial_component_search_results:\n",
    "    print(f\"Associating trial component {tc.trial_component_name} with trial {trial.trial_name}.\")\n",
    "    trial.add_trial_component(tc.trial_component_name)\n",
    "    # sleep to avoid throttling\n",
    "    time.sleep(30)"
   ]
  },
  {
   "cell_type": "markdown",
   "id": "thousand-aberdeen",
   "metadata": {
    "papermill": {
     "duration": null,
     "end_time": null,
     "exception": null,
     "start_time": null,
     "status": "pending"
    },
    "tags": []
   },
   "source": [
    "## Contact\n",
    "Submit any questions or issues to https://github.com/aws/sagemaker-experiments/issues or mention @aws/sagemakerexperimentsadmin "
   ]
  }
 ],
 "metadata": {
  "instance_type": "ml.t3.medium",
  "kernelspec": {
   "display_name": "Environment (conda_anaconda3)",
   "language": "python",
   "name": "conda_anaconda3"
  },
  "language_info": {
   "codemirror_mode": {
    "name": "ipython",
    "version": 3
   },
   "file_extension": ".py",
   "mimetype": "text/x-python",
   "name": "python",
   "nbconvert_exporter": "python",
   "pygments_lexer": "ipython3",
   "version": "3.7.6"
  },
  "papermill": {
   "default_parameters": {},
   "duration": 23.932595,
   "end_time": "2021-06-01T00:11:15.591272",
   "environment_variables": {},
   "exception": true,
   "input_path": "associate-hyperparameter-tuning-job.ipynb",
   "output_path": "/opt/ml/processing/output/associate-hyperparameter-tuning-job-2021-06-01-00-06-34.ipynb",
   "parameters": {
    "kms_key": "arn:aws:kms:us-west-2:521695447989:key/6e9984db-50cf-4c7e-926c-877ec47a8b25"
   },
   "start_time": "2021-06-01T00:10:51.658677",
   "version": "2.3.3"
  }
 },
 "nbformat": 4,
 "nbformat_minor": 5
}