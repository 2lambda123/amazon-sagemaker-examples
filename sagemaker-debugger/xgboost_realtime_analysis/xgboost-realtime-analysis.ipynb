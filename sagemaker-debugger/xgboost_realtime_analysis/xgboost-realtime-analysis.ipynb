{
 "cells": [
  {
   "cell_type": "code",
   "execution_count": 1,
   "id": "joined-limitation",
   "metadata": {
    "execution": {
     "iopub.execute_input": "2021-06-01T00:12:38.259759Z",
     "iopub.status.busy": "2021-06-01T00:12:38.259284Z",
     "iopub.status.idle": "2021-06-01T00:12:38.261016Z",
     "shell.execute_reply": "2021-06-01T00:12:38.261364Z"
    },
    "papermill": {
     "duration": 0.015438,
     "end_time": "2021-06-01T00:12:38.261514",
     "exception": false,
     "start_time": "2021-06-01T00:12:38.246076",
     "status": "completed"
    },
    "tags": [
     "injected-parameters"
    ]
   },
   "outputs": [
    {
     "name": "stdout",
     "output_type": "stream",
     "text": [
      "Requirement already satisfied: smdebug in /home/ubuntu/anaconda3/lib/python3.7/site-packages (1.0.0)\n",
      "Requirement already satisfied: boto3>=1.10.32 in /home/ubuntu/anaconda3/lib/python3.7/site-packages (from smdebug) (1.17.17)\n",
      "Requirement already satisfied: numpy<2.0.0,>1.16.0 in /home/ubuntu/anaconda3/lib/python3.7/site-packages (from smdebug) (1.18.1)\n",
      "Requirement already satisfied: pyinstrument>=3.1.3 in /home/ubuntu/anaconda3/lib/python3.7/site-packages (from smdebug) (3.2.0)\n",
      "Requirement already satisfied: protobuf>=3.6.0 in /home/ubuntu/anaconda3/lib/python3.7/site-packages (from smdebug) (3.11.4)\n",
      "Requirement already satisfied: packaging in /home/ubuntu/anaconda3/lib/python3.7/site-packages (from smdebug) (20.1)\n",
      "Requirement already satisfied: s3transfer<0.4.0,>=0.3.0 in /home/ubuntu/anaconda3/lib/python3.7/site-packages (from boto3>=1.10.32->smdebug) (0.3.3)\n",
      "Requirement already satisfied: jmespath<1.0.0,>=0.7.1 in /home/ubuntu/anaconda3/lib/python3.7/site-packages (from boto3>=1.10.32->smdebug) (0.10.0)\n",
      "Requirement already satisfied: botocore<1.21.0,>=1.20.17 in /home/ubuntu/anaconda3/lib/python3.7/site-packages (from boto3>=1.10.32->smdebug) (1.20.17)\n",
      "Requirement already satisfied: urllib3<1.27,>=1.25.4 in /home/ubuntu/anaconda3/lib/python3.7/site-packages (from botocore<1.21.0,>=1.20.17->boto3>=1.10.32->smdebug) (1.25.8)\n",
      "Requirement already satisfied: python-dateutil<3.0.0,>=2.1 in /home/ubuntu/anaconda3/lib/python3.7/site-packages (from botocore<1.21.0,>=1.20.17->boto3>=1.10.32->smdebug) (2.8.1)\n",
      "Requirement already satisfied: six>=1.9 in /home/ubuntu/anaconda3/lib/python3.7/site-packages (from protobuf>=3.6.0->smdebug) (1.14.0)\n",
      "Requirement already satisfied: setuptools in /home/ubuntu/anaconda3/lib/python3.7/site-packages (from protobuf>=3.6.0->smdebug) (45.2.0.post20200210)\n",
      "Requirement already satisfied: pyinstrument-cext>=0.2.2 in /home/ubuntu/anaconda3/lib/python3.7/site-packages (from pyinstrument>=3.1.3->smdebug) (0.2.3)\n",
      "Requirement already satisfied: pyparsing>=2.0.2 in /home/ubuntu/anaconda3/lib/python3.7/site-packages (from packaging->smdebug) (2.4.6)\n",
      "\u001b[33mWARNING: You are using pip version 21.1.1; however, version 21.1.2 is available.\n",
      "You should consider upgrading via the '/home/ubuntu/anaconda3/bin/python -m pip install --upgrade pip' command.\u001b[0m\n"
     ]
    }
   ],
   "source": [
    "!pip install smdebug"
   ]
  },
  {
   "cell_type": "markdown",
   "id": "soviet-cleaners",
   "metadata": {
    "papermill": {
     "duration": 0.009474,
     "end_time": "2021-06-01T00:12:38.280932",
     "exception": false,
     "start_time": "2021-06-01T00:12:38.271458",
     "status": "completed"
    },
    "tags": []
   },
   "source": [
    "# Debugging XGBoost training jobs in real time with Amazon SageMaker Debugger \n",
    "\n",
    "This notebook uses the MNIST dataset to demonstrate real-time analysis of XGBoost training jobs while the training jobs are running. \n",
    "\n",
    "This notebook was created and tested on an ml.m5.4xlarge notebook instance using 100GB instance volume. \n",
    "\n",
    "## Overview \n",
    "\n",
    "Amazon SageMaker Debugger allows debugging machine learning training.  \n",
    "SageMaker Debugger helps you to monitor your training in near real time using rules and provides alerts if it detects issues in training.\n",
    "\n",
    "Using SageMaker Debugger is a two step process: Saving model parameters and analysis. \n",
    "Let's look at each one of them closely. \n",
    "\n",
    "### Saving model parameters\n",
    "\n",
    "In machine learning process, model parameters are updated every forward and backward pass and can describe the state of the training job at any particular instant in an ML lifecycle.\n",
    "Amazon SageMaker Debugger allows you to capture the model parameters and save them for analysis.\n",
    "Although XGBoost is not a deep learning algorithm, Amazon SageMaker Debugger is highly customizable and can help you interpret results by saving insightful metrics. For example, performance metrics or the importance of features at different frequencies. \n",
    "Refer to [SageMaker Debugger documentation](https://docs.aws.amazon.com/sagemaker/latest/dg/debugger-configuration.html) for details on how to save the metrics you want. \n",
    "\n",
    "\n",
    "### Analysis\n",
    "\n",
    "There are two ways to get to model parameters and run analysis on them.\n",
    "\n",
    "One way is to use concept called ***Rules***. On a very broad level, a rule is Python code used to detect certain conditions during training.\n",
    "Some of the conditions that a data scientist training an algorithm may care about are monitoring for gradients getting too large or too small, detecting overfitting, and so on.\n",
    "Amazon SageMaker Debugger comes pre-packaged with certain built-in rules that can be invoked on Amazon SageMaker. You can also write your own rules using the Amazon SageMaker Debugger APIs. \n",
    "For more details about automatic analysis using rules, see [Configure Debugger Built-in Rules](https://docs.aws.amazon.com/sagemaker/latest/dg/use-debugger-built-in-rules.html) and [List of Debugger Built-in Rules](https://docs.aws.amazon.com/sagemaker/latest/dg/debugger-built-in-rules.html).\n",
    "\n",
    "This notebook also walk you through how to use the SMDebug client library for analysis in real time while training jobs are running. The SMDebug client library enables you to retrieve model parameters and scalars saved during training job via few lines of code.\n",
    "\n",
    "Through the model parameter analysis, you can drill down into training issues you're running into. You save raw model parameter data in order to understand your model better, and figure out the root cause of training problems.\n",
    "\n",
    "![Animated confusion matrix](cm.gif)"
   ]
  },
  {
   "cell_type": "markdown",
   "id": "strategic-mason",
   "metadata": {
    "papermill": {
     "duration": 0.009511,
     "end_time": "2021-06-01T00:12:38.300013",
     "exception": false,
     "start_time": "2021-06-01T00:12:38.290502",
     "status": "completed"
    },
    "tags": []
   },
   "source": [
    "## Import SageMaker Python SDK and the SMDebug client library"
   ]
  },
  {
   "cell_type": "markdown",
   "id": "particular-liberty",
   "metadata": {
    "papermill": {
     "duration": 0.009409,
     "end_time": "2021-06-01T00:12:38.318965",
     "exception": false,
     "start_time": "2021-06-01T00:12:38.309556",
     "status": "completed"
    },
    "tags": []
   },
   "source": [
    "<font color='red'>**Important**</font>: To use the new Debugger features, you need to upgrade the SageMaker Python SDK and the SMDebug libary. In the following cell, change the third line to `install_needed=True` and run to upgrade the libraries."
   ]
  },
  {
   "cell_type": "code",
   "execution_count": 2,
   "id": "herbal-scratch",
   "metadata": {
    "execution": {
     "iopub.execute_input": "2021-06-01T00:12:38.343772Z",
     "iopub.status.busy": "2021-06-01T00:12:38.343303Z",
     "iopub.status.idle": "2021-06-01T00:12:38.345194Z",
     "shell.execute_reply": "2021-06-01T00:12:38.345543Z"
    },
    "papermill": {
     "duration": 0.017313,
     "end_time": "2021-06-01T00:12:38.345671",
     "exception": false,
     "start_time": "2021-06-01T00:12:38.328358",
     "status": "completed"
    },
    "tags": []
   },
   "outputs": [],
   "source": [
    "import sys\n",
    "import IPython\n",
    "install_needed = False  # Set to True to upgrade\n",
    "if install_needed:\n",
    "    print(\"installing deps and restarting kernel\")\n",
    "    !{sys.executable} -m pip install -U sagemaker\n",
    "    !{sys.executable} -m pip install -U smdebug\n",
    "    IPython.Application.instance().kernel.do_shutdown(True)"
   ]
  },
  {
   "cell_type": "code",
   "execution_count": 3,
   "id": "starting-elimination",
   "metadata": {
    "execution": {
     "iopub.execute_input": "2021-06-01T00:12:38.368286Z",
     "iopub.status.busy": "2021-06-01T00:12:38.367556Z",
     "iopub.status.idle": "2021-06-01T00:12:38.785602Z",
     "shell.execute_reply": "2021-06-01T00:12:38.785950Z"
    },
    "papermill": {
     "duration": 0.430822,
     "end_time": "2021-06-01T00:12:38.786097",
     "exception": false,
     "start_time": "2021-06-01T00:12:38.355275",
     "status": "completed"
    },
    "tags": []
   },
   "outputs": [],
   "source": [
    "import boto3\n",
    "import sagemaker"
   ]
  },
  {
   "cell_type": "markdown",
   "id": "decimal-opera",
   "metadata": {
    "papermill": {
     "duration": 0.009699,
     "end_time": "2021-06-01T00:12:38.805821",
     "exception": false,
     "start_time": "2021-06-01T00:12:38.796122",
     "status": "completed"
    },
    "tags": []
   },
   "source": [
    "Amazon SageMaker Debugger is available in Amazon SageMaker XGBoost container version `0.90-2` or later. The following cell retrieves the SageMaker XGBoost 0.90-2 container."
   ]
  },
  {
   "cell_type": "code",
   "execution_count": 4,
   "id": "numerical-dodge",
   "metadata": {
    "execution": {
     "iopub.execute_input": "2021-06-01T00:12:38.836586Z",
     "iopub.status.busy": "2021-06-01T00:12:38.836136Z",
     "iopub.status.idle": "2021-06-01T00:12:38.845118Z",
     "shell.execute_reply": "2021-06-01T00:12:38.845471Z"
    },
    "papermill": {
     "duration": 0.029848,
     "end_time": "2021-06-01T00:12:38.845604",
     "exception": false,
     "start_time": "2021-06-01T00:12:38.815756",
     "status": "completed"
    },
    "tags": []
   },
   "outputs": [],
   "source": [
    "from sagemaker import image_uris\n",
    "\n",
    "# Below changes the region to be one where this notebook is running\n",
    "region = boto3.Session().region_name\n",
    "container = sagemaker.image_uris.retrieve(\"xgboost\", region, \"0.90-2\")"
   ]
  },
  {
   "cell_type": "markdown",
   "id": "attached-scanning",
   "metadata": {
    "papermill": {
     "duration": 0.009687,
     "end_time": "2021-06-01T00:12:38.865116",
     "exception": false,
     "start_time": "2021-06-01T00:12:38.855429",
     "status": "completed"
    },
    "tags": []
   },
   "source": [
    "## Training XGBoost models in Amazon SageMaker with Amazon SageMaker Debugger\n",
    "\n",
    "In this section you learn to train an XGBoost model with Amazon SageMaker Debugger enabled and monitor the training jobs.\n",
    "This is done using the SageMaker [Estimator API](https://sagemaker.readthedocs.io/en/stable/estimators.html#sagemaker.estimator.Estimator).\n",
    "While training job is running, use the SageMaker Debugger API to access saved model parameters in real time and visualize them.\n",
    "You can also download a fresh set of model parameters every time you query for using the SMDebug library.\n",
    "\n",
    "This notebook is adapted from [XGBoost for Classification](https://github.com/aws/amazon-sagemaker-examples/blob/master/introduction_to_amazon_algorithms/xgboost_mnist/xgboost_mnist.ipynb).\n",
    "\n",
    "### Data preparation\n",
    "\n",
    "Use the [MNIST data](https://www.csie.ntu.edu.tw/~cjlin/libsvmtools/datasets/multiclass.html) stored in [LIBSVM](https://www.csie.ntu.edu.tw/~cjlin/libsvm/) format."
   ]
  },
  {
   "cell_type": "code",
   "execution_count": 5,
   "id": "specified-holocaust",
   "metadata": {
    "execution": {
     "iopub.execute_input": "2021-06-01T00:12:38.888149Z",
     "iopub.status.busy": "2021-06-01T00:12:38.887413Z",
     "iopub.status.idle": "2021-06-01T00:12:39.752237Z",
     "shell.execute_reply": "2021-06-01T00:12:39.752618Z"
    },
    "papermill": {
     "duration": 0.877953,
     "end_time": "2021-06-01T00:12:39.752761",
     "exception": false,
     "start_time": "2021-06-01T00:12:38.874808",
     "status": "completed"
    },
    "tags": []
   },
   "outputs": [],
   "source": [
    "from data_utils import load_mnist, upload_to_s3\n",
    "\n",
    "bucket = sagemaker.Session().default_bucket()\n",
    "prefix = \"DEMO-smdebug-xgboost-mnist\""
   ]
  },
  {
   "cell_type": "code",
   "execution_count": 6,
   "id": "sought-abraham",
   "metadata": {
    "execution": {
     "iopub.execute_input": "2021-06-01T00:12:39.776554Z",
     "iopub.status.busy": "2021-06-01T00:12:39.776112Z",
     "iopub.status.idle": "2021-06-01T00:12:48.047455Z",
     "shell.execute_reply": "2021-06-01T00:12:48.047820Z"
    },
    "papermill": {
     "duration": 8.285145,
     "end_time": "2021-06-01T00:12:48.047985",
     "exception": false,
     "start_time": "2021-06-01T00:12:39.762840",
     "status": "completed"
    },
    "tags": []
   },
   "outputs": [
    {
     "name": "stdout",
     "output_type": "stream",
     "text": [
      "Writing to s3://sagemaker-us-west-2-688520471316/DEMO-smdebug-xgboost-mnist/train/mnist.train.libsvm\n",
      "Writing to s3://sagemaker-us-west-2-688520471316/DEMO-smdebug-xgboost-mnist/validation/mnist.validation.libsvm\n",
      "CPU times: user 3.41 s, sys: 459 ms, total: 3.86 s\n",
      "Wall time: 40.5 s\n"
     ]
    }
   ],
   "source": [
    "%%time\n",
    "\n",
    "train_file, validation_file = load_mnist()\n",
    "upload_to_s3(train_file, bucket, f\"{prefix}/train/mnist.train.libsvm\")\n",
    "upload_to_s3(validation_file, bucket, f\"{prefix}/validation/mnist.validation.libsvm\")"
   ]
  },
  {
   "cell_type": "markdown",
   "id": "ultimate-fetish",
   "metadata": {
    "papermill": {
     "duration": 0.010787,
     "end_time": "2021-06-01T00:12:48.069893",
     "exception": false,
     "start_time": "2021-06-01T00:12:48.059106",
     "status": "completed"
    },
    "tags": []
   },
   "source": [
    "### Enabling Amazon SageMaker Debugger in the estimator object\n",
    "\n",
    "Enabling Amazon SageMaker Debugger in a training job can be accomplished by adding its configuration into an Estimator object constructor:\n",
    "\n",
    "```\n",
    "from sagemaker.debugger import DebuggerHookConfig\n",
    "\n",
    "estimator = Estimator(\n",
    "    ...,\n",
    "    debugger_hook_config = DebuggerHookConfig(\n",
    "        s3_output_path=\"s3://{bucket_name}/{location_in_bucket}\",  # Optional\n",
    "        collection_configs=[\n",
    "            CollectionConfig(\n",
    "                name=\"metrics\",\n",
    "                parameters={\n",
    "                    \"save_interval\": \"10\"\n",
    "                }\n",
    "            )\n",
    "        ]\n",
    "    )\n",
    ")\n",
    "```\n",
    "Here, the `DebuggerHookConfig` object configures which data `Estimator` should save for the real-time visualization. Provide two parameters:\n",
    "\n",
    "- `s3_output_path`: Points to an S3 bucket where you intend to store model parameters. Amount of data saved depends on multiple factors, major ones are training job, data set, model, frequency of saving model parameters. This S3 bucket should be in your AWS account so that you have full access to control over the stored data. **Note**: The S3 bucket should be originally created in the same Region where your training job is running, otherwise you might run into problems with cross-Region access.\n",
    "\n",
    "- `collection_configs`: It enumerates named collections of model parameters to save. Collections are a convenient way to organize relevant model parameters under same umbrella to make it easy to navigate them during analysis. In this particular example, you are interested in a single collection named `metrics`. You also configured Amazon SageMaker Debugger to save metrics every 10 iterations. For all parameters that are supported by Collections and DebuggerConfig, see [Collection documentation](https://github.com/awslabs/sagemaker-debugger/blob/master/docs/api.md)."
   ]
  },
  {
   "cell_type": "markdown",
   "id": "cardiac-finder",
   "metadata": {
    "papermill": {
     "duration": 0.010587,
     "end_time": "2021-06-01T00:12:48.091065",
     "exception": false,
     "start_time": "2021-06-01T00:12:48.080478",
     "status": "completed"
    },
    "tags": []
   },
   "source": [
    "### Using Amazon SageMaker Debugger with XGBoost Classification\n",
    "\n",
    "Import the libraries for the demo of Amazon SageMaker Debugger."
   ]
  },
  {
   "cell_type": "code",
   "execution_count": 7,
   "id": "visible-allah",
   "metadata": {
    "execution": {
     "iopub.execute_input": "2021-06-01T00:12:48.124920Z",
     "iopub.status.busy": "2021-06-01T00:12:48.124210Z",
     "iopub.status.idle": "2021-06-01T00:12:48.552189Z",
     "shell.execute_reply": "2021-06-01T00:12:48.551722Z"
    },
    "papermill": {
     "duration": 0.450625,
     "end_time": "2021-06-01T00:12:48.552311",
     "exception": false,
     "start_time": "2021-06-01T00:12:48.101686",
     "status": "completed"
    },
    "tags": []
   },
   "outputs": [],
   "source": [
    "from sagemaker import get_execution_role\n",
    "\n",
    "role = get_execution_role()\n",
    "base_job_name = \"demo-smdebug-xgboost-classification\"\n",
    "bucket_path = \"s3://{}\".format(bucket)\n",
    "\n",
    "num_round = 25\n",
    "save_interval = 3\n",
    "hyperparameters = {\n",
    "    \"max_depth\": \"5\",\n",
    "    \"eta\": \"0.1\",\n",
    "    \"gamma\": \"4\",\n",
    "    \"min_child_weight\": \"6\",\n",
    "    \"silent\": \"0\",\n",
    "    \"objective\": \"multi:softmax\",\n",
    "    \"num_class\": \"10\",  # num_class is required for 'multi:*' objectives\n",
    "    \"num_round\": num_round,\n",
    "}"
   ]
  },
  {
   "cell_type": "code",
   "execution_count": 8,
   "id": "distinguished-secretariat",
   "metadata": {
    "execution": {
     "iopub.execute_input": "2021-06-01T00:12:48.587090Z",
     "iopub.status.busy": "2021-06-01T00:12:48.586610Z",
     "iopub.status.idle": "2021-06-01T00:12:48.628894Z",
     "shell.execute_reply": "2021-06-01T00:12:48.628391Z"
    },
    "papermill": {
     "duration": 0.065745,
     "end_time": "2021-06-01T00:12:48.629008",
     "exception": false,
     "start_time": "2021-06-01T00:12:48.563263",
     "status": "completed"
    },
    "tags": []
   },
   "outputs": [],
   "source": [
    "from sagemaker.estimator import Estimator\n",
    "from sagemaker.debugger import DebuggerHookConfig, CollectionConfig\n",
    "\n",
    "xgboost_algorithm_mode_estimator = Estimator(\n",
    "    role=role,\n",
    "    base_job_name=base_job_name,\n",
    "    instance_count=1,\n",
    "    instance_type=\"ml.m5.xlarge\",\n",
    "    image_uri=container,\n",
    "    hyperparameters=hyperparameters,\n",
    "    max_run=1800,\n",
    "    debugger_hook_config=DebuggerHookConfig(\n",
    "        s3_output_path=bucket_path,  # Required\n",
    "        collection_configs=[\n",
    "            CollectionConfig(name=\"metrics\", parameters={\"save_interval\": str(save_interval)}),\n",
    "            CollectionConfig(name=\"predictions\", parameters={\"save_interval\": str(save_interval)}),\n",
    "            CollectionConfig(name=\"labels\", parameters={\"save_interval\": str(save_interval)}),\n",
    "        ],\n",
    "    ),\n",
    ")"
   ]
  },
  {
   "cell_type": "markdown",
   "id": "acceptable-density",
   "metadata": {
    "papermill": {
     "duration": 0.010888,
     "end_time": "2021-06-01T00:12:48.652632",
     "exception": false,
     "start_time": "2021-06-01T00:12:48.641744",
     "status": "completed"
    },
    "pycharm": {
     "name": "#%% md\n"
    },
    "tags": []
   },
   "source": [
    "With the next step you are going to actually start a training job using the Estimator object you created above. This job is started in asynchronous, non-blocking way. This means that control is passed back to the notebook and further commands can be run while training job is progressing."
   ]
  },
  {
   "cell_type": "code",
   "execution_count": 9,
   "id": "integrated-oxide",
   "metadata": {
    "execution": {
     "iopub.execute_input": "2021-06-01T00:12:48.679412Z",
     "iopub.status.busy": "2021-06-01T00:12:48.678646Z",
     "iopub.status.idle": "2021-06-01T00:12:49.312268Z",
     "shell.execute_reply": "2021-06-01T00:12:49.312652Z"
    },
    "papermill": {
     "duration": 0.649359,
     "end_time": "2021-06-01T00:12:49.312794",
     "exception": false,
     "start_time": "2021-06-01T00:12:48.663435",
     "status": "completed"
    },
    "tags": []
   },
   "outputs": [],
   "source": [
    "from sagemaker.session import TrainingInput\n",
    "\n",
    "train_s3_input = TrainingInput(\n",
    "    \"s3://{}/{}/{}\".format(bucket, prefix, \"train\"), content_type=\"libsvm\"\n",
    ")\n",
    "validation_s3_input = TrainingInput(\n",
    "    \"s3://{}/{}/{}\".format(bucket, prefix, \"validation\"), content_type=\"libsvm\"\n",
    ")\n",
    "\n",
    "# This is a fire and forget event. By setting wait=False, you just submit the job to run in the background.\n",
    "# Amazon SageMaker will start one training job and release control to next cells in the notebook.\n",
    "# Follow this notebook to see status of the training job.\n",
    "xgboost_algorithm_mode_estimator.fit(\n",
    "    {\"train\": train_s3_input, \"validation\": validation_s3_input}, wait=False\n",
    ")"
   ]
  },
  {
   "cell_type": "markdown",
   "id": "acute-positive",
   "metadata": {
    "papermill": {
     "duration": 0.010851,
     "end_time": "2021-06-01T00:12:49.334635",
     "exception": false,
     "start_time": "2021-06-01T00:12:49.323784",
     "status": "completed"
    },
    "tags": []
   },
   "source": [
    "### Result\n",
    "\n",
    "As a result of the above command, Amazon SageMaker starts one training job for you and it produces model parameters to be analyzed.\n",
    "This job will run in a background without you having to wait for it to complete in order to continue with the rest of the notebook.\n",
    "Because of this asynchronous nature of a training job, you need to monitor its status so that you don't start to request debugging too early.\n",
    "\n",
    "\n",
    "## Analysis and Visualization\n",
    "\n",
    "### Checking on the training job status\n",
    "\n",
    "Check the status of the training job by running the following code.\n",
    "It checks on the status of an Amazon SageMaker training job every 15 seconds.\n",
    "Once a training job has started its training cycle, it proceeds to the next cells in the notebook.\n",
    "That means training job started to tune the model and, in parallel, emit model parameters."
   ]
  },
  {
   "cell_type": "code",
   "execution_count": 10,
   "id": "injured-justice",
   "metadata": {
    "execution": {
     "iopub.execute_input": "2021-06-01T00:12:49.363523Z",
     "iopub.status.busy": "2021-06-01T00:12:49.363046Z",
     "iopub.status.idle": "2021-06-01T00:15:36.098086Z",
     "shell.execute_reply": "2021-06-01T00:15:36.097660Z"
    },
    "papermill": {
     "duration": 166.752737,
     "end_time": "2021-06-01T00:15:36.098201",
     "exception": false,
     "start_time": "2021-06-01T00:12:49.345464",
     "status": "completed"
    },
    "tags": []
   },
   "outputs": [
    {
     "name": "stdout",
     "output_type": "stream",
     "text": [
      "Training job name: demo-smdebug-xgboost-classification-2021-06-02-19-19-05-868\n",
      "19:19:06: InProgress, Starting\n",
      "19:19:21: InProgress, Starting\n",
      "19:19:36: InProgress, Starting\n",
      "19:19:51: InProgress, Starting\n",
      "19:20:06: InProgress, Starting\n",
      "19:20:21: InProgress, Starting\n",
      "19:20:37: InProgress, Starting\n",
      "19:20:52: InProgress, Starting\n",
      "19:21:07: InProgress, Starting\n",
      "19:21:22: InProgress, Starting\n",
      "19:21:37: InProgress, Downloading\n",
      "19:21:52: InProgress, Downloading\n",
      "19:22:07: InProgress, Training\n"
     ]
    }
   ],
   "source": [
    "import time\n",
    "from time import gmtime, strftime\n",
    "\n",
    "\n",
    "# Below command will give the status of training job\n",
    "job_name = xgboost_algorithm_mode_estimator.latest_training_job.name\n",
    "client = xgboost_algorithm_mode_estimator.sagemaker_session.sagemaker_client\n",
    "description = client.describe_training_job(TrainingJobName=job_name)\n",
    "print(\"Training job name: \" + job_name)\n",
    "\n",
    "if description[\"TrainingJobStatus\"] != \"Completed\":\n",
    "    while description[\"SecondaryStatus\"] not in [\"Training\", \"Completed\"]:\n",
    "        description = client.describe_training_job(TrainingJobName=job_name)\n",
    "        primary_status = description[\"TrainingJobStatus\"]\n",
    "        secondary_status = description[\"SecondaryStatus\"]\n",
    "        print(\"{}: {}, {}\".format(strftime(\"%X\", gmtime()), primary_status, secondary_status))\n",
    "        time.sleep(15)"
   ]
  },
  {
   "cell_type": "markdown",
   "id": "amended-costs",
   "metadata": {
    "papermill": {
     "duration": 0.013052,
     "end_time": "2021-06-01T00:15:36.124592",
     "exception": false,
     "start_time": "2021-06-01T00:15:36.111540",
     "status": "completed"
    },
    "tags": []
   },
   "source": [
    "### Retrieving and analyzing model parameters\n",
    "\n",
    "Before getting to analysis, here are some notes on concepts being used in Amazon SageMaker Debugger that help with analysis.\n",
    "- ***Trial*** - Object that is a centerpiece of the SageMaker Debugger API when it comes to getting access to model parameters. It is a top level abstract that represents a single run of a training job. All model parameters emitted by a training job are associated with its *trial*.\n",
    "- ***Tensor*** - Object that represents model parameters, such as weights, gradients, accuracy, and loss, that are saved during training job.\n",
    "\n",
    "For more details on aforementioned concepts as well as on SageMaker Debugger API and examples, see [SageMaker Debugger Analysis API](https://github.com/awslabs/sagemaker-debugger/blob/master/docs/analysis.md) documentation.\n",
    "\n",
    "In the following code cell, use a ***Trial*** to access model parameters. You can do that by inspecting currently running training job and extract necessary parameters from its debug configuration to instruct SageMaker Debugger where the data you are looking for is located. Keep in mind the following:\n",
    "- Model parameters are being stored in your own S3 bucket to which you can navigate and manually inspect its content if desired.\n",
    "- You might notice a slight delay before trial object is created. This is normal as SageMaker Debugger monitors the corresponding bucket and waits until model parameters data to appear. The delay is introduced by less than instantaneous upload of model parameters from a training container to your S3 bucket. "
   ]
  },
  {
   "cell_type": "code",
   "execution_count": 11,
   "id": "worldwide-starter",
   "metadata": {
    "execution": {
     "iopub.execute_input": "2021-06-01T00:15:36.154138Z",
     "iopub.status.busy": "2021-06-01T00:15:36.153681Z",
     "iopub.status.idle": "2021-06-01T00:15:36.236928Z",
     "shell.execute_reply": "2021-06-01T00:15:36.236139Z"
    },
    "papermill": {
     "duration": 0.099649,
     "end_time": "2021-06-01T00:15:36.237125",
     "exception": true,
     "start_time": "2021-06-01T00:15:36.137476",
     "status": "failed"
    },
    "tags": []
   },
   "outputs": [
    {
     "name": "stdout",
     "output_type": "stream",
     "text": [
      "[2021-06-02 19:22:22.839 ip-172-31-33-148:31208 INFO utils.py:27] RULE_JOB_STOP_SIGNAL_FILENAME: None\n",
      "[2021-06-02 19:22:22.877 ip-172-31-33-148:31208 INFO s3_trial.py:42] Loading trial debug-output at path s3://sagemaker-us-west-2-688520471316/demo-smdebug-xgboost-classification-2021-06-02-19-19-05-868/debug-output\n"
     ]
    }
   ],
   "source": [
    "from smdebug.trials import create_trial\n",
    "\n",
    "description = client.describe_training_job(TrainingJobName=job_name)\n",
    "s3_output_path = xgboost_algorithm_mode_estimator.latest_job_debugger_artifacts_path()\n",
    "\n",
    "# This is where we create a Trial object that allows access to saved model parameters.\n",
    "trial = create_trial(s3_output_path)"
   ]
  },
  {
   "cell_type": "code",
   "execution_count": 12,
   "id": "several-general",
   "metadata": {
    "papermill": {
     "duration": null,
     "end_time": null,
     "exception": null,
     "start_time": null,
     "status": "pending"
    },
    "tags": []
   },
   "outputs": [],
   "source": [
    "import numpy as np\n",
    "import matplotlib.pyplot as plt\n",
    "import seaborn as sns\n",
    "from sklearn.metrics import confusion_matrix\n",
    "from IPython.display import display, clear_output\n",
    "\n",
    "\n",
    "def plot_confusion_for_one_step(trial, step, ax=None):\n",
    "    if ax is None:\n",
    "        fig, ax = plt.subplots()\n",
    "    cm = confusion_matrix(\n",
    "        trial.tensor(\"labels\").value(step), trial.tensor(\"predictions\").value(step)\n",
    "    )\n",
    "    normalized_cm = cm.astype(\"float\") / cm.sum(axis=1)[:, np.newaxis]\n",
    "    sns.heatmap(normalized_cm, cmap=\"bone\", ax=ax, cbar=False, annot=cm, fmt=\"\")\n",
    "    print(f\"iteration: {step}\")\n",
    "\n",
    "\n",
    "def plot_and_update_confusion_for_all_steps(trial):\n",
    "\n",
    "    fig, ax = plt.subplots()\n",
    "    rendered_steps = []\n",
    "    # trial.loaded_all_steps is a way to keep monitoring for a state of a training job\n",
    "    # as seen by Amazon SageMaker Debugger.\n",
    "    # When training job is completed Trial becomes aware of it.\n",
    "    while not rendered_steps or not trial.loaded_all_steps:\n",
    "        steps = trial.steps()\n",
    "        # quick way to get diff between two lists\n",
    "        steps_to_render = list(set(steps).symmetric_difference(set(rendered_steps)))\n",
    "        # plot only from newer chunk\n",
    "        for step in steps_to_render:\n",
    "            clear_output(wait=True)\n",
    "            plot_confusion_for_one_step(trial, step, ax=ax)\n",
    "            display(fig)\n",
    "            plt.pause(5)\n",
    "            ax.clear()\n",
    "            rendered_steps.extend(steps_to_render)\n",
    "    fig.clear()\n",
    "    plt.close()"
   ]
  },
  {
   "cell_type": "markdown",
   "id": "secondary-screening",
   "metadata": {
    "papermill": {
     "duration": null,
     "end_time": null,
     "exception": null,
     "start_time": null,
     "status": "pending"
    },
    "tags": []
   },
   "source": [
    "### Visualizing confusion matrix of a running training job\n",
    "\n",
    "Finally, wait until Amazon SageMaker Debugger has downloaded initial collection of model parameters to look at. Once that collection is ready you keep getting new model parameters every five seconds and plot them correspondingly one under another."
   ]
  },
  {
   "cell_type": "code",
   "execution_count": 13,
   "id": "sweet-rocket",
   "metadata": {
    "papermill": {
     "duration": null,
     "end_time": null,
     "exception": null,
     "start_time": null,
     "status": "pending"
    },
    "tags": []
   },
   "outputs": [
    {
     "name": "stdout",
     "output_type": "stream",
     "text": [
      "iteration: 24\n"
     ]
    },
    {
     "data": {
      "image/png": "[encoded data removed]",
      "text/plain": [
       "<Figure size 432x288 with 1 Axes>"
      ]
     },
     "metadata": {},
     "output_type": "display_data"
    },
    {
     "name": "stdout",
     "output_type": "stream",
     "text": [
      "[2021-06-02 19:23:28.297 ip-172-31-33-148:31208 INFO trial.py:198] Training has ended, will refresh one final time in 1 sec.\n",
      "[2021-06-02 19:23:29.317 ip-172-31-33-148:31208 INFO trial.py:210] Loaded all steps\n"
     ]
    }
   ],
   "source": [
    "plot_and_update_confusion_for_all_steps(trial)"
   ]
  }
 ],
 "metadata": {
  "kernelspec": {
   "display_name": "Environment (conda_anaconda3)",
   "language": "python",
   "name": "conda_anaconda3"
  },
  "language_info": {
   "codemirror_mode": {
    "name": "ipython",
    "version": 3
   },
   "file_extension": ".py",
   "mimetype": "text/x-python",
   "name": "python",
   "nbconvert_exporter": "python",
   "pygments_lexer": "ipython3",
   "version": "3.7.6"
  },
  "papermill": {
   "default_parameters": {},
   "duration": 180.070994,
   "end_time": "2021-06-01T00:15:37.507223",
   "environment_variables": {},
   "exception": true,
   "input_path": "xgboost-realtime-analysis.ipynb",
   "output_path": "/opt/ml/processing/output/xgboost-realtime-analysis-2021-06-01-00-08-27.ipynb",
   "parameters": {
    "kms_key": "arn:aws:kms:us-west-2:521695447989:key/6e9984db-50cf-4c7e-926c-877ec47a8b25"
   },
   "start_time": "2021-06-01T00:12:37.436229",
   "version": "2.3.3"
  },
  "pycharm": {
   "stem_cell": {
    "cell_type": "raw",
    "metadata": {
     "collapsed": false
    },
    "source": []
   }
  }
 },
 "nbformat": 4,
 "nbformat_minor": 5
}
