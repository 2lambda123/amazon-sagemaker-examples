{
 "cells": [
  {
   "cell_type": "markdown",
   "id": "smaller-facial",
   "metadata": {
    "papermill": {
     "duration": 0.008513,
     "end_time": "2021-05-27T00:06:51.446567",
     "exception": false,
     "start_time": "2021-05-27T00:06:51.438054",
     "status": "completed"
    },
    "tags": []
   },
   "source": [
    "# Amazon SageMaker Lineage\n",
    "Amazon SageMaker Lineage enables events that happen within SageMaker to be traced via a graph structure.  The data simplifies generating reports, making comparisons, or discovering relationships between events.  For example easily trace both how a model was generated and where the model was deployed. \n",
    "\n",
    "The lineage graph is created automatically by SageMaker and you can directly create or modify your own graphs.\n",
    "\n",
    "\n",
    "## Key Concepts\n",
    "\n",
    "* **Lineage Graph** - A connected graph tracing your machine learning workflow end to end. \n",
    "* **Artifacts** - Represents a URI addressable object or data.  Artifacts are typically inputs or outputs to Actions.  \n",
    "* **Actions**  - Represents an action taken such as a computation, transformation, or job.  \n",
    "* **Contexts** - Provides a method to logically group other entities.\n",
    "* **Associations** - A directed edge in the lineage graph that links two entities.\n",
    "* **Lineage Traversal** - Starting from an arbitrary point trace the lineage graph to discover and analyze relationships between steps in your workflow.\n",
    "* **Experiments** - Experiment entites (Experiments, Trials, and Trial Components) are also part of the lineage graph and can be associated wtih Artifacts, Actions, or Contexts.\n"
   ]
  },
  {
   "cell_type": "markdown",
   "id": "hourly-check",
   "metadata": {
    "papermill": {
     "duration": 0.008443,
     "end_time": "2021-05-27T00:06:51.463507",
     "exception": false,
     "start_time": "2021-05-27T00:06:51.455064",
     "status": "completed"
    },
    "tags": []
   },
   "source": [
    "## Notebook Overview\n",
    "\n",
    "This notebook demonstrates how to:\n",
    "* Understand the basics of lineage entities.\n",
    "* Create and associate lineage entities to track your workflow.\n",
    "* Traverse the associations between lineage entities."
   ]
  },
  {
   "cell_type": "markdown",
   "id": "mineral-debate",
   "metadata": {
    "papermill": {
     "duration": 0.008422,
     "end_time": "2021-05-27T00:06:51.480350",
     "exception": false,
     "start_time": "2021-05-27T00:06:51.471928",
     "status": "completed"
    },
    "tags": []
   },
   "source": [
    "## Prerequisites\n",
    "\n",
    "Select the `Python 3 (Data Science)` kernel in SageMaker Studio."
   ]
  },
  {
   "cell_type": "code",
   "execution_count": 1,
   "id": "offshore-traffic",
   "metadata": {
    "execution": {
     "iopub.execute_input": "2021-05-27T00:06:51.500782Z",
     "iopub.status.busy": "2021-05-27T00:06:51.500256Z",
     "iopub.status.idle": "2021-05-27T00:06:52.238095Z",
     "shell.execute_reply": "2021-05-27T00:06:52.238513Z"
    },
    "papermill": {
     "duration": 0.749821,
     "end_time": "2021-05-27T00:06:52.238658",
     "exception": false,
     "start_time": "2021-05-27T00:06:51.488837",
     "status": "completed"
    },
    "tags": []
   },
   "outputs": [],
   "source": [
    "import boto3\n",
    "import sagemaker\n",
    "\n",
    "region = boto3.Session().region_name\n",
    "sagemaker_session = sagemaker.session.Session()\n",
    "default_bucket = sagemaker_session.default_bucket()"
   ]
  },
  {
   "cell_type": "code",
   "execution_count": 2,
   "id": "varying-giant",
   "metadata": {
    "execution": {
     "iopub.execute_input": "2021-05-27T00:06:52.261436Z",
     "iopub.status.busy": "2021-05-27T00:06:52.260726Z",
     "iopub.status.idle": "2021-05-27T00:06:52.264603Z",
     "shell.execute_reply": "2021-05-27T00:06:52.264145Z"
    },
    "papermill": {
     "duration": 0.017171,
     "end_time": "2021-05-27T00:06:52.264719",
     "exception": false,
     "start_time": "2021-05-27T00:06:52.247548",
     "status": "completed"
    },
    "tags": []
   },
   "outputs": [
    {
     "name": "stdout",
     "output_type": "stream",
     "text": [
      "Unique id is 1622165028\n"
     ]
    }
   ],
   "source": [
    "from datetime import datetime\n",
    "from sagemaker.lineage.context import Context\n",
    "from sagemaker.lineage.action import Action\n",
    "from sagemaker.lineage.association import Association\n",
    "from sagemaker.lineage.artifact import Artifact\n",
    "\n",
    "unique_id = str(int(datetime.now().replace(microsecond=0).timestamp()))\n",
    "\n",
    "print(f\"Unique id is {unique_id}\")"
   ]
  },
  {
   "cell_type": "code",
   "execution_count": 3,
   "id": "controlled-allowance",
   "metadata": {
    "execution": {
     "iopub.execute_input": "2021-05-27T00:06:52.296341Z",
     "iopub.status.busy": "2021-05-27T00:06:52.295559Z",
     "iopub.status.idle": "2021-05-27T00:06:52.394366Z",
     "shell.execute_reply": "2021-05-27T00:06:52.394775Z"
    },
    "papermill": {
     "duration": 0.120896,
     "end_time": "2021-05-27T00:06:52.394923",
     "exception": false,
     "start_time": "2021-05-27T00:06:52.274027",
     "status": "completed"
    },
    "tags": []
   },
   "outputs": [
    {
     "ename": "ClientError",
     "evalue": "An error occurred (ValidationException) when calling the CreateContext operation: Context creation is currently restricted to the SageMaker/Pipeline runtimes.",
     "output_type": "error",
     "traceback": [
      "\u001b[0;31m---------------------------------------------------------------------------\u001b[0m",
      "\u001b[0;31mClientError\u001b[0m                               Traceback (most recent call last)",
      "\u001b[0;32m<ipython-input-3-cf5f5d1fcede>\u001b[0m in \u001b[0;36m<module>\u001b[0;34m\u001b[0m\n\u001b[1;32m      9\u001b[0m     \u001b[0msource_uri\u001b[0m\u001b[0;34m=\u001b[0m\u001b[0munique_id\u001b[0m\u001b[0;34m,\u001b[0m\u001b[0;34m\u001b[0m\u001b[0;34m\u001b[0m\u001b[0m\n\u001b[1;32m     10\u001b[0m     \u001b[0;31m# properties services as a method to store metdata on lineage entities in additional to Tags\u001b[0m\u001b[0;34m\u001b[0m\u001b[0;34m\u001b[0m\u001b[0;34m\u001b[0m\u001b[0m\n\u001b[0;32m---> 11\u001b[0;31m     \u001b[0mproperties\u001b[0m\u001b[0;34m=\u001b[0m\u001b[0;34m{\u001b[0m\u001b[0;34m\"example\"\u001b[0m\u001b[0;34m:\u001b[0m \u001b[0;34m\"true\"\u001b[0m\u001b[0;34m}\u001b[0m\u001b[0;34m,\u001b[0m\u001b[0;34m\u001b[0m\u001b[0;34m\u001b[0m\u001b[0m\n\u001b[0m\u001b[1;32m     12\u001b[0m )\n",
      "\u001b[0;32m~/anaconda3/lib/python3.7/site-packages/sagemaker/lineage/context.py\u001b[0m in \u001b[0;36mcreate\u001b[0;34m(cls, context_name, source_uri, source_type, context_type, description, properties, tags, sagemaker_session)\u001b[0m\n\u001b[1;32m    196\u001b[0m             \u001b[0mproperties\u001b[0m\u001b[0;34m=\u001b[0m\u001b[0mproperties\u001b[0m\u001b[0;34m,\u001b[0m\u001b[0;34m\u001b[0m\u001b[0;34m\u001b[0m\u001b[0m\n\u001b[1;32m    197\u001b[0m             \u001b[0mtags\u001b[0m\u001b[0;34m=\u001b[0m\u001b[0mtags\u001b[0m\u001b[0;34m,\u001b[0m\u001b[0;34m\u001b[0m\u001b[0;34m\u001b[0m\u001b[0m\n\u001b[0;32m--> 198\u001b[0;31m             \u001b[0msagemaker_session\u001b[0m\u001b[0;34m=\u001b[0m\u001b[0msagemaker_session\u001b[0m\u001b[0;34m,\u001b[0m\u001b[0;34m\u001b[0m\u001b[0;34m\u001b[0m\u001b[0m\n\u001b[0m\u001b[1;32m    199\u001b[0m         )\n\u001b[1;32m    200\u001b[0m \u001b[0;34m\u001b[0m\u001b[0m\n",
      "\u001b[0;32m~/anaconda3/lib/python3.7/site-packages/sagemaker/apiutils/_base_types.py\u001b[0m in \u001b[0;36m_construct\u001b[0;34m(cls, boto_method_name, sagemaker_session, **kwargs)\u001b[0m\n\u001b[1;32m    186\u001b[0m         \u001b[0msagemaker_session\u001b[0m \u001b[0;34m=\u001b[0m \u001b[0msagemaker_session\u001b[0m \u001b[0;32mor\u001b[0m \u001b[0m_utils\u001b[0m\u001b[0;34m.\u001b[0m\u001b[0mdefault_session\u001b[0m\u001b[0;34m(\u001b[0m\u001b[0;34m)\u001b[0m\u001b[0;34m\u001b[0m\u001b[0;34m\u001b[0m\u001b[0m\n\u001b[1;32m    187\u001b[0m         \u001b[0minstance\u001b[0m \u001b[0;34m=\u001b[0m \u001b[0mcls\u001b[0m\u001b[0;34m(\u001b[0m\u001b[0msagemaker_session\u001b[0m\u001b[0;34m,\u001b[0m \u001b[0;34m**\u001b[0m\u001b[0mkwargs\u001b[0m\u001b[0;34m)\u001b[0m\u001b[0;34m\u001b[0m\u001b[0;34m\u001b[0m\u001b[0m\n\u001b[0;32m--> 188\u001b[0;31m         \u001b[0;32mreturn\u001b[0m \u001b[0minstance\u001b[0m\u001b[0;34m.\u001b[0m\u001b[0m_invoke_api\u001b[0m\u001b[0;34m(\u001b[0m\u001b[0mboto_method_name\u001b[0m\u001b[0;34m,\u001b[0m \u001b[0mkwargs\u001b[0m\u001b[0;34m)\u001b[0m\u001b[0;34m\u001b[0m\u001b[0;34m\u001b[0m\u001b[0m\n\u001b[0m\u001b[1;32m    189\u001b[0m \u001b[0;34m\u001b[0m\u001b[0m\n\u001b[1;32m    190\u001b[0m     \u001b[0;32mdef\u001b[0m \u001b[0m_set_tags\u001b[0m\u001b[0;34m(\u001b[0m\u001b[0mself\u001b[0m\u001b[0;34m,\u001b[0m \u001b[0mresource_arn\u001b[0m\u001b[0;34m=\u001b[0m\u001b[0;32mNone\u001b[0m\u001b[0;34m,\u001b[0m \u001b[0mtags\u001b[0m\u001b[0;34m=\u001b[0m\u001b[0;32mNone\u001b[0m\u001b[0;34m)\u001b[0m\u001b[0;34m:\u001b[0m\u001b[0;34m\u001b[0m\u001b[0;34m\u001b[0m\u001b[0m\n",
      "\u001b[0;32m~/anaconda3/lib/python3.7/site-packages/sagemaker/apiutils/_base_types.py\u001b[0m in \u001b[0;36m_invoke_api\u001b[0;34m(self, boto_method, boto_method_members)\u001b[0m\n\u001b[1;32m    222\u001b[0m         \u001b[0mapi_kwargs\u001b[0m \u001b[0;34m=\u001b[0m \u001b[0mself\u001b[0m\u001b[0;34m.\u001b[0m\u001b[0mto_boto\u001b[0m\u001b[0;34m(\u001b[0m\u001b[0mapi_values\u001b[0m\u001b[0;34m)\u001b[0m\u001b[0;34m\u001b[0m\u001b[0;34m\u001b[0m\u001b[0m\n\u001b[1;32m    223\u001b[0m         \u001b[0mapi_method\u001b[0m \u001b[0;34m=\u001b[0m \u001b[0mgetattr\u001b[0m\u001b[0;34m(\u001b[0m\u001b[0mself\u001b[0m\u001b[0;34m.\u001b[0m\u001b[0msagemaker_session\u001b[0m\u001b[0;34m.\u001b[0m\u001b[0msagemaker_client\u001b[0m\u001b[0;34m,\u001b[0m \u001b[0mboto_method\u001b[0m\u001b[0;34m)\u001b[0m\u001b[0;34m\u001b[0m\u001b[0;34m\u001b[0m\u001b[0m\n\u001b[0;32m--> 224\u001b[0;31m         \u001b[0mapi_boto_response\u001b[0m \u001b[0;34m=\u001b[0m \u001b[0mapi_method\u001b[0m\u001b[0;34m(\u001b[0m\u001b[0;34m**\u001b[0m\u001b[0mapi_kwargs\u001b[0m\u001b[0;34m)\u001b[0m\u001b[0;34m\u001b[0m\u001b[0;34m\u001b[0m\u001b[0m\n\u001b[0m\u001b[1;32m    225\u001b[0m         \u001b[0;32mreturn\u001b[0m \u001b[0mself\u001b[0m\u001b[0;34m.\u001b[0m\u001b[0mwith_boto\u001b[0m\u001b[0;34m(\u001b[0m\u001b[0mapi_boto_response\u001b[0m\u001b[0;34m)\u001b[0m\u001b[0;34m\u001b[0m\u001b[0;34m\u001b[0m\u001b[0m\n",
      "\u001b[0;32m~/anaconda3/lib/python3.7/site-packages/botocore/client.py\u001b[0m in \u001b[0;36m_api_call\u001b[0;34m(self, *args, **kwargs)\u001b[0m\n\u001b[1;32m    355\u001b[0m                     \"%s() only accepts keyword arguments.\" % py_operation_name)\n\u001b[1;32m    356\u001b[0m             \u001b[0;31m# The \"self\" in this scope is referring to the BaseClient.\u001b[0m\u001b[0;34m\u001b[0m\u001b[0;34m\u001b[0m\u001b[0;34m\u001b[0m\u001b[0m\n\u001b[0;32m--> 357\u001b[0;31m             \u001b[0;32mreturn\u001b[0m \u001b[0mself\u001b[0m\u001b[0;34m.\u001b[0m\u001b[0m_make_api_call\u001b[0m\u001b[0;34m(\u001b[0m\u001b[0moperation_name\u001b[0m\u001b[0;34m,\u001b[0m \u001b[0mkwargs\u001b[0m\u001b[0;34m)\u001b[0m\u001b[0;34m\u001b[0m\u001b[0;34m\u001b[0m\u001b[0m\n\u001b[0m\u001b[1;32m    358\u001b[0m \u001b[0;34m\u001b[0m\u001b[0m\n\u001b[1;32m    359\u001b[0m         \u001b[0m_api_call\u001b[0m\u001b[0;34m.\u001b[0m\u001b[0m__name__\u001b[0m \u001b[0;34m=\u001b[0m \u001b[0mstr\u001b[0m\u001b[0;34m(\u001b[0m\u001b[0mpy_operation_name\u001b[0m\u001b[0;34m)\u001b[0m\u001b[0;34m\u001b[0m\u001b[0;34m\u001b[0m\u001b[0m\n",
      "\u001b[0;32m~/anaconda3/lib/python3.7/site-packages/botocore/client.py\u001b[0m in \u001b[0;36m_make_api_call\u001b[0;34m(self, operation_name, api_params)\u001b[0m\n\u001b[1;32m    674\u001b[0m             \u001b[0merror_code\u001b[0m \u001b[0;34m=\u001b[0m \u001b[0mparsed_response\u001b[0m\u001b[0;34m.\u001b[0m\u001b[0mget\u001b[0m\u001b[0;34m(\u001b[0m\u001b[0;34m\"Error\"\u001b[0m\u001b[0;34m,\u001b[0m \u001b[0;34m{\u001b[0m\u001b[0;34m}\u001b[0m\u001b[0;34m)\u001b[0m\u001b[0;34m.\u001b[0m\u001b[0mget\u001b[0m\u001b[0;34m(\u001b[0m\u001b[0;34m\"Code\"\u001b[0m\u001b[0;34m)\u001b[0m\u001b[0;34m\u001b[0m\u001b[0;34m\u001b[0m\u001b[0m\n\u001b[1;32m    675\u001b[0m             \u001b[0merror_class\u001b[0m \u001b[0;34m=\u001b[0m \u001b[0mself\u001b[0m\u001b[0;34m.\u001b[0m\u001b[0mexceptions\u001b[0m\u001b[0;34m.\u001b[0m\u001b[0mfrom_code\u001b[0m\u001b[0;34m(\u001b[0m\u001b[0merror_code\u001b[0m\u001b[0;34m)\u001b[0m\u001b[0;34m\u001b[0m\u001b[0;34m\u001b[0m\u001b[0m\n\u001b[0;32m--> 676\u001b[0;31m             \u001b[0;32mraise\u001b[0m \u001b[0merror_class\u001b[0m\u001b[0;34m(\u001b[0m\u001b[0mparsed_response\u001b[0m\u001b[0;34m,\u001b[0m \u001b[0moperation_name\u001b[0m\u001b[0;34m)\u001b[0m\u001b[0;34m\u001b[0m\u001b[0;34m\u001b[0m\u001b[0m\n\u001b[0m\u001b[1;32m    677\u001b[0m         \u001b[0;32melse\u001b[0m\u001b[0;34m:\u001b[0m\u001b[0;34m\u001b[0m\u001b[0;34m\u001b[0m\u001b[0m\n\u001b[1;32m    678\u001b[0m             \u001b[0;32mreturn\u001b[0m \u001b[0mparsed_response\u001b[0m\u001b[0;34m\u001b[0m\u001b[0;34m\u001b[0m\u001b[0m\n",
      "\u001b[0;31mClientError\u001b[0m: An error occurred (ValidationException) when calling the CreateContext operation: Context creation is currently restricted to the SageMaker/Pipeline runtimes."
     ]
    }
   ],
   "source": [
    "# create an example context\n",
    "\n",
    "# the name must be unique across all other contexts\n",
    "context_name = f\"machine-learning-workflow-{unique_id}\"\n",
    "\n",
    "ml_workflow_context = Context.create(\n",
    "    context_name=context_name,\n",
    "    context_type=\"MLWorkflow\",\n",
    "    source_uri=unique_id,\n",
    "    # properties services as a method to store metdata on lineage entities in additional to Tags\n",
    "    properties={\"example\": \"true\"},\n",
    ")"
   ]
  },
  {
   "cell_type": "code",
   "execution_count": null,
   "id": "numerous-spider",
   "metadata": {
    "execution": {
     "iopub.execute_input": "2021-05-27T00:06:52.426106Z",
     "iopub.status.busy": "2021-05-27T00:06:52.425623Z",
     "iopub.status.idle": "2021-05-27T00:07:01.238247Z",
     "shell.execute_reply": "2021-05-27T00:07:01.237463Z"
    },
    "papermill": {
     "duration": 8.834299,
     "end_time": "2021-05-27T00:07:01.238494",
     "exception": true,
     "start_time": "2021-05-27T00:06:52.404195",
     "status": "failed"
    },
    "tags": []
   },
   "outputs": [],
   "source": [
    "# list all the contexts\n",
    "\n",
    "#contexts = Context.list(sort_by=\"CreationTime\", sort_order=\"Descending\")\n",
    "#for ctx in contexts:\n",
    "#    print(ctx.context_name)"
   ]
  },
  {
   "cell_type": "code",
   "execution_count": null,
   "id": "successful-genetics",
   "metadata": {
    "papermill": {
     "duration": null,
     "end_time": null,
     "exception": null,
     "start_time": null,
     "status": "pending"
    },
    "tags": []
   },
   "outputs": [],
   "source": [
    "# create an example action and associate it with the context\n",
    "\n",
    "model_build_action = Action.create(\n",
    "    action_name=f\"model-build-step-{unique_id}\",\n",
    "    action_type=\"ModelBuild\",\n",
    "    source_uri=unique_id,\n",
    "    properties={\"Example\": \"Metadata\"},\n",
    ")"
   ]
  },
  {
   "cell_type": "code",
   "execution_count": null,
   "id": "monetary-mauritius",
   "metadata": {
    "papermill": {
     "duration": null,
     "end_time": null,
     "exception": null,
     "start_time": null,
     "status": "pending"
    },
    "tags": []
   },
   "outputs": [],
   "source": [
    "# Association Type can be Produced|DerivedFrom|AssociatedWith|ContributedTo\n",
    "context_action_association = Association.create(\n",
    "    source_arn=ml_workflow_context.context_arn,\n",
    "    destination_arn=model_build_action.action_arn,\n",
    "    association_type=\"AssociatedWith\",\n",
    ")"
   ]
  },
  {
   "cell_type": "code",
   "execution_count": null,
   "id": "right-edward",
   "metadata": {
    "papermill": {
     "duration": null,
     "end_time": null,
     "exception": null,
     "start_time": null,
     "status": "pending"
    },
    "tags": []
   },
   "outputs": [],
   "source": [
    "# now the Action and Context are associated:\n",
    "incoming_associations_to_action = Association.list(destination_arn=model_build_action.action_arn)\n",
    "for association in incoming_associations_to_action:\n",
    "    print(\n",
    "        f\"{model_build_action.action_name} has an incoming association from {association.source_name}\"\n",
    "    )\n",
    "\n",
    "outgoing_associations_from_context = Association.list(source_arn=ml_workflow_context.context_arn)\n",
    "for association in outgoing_associations_from_context:\n",
    "    print(\n",
    "        f\"{ml_workflow_context.context_name} has an outgoing association to {association.destination_name}\"\n",
    "    )"
   ]
  },
  {
   "cell_type": "code",
   "execution_count": null,
   "id": "photographic-nutrition",
   "metadata": {
    "papermill": {
     "duration": null,
     "end_time": null,
     "exception": null,
     "start_time": null,
     "status": "pending"
    },
    "tags": []
   },
   "outputs": [],
   "source": [
    "# create an artifact representing inputs to the model building action\n",
    "input_test_images = Artifact.create(\n",
    "    artifact_name=\"mnist-test-images\",\n",
    "    artifact_type=\"TestData\",\n",
    "    source_types=[{\"SourceIdType\": \"Custom\", \"Value\": unique_id}],\n",
    "    source_uri=\"https://sagemaker-sample-files.s3.amazonaws.com/datasets/image/MNIST/t10k-images-idx3-ubyte.gz\",\n",
    ")\n",
    "\n",
    "input_test_labels = Artifact.create(\n",
    "    artifact_name=\"mnist-test-labels\",\n",
    "    artifact_type=\"TestLabels\",\n",
    "    source_types=[{\"SourceIdType\": \"Custom\", \"Value\": unique_id}],\n",
    "    source_uri=\"https://sagemaker-sample-files.s3.amazonaws.com/datasets/image/MNIST/t10k-labels-idx1-ubyte.gz\",\n",
    ")"
   ]
  },
  {
   "cell_type": "code",
   "execution_count": null,
   "id": "medieval-terrain",
   "metadata": {
    "papermill": {
     "duration": null,
     "end_time": null,
     "exception": null,
     "start_time": null,
     "status": "pending"
    },
    "tags": []
   },
   "outputs": [],
   "source": [
    "# create an artifact representing a trained model\n",
    "output_model = Artifact.create(\n",
    "    artifact_name=\"mnist-model\",\n",
    "    artifact_type=\"Model\",\n",
    "    source_types=[{\"SourceIdType\": \"Custom\", \"Value\": unique_id}],\n",
    "    source_uri=\"s3://sagemaker-sample-files.s3.amazonaws.com/datasets/image/MNIST/model/tensorflow-training-2020-11-20-23-57-13-077/model.tar.gz\",\n",
    ")"
   ]
  },
  {
   "cell_type": "code",
   "execution_count": null,
   "id": "spanish-family",
   "metadata": {
    "papermill": {
     "duration": null,
     "end_time": null,
     "exception": null,
     "start_time": null,
     "status": "pending"
    },
    "tags": []
   },
   "outputs": [],
   "source": [
    "# associate the data set artifact with an incoming association to the example action\n",
    "Association.create(\n",
    "    source_arn=input_test_images.artifact_arn, destination_arn=model_build_action.action_arn\n",
    ")\n",
    "Association.create(\n",
    "    source_arn=input_test_labels.artifact_arn, destination_arn=model_build_action.action_arn\n",
    ")"
   ]
  },
  {
   "cell_type": "code",
   "execution_count": null,
   "id": "existing-victory",
   "metadata": {
    "papermill": {
     "duration": null,
     "end_time": null,
     "exception": null,
     "start_time": null,
     "status": "pending"
    },
    "tags": []
   },
   "outputs": [],
   "source": [
    "# associate the example action with an outgoing association to the model artifact\n",
    "Association.create(\n",
    "    source_arn=model_build_action.action_arn, destination_arn=output_model.artifact_arn\n",
    ")"
   ]
  },
  {
   "cell_type": "markdown",
   "id": "liable-cloud",
   "metadata": {
    "papermill": {
     "duration": null,
     "end_time": null,
     "exception": null,
     "start_time": null,
     "status": "pending"
    },
    "tags": []
   },
   "source": [
    "## Cleanup"
   ]
  },
  {
   "cell_type": "code",
   "execution_count": null,
   "id": "comic-explanation",
   "metadata": {
    "papermill": {
     "duration": null,
     "end_time": null,
     "exception": null,
     "start_time": null,
     "status": "pending"
    },
    "tags": []
   },
   "outputs": [],
   "source": [
    "def delete_associations(arn):\n",
    "    # delete incoming associations\n",
    "    incoming_associations = Association.list(destination_arn=arn)\n",
    "    for summary in incoming_associations:\n",
    "        assct = Association(\n",
    "            source_arn=summary.source_arn,\n",
    "            destination_arn=summary.destination_arn,\n",
    "            sagemaker_session=sagemaker_session,\n",
    "        )\n",
    "        assct.delete()\n",
    "\n",
    "    # delete outgoing associations\n",
    "    outgoing_associations = Association.list(source_arn=arn)\n",
    "    for summary in outgoing_associations:\n",
    "        assct = Association(\n",
    "            source_arn=summary.source_arn,\n",
    "            destination_arn=summary.destination_arn,\n",
    "            sagemaker_session=sagemaker_session,\n",
    "        )\n",
    "        assct.delete()\n",
    "\n",
    "\n",
    "def delete_lineage_data():\n",
    "    for summary in Context.list():\n",
    "        print(f\"Deleting context {summary.context_name}\")\n",
    "        delete_associations(summary.context_arn)\n",
    "        ctx = Context(context_name=summary.context_name, sagemaker_session=sagemaker_session)\n",
    "        ctx.delete()\n",
    "\n",
    "    for summary in Action.list():\n",
    "        print(f\"Deleting action {summary.action_name}\")\n",
    "        delete_associations(summary.action_arn)\n",
    "        actn = Action(action_name=summary.action_name, sagemaker_session=sagemaker_session)\n",
    "        actn.delete()\n",
    "\n",
    "    for summary in Artifact.list():\n",
    "        print(f\"Deleting artifact {summary.artifact_arn} {summary.artifact_name}\")\n",
    "        delete_associations(summary.artifact_arn)\n",
    "        artfct = Artifact(artifact_arn=summary.artifact_arn, sagemaker_session=sagemaker_session)\n",
    "        artfct.delete()\n",
    "\n",
    "\n",
    "delete_lineage_data()"
   ]
  },
  {
   "cell_type": "markdown",
   "id": "organized-fleet",
   "metadata": {
    "papermill": {
     "duration": null,
     "end_time": null,
     "exception": null,
     "start_time": null,
     "status": "pending"
    },
    "tags": []
   },
   "source": [
    "## Caveats\n",
    "\n",
    "* Associations cannot be created between two experiment entities. For example between an Experiment and Trial.\n",
    "* Associations can only be created between the following resources: Experiment, Trial, Trial Component, Action, Artifact, or Context.\n",
    "* The maximum number of manually created lineage entities are:\n",
    "  * Artifacts: 6000\n",
    "  * Contexts: 500\n",
    "  * Actions: 3000\n",
    "  * Associations: 6000\n",
    "* There is no limit on the number of lineage entities created automatically by SageMaker."
   ]
  },
  {
   "cell_type": "markdown",
   "id": "matched-luxury",
   "metadata": {
    "papermill": {
     "duration": null,
     "end_time": null,
     "exception": null,
     "start_time": null,
     "status": "pending"
    },
    "tags": []
   },
   "source": [
    "## Contact\n",
    "\n",
    "Submit any questions or issues to https://github.com/aws/sagemaker-experiments/issues or mention @aws/sagemakerexperimentsadmin"
   ]
  }
 ],
 "metadata": {
  "kernelspec": {
   "display_name": "Environment (conda_anaconda3)",
   "language": "python",
   "name": "conda_anaconda3"
  },
  "language_info": {
   "codemirror_mode": {
    "name": "ipython",
    "version": 3
   },
   "file_extension": ".py",
   "mimetype": "text/x-python",
   "name": "python",
   "nbconvert_exporter": "python",
   "pygments_lexer": "ipython3",
   "version": "3.7.6"
  },
  "papermill": {
   "default_parameters": {},
   "duration": 10.87337,
   "end_time": "2021-05-27T00:07:01.656932",
   "environment_variables": {},
   "exception": true,
   "input_path": "sagemaker-lineage.ipynb",
   "output_path": "/opt/ml/processing/output/sagemaker-lineage-2021-05-27-00-02-37.ipynb",
   "parameters": {
    "kms_key": "arn:aws:kms:us-west-2:521695447989:key/6e9984db-50cf-4c7e-926c-877ec47a8b25"
   },
   "start_time": "2021-05-27T00:06:50.783562",
   "version": "2.3.3"
  }
 },
 "nbformat": 4,
 "nbformat_minor": 5
}
