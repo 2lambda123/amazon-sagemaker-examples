{
 "cells": [
  {
   "cell_type": "markdown",
   "id": "decent-persian",
   "metadata": {
    "papermill": {
     "duration": 0.020932,
     "end_time": "2021-06-08T00:21:18.485795",
     "exception": false,
     "start_time": "2021-06-08T00:21:18.464863",
     "status": "completed"
    },
    "tags": []
   },
   "source": [
    "## Amazon SageMaker Feature Store: Client-side Encryption using AWS Encryption SDK"
   ]
  },
  {
   "cell_type": "markdown",
   "id": "connected-college",
   "metadata": {
    "papermill": {
     "duration": 0.020383,
     "end_time": "2021-06-08T00:21:18.526687",
     "exception": false,
     "start_time": "2021-06-08T00:21:18.506304",
     "status": "completed"
    },
    "tags": []
   },
   "source": [
    "This notebook demonstrates how client-side encryption with SageMaker Feature Store is done using the [AWS Encryption SDK library](https://docs.aws.amazon.com/encryption-sdk/latest/developer-guide/introduction.html) to encrypt your data prior to ingesting it into your Online or Offline Feature Store. We first demonstrate how to encrypt your data using the AWS Encryption SDK library, and then show how to use [Amazon Athena](https://aws.amazon.com/athena/) to query for a subset of encrypted columns of features for model training.\n",
    "\n",
    "Currently, Feature Store supports encryption at rest and encryption in transit. With this notebook, we showcase an additional layer of security where your data is encrypted and then stored in your Feature Store. This notebook also covers the scenario where you want to query a subset of encrypted data using Amazon Athena for model training. This becomes particularly useful when you want to store encrypted data sets in a single Feature Store, and want to perform model training using only a subset of encrypted columns, forcing privacy over the remaining columns. \n",
    "\n",
    "If you are interested in server side encryption with Feature Store, see [Feature Store: Encrypt Data in your Online or Offline Feature Store using KMS key](https://sagemaker-examples.readthedocs.io/en/latest/sagemaker-featurestore/feature_store_kms_key_encryption.html).  \n",
    "\n",
    "For more information on the AWS Encryption library, see [AWS Encryption SDK library](https://docs.aws.amazon.com/encryption-sdk/latest/developer-guide/introduction.html). \n",
    "\n",
    "For detailed information about Feature Store, see the [Developer Guide](https://docs.aws.amazon.com/sagemaker/latest/dg/feature-store.html).\n",
    "\n",
    "### Overview\n",
    "1. Set up\n",
    "2. Load in and encrypt your data using AWS Encryption library (`aws-encryption-sdk`)\n",
    "3. Create Feature Group and ingest your encrypted data into it\n",
    "4. Query your encrypted data in your feature store using Amazon Athena\n",
    "5. Decrypt the data you queried\n",
    "\n",
    "### Prerequisites\n",
    "This notebook uses the Python SDK library for Feature Store, the AWS Encryption SDK library, `aws-encryption-sdk` and the `Python 3 (DataScience)` kernel. To use the`aws-encryption-sdk` library you will need to have an active KMS key that you created. If you do not have a KMS key, then you can create one by following the [KMS Policy Template](https://sagemaker-examples.readthedocs.io/en/latest/sagemaker-featurestore/feature_store_kms_key_encryption.html#KMS-Policy-Template) steps, or you can visit the [KMS section in the console](https://console.aws.amazon.com/kms/home) and follow the button prompts for creating a KMS key. This notebook works with SageMaker Studio, Jupyter, and JupyterLab. \n",
    "\n",
    "### Library Dependencies:\n",
    "* `sagemaker>=2.0.0`\n",
    "* `numpy`\n",
    "* `pandas`\n",
    "* `aws-encryption-sdk`\n",
    "\n",
    "### Data\n",
    "This notebook uses a synthetic data set that has the following features: `customer_id`, `ssn` (social security number), `credit_score`, `age`, and aims to simulate a relaxed data set that has some important features that would be needed during the credit card approval process."
   ]
  },
  {
   "cell_type": "code",
   "execution_count": 1,
   "id": "smoking-decrease",
   "metadata": {
    "execution": {
     "iopub.execute_input": "2021-06-08T00:21:18.571240Z",
     "iopub.status.busy": "2021-06-08T00:21:18.570499Z",
     "iopub.status.idle": "2021-06-08T00:21:18.986384Z",
     "shell.execute_reply": "2021-06-08T00:21:18.985877Z"
    },
    "papermill": {
     "duration": 0.439376,
     "end_time": "2021-06-08T00:21:18.986495",
     "exception": false,
     "start_time": "2021-06-08T00:21:18.547119",
     "status": "completed"
    },
    "tags": []
   },
   "outputs": [],
   "source": [
    "import sagemaker\n",
    "import pandas as pd\n",
    "import numpy as np"
   ]
  },
  {
   "cell_type": "code",
   "execution_count": 2,
   "id": "precious-veteran",
   "metadata": {
    "execution": {
     "iopub.execute_input": "2021-06-08T00:21:19.031923Z",
     "iopub.status.busy": "2021-06-08T00:21:19.031281Z",
     "iopub.status.idle": "2021-06-08T00:21:21.059137Z",
     "shell.execute_reply": "2021-06-08T00:21:21.059500Z"
    },
    "papermill": {
     "duration": 2.052289,
     "end_time": "2021-06-08T00:21:21.059635",
     "exception": false,
     "start_time": "2021-06-08T00:21:19.007346",
     "status": "completed"
    },
    "tags": []
   },
   "outputs": [
    {
     "name": "stdout",
     "output_type": "stream",
     "text": [
      "\u001b[33mWARNING: You are using pip version 21.1.1; however, version 21.1.2 is available.\n",
      "You should consider upgrading via the '/home/ubuntu/anaconda3/bin/python -m pip install --upgrade pip' command.\u001b[0m\n",
      "Note: you may need to restart the kernel to use updated packages.\n"
     ]
    }
   ],
   "source": [
    "pip install -q 'aws-encryption-sdk'"
   ]
  },
  {
   "cell_type": "markdown",
   "id": "ignored-sailing",
   "metadata": {
    "papermill": {
     "duration": 0.021015,
     "end_time": "2021-06-08T00:21:21.101945",
     "exception": false,
     "start_time": "2021-06-08T00:21:21.080930",
     "status": "completed"
    },
    "tags": []
   },
   "source": [
    "### Set up"
   ]
  },
  {
   "cell_type": "code",
   "execution_count": 3,
   "id": "electrical-article",
   "metadata": {
    "execution": {
     "iopub.execute_input": "2021-06-08T00:21:21.157110Z",
     "iopub.status.busy": "2021-06-08T00:21:21.156634Z",
     "iopub.status.idle": "2021-06-08T00:21:21.841289Z",
     "shell.execute_reply": "2021-06-08T00:21:21.841731Z"
    },
    "papermill": {
     "duration": 0.719023,
     "end_time": "2021-06-08T00:21:21.841883",
     "exception": false,
     "start_time": "2021-06-08T00:21:21.122860",
     "status": "completed"
    },
    "tags": []
   },
   "outputs": [],
   "source": [
    "sagemaker_session = sagemaker.Session()\n",
    "s3_bucket_name = sagemaker_session.default_bucket()\n",
    "prefix = \"sagemaker-featurestore-demo\"\n",
    "role = sagemaker.get_execution_role()\n",
    "region = sagemaker_session.boto_region_name"
   ]
  },
  {
   "cell_type": "markdown",
   "id": "fossil-federal",
   "metadata": {
    "papermill": {
     "duration": 0.021373,
     "end_time": "2021-06-08T00:21:21.884491",
     "exception": false,
     "start_time": "2021-06-08T00:21:21.863118",
     "status": "completed"
    },
    "tags": []
   },
   "source": [
    "Instantiate an encryption SDK client and provide your KMS ARN key to the `StrictAwsKmsMasterKeyProvider` object. This will be needed for data encryption and decryption by the AWS Encryption SDK library. You will need to substitute your KMS Key ARN for `kms_key`."
   ]
  },
  {
   "cell_type": "code",
   "execution_count": null,
   "id": "pleased-today",
   "metadata": {
    "execution": {
     "iopub.execute_input": "2021-06-08T00:21:21.930876Z",
     "iopub.status.busy": "2021-06-08T00:21:21.930433Z",
     "iopub.status.idle": "2021-06-08T00:21:21.987700Z",
     "shell.execute_reply": "2021-06-08T00:21:21.987260Z"
    },
    "papermill": {
     "duration": 0.081735,
     "end_time": "2021-06-08T00:21:21.987813",
     "exception": false,
     "start_time": "2021-06-08T00:21:21.906078",
     "status": "completed"
    },
    "tags": []
   },
   "outputs": [],
   "source": [
    "import aws_encryption_sdk\n",
    "from aws_encryption_sdk.identifiers import CommitmentPolicy\n",
    "\n",
    "client = aws_encryption_sdk.EncryptionSDKClient(\n",
    "    commitment_policy=CommitmentPolicy.REQUIRE_ENCRYPT_REQUIRE_DECRYPT\n",
    ")\n",
    "\n",
    "kms_key_provider = aws_encryption_sdk.StrictAwsKmsMasterKeyProvider(\n",
    "    key_ids=[kms_key]  ## Add your KMS key here\n",
    ")"
   ]
  },
  {
   "cell_type": "markdown",
   "id": "assisted-religious",
   "metadata": {
    "papermill": {
     "duration": 0.021149,
     "end_time": "2021-06-08T00:21:22.030325",
     "exception": false,
     "start_time": "2021-06-08T00:21:22.009176",
     "status": "completed"
    },
    "tags": []
   },
   "source": [
    "Load in your data. "
   ]
  },
  {
   "cell_type": "code",
   "execution_count": null,
   "id": "quantitative-sheffield",
   "metadata": {
    "execution": {
     "iopub.execute_input": "2021-06-08T00:21:22.078624Z",
     "iopub.status.busy": "2021-06-08T00:21:22.078025Z",
     "iopub.status.idle": "2021-06-08T00:21:22.079806Z",
     "shell.execute_reply": "2021-06-08T00:21:22.080174Z"
    },
    "papermill": {
     "duration": 0.028737,
     "end_time": "2021-06-08T00:21:22.080299",
     "exception": false,
     "start_time": "2021-06-08T00:21:22.051562",
     "status": "completed"
    },
    "tags": []
   },
   "outputs": [],
   "source": [
    "credit_card_data = pd.read_csv(\"data/credit_card_approval_synthetic.csv\")"
   ]
  },
  {
   "cell_type": "code",
   "execution_count": null,
   "id": "foreign-feeling",
   "metadata": {
    "execution": {
     "iopub.execute_input": "2021-06-08T00:21:22.132813Z",
     "iopub.status.busy": "2021-06-08T00:21:22.132065Z",
     "iopub.status.idle": "2021-06-08T00:21:22.137095Z",
     "shell.execute_reply": "2021-06-08T00:21:22.137473Z"
    },
    "papermill": {
     "duration": 0.036266,
     "end_time": "2021-06-08T00:21:22.137626",
     "exception": false,
     "start_time": "2021-06-08T00:21:22.101360",
     "status": "completed"
    },
    "tags": []
   },
   "outputs": [],
   "source": [
    "credit_card_data.head()"
   ]
  },
  {
   "cell_type": "code",
   "execution_count": null,
   "id": "sunset-cathedral",
   "metadata": {
    "execution": {
     "iopub.execute_input": "2021-06-08T00:21:22.185250Z",
     "iopub.status.busy": "2021-06-08T00:21:22.184689Z",
     "iopub.status.idle": "2021-06-08T00:21:22.187154Z",
     "shell.execute_reply": "2021-06-08T00:21:22.187494Z"
    },
    "papermill": {
     "duration": 0.02838,
     "end_time": "2021-06-08T00:21:22.187616",
     "exception": false,
     "start_time": "2021-06-08T00:21:22.159236",
     "status": "completed"
    },
    "tags": []
   },
   "outputs": [],
   "source": [
    "credit_card_data.dtypes"
   ]
  },
  {
   "cell_type": "markdown",
   "id": "figured-wiring",
   "metadata": {
    "papermill": {
     "duration": 0.021759,
     "end_time": "2021-06-08T00:21:22.232437",
     "exception": false,
     "start_time": "2021-06-08T00:21:22.210678",
     "status": "completed"
    },
    "tags": []
   },
   "source": [
    "### Client-Side Encryption Methods\n",
    "\n",
    "Below are some methods that use the Amazon Encryption SDK library for data encryption, and decryption. Note that the data type of the encryption is byte which we convert to an integer prior to storing it into Feature Store and do the reverse prior to decrypting. This is because Feature Store doesn't support byte format directly, thus why we convert the byte encryption to an integer. "
   ]
  },
  {
   "cell_type": "code",
   "execution_count": null,
   "id": "leading-marketing",
   "metadata": {
    "execution": {
     "iopub.execute_input": "2021-06-08T00:21:22.285286Z",
     "iopub.status.busy": "2021-06-08T00:21:22.284045Z",
     "iopub.status.idle": "2021-06-08T00:21:22.287349Z",
     "shell.execute_reply": "2021-06-08T00:21:22.286903Z"
    },
    "papermill": {
     "duration": 0.033211,
     "end_time": "2021-06-08T00:21:22.287453",
     "exception": false,
     "start_time": "2021-06-08T00:21:22.254242",
     "status": "completed"
    },
    "tags": []
   },
   "outputs": [],
   "source": [
    "def encrypt_data_frame(df, columns):\n",
    "    \"\"\"\n",
    "    Input:\n",
    "    df: A pandas Dataframe\n",
    "    columns: A list of column names.\n",
    "\n",
    "    Encrypt the provided columns in df. This method assumes that column names provided in columns exist in df,\n",
    "    and uses the AWS Encryption SDK library.\n",
    "    \"\"\"\n",
    "    for col in columns:\n",
    "        buffer = []\n",
    "        for entry in np.array(df[col]):\n",
    "            entry = str(entry)\n",
    "            encrypted_entry, encryptor_header = client.encrypt(\n",
    "                source=entry, key_provider=kms_key_provider\n",
    "            )\n",
    "            buffer.append(encrypted_entry)\n",
    "        df[col] = buffer\n",
    "\n",
    "\n",
    "def decrypt_data_frame(df, columns):\n",
    "    \"\"\"\n",
    "    Input:\n",
    "    df: A pandas Dataframe\n",
    "    columns: A list of column names.\n",
    "\n",
    "    Decrypt the provided columns in df. This method assumes that column names provided in columns exist in df,\n",
    "    and uses the AWS Encryption SDK library.\n",
    "    \"\"\"\n",
    "    for col in columns:\n",
    "        buffer = []\n",
    "        for entry in np.array(df[col]):\n",
    "            decrypted_entry, decryptor_header = client.decrypt(\n",
    "                source=entry, key_provider=kms_key_provider\n",
    "            )\n",
    "            buffer.append(float(decrypted_entry))\n",
    "        df[col] = np.array(buffer)\n",
    "\n",
    "\n",
    "def bytes_to_int(df, columns):\n",
    "    \"\"\"\n",
    "    Input:\n",
    "    df: A pandas Dataframe\n",
    "    columns: A list of column names.\n",
    "\n",
    "    Convert the provided columns in df of type bytes to integers. This method assumes that column names provided\n",
    "    in columns exist in df and that the columns passed in are of type bytes.\n",
    "    \"\"\"\n",
    "    for col in columns:\n",
    "        for index, entry in enumerate(np.array(df[col])):\n",
    "            df[col][index] = int.from_bytes(entry, \"little\")\n",
    "\n",
    "\n",
    "def int_to_bytes(df, columns):\n",
    "    \"\"\"\n",
    "    Input:\n",
    "    df: A pandas Dataframe\n",
    "    columns: A list of column names.\n",
    "\n",
    "    Convert the provided columns in df of type integers to bytes. This method assumes that column names provided\n",
    "    in columns exist in df and that the columns passed in are of type integers.\n",
    "    \"\"\"\n",
    "    for col in columns:\n",
    "        buffer = []\n",
    "        for index, entry in enumerate(np.array(df[col])):\n",
    "            current = int(df[col][index])\n",
    "            current_bit_length = current.bit_length() + 1  # include the sign bit, 1\n",
    "            current_byte_length = (current_bit_length + 7) // 8\n",
    "            buffer.append(current.to_bytes(current_byte_length, \"little\"))\n",
    "        df[col] = pd.Series(buffer)"
   ]
  },
  {
   "cell_type": "code",
   "execution_count": null,
   "id": "sharing-might",
   "metadata": {
    "execution": {
     "iopub.execute_input": "2021-06-08T00:21:22.334816Z",
     "iopub.status.busy": "2021-06-08T00:21:22.334380Z",
     "iopub.status.idle": "2021-06-08T00:21:22.518574Z",
     "shell.execute_reply": "2021-06-08T00:21:22.518064Z"
    },
    "papermill": {
     "duration": 0.209327,
     "end_time": "2021-06-08T00:21:22.518686",
     "exception": false,
     "start_time": "2021-06-08T00:21:22.309359",
     "status": "completed"
    },
    "tags": []
   },
   "outputs": [],
   "source": [
    "## Encrypt credit card data. Note that we treat `customer_id` as a primary key, and since it's encryption is unique we can encrypt it.\n",
    "encrypt_data_frame(credit_card_data, [\"customer_id\", \"age\", \"SSN\", \"credit_score\"])"
   ]
  },
  {
   "cell_type": "code",
   "execution_count": null,
   "id": "discrete-background",
   "metadata": {
    "execution": {
     "iopub.execute_input": "2021-06-08T00:21:22.570960Z",
     "iopub.status.busy": "2021-06-08T00:21:22.570474Z",
     "iopub.status.idle": "2021-06-08T00:21:22.573294Z",
     "shell.execute_reply": "2021-06-08T00:21:22.572906Z"
    },
    "papermill": {
     "duration": 0.032379,
     "end_time": "2021-06-08T00:21:22.573397",
     "exception": false,
     "start_time": "2021-06-08T00:21:22.541018",
     "status": "completed"
    },
    "tags": []
   },
   "outputs": [],
   "source": [
    "credit_card_data"
   ]
  },
  {
   "cell_type": "code",
   "execution_count": null,
   "id": "waiting-finish",
   "metadata": {
    "execution": {
     "iopub.execute_input": "2021-06-08T00:21:22.623069Z",
     "iopub.status.busy": "2021-06-08T00:21:22.622603Z",
     "iopub.status.idle": "2021-06-08T00:21:22.624778Z",
     "shell.execute_reply": "2021-06-08T00:21:22.625120Z"
    },
    "papermill": {
     "duration": 0.028967,
     "end_time": "2021-06-08T00:21:22.625242",
     "exception": false,
     "start_time": "2021-06-08T00:21:22.596275",
     "status": "completed"
    },
    "tags": []
   },
   "outputs": [],
   "source": [
    "print(credit_card_data.dtypes)"
   ]
  },
  {
   "cell_type": "code",
   "execution_count": null,
   "id": "twelve-vitamin",
   "metadata": {
    "execution": {
     "iopub.execute_input": "2021-06-08T00:21:22.676213Z",
     "iopub.status.busy": "2021-06-08T00:21:22.675747Z",
     "iopub.status.idle": "2021-06-08T00:21:22.677849Z",
     "shell.execute_reply": "2021-06-08T00:21:22.677448Z"
    },
    "papermill": {
     "duration": 0.029909,
     "end_time": "2021-06-08T00:21:22.677948",
     "exception": false,
     "start_time": "2021-06-08T00:21:22.648039",
     "status": "completed"
    },
    "tags": []
   },
   "outputs": [],
   "source": [
    "## Cast encryption of type bytes to an integer so it can be stored in Feature Store.\n",
    "bytes_to_int(credit_card_data, [\"customer_id\", \"age\", \"SSN\", \"credit_score\"])"
   ]
  },
  {
   "cell_type": "code",
   "execution_count": null,
   "id": "former-chancellor",
   "metadata": {
    "execution": {
     "iopub.execute_input": "2021-06-08T00:21:22.727219Z",
     "iopub.status.busy": "2021-06-08T00:21:22.726769Z",
     "iopub.status.idle": "2021-06-08T00:21:22.728884Z",
     "shell.execute_reply": "2021-06-08T00:21:22.729266Z"
    },
    "papermill": {
     "duration": 0.028717,
     "end_time": "2021-06-08T00:21:22.729389",
     "exception": false,
     "start_time": "2021-06-08T00:21:22.700672",
     "status": "completed"
    },
    "tags": []
   },
   "outputs": [],
   "source": [
    "print(credit_card_data.dtypes)"
   ]
  },
  {
   "cell_type": "code",
   "execution_count": null,
   "id": "atmospheric-mentor",
   "metadata": {
    "execution": {
     "iopub.execute_input": "2021-06-08T00:21:22.783807Z",
     "iopub.status.busy": "2021-06-08T00:21:22.783253Z",
     "iopub.status.idle": "2021-06-08T00:21:22.785669Z",
     "shell.execute_reply": "2021-06-08T00:21:22.786037Z"
    },
    "papermill": {
     "duration": 0.033984,
     "end_time": "2021-06-08T00:21:22.786159",
     "exception": false,
     "start_time": "2021-06-08T00:21:22.752175",
     "status": "completed"
    },
    "tags": []
   },
   "outputs": [],
   "source": [
    "credit_card_data"
   ]
  },
  {
   "cell_type": "code",
   "execution_count": null,
   "id": "informed-district",
   "metadata": {
    "execution": {
     "iopub.execute_input": "2021-06-08T00:21:22.841230Z",
     "iopub.status.busy": "2021-06-08T00:21:22.840797Z",
     "iopub.status.idle": "2021-06-08T00:21:22.842684Z",
     "shell.execute_reply": "2021-06-08T00:21:22.843030Z"
    },
    "papermill": {
     "duration": 0.033524,
     "end_time": "2021-06-08T00:21:22.843151",
     "exception": false,
     "start_time": "2021-06-08T00:21:22.809627",
     "status": "completed"
    },
    "tags": []
   },
   "outputs": [],
   "source": [
    "def cast_object_to_string(data_frame):\n",
    "    \"\"\"\n",
    "    Input:\n",
    "    data_frame: A pandas Dataframe\n",
    "\n",
    "    Cast all columns of data_frame of type object to type string.\n",
    "    \"\"\"\n",
    "    for label in data_frame.columns:\n",
    "        if data_frame.dtypes[label] == object:\n",
    "            data_frame[label] = data_frame[label].astype(\"str\").astype(\"string\")\n",
    "    return data_frame\n",
    "\n",
    "\n",
    "credit_card_data = cast_object_to_string(credit_card_data)"
   ]
  },
  {
   "cell_type": "code",
   "execution_count": null,
   "id": "neural-floor",
   "metadata": {
    "execution": {
     "iopub.execute_input": "2021-06-08T00:21:22.894119Z",
     "iopub.status.busy": "2021-06-08T00:21:22.893667Z",
     "iopub.status.idle": "2021-06-08T00:21:22.895704Z",
     "shell.execute_reply": "2021-06-08T00:21:22.896038Z"
    },
    "papermill": {
     "duration": 0.029564,
     "end_time": "2021-06-08T00:21:22.896156",
     "exception": false,
     "start_time": "2021-06-08T00:21:22.866592",
     "status": "completed"
    },
    "tags": []
   },
   "outputs": [],
   "source": [
    "print(credit_card_data.dtypes)"
   ]
  },
  {
   "cell_type": "code",
   "execution_count": null,
   "id": "downtown-myanmar",
   "metadata": {
    "execution": {
     "iopub.execute_input": "2021-06-08T00:21:22.952582Z",
     "iopub.status.busy": "2021-06-08T00:21:22.951465Z",
     "iopub.status.idle": "2021-06-08T00:21:22.955057Z",
     "shell.execute_reply": "2021-06-08T00:21:22.955372Z"
    },
    "papermill": {
     "duration": 0.035752,
     "end_time": "2021-06-08T00:21:22.955496",
     "exception": false,
     "start_time": "2021-06-08T00:21:22.919744",
     "status": "completed"
    },
    "tags": []
   },
   "outputs": [],
   "source": [
    "credit_card_data"
   ]
  },
  {
   "cell_type": "markdown",
   "id": "employed-device",
   "metadata": {
    "papermill": {
     "duration": 0.024397,
     "end_time": "2021-06-08T00:21:23.004090",
     "exception": false,
     "start_time": "2021-06-08T00:21:22.979693",
     "status": "completed"
    },
    "tags": []
   },
   "source": [
    "### Create your Feature Group and Ingest your encrypted data into it\n",
    "\n",
    "Below we start by appending the `EventTime` feature to your data to timestamp entries, then we load the feature definition, and instantiate the Feature Group object. Then lastly we ingest the data into your feature store. "
   ]
  },
  {
   "cell_type": "code",
   "execution_count": null,
   "id": "suspected-vinyl",
   "metadata": {
    "execution": {
     "iopub.execute_input": "2021-06-08T00:21:23.056018Z",
     "iopub.status.busy": "2021-06-08T00:21:23.055400Z",
     "iopub.status.idle": "2021-06-08T00:21:23.057148Z",
     "shell.execute_reply": "2021-06-08T00:21:23.057491Z"
    },
    "papermill": {
     "duration": 0.029494,
     "end_time": "2021-06-08T00:21:23.057643",
     "exception": false,
     "start_time": "2021-06-08T00:21:23.028149",
     "status": "completed"
    },
    "tags": []
   },
   "outputs": [],
   "source": [
    "from time import gmtime, strftime, sleep\n",
    "\n",
    "credit_card_feature_group_name = \"credit-card-feature-group-\" + strftime(\"%d-%H-%M-%S\", gmtime())"
   ]
  },
  {
   "cell_type": "markdown",
   "id": "thermal-musical",
   "metadata": {
    "papermill": {
     "duration": 0.024164,
     "end_time": "2021-06-08T00:21:23.106013",
     "exception": false,
     "start_time": "2021-06-08T00:21:23.081849",
     "status": "completed"
    },
    "tags": []
   },
   "source": [
    "Instantiate a FeatureGroup object for `credit_card_data`."
   ]
  },
  {
   "cell_type": "code",
   "execution_count": null,
   "id": "latest-corrections",
   "metadata": {
    "execution": {
     "iopub.execute_input": "2021-06-08T00:21:23.158357Z",
     "iopub.status.busy": "2021-06-08T00:21:23.157586Z",
     "iopub.status.idle": "2021-06-08T00:21:23.180668Z",
     "shell.execute_reply": "2021-06-08T00:21:23.180203Z"
    },
    "papermill": {
     "duration": 0.050538,
     "end_time": "2021-06-08T00:21:23.180774",
     "exception": false,
     "start_time": "2021-06-08T00:21:23.130236",
     "status": "completed"
    },
    "tags": []
   },
   "outputs": [],
   "source": [
    "from sagemaker.feature_store.feature_group import FeatureGroup\n",
    "\n",
    "credit_card_feature_group = FeatureGroup(\n",
    "    name=credit_card_feature_group_name, sagemaker_session=sagemaker_session\n",
    ")"
   ]
  },
  {
   "cell_type": "code",
   "execution_count": null,
   "id": "accompanied-knitting",
   "metadata": {
    "execution": {
     "iopub.execute_input": "2021-06-08T00:21:23.234976Z",
     "iopub.status.busy": "2021-06-08T00:21:23.234388Z",
     "iopub.status.idle": "2021-06-08T00:21:23.236119Z",
     "shell.execute_reply": "2021-06-08T00:21:23.236461Z"
    },
    "papermill": {
     "duration": 0.029876,
     "end_time": "2021-06-08T00:21:23.236584",
     "exception": false,
     "start_time": "2021-06-08T00:21:23.206708",
     "status": "completed"
    },
    "tags": []
   },
   "outputs": [],
   "source": [
    "import time\n",
    "\n",
    "current_time_sec = int(round(time.time()))\n",
    "\n",
    "## Recall customer_id is encrypted therefore unique, and so it can be used as a record identifier.\n",
    "record_identifier_feature_name = \"customer_id\""
   ]
  },
  {
   "cell_type": "markdown",
   "id": "dominant-canal",
   "metadata": {
    "papermill": {
     "duration": 0.02468,
     "end_time": "2021-06-08T00:21:23.285760",
     "exception": false,
     "start_time": "2021-06-08T00:21:23.261080",
     "status": "completed"
    },
    "tags": []
   },
   "source": [
    "Append the `EventTime` feature to your data frame. This parameter is required, and time stamps each data point."
   ]
  },
  {
   "cell_type": "code",
   "execution_count": null,
   "id": "signed-crime",
   "metadata": {
    "execution": {
     "iopub.execute_input": "2021-06-08T00:21:23.338920Z",
     "iopub.status.busy": "2021-06-08T00:21:23.338463Z",
     "iopub.status.idle": "2021-06-08T00:21:23.340320Z",
     "shell.execute_reply": "2021-06-08T00:21:23.340670Z"
    },
    "papermill": {
     "duration": 0.030674,
     "end_time": "2021-06-08T00:21:23.340795",
     "exception": false,
     "start_time": "2021-06-08T00:21:23.310121",
     "status": "completed"
    },
    "tags": []
   },
   "outputs": [],
   "source": [
    "credit_card_data[\"EventTime\"] = pd.Series(\n",
    "    [current_time_sec] * len(credit_card_data), dtype=\"float64\"\n",
    ")"
   ]
  },
  {
   "cell_type": "code",
   "execution_count": null,
   "id": "meaning-antibody",
   "metadata": {
    "execution": {
     "iopub.execute_input": "2021-06-08T00:21:23.399333Z",
     "iopub.status.busy": "2021-06-08T00:21:23.393274Z",
     "iopub.status.idle": "2021-06-08T00:21:23.401883Z",
     "shell.execute_reply": "2021-06-08T00:21:23.402228Z"
    },
    "papermill": {
     "duration": 0.037089,
     "end_time": "2021-06-08T00:21:23.402352",
     "exception": false,
     "start_time": "2021-06-08T00:21:23.365263",
     "status": "completed"
    },
    "tags": []
   },
   "outputs": [],
   "source": [
    "credit_card_data.head()"
   ]
  },
  {
   "cell_type": "code",
   "execution_count": null,
   "id": "indonesian-reverse",
   "metadata": {
    "execution": {
     "iopub.execute_input": "2021-06-08T00:21:23.456141Z",
     "iopub.status.busy": "2021-06-08T00:21:23.455623Z",
     "iopub.status.idle": "2021-06-08T00:21:23.458179Z",
     "shell.execute_reply": "2021-06-08T00:21:23.457806Z"
    },
    "papermill": {
     "duration": 0.031128,
     "end_time": "2021-06-08T00:21:23.458277",
     "exception": false,
     "start_time": "2021-06-08T00:21:23.427149",
     "status": "completed"
    },
    "tags": []
   },
   "outputs": [],
   "source": [
    "print(credit_card_data.dtypes)"
   ]
  },
  {
   "cell_type": "code",
   "execution_count": null,
   "id": "convertible-creation",
   "metadata": {
    "execution": {
     "iopub.execute_input": "2021-06-08T00:21:23.513539Z",
     "iopub.status.busy": "2021-06-08T00:21:23.513012Z",
     "iopub.status.idle": "2021-06-08T00:21:23.515103Z",
     "shell.execute_reply": "2021-06-08T00:21:23.515415Z"
    },
    "papermill": {
     "duration": 0.032112,
     "end_time": "2021-06-08T00:21:23.515542",
     "exception": false,
     "start_time": "2021-06-08T00:21:23.483430",
     "status": "completed"
    },
    "tags": []
   },
   "outputs": [],
   "source": [
    "credit_card_feature_group.load_feature_definitions(data_frame=credit_card_data)"
   ]
  },
  {
   "cell_type": "code",
   "execution_count": null,
   "id": "fatal-merchant",
   "metadata": {
    "execution": {
     "iopub.execute_input": "2021-06-08T00:21:23.572636Z",
     "iopub.status.busy": "2021-06-08T00:21:23.570650Z",
     "iopub.status.idle": "2021-06-08T00:21:23.952523Z",
     "shell.execute_reply": "2021-06-08T00:21:23.952891Z"
    },
    "papermill": {
     "duration": 0.411126,
     "end_time": "2021-06-08T00:21:23.953026",
     "exception": false,
     "start_time": "2021-06-08T00:21:23.541900",
     "status": "completed"
    },
    "tags": []
   },
   "outputs": [],
   "source": [
    "credit_card_feature_group.create(\n",
    "    s3_uri=f\"s3://{s3_bucket_name}/{prefix}\",\n",
    "    record_identifier_name=record_identifier_feature_name,\n",
    "    event_time_feature_name=\"EventTime\",\n",
    "    role_arn=role,\n",
    "    enable_online_store=False,\n",
    ")"
   ]
  },
  {
   "cell_type": "code",
   "execution_count": null,
   "id": "demonstrated-modern",
   "metadata": {
    "execution": {
     "iopub.execute_input": "2021-06-08T00:21:24.007929Z",
     "iopub.status.busy": "2021-06-08T00:21:24.007492Z",
     "iopub.status.idle": "2021-06-08T00:22:24.051653Z",
     "shell.execute_reply": "2021-06-08T00:22:24.052050Z"
    },
    "papermill": {
     "duration": 60.073343,
     "end_time": "2021-06-08T00:22:24.052198",
     "exception": false,
     "start_time": "2021-06-08T00:21:23.978855",
     "status": "completed"
    },
    "tags": []
   },
   "outputs": [],
   "source": [
    "time.sleep(60)"
   ]
  },
  {
   "cell_type": "markdown",
   "id": "incredible-steps",
   "metadata": {
    "papermill": {
     "duration": 0.026015,
     "end_time": "2021-06-08T00:22:24.104473",
     "exception": false,
     "start_time": "2021-06-08T00:22:24.078458",
     "status": "completed"
    },
    "tags": []
   },
   "source": [
    "Ingest your data into your feature group. "
   ]
  },
  {
   "cell_type": "code",
   "execution_count": 28,
   "id": "polyphonic-brunswick",
   "metadata": {
    "execution": {
     "iopub.execute_input": "2021-06-08T00:22:24.160677Z",
     "iopub.status.busy": "2021-06-08T00:22:24.160154Z",
     "iopub.status.idle": "2021-06-08T00:22:24.682525Z",
     "shell.execute_reply": "2021-06-08T00:22:24.682903Z"
    },
    "papermill": {
     "duration": 0.552475,
     "end_time": "2021-06-08T00:22:24.683043",
     "exception": false,
     "start_time": "2021-06-08T00:22:24.130568",
     "status": "completed"
    },
    "tags": []
   },
   "outputs": [
    {
     "data": {
      "text/plain": [
       "IngestionManagerPandas(feature_group_name='credit-card-feature-group-08-00-21-23', sagemaker_fs_runtime_client_config=<botocore.config.Config object at 0x7f692b95ac50>, max_workers=3, max_processes=1, _async_result=<multiprocess.pool.MapResult object at 0x7f692a5def90>, _processing_pool=<pool ProcessPool(ncpus=1)>, _failed_indices=[])"
      ]
     },
     "execution_count": 28,
     "metadata": {},
     "output_type": "execute_result"
    }
   ],
   "source": [
    "credit_card_feature_group.ingest(data_frame=credit_card_data, max_workers=3, wait=True)"
   ]
  },
  {
   "cell_type": "code",
   "execution_count": 29,
   "id": "green-message",
   "metadata": {
    "execution": {
     "iopub.execute_input": "2021-06-08T00:22:24.738912Z",
     "iopub.status.busy": "2021-06-08T00:22:24.738486Z",
     "iopub.status.idle": "2021-06-08T00:22:54.763449Z",
     "shell.execute_reply": "2021-06-08T00:22:54.763829Z"
    },
    "papermill": {
     "duration": 30.054494,
     "end_time": "2021-06-08T00:22:54.763968",
     "exception": false,
     "start_time": "2021-06-08T00:22:24.709474",
     "status": "completed"
    },
    "tags": []
   },
   "outputs": [],
   "source": [
    "s3_client = sagemaker_session.boto_session.client(\"s3\", region_name=region)\n",
    "\n",
    "\n",
    "credit_card_feature_group_s3_uri = None\n",
    "\n",
    "while credit_card_feature_group_s3_uri is None:\n",
    "    time.sleep(30)\n",
    "    credit_card_feature_group_s3_uri = (\n",
    "        credit_card_feature_group.describe()\n",
    "        .get(\"OfflineStoreConfig\")\n",
    "        .get(\"S3StorageConfig\")\n",
    "        .get(\"ResolvedOutputS3Uri\")\n",
    "    )\n"
   ]
  },
  {
   "cell_type": "markdown",
   "id": "worthy-planet",
   "metadata": {
    "papermill": {
     "duration": 0.026357,
     "end_time": "2021-06-08T00:22:54.816798",
     "exception": false,
     "start_time": "2021-06-08T00:22:54.790441",
     "status": "completed"
    },
    "tags": []
   },
   "source": [
    "Continually check your offline store until your data is available in it. "
   ]
  },
  {
   "cell_type": "code",
   "execution_count": null,
   "id": "bizarre-china",
   "metadata": {
    "execution": {
     "iopub.execute_input": "2021-06-08T00:22:54.874945Z",
     "iopub.status.busy": "2021-06-08T00:22:54.874497Z",
     "iopub.status.idle": "2021-06-08T00:22:55.046985Z",
     "shell.execute_reply": "2021-06-08T00:22:55.046271Z"
    },
    "papermill": {
     "duration": 0.204155,
     "end_time": "2021-06-08T00:22:55.047176",
     "exception": true,
     "start_time": "2021-06-08T00:22:54.843021",
     "status": "failed"
    },
    "tags": []
   },
   "outputs": [],
   "source": [
    "offline_store_contents = None\n",
    "while offline_store_contents is None:\n",
    "    objects_in_bucket = s3_client.list_objects(\n",
    "        Bucket=s3_bucket_name, Prefix=credit_card_feature_group_s3_prefix\n",
    "    )\n",
    "    if \"Contents\" in objects_in_bucket and len(objects_in_bucket[\"Contents\"]) > 1:\n",
    "        offline_store_contents = objects_in_bucket[\"Contents\"]\n",
    "    else:\n",
    "        print(\"Waiting for data in offline store...\\n\")\n",
    "        time.sleep(60)\n",
    "\n",
    "print(\"Data available.\")"
   ]
  },
  {
   "cell_type": "markdown",
   "id": "polyphonic-cooler",
   "metadata": {
    "papermill": {
     "duration": null,
     "end_time": null,
     "exception": null,
     "start_time": null,
     "status": "pending"
    },
    "tags": []
   },
   "source": [
    "### Use Amazon Athena to Query your Encrypted Data in your Feature Store\n",
    "Using Amazon Athena, we query columns `customer_id`, `age`, and `credit_score` from your offline feature store where your encrypted data is. "
   ]
  },
  {
   "cell_type": "code",
   "execution_count": null,
   "id": "fuzzy-novel",
   "metadata": {
    "papermill": {
     "duration": null,
     "end_time": null,
     "exception": null,
     "start_time": null,
     "status": "pending"
    },
    "tags": []
   },
   "outputs": [],
   "source": [
    "credit_card_query = credit_card_feature_group.athena_query()\n",
    "\n",
    "credit_card_table = credit_card_query.table_name\n",
    "\n",
    "query_credit_card_table = 'SELECT customer_id, age, credit_score FROM \"' + credit_card_table + '\"'\n",
    "\n",
    "print(\"Running \" + query_credit_card_table)\n",
    "\n",
    "# Run the Athena query\n",
    "credit_card_query.run(\n",
    "    query_string=query_credit_card_table,\n",
    "    output_location=\"s3://\" + s3_bucket_name + \"/\" + prefix + \"/query_results/\",\n",
    ")"
   ]
  },
  {
   "cell_type": "code",
   "execution_count": null,
   "id": "acoustic-property",
   "metadata": {
    "papermill": {
     "duration": null,
     "end_time": null,
     "exception": null,
     "start_time": null,
     "status": "pending"
    },
    "tags": []
   },
   "outputs": [],
   "source": [
    "time.sleep(60)"
   ]
  },
  {
   "cell_type": "code",
   "execution_count": null,
   "id": "correct-marina",
   "metadata": {
    "papermill": {
     "duration": null,
     "end_time": null,
     "exception": null,
     "start_time": null,
     "status": "pending"
    },
    "tags": []
   },
   "outputs": [],
   "source": [
    "credit_card_dataset = credit_card_query.as_dataframe()"
   ]
  },
  {
   "cell_type": "code",
   "execution_count": null,
   "id": "supreme-conducting",
   "metadata": {
    "papermill": {
     "duration": null,
     "end_time": null,
     "exception": null,
     "start_time": null,
     "status": "pending"
    },
    "tags": []
   },
   "outputs": [],
   "source": [
    "print(credit_card_dataset.dtypes)"
   ]
  },
  {
   "cell_type": "code",
   "execution_count": null,
   "id": "fallen-workplace",
   "metadata": {
    "papermill": {
     "duration": null,
     "end_time": null,
     "exception": null,
     "start_time": null,
     "status": "pending"
    },
    "tags": []
   },
   "outputs": [],
   "source": [
    "credit_card_dataset"
   ]
  },
  {
   "cell_type": "code",
   "execution_count": null,
   "id": "desirable-camcorder",
   "metadata": {
    "papermill": {
     "duration": null,
     "end_time": null,
     "exception": null,
     "start_time": null,
     "status": "pending"
    },
    "tags": []
   },
   "outputs": [],
   "source": [
    "int_to_bytes(credit_card_dataset, [\"customer_id\", \"age\", \"credit_score\"])"
   ]
  },
  {
   "cell_type": "code",
   "execution_count": null,
   "id": "super-pierce",
   "metadata": {
    "papermill": {
     "duration": null,
     "end_time": null,
     "exception": null,
     "start_time": null,
     "status": "pending"
    },
    "tags": []
   },
   "outputs": [],
   "source": [
    "credit_card_dataset"
   ]
  },
  {
   "cell_type": "code",
   "execution_count": null,
   "id": "sustainable-express",
   "metadata": {
    "papermill": {
     "duration": null,
     "end_time": null,
     "exception": null,
     "start_time": null,
     "status": "pending"
    },
    "tags": []
   },
   "outputs": [],
   "source": [
    "decrypt_data_frame(credit_card_dataset, [\"customer_id\", \"age\", \"credit_score\"])"
   ]
  },
  {
   "cell_type": "markdown",
   "id": "aggressive-character",
   "metadata": {
    "papermill": {
     "duration": null,
     "end_time": null,
     "exception": null,
     "start_time": null,
     "status": "pending"
    },
    "tags": []
   },
   "source": [
    "In this notebook, we queried a subset of encrypted features. From here you can now train a model on this new dataset while remaining privacy over other columns e.g., `ssn`."
   ]
  },
  {
   "cell_type": "code",
   "execution_count": null,
   "id": "tamil-mexican",
   "metadata": {
    "papermill": {
     "duration": null,
     "end_time": null,
     "exception": null,
     "start_time": null,
     "status": "pending"
    },
    "tags": []
   },
   "outputs": [],
   "source": [
    "credit_card_dataset"
   ]
  },
  {
   "cell_type": "markdown",
   "id": "comic-forestry",
   "metadata": {
    "papermill": {
     "duration": null,
     "end_time": null,
     "exception": null,
     "start_time": null,
     "status": "pending"
    },
    "tags": []
   },
   "source": [
    "### Clean Up Resources\n",
    "Remove the Feature Group that was created. "
   ]
  },
  {
   "cell_type": "code",
   "execution_count": null,
   "id": "coordinated-wilderness",
   "metadata": {
    "papermill": {
     "duration": null,
     "end_time": null,
     "exception": null,
     "start_time": null,
     "status": "pending"
    },
    "tags": []
   },
   "outputs": [],
   "source": [
    "credit_card_feature_group.delete()"
   ]
  },
  {
   "cell_type": "markdown",
   "id": "difficult-puppy",
   "metadata": {
    "papermill": {
     "duration": null,
     "end_time": null,
     "exception": null,
     "start_time": null,
     "status": "pending"
    },
    "tags": []
   },
   "source": [
    "### Next Steps\n",
    "\n",
    "In this notebook we covered client-side encryption with Feature Store. If you are interested in understanding how server-side encryption is done with Feature Store, see [Feature Store: Encrypt Data in your Online or Offline Feature Store using KMS key](https://sagemaker-examples.readthedocs.io/en/latest/sagemaker-featurestore/feature_store_kms_key_encryption.html). \n",
    "\n",
    "For more information on the AWS Encryption library, see [AWS Encryption SDK library](https://docs.aws.amazon.com/encryption-sdk/latest/developer-guide/introduction.html). \n",
    "\n",
    "For detailed information about Feature Store, see the [Developer Guide](https://docs.aws.amazon.com/sagemaker/latest/dg/feature-store.html)."
   ]
  },
  {
   "cell_type": "code",
   "execution_count": null,
   "id": "geographic-bosnia",
   "metadata": {
    "papermill": {
     "duration": null,
     "end_time": null,
     "exception": null,
     "start_time": null,
     "status": "pending"
    },
    "tags": []
   },
   "outputs": [],
   "source": []
  }
 ],
 "metadata": {
  "instance_type": "ml.t3.medium",
  "kernelspec": {
   "display_name": "Environment (conda_anaconda3)",
   "language": "python",
   "name": "conda_anaconda3"
  },
  "language_info": {
   "codemirror_mode": {
    "name": "ipython",
    "version": 3
   },
   "file_extension": ".py",
   "mimetype": "text/x-python",
   "name": "python",
   "nbconvert_exporter": "python",
   "pygments_lexer": "ipython3",
   "version": "3.7.6"
  },
  "papermill": {
   "default_parameters": {},
   "duration": 97.953448,
   "end_time": "2021-06-08T00:22:55.553169",
   "environment_variables": {},
   "exception": true,
   "input_path": "feature_store_client_side_encryption.ipynb",
   "output_path": "/opt/ml/processing/output/feature_store_client_side_encryption-2021-06-08-00-17-17.ipynb",
   "parameters": {
    "kms_key": "arn:aws:kms:us-west-2:521695447989:key/6e9984db-50cf-4c7e-926c-877ec47a8b25"
   },
   "start_time": "2021-06-08T00:21:17.599721",
   "version": "2.3.3"
  }
 },
 "nbformat": 4,
 "nbformat_minor": 5
}
