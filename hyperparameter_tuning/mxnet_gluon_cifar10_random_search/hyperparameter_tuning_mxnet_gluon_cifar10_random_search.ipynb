{
 "cells": [
  {
   "cell_type": "markdown",
   "id": "wrong-kansas",
   "metadata": {
    "papermill": {
     "duration": 0.019741,
     "end_time": "2021-06-11T00:14:36.054138",
     "exception": false,
     "start_time": "2021-06-11T00:14:36.034397",
     "status": "completed"
    },
    "tags": []
   },
   "source": [
    "# Gluon CIFAR-10 Hyperparameter Tuning\n",
    "_**ResNet model in Gluon trained with SageMaker Automatic Model Tuning and Random Search Tuning**_\n",
    "\n",
    "---\n",
    "\n",
    "---\n",
    "\n",
    "_This notebook was created and tested on an ml.m4.xlarge notebook instance.  However, the tuning jobs use multiple ml.p3.8xlarge instances, meaning re-running this test could cost approximately \\$400.  Please do not use Cell -> Run All.  Certain cell outputs have not been cleared so that you can see results without having to run the notebook yourself._\n",
    "\n",
    "## Outline\n",
    "\n",
    "1. [Background](#Background)\n",
    "1. [Setup](#Setup)\n",
    "1. [Data](#Data)\n",
    "1. [Script](#Script)\n",
    "1. [Train: Initial](#Train:-Initial)\n",
    "1. [Tune: Random](#Tune:-Random)\n",
    "1. [Tune: Automatic Model Tuning](#Tune:-Automatic-Model-Tuning)\n",
    "1. [Wrap-up](#Wrap-up)\n",
    "\n",
    "## Background\n",
    "\n",
    "Selecting the right hyperparameter values for your machine learning model can be difficult.  The right answer is dependent on your data; some algorithms have many different hyperparameters that can be tweaked; some are very sensitive to the hyperparameter values selected; and most have a non-linear relationship between model fit and hyperparameter values.\n",
    "\n",
    "There are a variety of strategies to select hyperparameter values.  Some scientists use domain knowledge, heuristics, intuition, or manual experimentation; others use brute force searches; and some build meta models to predict what performant hyperparameter values may be.  But regardless of the method, it usually requires a specialized skill set.  Meanwhile, most scientists themselves would prefer to be creating new models rather than endlessly refining an old one.\n",
    "\n",
    "Amazon SageMaker can ease this process with Automatic Model Tuning.  This technique uses Gaussian Process regression to predict which hyperparameter values may be most effective at improving fit, and Bayesian optimization to balance exploring the hyperparameter space (so that a better predictive model for hyperparameters can be built) and exploiting specific hyperparameter values when needed.\n",
    "\n",
    "Other popular methods of hyperparameter optimization include brute force methods like random search.  Despite sounding naive, this is often very competitive.  However, we've found SageMaker's Automatic Model Tuning to provide better fits in fewer job runs, resulting in a better model with less time spent and at a lower cost.  This notebook will compare the two methods in more detail.\n",
    "\n",
    "SageMaker's Automatic Model Tuning works with SageMaker's built-in algorithms, pre-built deep learning frameworks, and the bring your own algorithm container options.  But, for this example, let's stick with the MXNet framework, a ResNet-34 convolutional neural network, and the [CIFAR-10](https://www.cs.toronto.edu/~kriz/cifar.html) image dataset.  For more background, please see the [MXNet CIFAR-10 example notebook](https://github.com/awslabs/amazon-sagemaker-examples/blob/master/sagemaker-python-sdk/mxnet_gluon_cifar10/mxnet_cifar10_with_gluon.ipynb).\n",
    "\n",
    "## Setup"
   ]
  },
  {
   "cell_type": "markdown",
   "id": "missing-times",
   "metadata": {
    "papermill": {
     "duration": 0.019685,
     "end_time": "2021-06-11T00:14:36.093611",
     "exception": false,
     "start_time": "2021-06-11T00:14:36.073926",
     "status": "completed"
    },
    "tags": []
   },
   "source": [
    "Install scikit-image==0.14.2"
   ]
  },
  {
   "cell_type": "code",
   "execution_count": 24,
   "id": "infectious-feelings",
   "metadata": {
    "execution": {
     "iopub.execute_input": "2021-06-11T00:14:36.138220Z",
     "iopub.status.busy": "2021-06-11T00:14:36.137606Z",
     "iopub.status.idle": "2021-06-11T00:14:41.247668Z",
     "shell.execute_reply": "2021-06-11T00:14:41.247145Z"
    },
    "papermill": {
     "duration": 5.134044,
     "end_time": "2021-06-11T00:14:41.247800",
     "exception": false,
     "start_time": "2021-06-11T00:14:36.113756",
     "status": "completed"
    },
    "tags": []
   },
   "outputs": [
    {
     "name": "stdout",
     "output_type": "stream",
     "text": [
      "Requirement already satisfied: scikit-image==0.14.2 in /home/ubuntu/anaconda3/envs/mxnet_p36/lib/python3.6/site-packages (0.14.2)\n",
      "Requirement already satisfied: matplotlib>=2.0.0 in /home/ubuntu/anaconda3/envs/mxnet_p36/lib/python3.6/site-packages (from scikit-image==0.14.2) (3.1.3)\n",
      "Requirement already satisfied: pillow>=4.3.0 in /home/ubuntu/anaconda3/envs/mxnet_p36/lib/python3.6/site-packages (from scikit-image==0.14.2) (7.0.0)\n",
      "Requirement already satisfied: cloudpickle>=0.2.1 in /home/ubuntu/anaconda3/envs/mxnet_p36/lib/python3.6/site-packages (from scikit-image==0.14.2) (1.3.0)\n",
      "Requirement already satisfied: dask[array]>=1.0.0 in /home/ubuntu/anaconda3/envs/mxnet_p36/lib/python3.6/site-packages (from scikit-image==0.14.2) (2.11.0)\n",
      "Requirement already satisfied: scipy>=0.17.0 in /home/ubuntu/anaconda3/envs/mxnet_p36/lib/python3.6/site-packages (from scikit-image==0.14.2) (1.4.1)\n",
      "Requirement already satisfied: networkx>=1.8 in /home/ubuntu/anaconda3/envs/mxnet_p36/lib/python3.6/site-packages (from scikit-image==0.14.2) (2.4)\n",
      "Requirement already satisfied: PyWavelets>=0.4.0 in /home/ubuntu/anaconda3/envs/mxnet_p36/lib/python3.6/site-packages (from scikit-image==0.14.2) (1.1.1)\n",
      "Requirement already satisfied: six>=1.10.0 in /home/ubuntu/anaconda3/envs/mxnet_p36/lib/python3.6/site-packages (from scikit-image==0.14.2) (1.14.0)\n",
      "Requirement already satisfied: kiwisolver>=1.0.1 in /home/ubuntu/anaconda3/envs/mxnet_p36/lib/python3.6/site-packages (from matplotlib>=2.0.0->scikit-image==0.14.2) (1.1.0)\n",
      "Requirement already satisfied: numpy>=1.11 in /home/ubuntu/anaconda3/envs/mxnet_p36/lib/python3.6/site-packages (from matplotlib>=2.0.0->scikit-image==0.14.2) (1.18.1)\n",
      "Requirement already satisfied: cycler>=0.10 in /home/ubuntu/anaconda3/envs/mxnet_p36/lib/python3.6/site-packages (from matplotlib>=2.0.0->scikit-image==0.14.2) (0.10.0)\n",
      "Requirement already satisfied: python-dateutil>=2.1 in /home/ubuntu/anaconda3/envs/mxnet_p36/lib/python3.6/site-packages (from matplotlib>=2.0.0->scikit-image==0.14.2) (2.8.1)\n",
      "Requirement already satisfied: pyparsing!=2.0.4,!=2.1.2,!=2.1.6,>=2.0.1 in /home/ubuntu/anaconda3/envs/mxnet_p36/lib/python3.6/site-packages (from matplotlib>=2.0.0->scikit-image==0.14.2) (2.4.6)\n",
      "Requirement already satisfied: toolz>=0.7.3; extra == \"array\" in /home/ubuntu/anaconda3/envs/mxnet_p36/lib/python3.6/site-packages (from dask[array]>=1.0.0->scikit-image==0.14.2) (0.10.0)\n",
      "Requirement already satisfied: decorator>=4.3.0 in /home/ubuntu/anaconda3/envs/mxnet_p36/lib/python3.6/site-packages (from networkx>=1.8->scikit-image==0.14.2) (4.4.1)\n",
      "Requirement already satisfied: setuptools in /home/ubuntu/anaconda3/envs/mxnet_p36/lib/python3.6/site-packages (from kiwisolver>=1.0.1->matplotlib>=2.0.0->scikit-image==0.14.2) (45.2.0.post20200210)\n"
     ]
    }
   ],
   "source": [
    "# Install a scikit-image package in the current Jupyter kernel\n",
    "import sys\n",
    "\n",
    "!{sys.executable} -m pip install scikit-image==0.14.2"
   ]
  },
  {
   "cell_type": "markdown",
   "id": "shared-isaac",
   "metadata": {
    "papermill": {
     "duration": 0.03278,
     "end_time": "2021-06-11T00:14:41.314036",
     "exception": false,
     "start_time": "2021-06-11T00:14:41.281256",
     "status": "completed"
    },
    "tags": []
   },
   "source": [
    "Specify the IAM role for permission to access the dataset in S3 and SageMaker functionality."
   ]
  },
  {
   "cell_type": "code",
   "execution_count": 25,
   "id": "seventh-singles",
   "metadata": {
    "execution": {
     "iopub.execute_input": "2021-06-11T00:14:41.385900Z",
     "iopub.status.busy": "2021-06-11T00:14:41.384914Z",
     "iopub.status.idle": "2021-06-11T00:14:42.902317Z",
     "shell.execute_reply": "2021-06-11T00:14:42.901799Z"
    },
    "papermill": {
     "duration": 1.554534,
     "end_time": "2021-06-11T00:14:42.902462",
     "exception": false,
     "start_time": "2021-06-11T00:14:41.347928",
     "status": "completed"
    },
    "tags": []
   },
   "outputs": [],
   "source": [
    "import sagemaker\n",
    "\n",
    "sagemaker_session = sagemaker.Session()\n",
    "role = sagemaker.get_execution_role()"
   ]
  },
  {
   "cell_type": "markdown",
   "id": "suffering-valuation",
   "metadata": {
    "papermill": {
     "duration": 0.032557,
     "end_time": "2021-06-11T00:14:43.006512",
     "exception": false,
     "start_time": "2021-06-11T00:14:42.973955",
     "status": "completed"
    },
    "tags": []
   },
   "source": [
    "Let's import the necessary libraries."
   ]
  },
  {
   "cell_type": "code",
   "execution_count": 26,
   "id": "empirical-worth",
   "metadata": {
    "execution": {
     "iopub.execute_input": "2021-06-11T00:14:43.076806Z",
     "iopub.status.busy": "2021-06-11T00:14:43.075895Z",
     "iopub.status.idle": "2021-06-11T00:14:43.183486Z",
     "shell.execute_reply": "2021-06-11T00:14:43.183955Z"
    },
    "papermill": {
     "duration": 0.145163,
     "end_time": "2021-06-11T00:14:43.184114",
     "exception": false,
     "start_time": "2021-06-11T00:14:43.038951",
     "status": "completed"
    },
    "tags": []
   },
   "outputs": [],
   "source": [
    "from sagemaker.mxnet import MXNet\n",
    "from sagemaker.tuner import (\n",
    "    IntegerParameter,\n",
    "    CategoricalParameter,\n",
    "    ContinuousParameter,\n",
    "    HyperparameterTuner,\n",
    ")\n",
    "import random_tuner as rt\n",
    "import pandas as pd\n",
    "import matplotlib.pyplot as plt"
   ]
  },
  {
   "cell_type": "markdown",
   "id": "matched-treasure",
   "metadata": {
    "papermill": {
     "duration": 0.033026,
     "end_time": "2021-06-11T00:14:43.249927",
     "exception": false,
     "start_time": "2021-06-11T00:14:43.216901",
     "status": "completed"
    },
    "tags": []
   },
   "source": [
    "---\n",
    "\n",
    "## Data\n",
    "\n",
    "We'll use a helper script to download [CIFAR-10](https://www.cs.toronto.edu/~kriz/cifar.html) training data and sample images.  CIFAR-10 consists of 60K 32x32 pixel color images (50K train, 10K test) evenly distributed across 10 classes."
   ]
  },
  {
   "cell_type": "code",
   "execution_count": 27,
   "id": "numerical-clearance",
   "metadata": {
    "execution": {
     "iopub.execute_input": "2021-06-11T00:14:43.318713Z",
     "iopub.status.busy": "2021-06-11T00:14:43.318125Z",
     "iopub.status.idle": "2021-06-11T00:14:49.801501Z",
     "shell.execute_reply": "2021-06-11T00:14:49.801994Z"
    },
    "papermill": {
     "duration": 6.519862,
     "end_time": "2021-06-11T00:14:49.802153",
     "exception": false,
     "start_time": "2021-06-11T00:14:43.282291",
     "status": "completed"
    },
    "tags": []
   },
   "outputs": [
    {
     "name": "stdout",
     "output_type": "stream",
     "text": [
      "downloading training data...\n",
      "done\n"
     ]
    }
   ],
   "source": [
    "from cifar10_utils import download_training_data\n",
    "\n",
    "download_training_data()"
   ]
  },
  {
   "cell_type": "markdown",
   "id": "collaborative-intervention",
   "metadata": {
    "papermill": {
     "duration": 0.033155,
     "end_time": "2021-06-11T00:14:49.868512",
     "exception": false,
     "start_time": "2021-06-11T00:14:49.835357",
     "status": "completed"
    },
    "tags": []
   },
   "source": [
    "Next we'll use the `sagemaker.Session.upload_data` function to upload our datasets to an S3 location. The return value `inputs` identifies the location -- we will use this later when we start the training and tuning jobs."
   ]
  },
  {
   "cell_type": "code",
   "execution_count": 28,
   "id": "amber-turkey",
   "metadata": {
    "execution": {
     "iopub.execute_input": "2021-06-11T00:14:49.939650Z",
     "iopub.status.busy": "2021-06-11T00:14:49.938698Z",
     "iopub.status.idle": "2021-06-11T00:14:52.647657Z",
     "shell.execute_reply": "2021-06-11T00:14:52.648097Z"
    },
    "papermill": {
     "duration": 2.746567,
     "end_time": "2021-06-11T00:14:52.648251",
     "exception": false,
     "start_time": "2021-06-11T00:14:49.901684",
     "status": "completed"
    },
    "tags": []
   },
   "outputs": [
    {
     "name": "stdout",
     "output_type": "stream",
     "text": [
      "input spec (in this case, just an S3 path): s3://sagemaker-us-west-2-688520471316/data/DEMO-gluon-cifar10\n"
     ]
    }
   ],
   "source": [
    "inputs = sagemaker_session.upload_data(path=\"data\", key_prefix=\"data/DEMO-gluon-cifar10\")\n",
    "print(\"input spec (in this case, just an S3 path): {}\".format(inputs))"
   ]
  },
  {
   "cell_type": "markdown",
   "id": "intensive-adapter",
   "metadata": {
    "papermill": {
     "duration": 0.033347,
     "end_time": "2021-06-11T00:14:52.715020",
     "exception": false,
     "start_time": "2021-06-11T00:14:52.681673",
     "status": "completed"
    },
    "tags": []
   },
   "source": [
    "---\n",
    "\n",
    "## Script\n",
    "\n",
    "We need to provide a training script that can run on the SageMaker platform. This is idiomatic MXNet code arranged into a few key functions:\n",
    "* A `train()` function that takes in hyperparameters, defines our neural net architecture, and trains our network.\n",
    "* A `save()` function that saves our trained network as an MXNet model.\n",
    "* Helper functions `get_data()`, `get_train_data()`, and `get_test_data()` which prepare the CIFAR-10 image data for our `train()` function.\n",
    "* A helper function called `test()` which calculates our accuracy on the holdout datasets.\n",
    "* Hosting functions (which we keep for alignment with other MXNet CIFAR-10 notebooks, but won't dig into since the focus of this notebook is only on training).\n",
    "\n",
    "The network itself is a ResNet-34 architecture imported from the [Gluon Model Zoo](https://mxnet.incubator.apache.org/versions/master/api/python/gluon/model_zoo.html)."
   ]
  },
  {
   "cell_type": "code",
   "execution_count": 29,
   "id": "discrete-smoke",
   "metadata": {
    "execution": {
     "iopub.execute_input": "2021-06-11T00:14:52.786635Z",
     "iopub.status.busy": "2021-06-11T00:14:52.785883Z",
     "iopub.status.idle": "2021-06-11T00:14:52.944025Z",
     "shell.execute_reply": "2021-06-11T00:14:52.943486Z"
    },
    "papermill": {
     "duration": 0.195781,
     "end_time": "2021-06-11T00:14:52.944156",
     "exception": false,
     "start_time": "2021-06-11T00:14:52.748375",
     "status": "completed"
    },
    "tags": []
   },
   "outputs": [
    {
     "name": "stdout",
     "output_type": "stream",
     "text": [
      "from __future__ import print_function\n",
      "\n",
      "import argparse\n",
      "import json\n",
      "import logging\n",
      "import os\n",
      "import time\n",
      "\n",
      "import mxnet as mx\n",
      "from mxnet import autograd as ag\n",
      "from mxnet import gluon\n",
      "from mxnet.gluon.model_zoo import vision as models\n",
      "\n",
      "# ------------------------------------------------------------ #\n",
      "# Training methods                                             #\n",
      "# ------------------------------------------------------------ #\n",
      "\n",
      "\n",
      "def train(\n",
      "    batch_size,\n",
      "    epochs,\n",
      "    learning_rate,\n",
      "    momentum,\n",
      "    log_interval,\n",
      "    wd,\n",
      "    current_host,\n",
      "    hosts,\n",
      "    num_cpus,\n",
      "    num_gpus,\n",
      "    data_dir,\n",
      "    model_dir,\n",
      "):\n",
      "    logging.basicConfig(level=logging.INFO)\n",
      "\n",
      "    if len(hosts) == 1:\n",
      "        kvstore = \"device\" if num_gpus > 0 else \"local\"\n",
      "    else:\n",
      "        kvstore = \"dist_device_sync\"\n",
      "\n",
      "    ctx = [mx.gpu(i) for i in range(num_gpus)] if num_gpus > 0 else [mx.cpu()]\n",
      "    net = models.get_model(\"resnet34_v2\", ctx=ctx, pretrained=False, classes=10)\n",
      "    batch_size *= max(1, len(ctx))\n",
      "\n",
      "    # load training and validation data\n",
      "    # we use the gluon.data.vision.CIFAR10 class because of its built in pre-processing logic,\n",
      "    # but point it at the location where SageMaker placed the data files, so it doesn't download them again.\n",
      "\n",
      "    part_index = 0\n",
      "    for i, host in enumerate(hosts):\n",
      "        if host == current_host:\n",
      "            part_index = i\n",
      "            break\n",
      "\n",
      "    train_data = get_train_data(\n",
      "        num_cpus, data_dir, batch_size, (3, 32, 32), num_parts=len(hosts), part_index=part_index\n",
      "    )\n",
      "    test_data = get_test_data(num_cpus, data_dir, batch_size, (3, 32, 32))\n",
      "\n",
      "    # Collect all parameters from net and its children, then initialize them.\n",
      "    net.initialize(mx.init.Xavier(magnitude=2), ctx=ctx)\n",
      "    # Trainer is for updating parameters with gradient.\n",
      "    trainer = gluon.Trainer(\n",
      "        net.collect_params(),\n",
      "        \"sgd\",\n",
      "        optimizer_params={\"learning_rate\": learning_rate, \"momentum\": momentum, \"wd\": wd},\n",
      "        kvstore=kvstore,\n",
      "    )\n",
      "    metric = mx.metric.Accuracy()\n",
      "    loss = gluon.loss.SoftmaxCrossEntropyLoss()\n",
      "\n",
      "    best_accuracy = 0.0\n",
      "    for epoch in range(epochs):\n",
      "        # reset data iterator and metric at begining of epoch.\n",
      "        train_data.reset()\n",
      "        tic = time.time()\n",
      "        metric.reset()\n",
      "        btic = time.time()\n",
      "\n",
      "        for i, batch in enumerate(train_data):\n",
      "            data = gluon.utils.split_and_load(batch.data[0], ctx_list=ctx, batch_axis=0)\n",
      "            label = gluon.utils.split_and_load(batch.label[0], ctx_list=ctx, batch_axis=0)\n",
      "            outputs = []\n",
      "            Ls = []\n",
      "            with ag.record():\n",
      "                for x, y in zip(data, label):\n",
      "                    z = net(x)\n",
      "                    L = loss(z, y)\n",
      "                    # store the loss and do backward after we have done forward\n",
      "                    # on all GPUs for better speed on multiple GPUs.\n",
      "                    Ls.append(L)\n",
      "                    outputs.append(z)\n",
      "                for L in Ls:\n",
      "                    L.backward()\n",
      "            trainer.step(batch.data[0].shape[0])\n",
      "            metric.update(label, outputs)\n",
      "            if i % log_interval == 0 and i > 0:\n",
      "                name, acc = metric.get()\n",
      "                logging.info(\n",
      "                    \"Epoch [%d] Batch [%d]\\tSpeed: %f samples/sec\\t%s=%f\"\n",
      "                    % (epoch, i, batch_size / (time.time() - btic), name, acc)\n",
      "                )\n",
      "            btic = time.time()\n",
      "\n",
      "        name, acc = metric.get()\n",
      "        logging.info(\"[Epoch %d] training: %s=%f\" % (epoch, name, acc))\n",
      "        logging.info(\"[Epoch %d] time cost: %f\" % (epoch, time.time() - tic))\n",
      "\n",
      "        name, val_acc = test(ctx, net, test_data)\n",
      "        logging.info(\"[Epoch %d] validation: %s=%f\" % (epoch, name, val_acc))\n",
      "\n",
      "        # only save params on primary host\n",
      "        if current_host == hosts[0]:\n",
      "            if val_acc > best_accuracy:\n",
      "                net.save_params(\"{}/model-{:0>4}.params\".format(model_dir, epoch))\n",
      "                best_accuracy = val_acc\n",
      "\n",
      "    return net\n",
      "\n",
      "\n",
      "def save(net, model_dir):\n",
      "    # model_dir will be empty except on primary container\n",
      "    files = os.listdir(model_dir)\n",
      "    if files:\n",
      "        best = sorted(os.listdir(model_dir))[-1]\n",
      "        os.rename(os.path.join(model_dir, best), os.path.join(model_dir, \"model.params\"))\n",
      "\n",
      "\n",
      "def get_data(path, augment, num_cpus, batch_size, data_shape, resize=-1, num_parts=1, part_index=0):\n",
      "    return mx.io.ImageRecordIter(\n",
      "        path_imgrec=path,\n",
      "        resize=resize,\n",
      "        data_shape=data_shape,\n",
      "        batch_size=batch_size,\n",
      "        rand_crop=augment,\n",
      "        rand_mirror=augment,\n",
      "        preprocess_threads=num_cpus,\n",
      "        num_parts=num_parts,\n",
      "        part_index=part_index,\n",
      "    )\n",
      "\n",
      "\n",
      "def get_test_data(num_cpus, data_dir, batch_size, data_shape, resize=-1):\n",
      "    return get_data(\n",
      "        os.path.join(data_dir, \"test.rec\"), False, num_cpus, batch_size, data_shape, resize, 1, 0\n",
      "    )\n",
      "\n",
      "\n",
      "def get_train_data(\n",
      "    num_cpus, data_dir, batch_size, data_shape, resize=-1, num_parts=1, part_index=0\n",
      "):\n",
      "    return get_data(\n",
      "        os.path.join(data_dir, \"train.rec\"),\n",
      "        True,\n",
      "        num_cpus,\n",
      "        batch_size,\n",
      "        data_shape,\n",
      "        resize,\n",
      "        num_parts,\n",
      "        part_index,\n",
      "    )\n",
      "\n",
      "\n",
      "def test(ctx, net, test_data):\n",
      "    test_data.reset()\n",
      "    metric = mx.metric.Accuracy()\n",
      "\n",
      "    for i, batch in enumerate(test_data):\n",
      "        data = gluon.utils.split_and_load(batch.data[0], ctx_list=ctx, batch_axis=0)\n",
      "        label = gluon.utils.split_and_load(batch.label[0], ctx_list=ctx, batch_axis=0)\n",
      "        outputs = []\n",
      "        for x in data:\n",
      "            outputs.append(net(x))\n",
      "        metric.update(label, outputs)\n",
      "    return metric.get()\n",
      "\n",
      "\n",
      "def parse_args():\n",
      "    parser = argparse.ArgumentParser()\n",
      "\n",
      "    parser.add_argument(\"--batch_size\", type=int, default=128)\n",
      "    parser.add_argument(\"--epochs\", type=int, default=100)\n",
      "    parser.add_argument(\"--learning_rate\", type=float, default=0.1)\n",
      "    parser.add_argument(\"--momentum\", type=float, default=0.9)\n",
      "    parser.add_argument(\"--log_interval\", type=int, default=1)\n",
      "    parser.add_argument(\"--wd\", type=float, default=0.0001)\n",
      "\n",
      "    parser.add_argument(\"--model_dir\", type=str, default=os.environ[\"SM_MODEL_DIR\"])\n",
      "    parser.add_argument(\"--training_dir\", type=str, default=os.environ[\"SM_CHANNEL_TRAINING\"])\n",
      "\n",
      "    parser.add_argument(\"--current_host\", type=str, default=os.environ[\"SM_CURRENT_HOST\"])\n",
      "    parser.add_argument(\"--hosts\", type=list, default=json.loads(os.environ[\"SM_HOSTS\"]))\n",
      "\n",
      "    return parser.parse_args()\n",
      "\n",
      "\n",
      "if __name__ == \"__main__\":\n",
      "    args = parse_args()\n",
      "\n",
      "    num_cpus = int(os.environ[\"SM_NUM_CPUS\"])\n",
      "    num_gpus = int(os.environ[\"SM_NUM_GPUS\"])\n",
      "\n",
      "    train(\n",
      "        args.batch_size,\n",
      "        args.epochs,\n",
      "        args.learning_rate,\n",
      "        args.momentum,\n",
      "        args.log_interval,\n",
      "        args.wd,\n",
      "        args.current_host,\n",
      "        args.hosts,\n",
      "        num_cpus,\n",
      "        num_gpus,\n",
      "        args.training_dir,\n",
      "        args.model_dir,\n",
      "    )\n",
      "\n",
      "\n",
      "# ------------------------------------------------------------ #\n",
      "# Hosting methods                                              #\n",
      "# ------------------------------------------------------------ #\n",
      "\n",
      "\n",
      "def model_fn(model_dir):\n",
      "    \"\"\"\n",
      "    Load the gluon model. Called once when hosting service starts.\n",
      "\n",
      "    :param: model_dir The directory where model files are stored.\n",
      "    :return: a model (in this case a Gluon network)\n",
      "    \"\"\"\n",
      "\n",
      "    net = models.get_model(\"resnet34_v2\", ctx=mx.cpu(), pretrained=False, classes=10)\n",
      "    net.load_params(\"%s/model.params\" % model_dir, ctx=mx.cpu())\n",
      "    return net\n",
      "\n",
      "\n",
      "def transform_fn(net, data, input_content_type, output_content_type):\n",
      "    \"\"\"\n",
      "    Transform a request using the Gluon model. Called once per request.\n",
      "\n",
      "    :param net: The Gluon model.\n",
      "    :param data: The request payload.\n",
      "    :param input_content_type: The request content type.\n",
      "    :param output_content_type: The (desired) response content type.\n",
      "    :return: response payload and content type.\n",
      "    \"\"\"\n",
      "    # we can use content types to vary input/output handling, but\n",
      "    # here we just assume json for both\n",
      "    parsed = json.loads(data)\n",
      "    nda = mx.nd.array(parsed)\n",
      "    output = net(nda)\n",
      "    prediction = mx.nd.argmax(output, axis=1)\n",
      "    response_body = json.dumps(prediction.asnumpy().tolist()[0])\n",
      "    return response_body, output_content_type\n"
     ]
    }
   ],
   "source": [
    "!cat 'cifar10.py'"
   ]
  },
  {
   "cell_type": "markdown",
   "id": "accompanied-kruger",
   "metadata": {
    "papermill": {
     "duration": 0.034502,
     "end_time": "2021-06-11T00:14:53.013000",
     "exception": false,
     "start_time": "2021-06-11T00:14:52.978498",
     "status": "completed"
    },
    "tags": []
   },
   "source": [
    "---\n",
    "\n",
    "## Train: Initial\n",
    "\n",
    "Now that we've written our training script, we can submit it as a job to SageMaker training.  Normally, we might test locally to ensure our script worked (See the [MXNet CIFAR-10 local mode example](https://github.com/awslabs/amazon-sagemaker-examples/blob/master/sagemaker-python-sdk/mxnet_gluon_cifar10/mxnet_cifar10_local_mode.ipynb)), but since we already know the script works, we'll skip that step.\n",
    "\n",
    "Let's see how our model performs with a naive guess for hyperparameter values.  We're training our network with stochastic gradient descent (SGD), which is an iterative method to minimize our training loss by finding the direction to change our network weights that improves training loss and then taking a small step in that direction and repeating.  Since we're using SGD, the three hyperparameters we'll focus on will be:\n",
    "\n",
    "* `learning_rate`: which controls how large of steps we take.\n",
    "* `momentum`: which uses information from the direction of our previous step to inform our current step.\n",
    "* `wd`: which penalizes weights when they grow too large.\n",
    "\n",
    "In this case, we'll set the hyperparameters to MXNet's default values."
   ]
  },
  {
   "cell_type": "code",
   "execution_count": 30,
   "id": "dutch-printer",
   "metadata": {
    "execution": {
     "iopub.execute_input": "2021-06-11T00:14:53.088148Z",
     "iopub.status.busy": "2021-06-11T00:14:53.087386Z",
     "iopub.status.idle": "2021-06-11T00:14:53.153692Z",
     "shell.execute_reply": "2021-06-11T00:14:53.153151Z"
    },
    "papermill": {
     "duration": 0.106115,
     "end_time": "2021-06-11T00:14:53.153825",
     "exception": false,
     "start_time": "2021-06-11T00:14:53.047710",
     "status": "completed"
    },
    "tags": []
   },
   "outputs": [],
   "source": [
    "m = MXNet(\n",
    "    \"cifar10.py\",\n",
    "    role=role,\n",
    "    instance_count=1,\n",
    "    instance_type=\"ml.p2.xlarge\",\n",
    "    framework_version=\"1.4.1\",\n",
    "    py_version=\"py3\",\n",
    "    hyperparameters={\n",
    "        \"batch_size\": 1024,\n",
    "        \"epochs\": 1,\n",
    "        \"learning_rate\": 0.01,\n",
    "        \"momentum\": 0.0,\n",
    "        \"wd\": 0.0,\n",
    "    },\n",
    ")"
   ]
  },
  {
   "cell_type": "markdown",
   "id": "killing-organizer",
   "metadata": {
    "papermill": {
     "duration": 0.035059,
     "end_time": "2021-06-11T00:14:53.223933",
     "exception": false,
     "start_time": "2021-06-11T00:14:53.188874",
     "status": "completed"
    },
    "tags": []
   },
   "source": [
    "Now that we've constructed our `MXNet` object, we can fit it using the data we uploaded to S3."
   ]
  },
  {
   "cell_type": "code",
   "execution_count": null,
   "id": "recent-boutique",
   "metadata": {
    "execution": {
     "iopub.execute_input": "2021-06-11T00:14:53.299616Z",
     "iopub.status.busy": "2021-06-11T00:14:53.298676Z",
     "iopub.status.idle": "2021-06-11T00:26:51.030770Z",
     "shell.execute_reply": "2021-06-11T00:26:51.031219Z"
    },
    "papermill": {
     "duration": 717.771754,
     "end_time": "2021-06-11T00:26:51.031375",
     "exception": false,
     "start_time": "2021-06-11T00:14:53.259621",
     "status": "completed"
    },
    "scrolled": true,
    "tags": []
   },
   "outputs": [
    {
     "name": "stdout",
     "output_type": "stream",
     "text": [
      "2021-06-12 00:40:06 Starting - Starting the training job...\n",
      "2021-06-12 00:40:08 Starting - Launching requested ML instances............\n",
      "2021-06-12 00:42:08 Starting - Preparing the instances for training."
     ]
    }
   ],
   "source": [
    "m.fit(inputs)"
   ]
  },
  {
   "cell_type": "markdown",
   "id": "disciplinary-cartridge",
   "metadata": {
    "papermill": {
     "duration": 0.047922,
     "end_time": "2021-06-11T00:26:51.127739",
     "exception": false,
     "start_time": "2021-06-11T00:26:51.079817",
     "status": "completed"
    },
    "tags": []
   },
   "source": [
    "As we can see, our accuracy is only about 53% on our validation dataset.  CIFAR-10 can be challenging, but we'd want our accuracy much better than just over half if users are depending on an accurate prediction.\n",
    "\n",
    "---\n",
    "\n",
    "## Tune: Random\n",
    "\n",
    "One method of hyperparameter tuning that performs surprisingly well for how simple it is, is randomly trying a variety of hyperparameter values within set ranges.  So, for this example, we've created a helper script `random_tuner.py` to help us do this.\n",
    "\n",
    "We'll need to supply:\n",
    "\n",
    "* A function that trains our MXNet model given a job name and list of hyperparameters.  Note, `wait` is set to false in our `fit()` call so that we can train multiple jobs at once.\n",
    "* A dictionary of hyperparameters where the ones we want to tune are defined as one of three types (`ContinuousParameter`, `IntegerParameter`, or `CategoricalParameter`) and appropriate minimum and maximum ranges or a list of possible values are provided."
   ]
  },
  {
   "cell_type": "code",
   "execution_count": null,
   "id": "manual-athletics",
   "metadata": {
    "execution": {
     "iopub.execute_input": "2021-06-11T00:26:51.229623Z",
     "iopub.status.busy": "2021-06-11T00:26:51.228735Z",
     "iopub.status.idle": "2021-06-11T00:26:51.231285Z",
     "shell.execute_reply": "2021-06-11T00:26:51.230805Z"
    },
    "papermill": {
     "duration": 0.055749,
     "end_time": "2021-06-11T00:26:51.231410",
     "exception": false,
     "start_time": "2021-06-11T00:26:51.175661",
     "status": "completed"
    },
    "tags": []
   },
   "outputs": [],
   "source": [
    "def fit_random(job_name, hyperparameters):\n",
    "    m = MXNet(\n",
    "        \"cifar10.py\",\n",
    "        role=role,\n",
    "        instance_count=1,\n",
    "        instance_type=\"ml.p2.xlarge\",\n",
    "        framework_version=\"1.4.1\",\n",
    "        py_version=\"py3\",\n",
    "        hyperparameters=hyperparameters,\n",
    "    )\n",
    "    m.fit(inputs, wait=False, job_name=job_name)"
   ]
  },
  {
   "cell_type": "code",
   "execution_count": null,
   "id": "suburban-steering",
   "metadata": {
    "execution": {
     "iopub.execute_input": "2021-06-11T00:26:51.332806Z",
     "iopub.status.busy": "2021-06-11T00:26:51.332120Z",
     "iopub.status.idle": "2021-06-11T00:26:51.334022Z",
     "shell.execute_reply": "2021-06-11T00:26:51.334463Z"
    },
    "papermill": {
     "duration": 0.054968,
     "end_time": "2021-06-11T00:26:51.334618",
     "exception": false,
     "start_time": "2021-06-11T00:26:51.279650",
     "status": "completed"
    },
    "tags": []
   },
   "outputs": [],
   "source": [
    "hyperparameters = {\n",
    "    \"batch_size\": 1024,\n",
    "    \"epochs\": 2,\n",
    "    \"learning_rate\": rt.ContinuousParameter(0.001, 0.5),\n",
    "    \"momentum\": rt.ContinuousParameter(0.0, 0.99),\n",
    "    \"wd\": rt.ContinuousParameter(0.0, 0.001),\n",
    "}"
   ]
  },
  {
   "cell_type": "markdown",
   "id": "passive-progressive",
   "metadata": {
    "papermill": {
     "duration": 0.049212,
     "end_time": "2021-06-11T00:26:51.432569",
     "exception": false,
     "start_time": "2021-06-11T00:26:51.383357",
     "status": "completed"
    },
    "tags": []
   },
   "source": [
    "Next, we can kick off our random search.  We've specified the total number of training jobs to be only 20 and the maximum number of parallel jobs to be 2. Below we have printed out the results from having used 120 training jobs and a maximum number of parallel jobs to be 8. But this is a large amount and could make the cost of this notebook at much as $400 to run. (That output will be overwritten when you run the tuning job with the new parameter values.) The larger set of values exceeds the default concurrent instance limit for ml.p3.8xlarge instances. For testing this notebook, the smaller values control costs and allow you to complete successfully without requiring a service limit increase.\n",
    "\n",
    "_Note, this step may take up to an hour to complete.  Even if you loose connection with the notebook in the middle, as long as the notebook instance continues to run, `jobs` should still be successfully created for future use._"
   ]
  },
  {
   "cell_type": "code",
   "execution_count": null,
   "id": "maritime-wheat",
   "metadata": {
    "execution": {
     "iopub.execute_input": "2021-06-11T00:26:51.544960Z",
     "iopub.status.busy": "2021-06-11T00:26:51.544385Z",
     "iopub.status.idle": "2021-06-11T02:10:48.955484Z",
     "shell.execute_reply": "2021-06-11T02:10:48.955945Z"
    },
    "papermill": {
     "duration": 6237.475286,
     "end_time": "2021-06-11T02:10:48.956098",
     "exception": false,
     "start_time": "2021-06-11T00:26:51.480812",
     "status": "completed"
    },
    "tags": []
   },
   "outputs": [],
   "source": [
    "%%time\n",
    "\n",
    "jobs = rt.random_search(fit_random, hyperparameters, max_jobs=5, max_parallel_jobs=2)"
   ]
  },
  {
   "cell_type": "markdown",
   "id": "prostate-disposition",
   "metadata": {
    "papermill": {
     "duration": 0.064175,
     "end_time": "2021-06-11T02:10:49.084621",
     "exception": false,
     "start_time": "2021-06-11T02:10:49.020446",
     "status": "completed"
    },
    "tags": []
   },
   "source": [
    "Once our random search completes, we'll want to compare our training jobs (which may take a few extra minutes to finish) in order to understand how our objective metric (% accuracy on our validation dataset) varies by hyperparameter values.  In this case, our helper function includes two functions.\n",
    "\n",
    "* `get_metrics()` scrapes the CloudWatch logs for our training jobs and uses a regex to return any reported values of our objective metric.\n",
    "* `table_metrics()` joins on the hyperparameter values for each job, grabs the ending objective value, and converts the result to a Pandas DataFrame."
   ]
  },
  {
   "cell_type": "code",
   "execution_count": null,
   "id": "looking-journey",
   "metadata": {
    "execution": {
     "iopub.execute_input": "2021-06-11T02:10:49.218893Z",
     "iopub.status.busy": "2021-06-11T02:10:49.218029Z",
     "iopub.status.idle": "2021-06-11T02:10:52.904060Z",
     "shell.execute_reply": "2021-06-11T02:10:52.904518Z"
    },
    "papermill": {
     "duration": 3.75597,
     "end_time": "2021-06-11T02:10:52.904677",
     "exception": false,
     "start_time": "2021-06-11T02:10:49.148707",
     "status": "completed"
    },
    "tags": []
   },
   "outputs": [],
   "source": [
    "random_metrics = rt.table_metrics(jobs, rt.get_metrics(jobs, \"validation: accuracy=([0-9\\\\.]+)\"))\n",
    "random_metrics.sort_values([\"objective\"], ascending=False)"
   ]
  },
  {
   "cell_type": "markdown",
   "id": "cordless-cleaning",
   "metadata": {
    "papermill": {
     "duration": 0.064984,
     "end_time": "2021-06-11T02:10:53.034508",
     "exception": false,
     "start_time": "2021-06-11T02:10:52.969524",
     "status": "completed"
    },
    "tags": []
   },
   "source": [
    "As we can see, there's a huge variation in percent accuracy.  Had we initially (unknowingly) set our learning rate near 0.5, momentum at 0.15, and weight decay to 0.0004, we would have an accuracy just over 20% (this is particularly bad considering random guessing would produce 10% accuracy).\n",
    "\n",
    "But, we also found many successful hyperparameter value combinations, and reached a peak validation accuracy of 74.5%. The peak occured midway through the run, but could have occurred anywhere within the 20 jobs and will change across multiple runs.  We can see that with hyperparameter tuning our accuracy is well above the default value baseline of 53%.\n",
    "\n",
    "To get a rough understanding of how the hyperparameter values relate to one another and the objective metric, let's quickly plot them."
   ]
  },
  {
   "cell_type": "markdown",
   "id": "nervous-highlight",
   "metadata": {
    "papermill": {
     "duration": null,
     "end_time": null,
     "exception": null,
     "start_time": null,
     "status": "pending"
    },
    "tags": []
   },
   "source": [
    "## Tune: Automatic Model Tuning\n",
    "\n",
    "Now, let's try using Amazon SageMaker's Automatic Model Tuning.  Rather than selecting hyperparameter values randomly, SageMaker builds a second machine learning model which, based on previous hyperparameter and objective metric values, predicts new values that might yield an improvement.  This should allow us to train better models, faster and cheaper.\n",
    "\n",
    "We'll use the tuner functionality already built-in to the SageMaker Python SDK.  Let's start by defining a new `MXNet` estimator."
   ]
  },
  {
   "cell_type": "code",
   "execution_count": null,
   "id": "wicked-necklace",
   "metadata": {
    "papermill": {
     "duration": null,
     "end_time": null,
     "exception": null,
     "start_time": null,
     "status": "pending"
    },
    "tags": []
   },
   "outputs": [],
   "source": [
    "mt = MXNet(\n",
    "    \"cifar10.py\",\n",
    "    role=role,\n",
    "    train_instance_count=1,\n",
    "    train_instance_type=\"ml.p2.xlarge\",\n",
    "    framework_version=\"1.4.1\",\n",
    "    py_version=\"py3\",\n",
    "    hyperparameters={\"batch_size\": 1024, \"epochs\": 50},\n",
    ")"
   ]
  },
  {
   "cell_type": "markdown",
   "id": "chinese-hollow",
   "metadata": {
    "papermill": {
     "duration": null,
     "end_time": null,
     "exception": null,
     "start_time": null,
     "status": "pending"
    },
    "tags": []
   },
   "source": [
    "Now we can define our ranges (these take the same arguments as the classes from `random_tuner`)."
   ]
  },
  {
   "cell_type": "code",
   "execution_count": null,
   "id": "lesbian-tuner",
   "metadata": {
    "papermill": {
     "duration": null,
     "end_time": null,
     "exception": null,
     "start_time": null,
     "status": "pending"
    },
    "tags": []
   },
   "outputs": [],
   "source": [
    "hyperparameter_ranges = {\n",
    "    \"learning_rate\": ContinuousParameter(0.001, 0.5),\n",
    "    \"momentum\": ContinuousParameter(0.0, 0.99),\n",
    "    \"wd\": ContinuousParameter(0.0, 0.001),\n",
    "}"
   ]
  },
  {
   "cell_type": "markdown",
   "id": "dramatic-router",
   "metadata": {
    "papermill": {
     "duration": null,
     "end_time": null,
     "exception": null,
     "start_time": null,
     "status": "pending"
    },
    "tags": []
   },
   "source": [
    "Now, we'll define our objective metric and provide the regex needed to scrape it from our training jobs' CloudWatch logs."
   ]
  },
  {
   "cell_type": "code",
   "execution_count": null,
   "id": "searching-popularity",
   "metadata": {
    "papermill": {
     "duration": null,
     "end_time": null,
     "exception": null,
     "start_time": null,
     "status": "pending"
    },
    "tags": []
   },
   "outputs": [],
   "source": [
    "objective_metric_name = \"Validation-accuracy\"\n",
    "metric_definitions = [{\"Name\": \"Validation-accuracy\", \"Regex\": \"validation: accuracy=([0-9\\\\.]+)\"}]"
   ]
  },
  {
   "cell_type": "markdown",
   "id": "touched-balance",
   "metadata": {
    "papermill": {
     "duration": null,
     "end_time": null,
     "exception": null,
     "start_time": null,
     "status": "pending"
    },
    "tags": []
   },
   "source": [
    "Now we can create a `HyperparameterTuner` object and fit it by pointing to our data in S3.  This kicks our tuning job off in the background.\n",
    "\n",
    "Notice, we specify a much smaller number of total jobs, and a smaller number of parallel jobs.  Since our model uses previous training job runs to predict where to test next, we get better results (although it takes longer) when setting this to a smaller value."
   ]
  },
  {
   "cell_type": "code",
   "execution_count": null,
   "id": "available-nowhere",
   "metadata": {
    "papermill": {
     "duration": null,
     "end_time": null,
     "exception": null,
     "start_time": null,
     "status": "pending"
    },
    "tags": []
   },
   "outputs": [],
   "source": [
    "tuner = HyperparameterTuner(\n",
    "    mt,\n",
    "    objective_metric_name,\n",
    "    hyperparameter_ranges,\n",
    "    metric_definitions,\n",
    "    max_jobs=5,\n",
    "    max_parallel_jobs=2,\n",
    ")"
   ]
  },
  {
   "cell_type": "code",
   "execution_count": null,
   "id": "sharing-thinking",
   "metadata": {
    "papermill": {
     "duration": null,
     "end_time": null,
     "exception": null,
     "start_time": null,
     "status": "pending"
    },
    "tags": []
   },
   "outputs": [],
   "source": [
    "tuner.fit(inputs)"
   ]
  },
  {
   "cell_type": "markdown",
   "id": "incredible-quest",
   "metadata": {
    "papermill": {
     "duration": null,
     "end_time": null,
     "exception": null,
     "start_time": null,
     "status": "pending"
    },
    "tags": []
   },
   "source": [
    "_You will be unable to successfully run the following cells until the tuning job completes.  This step may take up to 2 hours._\n",
    "\n",
    "Once the tuning job finishes, we can bring in a table of metrics."
   ]
  },
  {
   "cell_type": "code",
   "execution_count": null,
   "id": "assigned-intelligence",
   "metadata": {
    "papermill": {
     "duration": null,
     "end_time": null,
     "exception": null,
     "start_time": null,
     "status": "pending"
    },
    "tags": []
   },
   "outputs": [],
   "source": [
    "bayes_metrics = sagemaker.HyperparameterTuningJobAnalytics(tuner._current_job_name).dataframe()\n",
    "bayes_metrics.sort_values([\"FinalObjectiveValue\"], ascending=False)"
   ]
  },
  {
   "cell_type": "markdown",
   "id": "acknowledged-atmosphere",
   "metadata": {
    "papermill": {
     "duration": null,
     "end_time": null,
     "exception": null,
     "start_time": null,
     "status": "pending"
    },
    "tags": []
   },
   "source": [
    "Looking at our results, we can see that, with one fourth the total training jobs, SageMaker's Automatic Model Tuning has produced a model with better accuracy 74% than our random search.  In addition, there's no guarantee that the effectiveness of random search wouldn't change over subsequent runs.\n",
    "\n",
    "Let's compare our hyperparameter's relationship to eachother and the objective metric."
   ]
  },
  {
   "cell_type": "code",
   "execution_count": null,
   "id": "voluntary-lodge",
   "metadata": {
    "papermill": {
     "duration": null,
     "end_time": null,
     "exception": null,
     "start_time": null,
     "status": "pending"
    },
    "tags": []
   },
   "outputs": [],
   "source": [
    "pd.plotting.scatter_matrix(\n",
    "    pd.concat(\n",
    "        [\n",
    "            bayes_metrics[[\"FinalObjectiveValue\", \"learning_rate\", \"momentum\", \"wd\"]],\n",
    "            bayes_metrics[\"TrainingStartTime\"].rank(),\n",
    "        ],\n",
    "        axis=1,\n",
    "    ),\n",
    "    figsize=(12, 12),\n",
    ")\n",
    "plt.show()"
   ]
  },
  {
   "cell_type": "markdown",
   "id": "covered-peeing",
   "metadata": {
    "papermill": {
     "duration": null,
     "end_time": null,
     "exception": null,
     "start_time": null,
     "status": "pending"
    },
    "tags": []
   },
   "source": [
    "We can see that:\n",
    "* There's a range of reasonably good values for `learning_rate`, `momentum`, and `wd`, but there seem to be some very bad performers at both ends of the spectrum.\n",
    "* Later training jobs performed consistently better than early ones (SageMaker's Automatic Model Tuning was learning and effectively exploring the space).\n",
    "* There appears to be somewhat less of a random relationship between the hyperparameter values our meta-model approach tested.  This aligns with the knowledge that these hyperparameters are connected and that changing one can be offset by changing another.\n",
    "\n",
    "---\n",
    "\n",
    "## Wrap-up\n",
    "\n",
    "In this notebook, we saw the importance of hyperparameter tuning and discovered how much more effective Amazon SageMaker Automatic Model Tuning can be than random search.  We could extend this example by testing another brute force method like grid search, tuning additional hyperparameters, using this first round of hyperparameter tuning to inform a secondary round of  hyperparameter tuning where ranges have been narrowed down further, or applying this same comparison to your own problem.\n",
    "\n",
    "For more information on using SageMaker's Automatic Model Tuning, see our other [example notebooks](https://github.com/awslabs/amazon-sagemaker-examples/tree/master/hyperparameter_tuning) and [documentation](https://docs.aws.amazon.com/sagemaker/latest/dg/automatic-model-tuning.html)."
   ]
  }
 ],
 "metadata": {
  "kernelspec": {
   "display_name": "Environment (conda_mxnet_p36)",
   "language": "python",
   "name": "conda_mxnet_p36"
  },
  "language_info": {
   "codemirror_mode": {
    "name": "ipython",
    "version": 3
   },
   "file_extension": ".py",
   "mimetype": "text/x-python",
   "name": "python",
   "nbconvert_exporter": "python",
   "pygments_lexer": "ipython3",
   "version": "3.6.10"
  },
  "notice": "Copyright 2018 Amazon.com, Inc. or its affiliates. All Rights Reserved.  Licensed under the Apache License, Version 2.0 (the \"License\"). You may not use this file except in compliance with the License. A copy of the License is located at http://aws.amazon.com/apache2.0/ or in the \"license\" file accompanying this file. This file is distributed on an \"AS IS\" BASIS, WITHOUT WARRANTIES OR CONDITIONS OF ANY KIND, either express or implied. See the License for the specific language governing permissions and limitations under the License.",
  "papermill": {
   "default_parameters": {},
   "duration": 6981.506055,
   "end_time": "2021-06-11T02:10:56.673917",
   "environment_variables": {},
   "exception": true,
   "input_path": "hyperparameter_tuning_mxnet_gluon_cifar10_random_search.ipynb",
   "output_path": "/opt/ml/processing/output/hyperparameter_tuning_mxnet_gluon_cifar10_random_search-2021-06-11-00-10-44.ipynb",
   "parameters": {
    "kms_key": "arn:aws:kms:us-west-2:521695447989:key/6e9984db-50cf-4c7e-926c-877ec47a8b25"
   },
   "start_time": "2021-06-11T00:14:35.167862",
   "version": "2.3.3"
  }
 },
 "nbformat": 4,
 "nbformat_minor": 5
}
