{
 "cells": [
  {
   "cell_type": "markdown",
   "id": "introductory-charter",
   "metadata": {
    "papermill": {
     "duration": 0.00504,
     "end_time": "2021-06-03T00:15:15.429747",
     "exception": false,
     "start_time": "2021-06-03T00:15:15.424707",
     "status": "completed"
    },
    "tags": []
   },
   "source": [
    "# Train Linear Learner model using File System Data Source "
   ]
  },
  {
   "cell_type": "markdown",
   "id": "regulation-tractor",
   "metadata": {
    "papermill": {
     "duration": 0.00487,
     "end_time": "2021-06-03T00:15:15.439612",
     "exception": false,
     "start_time": "2021-06-03T00:15:15.434742",
     "status": "completed"
    },
    "tags": []
   },
   "source": [
    "This notebook example is similar to [An Introduction to Linear Learner with MNIST](https://github.com/awslabs/amazon-sagemaker-examples/blob/master/introduction_to_amazon_algorithms/linear_learner_mnist/linear_learner_mnist.ipynb).\n",
    "\n",
    "[An Introduction to Linear Learner with MNIST](https://github.com/awslabs/amazon-sagemaker-examples/blob/master/introduction_to_amazon_algorithms/linear_learner_mnist/linear_learner_mnist.ipynb) has been adapted to walk you through on using the AWS Elastic File System (EFS) or AWS FSx for Lustre (FSxLustre) as an input datasource to training jobs. \n",
    "\n",
    "Please read the original notebook and try it out to gain an understanding of the ML use-case and how it is being solved. We will not delve into that here in this notebook."
   ]
  },
  {
   "cell_type": "markdown",
   "id": "environmental-rover",
   "metadata": {
    "papermill": {
     "duration": 0.00507,
     "end_time": "2021-06-03T00:15:15.449613",
     "exception": false,
     "start_time": "2021-06-03T00:15:15.444543",
     "status": "completed"
    },
    "tags": []
   },
   "source": [
    "## Setup "
   ]
  },
  {
   "cell_type": "markdown",
   "id": "promotional-rebate",
   "metadata": {
    "papermill": {
     "duration": 0.00499,
     "end_time": "2021-06-03T00:15:15.459582",
     "exception": false,
     "start_time": "2021-06-03T00:15:15.454592",
     "status": "completed"
    },
    "tags": []
   },
   "source": [
    "Again, we won't go into detail explaining the code below, it has been lifted verbatim from [An Introduction to Linear Learner with MNIST](https://github.com/awslabs/amazon-sagemaker-examples/blob/master/introduction_to_amazon_algorithms/linear_learner_mnist/linear_learner_mnist.ipynb)."
   ]
  },
  {
   "cell_type": "code",
   "execution_count": 1,
   "id": "auburn-planning",
   "metadata": {
    "execution": {
     "iopub.execute_input": "2021-06-03T00:15:15.477098Z",
     "iopub.status.busy": "2021-06-03T00:15:15.476450Z",
     "iopub.status.idle": "2021-06-03T00:15:19.862084Z",
     "shell.execute_reply": "2021-06-03T00:15:19.861648Z"
    },
    "papermill": {
     "duration": 4.397584,
     "end_time": "2021-06-03T00:15:19.862208",
     "exception": false,
     "start_time": "2021-06-03T00:15:15.464624",
     "status": "completed"
    },
    "tags": []
   },
   "outputs": [
    {
     "name": "stdout",
     "output_type": "stream",
     "text": [
      "training artifacts will be uploaded to: s3://sagemaker-us-west-2-688520471316/sagemaker/DEMO-linear-mnist/output\n"
     ]
    }
   ],
   "source": [
    "# Define IAM role\n",
    "import boto3\n",
    "import re\n",
    "from sagemaker import get_execution_role\n",
    "from sagemaker.session import Session\n",
    "from sagemaker.image_uris import retrieve\n",
    "\n",
    "role = get_execution_role()\n",
    "container = retrieve( \"linear-learner\", boto3.Session().region_name,)\n",
    "\n",
    "# Specify S3 bucket and prefix that you want to use for model data\n",
    "# Feel free to specify a different bucket here if you wish.\n",
    "bucket = Session().default_bucket()\n",
    "prefix = \"sagemaker/DEMO-linear-mnist\"\n",
    "\n",
    "# Setup an output S3 location for the model artifact\n",
    "output_location = \"s3://{}/{}/output\".format(bucket, prefix)\n",
    "print(\"training artifacts will be uploaded to: {}\".format(output_location))"
   ]
  },
  {
   "cell_type": "markdown",
   "id": "postal-greene",
   "metadata": {
    "papermill": {
     "duration": 0.005684,
     "end_time": "2021-06-03T00:15:19.874027",
     "exception": false,
     "start_time": "2021-06-03T00:15:19.868343",
     "status": "completed"
    },
    "tags": []
   },
   "source": [
    "## Prepare File System Input"
   ]
  },
  {
   "cell_type": "markdown",
   "id": "subsequent-danish",
   "metadata": {
    "papermill": {
     "duration": 0.005462,
     "end_time": "2021-06-03T00:15:19.885095",
     "exception": false,
     "start_time": "2021-06-03T00:15:19.879633",
     "status": "completed"
    },
    "tags": []
   },
   "source": [
    "Next, we specify the details of file system as an input to your training job. Using file system as a data source eliminates the time your training job spends downloading data with data streamed directly from file system into your training algorithm."
   ]
  },
  {
   "cell_type": "code",
   "execution_count": 3,
   "id": "cross-steps",
   "metadata": {
    "execution": {
     "iopub.execute_input": "2021-06-03T00:15:19.900673Z",
     "iopub.status.busy": "2021-06-03T00:15:19.900232Z",
     "iopub.status.idle": "2021-06-03T00:15:19.981585Z",
     "shell.execute_reply": "2021-06-03T00:15:19.980835Z"
    },
    "papermill": {
     "duration": 0.09115,
     "end_time": "2021-06-03T00:15:19.981777",
     "exception": true,
     "start_time": "2021-06-03T00:15:19.890627",
     "status": "failed"
    },
    "tags": []
   },
   "outputs": [
    {
     "ename": "ValueError",
     "evalue": "Unrecognized file system type: <your_file_system_type>. Valid values: FSxLustre, EFS.",
     "output_type": "error",
     "traceback": [
      "\u001b[0;31m---------------------------------------------------------------------------\u001b[0m",
      "\u001b[0;31mValueError\u001b[0m                                Traceback (most recent call last)",
      "\u001b[0;32m<ipython-input-3-f68f99e116fe>\u001b[0m in \u001b[0;36m<module>\u001b[0;34m\u001b[0m\n\u001b[1;32m     22\u001b[0m     \u001b[0mfile_system_type\u001b[0m\u001b[0;34m=\u001b[0m\u001b[0mfile_system_type\u001b[0m\u001b[0;34m,\u001b[0m\u001b[0;34m\u001b[0m\u001b[0;34m\u001b[0m\u001b[0m\n\u001b[1;32m     23\u001b[0m     \u001b[0mdirectory_path\u001b[0m\u001b[0;34m=\u001b[0m\u001b[0mfile_system_directory_path\u001b[0m\u001b[0;34m,\u001b[0m\u001b[0;34m\u001b[0m\u001b[0;34m\u001b[0m\u001b[0m\n\u001b[0;32m---> 24\u001b[0;31m     \u001b[0mfile_system_access_mode\u001b[0m\u001b[0;34m=\u001b[0m\u001b[0mfile_system_access_mode\u001b[0m\u001b[0;34m,\u001b[0m\u001b[0;34m\u001b[0m\u001b[0;34m\u001b[0m\u001b[0m\n\u001b[0m\u001b[1;32m     25\u001b[0m )\n",
      "\u001b[0;32m/opt/conda/lib/python3.7/site-packages/sagemaker/inputs.py\u001b[0m in \u001b[0;36m__init__\u001b[0;34m(self, file_system_id, file_system_type, directory_path, file_system_access_mode, content_type)\u001b[0m\n\u001b[1;32m    143\u001b[0m             raise ValueError(\n\u001b[1;32m    144\u001b[0m                 \u001b[0;34m\"Unrecognized file system type: %s. Valid values: %s.\"\u001b[0m\u001b[0;34m\u001b[0m\u001b[0;34m\u001b[0m\u001b[0m\n\u001b[0;32m--> 145\u001b[0;31m                 \u001b[0;34m%\u001b[0m \u001b[0;34m(\u001b[0m\u001b[0mfile_system_type\u001b[0m\u001b[0;34m,\u001b[0m \u001b[0;34m\", \"\u001b[0m\u001b[0;34m.\u001b[0m\u001b[0mjoin\u001b[0m\u001b[0;34m(\u001b[0m\u001b[0mFILE_SYSTEM_TYPES\u001b[0m\u001b[0;34m)\u001b[0m\u001b[0;34m)\u001b[0m\u001b[0;34m\u001b[0m\u001b[0;34m\u001b[0m\u001b[0m\n\u001b[0m\u001b[1;32m    146\u001b[0m             )\n\u001b[1;32m    147\u001b[0m \u001b[0;34m\u001b[0m\u001b[0m\n",
      "\u001b[0;31mValueError\u001b[0m: Unrecognized file system type: <your_file_system_type>. Valid values: FSxLustre, EFS."
     ]
    }
   ],
   "source": [
    "from sagemaker.inputs import FileSystemInput\n",
    "\n",
    "# Specify file system id.\n",
    "file_system_id = \"<your_file_system_id>\"\n",
    "\n",
    "# Specify directory path associated with the file system. You need to provide normalized and absolute path here.\n",
    "file_system_directory_path = \"<your_file_system_directory_path>\"\n",
    "\n",
    "# Specify the access mode of the mount of the directory associated with the file system.\n",
    "# Directory can be mounted either in 'ro'(read-only) or 'rw' (read-write).\n",
    "file_system_access_mode = \"<your_file_system_access_mode>\"\n",
    "\n",
    "# Specify your file system type, \"EFS\" or \"FSxLustre\".\n",
    "file_system_type = \"<your_file_system_type>\"\n",
    "\n",
    "# Give Amazon SageMaker Training Jobs Access to FileSystem Resources in Your Amazon VPC.\n",
    "security_groups_ids = \"<your_security_groups_ids>\"\n",
    "subnets = \"<your_subnets>\"\n",
    "\n",
    "file_system_input = FileSystemInput(\n",
    "    file_system_id=file_system_id,\n",
    "    file_system_type=file_system_type,\n",
    "    directory_path=file_system_directory_path,\n",
    "    file_system_access_mode=file_system_access_mode,\n",
    ")"
   ]
  },
  {
   "cell_type": "markdown",
   "id": "known-maple",
   "metadata": {
    "papermill": {
     "duration": null,
     "end_time": null,
     "exception": null,
     "start_time": null,
     "status": "pending"
    },
    "tags": []
   },
   "source": [
    "## Training the linear model"
   ]
  },
  {
   "cell_type": "markdown",
   "id": "pretty-soldier",
   "metadata": {
    "papermill": {
     "duration": null,
     "end_time": null,
     "exception": null,
     "start_time": null,
     "status": "pending"
    },
    "tags": []
   },
   "source": [
    "Once we have the file system provisioned and file system input ready for training, the next step is to actually train the model."
   ]
  },
  {
   "cell_type": "code",
   "execution_count": null,
   "id": "approximate-mouth",
   "metadata": {
    "papermill": {
     "duration": null,
     "end_time": null,
     "exception": null,
     "start_time": null,
     "status": "pending"
    },
    "tags": []
   },
   "outputs": [],
   "source": [
    "import boto3\n",
    "import sagemaker\n",
    "\n",
    "sess = sagemaker.Session()\n",
    "\n",
    "linear = sagemaker.estimator.Estimator(\n",
    "    container,\n",
    "    role,\n",
    "    subnets=subnets,\n",
    "    security_group_ids=security_groups_ids,\n",
    "    train_instance_count=1,\n",
    "    train_instance_type=\"ml.c4.xlarge\",\n",
    "    output_path=output_location,\n",
    "    sagemaker_session=sess,\n",
    ")\n",
    "\n",
    "linear.set_hyperparameters(feature_dim=784, predictor_type=\"binary_classifier\", mini_batch_size=200)\n",
    "\n",
    "linear.fit({\"train\": file_system_input})"
   ]
  },
  {
   "cell_type": "markdown",
   "id": "tropical-morning",
   "metadata": {
    "papermill": {
     "duration": null,
     "end_time": null,
     "exception": null,
     "start_time": null,
     "status": "pending"
    },
    "tags": []
   },
   "source": [
    "Towards the end of the job you should see model artifact generated and uploaded to `output_location`. "
   ]
  }
 ],
 "metadata": {
  "kernelspec": {
   "display_name": "Environment (conda_python3)",
   "language": "python",
   "name": "conda_python3"
  },
  "language_info": {
   "codemirror_mode": {
    "name": "ipython",
    "version": 3
   },
   "file_extension": ".py",
   "mimetype": "text/x-python",
   "name": "python",
   "nbconvert_exporter": "python",
   "pygments_lexer": "ipython3",
   "version": "3.6.10"
  },
  "papermill": {
   "default_parameters": {},
   "duration": 5.781119,
   "end_time": "2021-06-03T00:15:20.387021",
   "environment_variables": {},
   "exception": true,
   "input_path": "linear_learner_mnist_with_file_system_data_source.ipynb",
   "output_path": "/opt/ml/processing/output/linear_learner_mnist_with_file_system_data_source-2021-06-03-00-10-53.ipynb",
   "parameters": {
    "kms_key": "arn:aws:kms:us-west-2:521695447989:key/6e9984db-50cf-4c7e-926c-877ec47a8b25"
   },
   "start_time": "2021-06-03T00:15:14.605902",
   "version": "2.3.3"
  }
 },
 "nbformat": 4,
 "nbformat_minor": 5
}
