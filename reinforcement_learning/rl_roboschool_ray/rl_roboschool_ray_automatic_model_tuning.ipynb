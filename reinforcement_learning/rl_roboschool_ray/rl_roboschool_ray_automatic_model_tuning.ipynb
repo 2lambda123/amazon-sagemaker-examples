{
 "cells": [
  {
   "cell_type": "markdown",
   "id": "headed-shipping",
   "metadata": {
    "papermill": {
     "duration": 0.008457,
     "end_time": "2021-06-01T00:13:48.737962",
     "exception": false,
     "start_time": "2021-06-01T00:13:48.729505",
     "status": "completed"
    },
    "tags": []
   },
   "source": [
    "## Tune hyperparameters for your RL training job\n",
    "This notebook shows how to use SageMaker's Automatic Model Tuning functionality to optimize the training of an RL model, using the Roboschool environment.  Note that the bayesian hyperparameter optimization algorithm used in SageMaker Automatic Model Tuning expects a stable objective function, which means that running the same training job multiple times with the same configuration should give about the same result.  Some RL training processes are highly non-deterministic, such that the same configuration sometimes performs well and sometimes fails to train.  These environments will not work well with the automatic model tuner.  However, the Roboschool environments are fairly stable and tend to perform similarly given the same hyperparameters.  So the hyperparameter tuner should work well here. "
   ]
  },
  {
   "cell_type": "markdown",
   "id": "adolescent-liquid",
   "metadata": {
    "papermill": {
     "duration": 0.008418,
     "end_time": "2021-06-01T00:13:48.754726",
     "exception": false,
     "start_time": "2021-06-01T00:13:48.746308",
     "status": "completed"
    },
    "tags": []
   },
   "source": [
    "## Pick which Roboschool problem to solve\n",
    "\n",
    "Roboschool is an [open source](https://github.com/openai/roboschool/tree/master/roboschool) physics simulator that is commonly used to train RL policies for robotic systems.  Roboschool defines a [variety](https://github.com/openai/roboschool/blob/master/roboschool/__init__.py) of Gym environments that correspond to different robotics problems.  Here we're highlighting a few of them at varying levels of difficulty:\n",
    "\n",
    "- **Reacher (easy)** - a very simple robot with just 2 joints reaches for a target\n",
    "- **Hopper (medium)** - a simple robot with one leg and a foot learns to hop down a track \n",
    "- **Humanoid (difficult)** - a complex 3D robot with two arms, two legs, etc. learns to balance without falling over and then to run on a track\n",
    "\n",
    "The simpler problems train faster with less computational resources.  The more complex problems are more fun."
   ]
  },
  {
   "cell_type": "code",
   "execution_count": 5,
   "id": "irish-madness",
   "metadata": {
    "execution": {
     "iopub.execute_input": "2021-06-01T00:13:48.774624Z",
     "iopub.status.busy": "2021-06-01T00:13:48.774168Z",
     "iopub.status.idle": "2021-06-01T00:13:48.776123Z",
     "shell.execute_reply": "2021-06-01T00:13:48.776478Z"
    },
    "papermill": {
     "duration": 0.013525,
     "end_time": "2021-06-01T00:13:48.776605",
     "exception": false,
     "start_time": "2021-06-01T00:13:48.763080",
     "status": "completed"
    },
    "tags": []
   },
   "outputs": [],
   "source": [
    "# Uncomment the problem to work on\n",
    "# roboschool_problem = 'reacher'\n",
    "roboschool_problem = \"hopper\"\n",
    "# roboschool_problem = 'humanoid'"
   ]
  },
  {
   "cell_type": "markdown",
   "id": "portable-printing",
   "metadata": {
    "papermill": {
     "duration": 0.008358,
     "end_time": "2021-06-01T00:13:48.793437",
     "exception": false,
     "start_time": "2021-06-01T00:13:48.785079",
     "status": "completed"
    },
    "tags": []
   },
   "source": [
    "## Pre-requisites \n",
    "\n",
    "### Imports\n",
    "\n",
    "To get started, we'll import the Python libraries we need, set up the environment with a few prerequisites for permissions and configurations."
   ]
  },
  {
   "cell_type": "code",
   "execution_count": 2,
   "id": "difficult-dimension",
   "metadata": {
    "execution": {
     "iopub.execute_input": "2021-06-01T00:13:48.814948Z",
     "iopub.status.busy": "2021-06-01T00:13:48.814236Z",
     "iopub.status.idle": "2021-06-01T00:13:49.313334Z",
     "shell.execute_reply": "2021-06-01T00:13:49.312484Z"
    },
    "papermill": {
     "duration": 0.511694,
     "end_time": "2021-06-01T00:13:49.313534",
     "exception": true,
     "start_time": "2021-06-01T00:13:48.801840",
     "status": "failed"
    },
    "scrolled": true,
    "tags": []
   },
   "outputs": [],
   "source": [
    "import sagemaker\n",
    "import boto3\n",
    "import sys\n",
    "import os\n",
    "import glob\n",
    "import re\n",
    "import subprocess\n",
    "from IPython.display import HTML\n",
    "import time\n",
    "from time import gmtime, strftime\n",
    "\n",
    "sys.path.append(\"../common\")\n",
    "from misc import get_execution_role, wait_for_s3_object\n",
    "from docker_utils import build_and_push_docker_image\n",
    "from sagemaker.rl import RLEstimator, RLToolkit, RLFramework"
   ]
  },
  {
   "cell_type": "markdown",
   "id": "higher-tragedy",
   "metadata": {
    "papermill": {
     "duration": null,
     "end_time": null,
     "exception": null,
     "start_time": null,
     "status": "pending"
    },
    "tags": []
   },
   "source": [
    "### Setup S3 bucket\n",
    "\n",
    "Set up the linkage and authentication to the S3 bucket that you want to use for checkpoint and the metadata. "
   ]
  },
  {
   "cell_type": "code",
   "execution_count": 3,
   "id": "smoking-gather",
   "metadata": {
    "papermill": {
     "duration": null,
     "end_time": null,
     "exception": null,
     "start_time": null,
     "status": "pending"
    },
    "tags": []
   },
   "outputs": [
    {
     "name": "stdout",
     "output_type": "stream",
     "text": [
      "S3 bucket path: s3://sagemaker-us-west-2-688520471316/\n"
     ]
    }
   ],
   "source": [
    "sage_session = sagemaker.session.Session()\n",
    "s3_bucket = sage_session.default_bucket()\n",
    "s3_output_path = \"s3://{}/\".format(s3_bucket)\n",
    "print(\"S3 bucket path: {}\".format(s3_output_path))"
   ]
  },
  {
   "cell_type": "markdown",
   "id": "cheap-pathology",
   "metadata": {
    "papermill": {
     "duration": null,
     "end_time": null,
     "exception": null,
     "start_time": null,
     "status": "pending"
    },
    "tags": []
   },
   "source": [
    "### Define Variables \n",
    "\n",
    "We define variables such as the job prefix for the training jobs *and the image path for the container (only when this is BYOC).*"
   ]
  },
  {
   "cell_type": "code",
   "execution_count": 6,
   "id": "diagnostic-ghost",
   "metadata": {
    "papermill": {
     "duration": null,
     "end_time": null,
     "exception": null,
     "start_time": null,
     "status": "pending"
    },
    "tags": []
   },
   "outputs": [],
   "source": [
    "# create a descriptive job name\n",
    "job_name_prefix = \"tune-\" + roboschool_problem"
   ]
  },
  {
   "cell_type": "markdown",
   "id": "honest-mounting",
   "metadata": {
    "papermill": {
     "duration": null,
     "end_time": null,
     "exception": null,
     "start_time": null,
     "status": "pending"
    },
    "tags": []
   },
   "source": [
    "### Configure resources to be used for tuning\n",
    "\n",
    "Tuning jobs need to happen in hosted SageMaker, not local mode.  So we pick the instance type.  Also we need to specify how many training jobs and how quickly to run them."
   ]
  },
  {
   "cell_type": "code",
   "execution_count": 18,
   "id": "aging-speech",
   "metadata": {
    "papermill": {
     "duration": null,
     "end_time": null,
     "exception": null,
     "start_time": null,
     "status": "pending"
    },
    "tags": []
   },
   "outputs": [],
   "source": [
    "# Note that Tuning cannot happen in local mode.\n",
    "instance_type = \"ml.c5.xlarge\"\n",
    "\n",
    "# Pick the total number of training jobs to run in this tuning job\n",
    "max_jobs = 5 # set 50 for a real experiment\n",
    "\n",
    "# How many jobs should run at a time.  Higher numbers here mean the tuning job runs much faster,\n",
    "# while lower numbers can sometimes get better results\n",
    "max_parallel_jobs = 5"
   ]
  },
  {
   "cell_type": "markdown",
   "id": "original-processing",
   "metadata": {
    "papermill": {
     "duration": null,
     "end_time": null,
     "exception": null,
     "start_time": null,
     "status": "pending"
    },
    "tags": []
   },
   "source": [
    "### Create an IAM role\n",
    "\n",
    "Either get the execution role when running from a SageMaker notebook instance `role = sagemaker.get_execution_role()` or, when running from local notebook instance, use utils method `role = get_execution_role()` to create an execution role."
   ]
  },
  {
   "cell_type": "code",
   "execution_count": 14,
   "id": "unlike-replacement",
   "metadata": {
    "papermill": {
     "duration": null,
     "end_time": null,
     "exception": null,
     "start_time": null,
     "status": "pending"
    },
    "tags": []
   },
   "outputs": [
    {
     "name": "stdout",
     "output_type": "stream",
     "text": [
      "Using IAM role arn: arn:aws:iam::688520471316:role/hongshan-sagemaker-experiment\n"
     ]
    }
   ],
   "source": [
    "try:\n",
    "    role = sagemaker.get_execution_role()\n",
    "except:\n",
    "    role = get_execution_role()\n",
    "\n",
    "print(\"Using IAM role arn: {}\".format(role))"
   ]
  },
  {
   "cell_type": "markdown",
   "id": "simple-wonder",
   "metadata": {
    "papermill": {
     "duration": null,
     "end_time": null,
     "exception": null,
     "start_time": null,
     "status": "pending"
    },
    "tags": []
   },
   "source": [
    "## Build docker container\n",
    "\n",
    "We must build a custom docker container with Roboschool installed.  This takes care of everything:\n",
    "\n",
    "1. Fetching base container image\n",
    "2. Installing Roboschool and its dependencies\n",
    "3. Uploading the new container image to ECR\n",
    "\n",
    "This step can take a long time if you are running on a machine with a slow internet connection.  If your notebook instance is in SageMaker or EC2 it should take 3-10 minutes depending on the instance type.\n"
   ]
  },
  {
   "cell_type": "code",
   "execution_count": 19,
   "id": "composed-equity",
   "metadata": {
    "collapsed": true,
    "jupyter": {
     "outputs_hidden": true
    },
    "papermill": {
     "duration": null,
     "end_time": null,
     "exception": null,
     "start_time": null,
     "status": "pending"
    },
    "tags": []
   },
   "outputs": [
    {
     "name": "stdout",
     "output_type": "stream",
     "text": [
      "WARNING! Using --password via the CLI is insecure. Use --password-stdin.\n",
      "WARNING! Your password will be stored unencrypted in /home/ubuntu/.docker/config.json.\n",
      "Configure a credential helper to remove this warning. See\n",
      "https://docs.docker.com/engine/reference/commandline/login/#credentials-store\n",
      "\n",
      "Login Succeeded\n",
      "Logged into ECR\n",
      "Building docker image sagemaker-roboschool-ray-cpu from Dockerfile\n",
      "$ docker build -t sagemaker-roboschool-ray-cpu -f Dockerfile . --build-arg CPU_OR_GPU=cpu --build-arg AWS_REGION=us-west-2\n",
      "Sending build context to Docker daemon  252.4kB\n",
      "Step 1/14 : ARG CPU_OR_GPU\n",
      "Step 2/14 : ARG AWS_REGION\n",
      "Step 3/14 : FROM 462105765813.dkr.ecr.${AWS_REGION}.amazonaws.com/sagemaker-rl-ray-container:ray-0.8.2-tf-${CPU_OR_GPU}-py36\n",
      " ---> 24e9d976c4b2\n",
      "Step 4/14 : WORKDIR /opt/ml\n",
      " ---> Using cache\n",
      " ---> 942b8176d809\n",
      "Step 5/14 : RUN apt-get update && apt-get install -y       git cmake ffmpeg pkg-config       qtbase5-dev libqt5opengl5-dev libassimp-dev       libtinyxml-dev       libgl1-mesa-dev     && cd /opt     && apt-get clean && rm -rf /var/cache/apt/archives/* /var/lib/apt/lists/*\n",
      " ---> Using cache\n",
      " ---> 21132b8439fc\n",
      "Step 6/14 : RUN apt-get update &&     apt-get install -y libboost-python-dev\n",
      " ---> Using cache\n",
      " ---> 424518dedbd3\n",
      "Step 7/14 : RUN apt-get update     && apt-get install -y --no-install-recommends python3.6-dev     && ln -s -f /usr/bin/python3.6 /usr/bin/python     && apt-get clean     && rm -rf /var/cache/apt/archives/* /var/lib/apt/lists/*\n",
      " ---> Using cache\n",
      " ---> 112852460329\n",
      "Step 8/14 : RUN curl -fSsL -O https://bootstrap.pypa.io/get-pip.py &&     python get-pip.py &&     rm get-pip.py\n",
      " ---> Using cache\n",
      " ---> b9f593dcf0af\n",
      "Step 9/14 : RUN pip install --upgrade     pip     setuptools     setproctitle     lz4     psutil\n",
      " ---> Using cache\n",
      " ---> dc0c48863393\n",
      "Step 10/14 : RUN pip install sagemaker-tensorflow-training==20.1.4\n",
      " ---> Using cache\n",
      " ---> 560efe2ff349\n",
      "Step 11/14 : RUN pip install roboschool==1.0.46\n",
      " ---> Using cache\n",
      " ---> 7d36ba6a00a7\n",
      "Step 12/14 : ENV PYTHONUNBUFFERED 1\n",
      " ---> Using cache\n",
      " ---> aa329d459196\n",
      "Step 13/14 : RUN python -c \"import gym;import sagemaker_containers.cli.train;import roboschool; import ray; from sagemaker_containers.cli.train import main\"\n",
      " ---> Using cache\n",
      " ---> 99efead9b2c2\n",
      "Step 14/14 : WORKDIR /opt/ml/code\n",
      " ---> Using cache\n",
      " ---> e9d95f02d284\n",
      "Successfully built e9d95f02d284\n",
      "Successfully tagged sagemaker-roboschool-ray-cpu:latest\n",
      "Done building docker image sagemaker-roboschool-ray-cpu\n",
      "ECR repository already exists: sagemaker-roboschool-ray-cpu\n",
      "WARNING! Using --password via the CLI is insecure. Use --password-stdin.\n",
      "WARNING! Your password will be stored unencrypted in /home/ubuntu/.docker/config.json.\n",
      "Configure a credential helper to remove this warning. See\n",
      "https://docs.docker.com/engine/reference/commandline/login/#credentials-store\n",
      "\n",
      "Login Succeeded\n",
      "Logged into ECR\n",
      "$ docker tag sagemaker-roboschool-ray-cpu 688520471316.dkr.ecr.us-west-2.amazonaws.com/sagemaker-roboschool-ray-cpu\n",
      "Pushing docker image to ECR repository 688520471316.dkr.ecr.us-west-2.amazonaws.com/sagemaker-roboschool-ray-cpu\n",
      "\n",
      "$ docker push 688520471316.dkr.ecr.us-west-2.amazonaws.com/sagemaker-roboschool-ray-cpu\n",
      "The push refers to repository [688520471316.dkr.ecr.us-west-2.amazonaws.com/sagemaker-roboschool-ray-cpu]\n",
      "efe9ea110963: Preparing\n",
      "54b6f22c55ae: Preparing\n",
      "3221cbee8a07: Preparing\n",
      "0b02dffeae72: Preparing\n",
      "885d8f485c9c: Preparing\n",
      "a3c4b94e4a17: Preparing\n",
      "7ce9019205d3: Preparing\n",
      "8f1d684dd138: Preparing\n",
      "f206b9944ccb: Preparing\n",
      "ce45afacb058: Preparing\n",
      "ead502f61809: Preparing\n",
      "cba64e552037: Preparing\n",
      "90fa3ca97658: Preparing\n",
      "cec88cebed82: Preparing\n",
      "a9f367d23c9e: Preparing\n",
      "10018c803ce7: Preparing\n",
      "e4020b197b08: Preparing\n",
      "3fa3bcd9e4f8: Preparing\n",
      "b41ed27bdf23: Preparing\n",
      "71c747a735ee: Preparing\n",
      "e3de265b4a07: Preparing\n",
      "7ce9019205d3: Waiting\n",
      "cd2daf664231: Preparing\n",
      "d36e9474ac8d: Preparing\n",
      "e54e6c789bd1: Preparing\n",
      "ead502f61809: Waiting\n",
      "ce45afacb058: Waiting\n",
      "652465d5ffd1: Preparing\n",
      "3207e37f97cc: Preparing\n",
      "501f027e9b6c: Preparing\n",
      "cba64e552037: Waiting\n",
      "f206b9944ccb: Waiting\n",
      "16542a8fc3be: Preparing\n",
      "90fa3ca97658: Waiting\n",
      "6597da2e2e52: Preparing\n",
      "977183d4e999: Preparing\n",
      "b41ed27bdf23: Waiting\n",
      "3fa3bcd9e4f8: Waiting\n",
      "c8be1b8f4d60: Preparing\n",
      "71c747a735ee: Waiting\n",
      "e3de265b4a07: Waiting\n",
      "e4020b197b08: Waiting\n",
      "652465d5ffd1: Waiting\n",
      "cd2daf664231: Waiting\n",
      "3207e37f97cc: Waiting\n",
      "10018c803ce7: Waiting\n",
      "d36e9474ac8d: Waiting\n",
      "cec88cebed82: Waiting\n",
      "e54e6c789bd1: Waiting\n",
      "977183d4e999: Waiting\n",
      "c8be1b8f4d60: Waiting\n",
      "a9f367d23c9e: Waiting\n",
      "6597da2e2e52: Waiting\n",
      "3221cbee8a07: Layer already exists\n",
      "885d8f485c9c: Layer already exists\n",
      "54b6f22c55ae: Layer already exists\n",
      "0b02dffeae72: Layer already exists\n",
      "efe9ea110963: Layer already exists\n",
      "7ce9019205d3: Layer already exists\n",
      "a3c4b94e4a17: Layer already exists\n",
      "8f1d684dd138: Layer already exists\n",
      "f206b9944ccb: Layer already exists\n",
      "ce45afacb058: Layer already exists\n",
      "ead502f61809: Layer already exists\n",
      "cba64e552037: Layer already exists\n",
      "90fa3ca97658: Layer already exists\n",
      "a9f367d23c9e: Layer already exists\n",
      "cec88cebed82: Layer already exists\n",
      "10018c803ce7: Layer already exists\n",
      "e4020b197b08: Layer already exists\n",
      "3fa3bcd9e4f8: Layer already exists\n",
      "b41ed27bdf23: Layer already exists\n",
      "71c747a735ee: Layer already exists\n",
      "e3de265b4a07: Layer already exists\n",
      "cd2daf664231: Layer already exists\n",
      "d36e9474ac8d: Layer already exists\n",
      "e54e6c789bd1: Layer already exists\n",
      "652465d5ffd1: Layer already exists\n",
      "3207e37f97cc: Layer already exists\n",
      "16542a8fc3be: Layer already exists\n",
      "501f027e9b6c: Layer already exists\n",
      "6597da2e2e52: Layer already exists\n",
      "977183d4e999: Layer already exists\n",
      "c8be1b8f4d60: Layer already exists\n",
      "latest: digest: sha256:41a0a5cccbd55f3bbc93a7dbfc3b43cf8c0ad30c5ded57cae9d1dc7219bac1c7 size: 6811\n",
      "Done pushing 688520471316.dkr.ecr.us-west-2.amazonaws.com/sagemaker-roboschool-ray-cpu\n",
      "Using ECR image 688520471316.dkr.ecr.us-west-2.amazonaws.com/sagemaker-roboschool-ray-cpu\n",
      "CPU times: user 168 ms, sys: 47.7 ms, total: 216 ms\n",
      "Wall time: 1.35 s\n"
     ]
    }
   ],
   "source": [
    "%%time\n",
    "\n",
    "cpu_or_gpu = \"gpu\" if instance_type.startswith(\"ml.p\") else \"cpu\"\n",
    "repository_short_name = \"sagemaker-roboschool-ray-%s\" % cpu_or_gpu\n",
    "docker_build_args = {\n",
    "    \"CPU_OR_GPU\": cpu_or_gpu,\n",
    "    \"AWS_REGION\": boto3.Session().region_name,\n",
    "}\n",
    "custom_image_name = build_and_push_docker_image(repository_short_name, build_args=docker_build_args)\n",
    "print(\"Using ECR image %s\" % custom_image_name)"
   ]
  },
  {
   "cell_type": "markdown",
   "id": "becoming-clearing",
   "metadata": {
    "papermill": {
     "duration": null,
     "end_time": null,
     "exception": null,
     "start_time": null,
     "status": "pending"
    },
    "tags": []
   },
   "source": [
    "## Configure Tuning\n",
    "\n",
    "Tuning jobs need to know what to vary when looking for a great configuration.  Sometimes this is called the search space, or the configuration space.  We do this by picking a set of hyperparameters to vary, and specify the ranges for each of them.  Unless you're experienced at automatically tuning hyperparameters, you should probably start with just one or two hyperparameters at a time to see how they effect the result."
   ]
  },
  {
   "cell_type": "code",
   "execution_count": 10,
   "id": "every-blogger",
   "metadata": {
    "papermill": {
     "duration": null,
     "end_time": null,
     "exception": null,
     "start_time": null,
     "status": "pending"
    },
    "tags": []
   },
   "outputs": [],
   "source": [
    "from sagemaker.tuner import (\n",
    "    IntegerParameter,\n",
    "    CategoricalParameter,\n",
    "    ContinuousParameter,\n",
    "    HyperparameterTuner,\n",
    ")\n",
    "\n",
    "# The hyperparameters we're going to tune\n",
    "hyperparameter_ranges = {\n",
    "    # inspired by https://medium.com/aureliantactics/ppo-hyperparameters-and-ranges-6fc2d29bccbe\n",
    "    #'rl.training.config.clip_param': ContinuousParameter(0.1, 0.4),\n",
    "    #'rl.training.config.kl_target': ContinuousParameter(0.003, 0.03),\n",
    "    #'rl.training.config.vf_loss_coeff': ContinuousParameter(0.5, 1.0),\n",
    "    #'rl.training.config.entropy_coeff': ContinuousParameter(0.0, 0.01),\n",
    "    \"rl.training.config.kl_coeff\": ContinuousParameter(0.5, 1.0),\n",
    "    \"rl.training.config.num_sgd_iter\": IntegerParameter(3, 50),\n",
    "}\n",
    "\n",
    "# The hyperparameters that are the same for all jobs\n",
    "static_hyperparameters = {\n",
    "    \"rl.training.stop.time_total_s\": 600,  # Tell each training job to stop after 10 minutes\n",
    "    #'rl.training.config.num_sgd_iter': 7,\n",
    "    #'rl.training.config.sgd_minibatch_size': 1000,\n",
    "    #'rl.training.config.train_batch_size': 25000,\n",
    "}"
   ]
  },
  {
   "cell_type": "markdown",
   "id": "vietnamese-reference",
   "metadata": {
    "papermill": {
     "duration": null,
     "end_time": null,
     "exception": null,
     "start_time": null,
     "status": "pending"
    },
    "tags": []
   },
   "source": [
    "## Prepare to launch the tuning job.\n",
    "\n",
    "First we create an estimator like we would if we were launching a single training job.  This will be used to create the `tuner` object."
   ]
  },
  {
   "cell_type": "code",
   "execution_count": 21,
   "id": "interracial-coupon",
   "metadata": {
    "papermill": {
     "duration": null,
     "end_time": null,
     "exception": null,
     "start_time": null,
     "status": "pending"
    },
    "scrolled": true,
    "tags": []
   },
   "outputs": [
    {
     "name": "stdout",
     "output_type": "stream",
     "text": [
      "...................................................................................................................................................................................!\n"
     ]
    }
   ],
   "source": [
    "metric_definitions = RLEstimator.default_metric_definitions(RLToolkit.RAY)\n",
    "estimator = RLEstimator(\n",
    "    entry_point=\"train-%s.py\" % roboschool_problem,\n",
    "    source_dir=\"src\",\n",
    "    dependencies=[\"../common/sagemaker_rl\"],\n",
    "    image_uri=custom_image_name,\n",
    "    role=role,\n",
    "    instance_type=instance_type,\n",
    "    instance_count=1,\n",
    "    output_path=s3_output_path,\n",
    "    base_job_name=job_name_prefix,\n",
    "    metric_definitions=metric_definitions,\n",
    "    hyperparameters=static_hyperparameters,\n",
    ")\n",
    "\n",
    "tuner = HyperparameterTuner(\n",
    "    estimator,\n",
    "    objective_metric_name=\"episode_reward_mean\",\n",
    "    objective_type=\"Maximize\",\n",
    "    hyperparameter_ranges=hyperparameter_ranges,\n",
    "    metric_definitions=metric_definitions,\n",
    "    max_jobs=max_jobs,\n",
    "    max_parallel_jobs=max_parallel_jobs,\n",
    "    base_tuning_job_name=job_name_prefix,\n",
    ")\n",
    "tuner.fit()"
   ]
  },
  {
   "cell_type": "markdown",
   "id": "numerical-certification",
   "metadata": {
    "papermill": {
     "duration": null,
     "end_time": null,
     "exception": null,
     "start_time": null,
     "status": "pending"
    },
    "tags": []
   },
   "source": [
    "## Monitor progress\n",
    "\n",
    "To see how your tuning job is doing, jump over to the SageMaker console.  Under the **Training** section, you'll see Hyperparameter tuning jobs, where you'll see the newly created job.  It will launch a series of TrainingJobs in your account, each of which will behave like a regular training job.  They will show up in the list, and when each job is completed, you'll see the final value they achieved for mean reward.  Each job will also emit algorithm metrics to cloudwatch, which you can see plotted in CloudWatch metrics.  To see these, click on the training job to det to its detail page, and then look for the link \"View algorithm metrics\" which will let you see a chart of how that job is progressing.  By changing the search criteria in the CloudWatch console, you can overlay the metrics for all the jobs in this tuning job."
   ]
  }
 ],
 "metadata": {
  "anaconda-cloud": {},
  "kernelspec": {
   "display_name": "Environment (conda_python3)",
   "language": "python",
   "name": "conda_python3"
  },
  "language_info": {
   "codemirror_mode": {
    "name": "ipython",
    "version": 3
   },
   "file_extension": ".py",
   "mimetype": "text/x-python",
   "name": "python",
   "nbconvert_exporter": "python",
   "pygments_lexer": "ipython3",
   "version": "3.6.10"
  },
  "notice": "Copyright 2018 Amazon.com, Inc. or its affiliates. All Rights Reserved. Licensed under the Apache License, Version 2.0 (the \"License\"). You may not use this file except in compliance with the License. A copy of the License is located at http://aws.amazon.com/apache2.0/ or in the \"license\" file accompanying this file. This file is distributed on an \"AS IS\" BASIS, WITHOUT WARRANTIES OR CONDITIONS OF ANY KIND, either express or implied. See the License for the specific language governing permissions and limitations under the License.",
  "papermill": {
   "default_parameters": {},
   "duration": 1.816966,
   "end_time": "2021-06-01T00:13:49.718496",
   "environment_variables": {},
   "exception": true,
   "input_path": "rl_roboschool_ray_automatic_model_tuning.ipynb",
   "output_path": "/opt/ml/processing/output/rl_roboschool_ray_automatic_model_tuning-2021-06-01-00-09-44.ipynb",
   "parameters": {
    "kms_key": "arn:aws:kms:us-west-2:521695447989:key/6e9984db-50cf-4c7e-926c-877ec47a8b25"
   },
   "start_time": "2021-06-01T00:13:47.901530",
   "version": "2.3.3"
  }
 },
 "nbformat": 4,
 "nbformat_minor": 5
}
