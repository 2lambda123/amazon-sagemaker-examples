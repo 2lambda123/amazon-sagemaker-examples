{
 "cells": [
  {
   "cell_type": "markdown",
   "id": "231a0709",
   "metadata": {
    "tags": [
     "papermill-error-cell-tag"
    ]
   },
   "source": [
    "<span style=\"color:red; font-family:Helvetica Neue, Helvetica, Arial, sans-serif; font-size:2em;\">An Exception was encountered at '<a href=\"#papermill-error-cell\">In [2]</a>'.</span>"
   ]
  },
  {
   "cell_type": "code",
   "execution_count": 1,
   "id": "6004eb59",
   "metadata": {
    "execution": {
     "iopub.execute_input": "2021-06-01T00:14:05.874156Z",
     "iopub.status.busy": "2021-06-01T00:14:05.873546Z",
     "iopub.status.idle": "2021-06-01T00:14:05.875794Z",
     "shell.execute_reply": "2021-06-01T00:14:05.875323Z"
    },
    "papermill": {
     "duration": 0.013027,
     "end_time": "2021-06-01T00:14:05.875910",
     "exception": false,
     "start_time": "2021-06-01T00:14:05.862883",
     "status": "completed"
    },
    "tags": [
     "injected-parameters"
    ]
   },
   "outputs": [],
   "source": [
    "# Parameters\n",
    "kms_key = \"arn:aws:kms:us-west-2:521695447989:key/6e9984db-50cf-4c7e-926c-877ec47a8b25\"\n"
   ]
  },
  {
   "cell_type": "markdown",
   "id": "bea3ffdc",
   "metadata": {
    "papermill": {
     "duration": 0.006638,
     "end_time": "2021-06-01T00:14:05.889645",
     "exception": false,
     "start_time": "2021-06-01T00:14:05.883007",
     "status": "completed"
    },
    "tags": []
   },
   "source": [
    "# Optimizing building HVAC with Amazon SageMaker RL"
   ]
  },
  {
   "cell_type": "markdown",
   "id": "cab109c8",
   "metadata": {
    "tags": [
     "papermill-error-cell-tag"
    ]
   },
   "source": [
    "<span id=\"papermill-error-cell\" style=\"color:red; font-family:Helvetica Neue, Helvetica, Arial, sans-serif; font-size:2em;\">Execution using papermill encountered an exception here and stopped:</span>"
   ]
  },
  {
   "cell_type": "code",
   "execution_count": 2,
   "id": "6562d321",
   "metadata": {
    "execution": {
     "iopub.execute_input": "2021-06-01T00:14:05.906597Z",
     "iopub.status.busy": "2021-06-01T00:14:05.905896Z",
     "iopub.status.idle": "2021-06-01T00:14:06.416391Z",
     "shell.execute_reply": "2021-06-01T00:14:06.415551Z"
    },
    "papermill": {
     "duration": 0.520323,
     "end_time": "2021-06-01T00:14:06.416587",
     "exception": true,
     "start_time": "2021-06-01T00:14:05.896264",
     "status": "failed"
    },
    "tags": []
   },
   "outputs": [
    {
     "ename": "ModuleNotFoundError",
     "evalue": "No module named 'source.common'",
     "output_type": "error",
     "traceback": [
      "\u001b[0;31m---------------------------------------------------------------------------\u001b[0m",
      "\u001b[0;31mModuleNotFoundError\u001b[0m                       Traceback (most recent call last)",
      "\u001b[0;32m<ipython-input-2-e3034b9f0298>\u001b[0m in \u001b[0;36m<module>\u001b[0;34m\u001b[0m\n\u001b[1;32m      4\u001b[0m \u001b[0;32mfrom\u001b[0m \u001b[0msagemaker\u001b[0m\u001b[0;34m.\u001b[0m\u001b[0mrl\u001b[0m \u001b[0;32mimport\u001b[0m \u001b[0mRLEstimator\u001b[0m\u001b[0;34m\u001b[0m\u001b[0;34m\u001b[0m\u001b[0m\n\u001b[1;32m      5\u001b[0m \u001b[0;34m\u001b[0m\u001b[0m\n\u001b[0;32m----> 6\u001b[0;31m \u001b[0;32mfrom\u001b[0m \u001b[0msource\u001b[0m\u001b[0;34m.\u001b[0m\u001b[0mcommon\u001b[0m\u001b[0;34m.\u001b[0m\u001b[0mdocker_utils\u001b[0m \u001b[0;32mimport\u001b[0m \u001b[0mbuild_and_push_docker_image\u001b[0m\u001b[0;34m\u001b[0m\u001b[0;34m\u001b[0m\u001b[0m\n\u001b[0m",
      "\u001b[0;31mModuleNotFoundError\u001b[0m: No module named 'source.common'"
     ]
    }
   ],
   "source": [
    "import sagemaker\n",
    "import boto3\n",
    "\n",
    "from sagemaker.rl import RLEstimator\n",
    "\n",
    "from source.common.docker_utils import build_and_push_docker_image"
   ]
  },
  {
   "cell_type": "markdown",
   "id": "f209aced",
   "metadata": {
    "papermill": {
     "duration": null,
     "end_time": null,
     "exception": null,
     "start_time": null,
     "status": "pending"
    },
    "tags": []
   },
   "source": [
    "## Initialize Amazon SageMaker"
   ]
  },
  {
   "cell_type": "code",
   "execution_count": null,
   "id": "ba6fa050",
   "metadata": {
    "papermill": {
     "duration": null,
     "end_time": null,
     "exception": null,
     "start_time": null,
     "status": "pending"
    },
    "tags": []
   },
   "outputs": [],
   "source": [
    "role = sagemaker.get_execution_role()\n",
    "sm_session = sagemaker.session.Session()\n",
    "\n",
    "# SageMaker SDK creates a default bucket. Change this bucket to your own bucket, if needed.\n",
    "s3_bucket = sm_session.default_bucket()\n",
    "\n",
    "s3_output_path = f\"s3://{s3_bucket}\"\n",
    "print(f\"S3 bucket path: {s3_output_path}\")\n",
    "print(f\"Role: {role}\")"
   ]
  },
  {
   "cell_type": "markdown",
   "id": "61e8332f",
   "metadata": {
    "papermill": {
     "duration": null,
     "end_time": null,
     "exception": null,
     "start_time": null,
     "status": "pending"
    },
    "tags": []
   },
   "source": [
    "## Set additional training parameters\n",
    "\n",
    "### Set instance type\n",
    "\n",
    "Set `cpu_or_gpu` to either `'cpu'` or `'gpu'` for using CPU or GPU instances.\n",
    "\n",
    "### Configure the framework you want to use\n",
    "\n",
    "Set `framework` to `'tf'` or `'torch'` for TensorFlow or PyTorch, respectively.\n",
    "\n",
    "You will also have to edit your entry point i.e., `train-sagemaker-distributed.py` with the configuration parameter `\"use_pytorch\"` to match the framework that you have selected."
   ]
  },
  {
   "cell_type": "code",
   "execution_count": null,
   "id": "8975ceda",
   "metadata": {
    "papermill": {
     "duration": null,
     "end_time": null,
     "exception": null,
     "start_time": null,
     "status": "pending"
    },
    "tags": []
   },
   "outputs": [],
   "source": [
    "job_name_prefix = \"energyplus-hvac-ray\"\n",
    "\n",
    "cpu_or_gpu = \"gpu\"  # has to be either cpu or gpu\n",
    "if cpu_or_gpu != \"cpu\" and cpu_or_gpu != \"gpu\":\n",
    "    raise ValueError(\"cpu_or_gpu has to be either cpu or gpu\")\n",
    "\n",
    "framework = \"tf\"\n",
    "\n",
    "instance_type = \"ml.g4dn.16xlarge\"  # g4dn.16x large has 1 GPU and 64 cores"
   ]
  },
  {
   "cell_type": "markdown",
   "id": "eb8cc364",
   "metadata": {
    "papermill": {
     "duration": null,
     "end_time": null,
     "exception": null,
     "start_time": null,
     "status": "pending"
    },
    "tags": []
   },
   "source": [
    "# Train your homogeneous scaling job here"
   ]
  },
  {
   "cell_type": "markdown",
   "id": "3dbcb053",
   "metadata": {
    "papermill": {
     "duration": null,
     "end_time": null,
     "exception": null,
     "start_time": null,
     "status": "pending"
    },
    "tags": []
   },
   "source": [
    "### Edit the training code\n",
    "\n",
    "The training code is written in the file `train-sagemaker-distributed.py` which is uploaded in the /source directory.\n",
    "\n",
    "*Note that ray will automatically set `\"ray_num_cpus\"` and `\"ray_num_gpus\"` in `_get_ray_config`*"
   ]
  },
  {
   "cell_type": "code",
   "execution_count": null,
   "id": "368165e9",
   "metadata": {
    "papermill": {
     "duration": null,
     "end_time": null,
     "exception": null,
     "start_time": null,
     "status": "pending"
    },
    "tags": []
   },
   "outputs": [],
   "source": [
    "!pygmentize source/train-sagemaker-distributed.py"
   ]
  },
  {
   "cell_type": "markdown",
   "id": "9f6f0537",
   "metadata": {
    "papermill": {
     "duration": null,
     "end_time": null,
     "exception": null,
     "start_time": null,
     "status": "pending"
    },
    "tags": []
   },
   "source": [
    "### Train the RL model using the Python SDK Script mode\n",
    "\n",
    "When using SageMaker for distributed training, you can select a GPU or CPU instance. The RLEstimator is used for training RL jobs.\n",
    "\n",
    "1. Specify the source directory where the environment, presets and training code is uploaded.\n",
    "2. Specify the entry point as the training code\n",
    "3. Specify the image (CPU or GPU) to be used for the training environment.\n",
    "4. Define the training parameters such as the instance count, job name, S3 path for output and job name.\n",
    "5. Define the metrics definitions that you are interested in capturing in your logs. These can also be visualized in CloudWatch and SageMaker Notebooks."
   ]
  },
  {
   "cell_type": "markdown",
   "id": "f077534e",
   "metadata": {
    "papermill": {
     "duration": null,
     "end_time": null,
     "exception": null,
     "start_time": null,
     "status": "pending"
    },
    "tags": []
   },
   "source": [
    "#### GPU docker image"
   ]
  },
  {
   "cell_type": "code",
   "execution_count": null,
   "id": "839fef60",
   "metadata": {
    "papermill": {
     "duration": null,
     "end_time": null,
     "exception": null,
     "start_time": null,
     "status": "pending"
    },
    "scrolled": true,
    "tags": []
   },
   "outputs": [],
   "source": [
    "# Build image\n",
    "\n",
    "repository_short_name = f\"sagemaker-hvac-ray-{cpu_or_gpu}\"\n",
    "docker_build_args = {\n",
    "    \"CPU_OR_GPU\": cpu_or_gpu,\n",
    "    \"AWS_REGION\": boto3.Session().region_name,\n",
    "    \"FRAMEWORK\": framework,\n",
    "}\n",
    "\n",
    "image_name = build_and_push_docker_image(repository_short_name, build_args=docker_build_args)\n",
    "print(\"Using ECR image %s\" % image_name)"
   ]
  },
  {
   "cell_type": "code",
   "execution_count": null,
   "id": "74c20964",
   "metadata": {
    "papermill": {
     "duration": null,
     "end_time": null,
     "exception": null,
     "start_time": null,
     "status": "pending"
    },
    "tags": []
   },
   "outputs": [],
   "source": [
    "metric_definitions = [\n",
    "    {\n",
    "        \"Name\": \"training_iteration\",\n",
    "        \"Regex\": \"training_iteration: ([-+]?[0-9]*[.]?[0-9]+([eE][-+]?[0-9]+)?)\",\n",
    "    },\n",
    "    {\n",
    "        \"Name\": \"episodes_total\",\n",
    "        \"Regex\": \"episodes_total: ([-+]?[0-9]*[.]?[0-9]+([eE][-+]?[0-9]+)?)\",\n",
    "    },\n",
    "    {\n",
    "        \"Name\": \"num_steps_trained\",\n",
    "        \"Regex\": \"num_steps_trained: ([-+]?[0-9]*[.]?[0-9]+([eE][-+]?[0-9]+)?)\",\n",
    "    },\n",
    "    {\n",
    "        \"Name\": \"timesteps_total\",\n",
    "        \"Regex\": \"timesteps_total: ([-+]?[0-9]*[.]?[0-9]+([eE][-+]?[0-9]+)?)\",\n",
    "    },\n",
    "    {\n",
    "        \"Name\": \"training_iteration\",\n",
    "        \"Regex\": \"training_iteration: ([-+]?[0-9]*[.]?[0-9]+([eE][-+]?[0-9]+)?)\",\n",
    "    },\n",
    "    {\n",
    "        \"Name\": \"episode_reward_max\",\n",
    "        \"Regex\": \"episode_reward_max: ([-+]?[0-9]*[.]?[0-9]+([eE][-+]?[0-9]+)?)\",\n",
    "    },\n",
    "    {\n",
    "        \"Name\": \"episode_reward_mean\",\n",
    "        \"Regex\": \"episode_reward_mean: ([-+]?[0-9]*[.]?[0-9]+([eE][-+]?[0-9]+)?)\",\n",
    "    },\n",
    "    {\n",
    "        \"Name\": \"episode_reward_min\",\n",
    "        \"Regex\": \"episode_reward_min: ([-+]?[0-9]*[.]?[0-9]+([eE][-+]?[0-9]+)?)\",\n",
    "    },\n",
    "]"
   ]
  },
  {
   "cell_type": "markdown",
   "id": "6b3dfe43",
   "metadata": {
    "papermill": {
     "duration": null,
     "end_time": null,
     "exception": null,
     "start_time": null,
     "status": "pending"
    },
    "tags": []
   },
   "source": [
    "### Ray homogeneous scaling - Specify `train_instance_count` > 1\n",
    "\n",
    "Homogeneous scaling allows us to use multiple instances of the same type.\n",
    "\n",
    "Spot instances are unused EC2 instances that could be used at 90% discount compared to On-Demand prices (more information about spot instances can be found [here](https://aws.amazon.com/ec2/spot/?cards.sort-by=item.additionalFields.startDateTime&cards.sort-order=asc) and [here](https://docs.aws.amazon.com/sagemaker/latest/dg/model-managed-spot-training.html))\n",
    "\n",
    "To use spot instances, set `train_use_spot_instances = True`. To use On-Demand instances, `train_use_spot_instances = False`."
   ]
  },
  {
   "cell_type": "code",
   "execution_count": null,
   "id": "e5fba5a3",
   "metadata": {
    "papermill": {
     "duration": null,
     "end_time": null,
     "exception": null,
     "start_time": null,
     "status": "pending"
    },
    "tags": []
   },
   "outputs": [],
   "source": [
    "hyperparameters = {\n",
    "    # no. of days to simulate. Remember to adjust the dates in RunPeriod of\n",
    "    # 'source/eplus/envs/buildings/MediumOffice/RefBldgMediumOfficeNew2004_Chicago.idf' to match simulation days.\n",
    "    \"n_days\": 365,\n",
    "    \"n_iter\": 50,  # no. of training iterations\n",
    "    \"algorithm\": \"APEX_DDPG\",  # only APEX_DDPG and PPO are tested\n",
    "    \"multi_zone_control\": True,  # if each zone temperature set point has to be independently controlled\n",
    "    \"energy_temp_penalty_ratio\": 10,\n",
    "}\n",
    "\n",
    "# Set additional training parameters\n",
    "training_params = {\n",
    "    \"base_job_name\": job_name_prefix,\n",
    "    \"train_instance_count\": 1,\n",
    "    \"tags\": [{\"Key\": k, \"Value\": str(v)} for k, v in hyperparameters.items()],\n",
    "}\n",
    "\n",
    "# Defining the RLEstimator\n",
    "estimator = RLEstimator(\n",
    "    entry_point=f\"train-sagemaker-hvac.py\",\n",
    "    source_dir=\"source\",\n",
    "    dependencies=[\"source/common/\"],\n",
    "    image_uri=image_name,\n",
    "    role=role,\n",
    "    train_instance_type=instance_type,\n",
    "    #                         train_instance_type='local',\n",
    "    output_path=s3_output_path,\n",
    "    metric_definitions=metric_definitions,\n",
    "    hyperparameters=hyperparameters,\n",
    "    **training_params,\n",
    ")\n",
    "\n",
    "estimator.fit(wait=False)\n",
    "\n",
    "print(\" \")\n",
    "print(estimator.latest_training_job.job_name)\n",
    "print(\"type=\", instance_type, \"count=\", training_params[\"train_instance_count\"])\n",
    "print(\" \")"
   ]
  },
  {
   "cell_type": "code",
   "execution_count": null,
   "id": "410e59ff",
   "metadata": {
    "papermill": {
     "duration": null,
     "end_time": null,
     "exception": null,
     "start_time": null,
     "status": "pending"
    },
    "tags": []
   },
   "outputs": [],
   "source": []
  }
 ],
 "metadata": {
  "kernelspec": {
   "display_name": "conda_python3",
   "language": "python",
   "name": "conda_python3"
  },
  "language_info": {
   "codemirror_mode": {
    "name": "ipython",
    "version": 3
   },
   "file_extension": ".py",
   "mimetype": "text/x-python",
   "name": "python",
   "nbconvert_exporter": "python",
   "pygments_lexer": "ipython3",
   "version": "3.7.10"
  },
  "papermill": {
   "default_parameters": {},
   "duration": 1.766201,
   "end_time": "2021-06-01T00:14:06.822404",
   "environment_variables": {},
   "exception": true,
   "input_path": "train-hvac.ipynb",
   "output_path": "/opt/ml/processing/output/train-hvac-2021-06-01-00-09-47.ipynb",
   "parameters": {
    "kms_key": "arn:aws:kms:us-west-2:521695447989:key/6e9984db-50cf-4c7e-926c-877ec47a8b25"
   },
   "start_time": "2021-06-01T00:14:05.056203",
   "version": "2.3.3"
  }
 },
 "nbformat": 4,
 "nbformat_minor": 5
}