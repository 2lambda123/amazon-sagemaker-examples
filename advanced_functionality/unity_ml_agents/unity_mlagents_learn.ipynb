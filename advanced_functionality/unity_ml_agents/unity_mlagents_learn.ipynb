{
 "cells": [
  {
   "cell_type": "markdown",
   "id": "armed-coalition",
   "metadata": {
    "tags": [
     "papermill-error-cell-tag"
    ]
   },
   "source": [
    "<span style=\"color:red; font-family:Helvetica Neue, Helvetica, Arial, sans-serif; font-size:2em;\">An Exception was encountered at '<a href=\"#papermill-error-cell\">In [3]</a>'.</span>"
   ]
  },
  {
   "cell_type": "code",
   "execution_count": 1,
   "id": "lucky-diversity",
   "metadata": {
    "execution": {
     "iopub.execute_input": "2021-06-01T00:20:26.837385Z",
     "iopub.status.busy": "2021-06-01T00:20:26.836875Z",
     "iopub.status.idle": "2021-06-01T00:20:26.838716Z",
     "shell.execute_reply": "2021-06-01T00:20:26.839102Z"
    },
    "papermill": {
     "duration": 0.017021,
     "end_time": "2021-06-01T00:20:26.839311",
     "exception": false,
     "start_time": "2021-06-01T00:20:26.822290",
     "status": "completed"
    },
    "tags": [
     "injected-parameters"
    ]
   },
   "outputs": [],
   "source": [
    "# Parameters\n",
    "kms_key = \"arn:aws:kms:us-west-2:521695447989:key/6e9984db-50cf-4c7e-926c-877ec47a8b25\"\n"
   ]
  },
  {
   "cell_type": "markdown",
   "id": "professional-payroll",
   "metadata": {
    "papermill": {
     "duration": 0.006767,
     "end_time": "2021-06-01T00:20:26.853280",
     "exception": false,
     "start_time": "2021-06-01T00:20:26.846513",
     "status": "completed"
    },
    "tags": []
   },
   "source": [
    "# Running mlagents-learn on SageMaker"
   ]
  },
  {
   "cell_type": "markdown",
   "id": "defined-aggregate",
   "metadata": {
    "papermill": {
     "duration": 0.006632,
     "end_time": "2021-06-01T00:20:26.866584",
     "exception": false,
     "start_time": "2021-06-01T00:20:26.859952",
     "status": "completed"
    },
    "tags": []
   },
   "source": [
    "## Introduction\n",
    "[The Unity Machine Learning Agents Toolkit (ML-Agents)](https://github.com/Unity-Technologies/ml-agents) is an open-source project that enables games and simulations to serve as environments for training intelligent agents. \n",
    "This notebook contains instructions for setting up SageMaker for using a command-line utility mlagents-learn."
   ]
  },
  {
   "cell_type": "markdown",
   "id": "reserved-chemistry",
   "metadata": {
    "papermill": {
     "duration": 0.006623,
     "end_time": "2021-06-01T00:20:26.879882",
     "exception": false,
     "start_time": "2021-06-01T00:20:26.873259",
     "status": "completed"
    },
    "tags": []
   },
   "source": [
    "## Pre-requisites"
   ]
  },
  {
   "cell_type": "markdown",
   "id": "identified-sunrise",
   "metadata": {
    "papermill": {
     "duration": 0.006638,
     "end_time": "2021-06-01T00:20:26.893219",
     "exception": false,
     "start_time": "2021-06-01T00:20:26.886581",
     "status": "completed"
    },
    "tags": []
   },
   "source": [
    "### Build an Environment Executable\n",
    "We need a built environment to use mlagents-learn on SageMaker. Please follow the instruction [here](https://github.com/Unity-Technologies/ml-agents/blob/master/docs/Learning-Environment-Executable.md) to create a built environment for Linux, and upload the executable file and the dependency folder to s3."
   ]
  },
  {
   "cell_type": "code",
   "execution_count": 2,
   "id": "interracial-falls",
   "metadata": {
    "execution": {
     "iopub.execute_input": "2021-06-01T00:20:26.909878Z",
     "iopub.status.busy": "2021-06-01T00:20:26.909374Z",
     "iopub.status.idle": "2021-06-01T00:20:26.911659Z",
     "shell.execute_reply": "2021-06-01T00:20:26.911178Z"
    },
    "papermill": {
     "duration": 0.011845,
     "end_time": "2021-06-01T00:20:26.911754",
     "exception": false,
     "start_time": "2021-06-01T00:20:26.899909",
     "status": "completed"
    },
    "tags": []
   },
   "outputs": [],
   "source": [
    "data_location = \"<s3 prefix of your executable file and the dependency folder>\""
   ]
  },
  {
   "cell_type": "markdown",
   "id": "cheap-invasion",
   "metadata": {
    "papermill": {
     "duration": 0.006767,
     "end_time": "2021-06-01T00:20:26.925305",
     "exception": false,
     "start_time": "2021-06-01T00:20:26.918538",
     "status": "completed"
    },
    "tags": []
   },
   "source": [
    "### Imports\n",
    "We'll begin with some necessary imports, and get an Amazon SageMaker session to help perform certain tasks, as well as an IAM role with the necessary permissions."
   ]
  },
  {
   "cell_type": "markdown",
   "id": "architectural-consumer",
   "metadata": {
    "tags": [
     "papermill-error-cell-tag"
    ]
   },
   "source": [
    "<span id=\"papermill-error-cell\" style=\"color:red; font-family:Helvetica Neue, Helvetica, Arial, sans-serif; font-size:2em;\">Execution using papermill encountered an exception here and stopped:</span>"
   ]
  },
  {
   "cell_type": "code",
   "execution_count": 3,
   "id": "exceptional-frederick",
   "metadata": {
    "execution": {
     "iopub.execute_input": "2021-06-01T00:20:26.942694Z",
     "iopub.status.busy": "2021-06-01T00:20:26.941929Z",
     "iopub.status.idle": "2021-06-01T00:20:27.522296Z",
     "shell.execute_reply": "2021-06-01T00:20:27.521311Z"
    },
    "papermill": {
     "duration": 0.590395,
     "end_time": "2021-06-01T00:20:27.522529",
     "exception": true,
     "start_time": "2021-06-01T00:20:26.932134",
     "status": "failed"
    },
    "tags": []
   },
   "outputs": [
    {
     "ename": "ModuleNotFoundError",
     "evalue": "No module named 'docker_utils'",
     "output_type": "error",
     "traceback": [
      "\u001b[0;31m---------------------------------------------------------------------------\u001b[0m",
      "\u001b[0;31mModuleNotFoundError\u001b[0m                       Traceback (most recent call last)",
      "\u001b[0;32m<ipython-input-3-174bef85c88d>\u001b[0m in \u001b[0;36m<module>\u001b[0;34m\u001b[0m\n\u001b[1;32m      5\u001b[0m \u001b[0;32mimport\u001b[0m \u001b[0mnumpy\u001b[0m \u001b[0;32mas\u001b[0m \u001b[0mnp\u001b[0m\u001b[0;34m\u001b[0m\u001b[0;34m\u001b[0m\u001b[0m\n\u001b[1;32m      6\u001b[0m \u001b[0;32mimport\u001b[0m \u001b[0mpandas\u001b[0m \u001b[0;32mas\u001b[0m \u001b[0mpd\u001b[0m\u001b[0;34m\u001b[0m\u001b[0;34m\u001b[0m\u001b[0m\n\u001b[0;32m----> 7\u001b[0;31m \u001b[0;32mfrom\u001b[0m \u001b[0mdocker_utils\u001b[0m \u001b[0;32mimport\u001b[0m \u001b[0mbuild_and_push_docker_image\u001b[0m\u001b[0;34m\u001b[0m\u001b[0;34m\u001b[0m\u001b[0m\n\u001b[0m\u001b[1;32m      8\u001b[0m \u001b[0;34m\u001b[0m\u001b[0m\n\u001b[1;32m      9\u001b[0m \u001b[0mrole\u001b[0m \u001b[0;34m=\u001b[0m \u001b[0msagemaker\u001b[0m\u001b[0;34m.\u001b[0m\u001b[0mget_execution_role\u001b[0m\u001b[0;34m(\u001b[0m\u001b[0;34m)\u001b[0m\u001b[0;34m\u001b[0m\u001b[0;34m\u001b[0m\u001b[0m\n",
      "\u001b[0;31mModuleNotFoundError\u001b[0m: No module named 'docker_utils'"
     ]
    }
   ],
   "source": [
    "import sagemaker\n",
    "import boto3\n",
    "import re\n",
    "import os\n",
    "import numpy as np\n",
    "import pandas as pd\n",
    "from docker_utils import build_and_push_docker_image\n",
    "\n",
    "role = sagemaker.get_execution_role()"
   ]
  },
  {
   "cell_type": "markdown",
   "id": "metropolitan-massage",
   "metadata": {
    "papermill": {
     "duration": null,
     "end_time": null,
     "exception": null,
     "start_time": null,
     "status": "pending"
    },
    "tags": []
   },
   "source": [
    "### Setup S3 bucket\n",
    "Set up the linkage and authentication to the S3 bucket that you want to use for checkpoint and the metadata."
   ]
  },
  {
   "cell_type": "code",
   "execution_count": null,
   "id": "inside-peace",
   "metadata": {
    "papermill": {
     "duration": null,
     "end_time": null,
     "exception": null,
     "start_time": null,
     "status": "pending"
    },
    "tags": []
   },
   "outputs": [],
   "source": [
    "sage_session = sagemaker.session.Session()\n",
    "local_session = sagemaker.local.LocalSession()\n",
    "s3_bucket = sage_session.default_bucket()\n",
    "s3_output_path = \"s3://{}/\".format(s3_bucket)\n",
    "print(\"S3 bucket path: {}\".format(s3_output_path))"
   ]
  },
  {
   "cell_type": "markdown",
   "id": "natural-poster",
   "metadata": {
    "papermill": {
     "duration": null,
     "end_time": null,
     "exception": null,
     "start_time": null,
     "status": "pending"
    },
    "tags": []
   },
   "source": [
    "### Configure where training happens\n",
    "You can train your training jobs using the SageMaker notebook instance or local notebook instance. In both of these scenarios, you can run the following in either local or SageMaker modes. The local mode uses the SageMaker Python SDK to run your code in a local container before deploying to SageMaker. This can speed up iterative testing and debugging while using the same familiar Python SDK interface. You just need to set local_mode = True."
   ]
  },
  {
   "cell_type": "code",
   "execution_count": null,
   "id": "approximate-austin",
   "metadata": {
    "papermill": {
     "duration": null,
     "end_time": null,
     "exception": null,
     "start_time": null,
     "status": "pending"
    },
    "tags": []
   },
   "outputs": [],
   "source": [
    "# run in local_mode on this machine, or as a SageMaker TrainingJob?\n",
    "local_mode = True\n",
    "\n",
    "if local_mode:\n",
    "    instance_type = 'local'\n",
    "    sess = local_session\n",
    "    !/bin/bash ./setup.sh\n",
    "else:\n",
    "    # If on SageMaker, pick the instance type\n",
    "    instance_type = \"ml.c5.2xlarge\"\n",
    "    sess = sage_session"
   ]
  },
  {
   "cell_type": "markdown",
   "id": "mobile-spencer",
   "metadata": {
    "papermill": {
     "duration": null,
     "end_time": null,
     "exception": null,
     "start_time": null,
     "status": "pending"
    },
    "tags": []
   },
   "source": [
    "## Create an estimator and fit the model\n",
    "We also need a trainer config file which defines the training hyperparameters for each Behavior in the scene, and the set-ups for the environment parameters. Please refer [this doc](https://github.com/Unity-Technologies/ml-agents/blob/2d0eb6147c031c082522eb683e569dd99b4d65fb/docs/Training-ML-Agents.md#training-configurations) for detailed info.\n",
    "As a sample, we are providing src/train.yaml which is [the config file to train the 3D Balance Ball](https://github.com/Unity-Technologies/ml-agents/blob/eedc3f9c052295d89bed0ac40a8e82a8fd17fead/config/ppo/3DBall.yaml) in the [Getting Started guide](https://github.com/Unity-Technologies/ml-agents/blob/2d0eb6147c031c082522eb683e569dd99b4d65fb/docs/Getting-Started.md).\n",
    "Because the config file is version specific. Please replace the file if you want to use another version. You can change the version of ml-agents specifying the version on src/requirements.txt. Tensorflow version can be specified changing the framework_version of the TensorFlow estimator.\n",
    "\n",
    "Note: set env_name as your game execute file e.g. 3DBall.x86_64"
   ]
  },
  {
   "cell_type": "code",
   "execution_count": null,
   "id": "wooden-parameter",
   "metadata": {
    "papermill": {
     "duration": null,
     "end_time": null,
     "exception": null,
     "start_time": null,
     "status": "pending"
    },
    "tags": []
   },
   "outputs": [],
   "source": [
    "from sagemaker.tensorflow import TensorFlow\n",
    "\n",
    "metric_definitions = [\n",
    "    {\"Name\": \"train:mean reward\", \"Regex\": \"Mean Reward: ([0-9]*.[0-9]*)\"},\n",
    "    {\"Name\": \"train:std of reward\", \"Regex\": \"Std of Reward: ([0-9]*.[0-9]*)\"},\n",
    "    {\"Name\": \"train:step\", \"Regex\": \"Step: ([0-9]*.)\"},\n",
    "]\n",
    "\n",
    "estimator = TensorFlow(\n",
    "    entry_point=\"train.py\",\n",
    "    source_dir=\"src\",\n",
    "    train_instance_type=instance_type,\n",
    "    train_instance_count=1,\n",
    "    hyperparameters={\"env_name\": \"<your env name>\", \"yaml_file\": \"train.yaml\"},\n",
    "    role=role,\n",
    "    framework_version=\"1.15.2\",\n",
    "    py_version=\"py37\",\n",
    "    metric_definitions=metric_definitions,\n",
    "    script_mode=True,\n",
    ")\n",
    "\n",
    "estimator.fit({\"train\": data_location})"
   ]
  },
  {
   "cell_type": "markdown",
   "id": "continued-correction",
   "metadata": {
    "papermill": {
     "duration": null,
     "end_time": null,
     "exception": null,
     "start_time": null,
     "status": "pending"
    },
    "tags": []
   },
   "source": [
    "## Plot metrics for training job"
   ]
  },
  {
   "cell_type": "code",
   "execution_count": null,
   "id": "sought-yahoo",
   "metadata": {
    "papermill": {
     "duration": null,
     "end_time": null,
     "exception": null,
     "start_time": null,
     "status": "pending"
    },
    "tags": []
   },
   "outputs": [],
   "source": [
    "%matplotlib inline\n",
    "from sagemaker.analytics import TrainingJobAnalytics\n",
    "\n",
    "job_name = estimator.latest_training_job.job_name\n",
    "\n",
    "if not local_mode:\n",
    "    try:\n",
    "        df = TrainingJobAnalytics(job_name, [\"train:mean reward\"]).dataframe()\n",
    "    except KeyError:\n",
    "        print(\"Training job '{}' is not ready, please check later.\".format(job_name))\n",
    "    num_metrics = len(df)\n",
    "    if num_metrics == 0:\n",
    "        print(\"No algorithm metrics found in CloudWatch\")\n",
    "    else:\n",
    "        plt = df.plot(x=\"timestamp\", y=\"value\", figsize=(12, 5), legend=True, style=\"b-\")\n",
    "        plt.set_ylabel(\"Mean reward\")\n",
    "        plt.set_xlabel(\"Training time (s)\")\n",
    "else:\n",
    "    print(\"Can't plot metrics in local mode.\")"
   ]
  }
 ],
 "metadata": {
  "kernelspec": {
   "display_name": "Environment (conda_tensorflow_p36)",
   "language": "python",
   "name": "conda_tensorflow_p36"
  },
  "language_info": {
   "codemirror_mode": {
    "name": "ipython",
    "version": 3
   },
   "file_extension": ".py",
   "mimetype": "text/x-python",
   "name": "python",
   "nbconvert_exporter": "python",
   "pygments_lexer": "ipython3",
   "version": "3.6.10"
  },
  "papermill": {
   "default_parameters": {},
   "duration": 1.836602,
   "end_time": "2021-06-01T00:20:27.835071",
   "environment_variables": {},
   "exception": true,
   "input_path": "unity_mlagents_learn.ipynb",
   "output_path": "/opt/ml/processing/output/unity_mlagents_learn-2021-06-01-00-16-28.ipynb",
   "parameters": {
    "kms_key": "arn:aws:kms:us-west-2:521695447989:key/6e9984db-50cf-4c7e-926c-877ec47a8b25"
   },
   "start_time": "2021-06-01T00:20:25.998469",
   "version": "2.3.3"
  }
 },
 "nbformat": 4,
 "nbformat_minor": 5
}
