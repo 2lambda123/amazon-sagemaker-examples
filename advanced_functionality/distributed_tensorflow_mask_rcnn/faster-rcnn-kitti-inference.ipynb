{
 "cells": [
  {
   "cell_type": "markdown",
   "metadata": {},
   "source": [
    "# Faster R-CNN Kitti Inference in Amazon SageMaker\n",
    "\n",
    "This notebook is a step-by-step tutorial on [Faster R-CNN](https://arxiv.org/abs/1506.01497) model inference using [Amazon SageMaker model deployment hosting service](https://docs.aws.amazon.com/sagemaker/latest/dg/how-it-works-hosting.html). The model is trained on [Kitti](http://www.cvlibs.net/datasets/kitti/eval_object.php?obj_benchmark=2d) 2-D object dataset.\n",
    "\n",
    "To get started, we initialize an Amazon execution role and initialize a `boto3` session to find our AWS region name."
   ]
  },
  {
   "cell_type": "code",
   "execution_count": null,
   "metadata": {},
   "outputs": [],
   "source": [
    "import boto3\n",
    "import sagemaker\n",
    "from sagemaker import get_execution_role\n",
    "\n",
    "role = get_execution_role() # provide a pre-existing role ARN as an alternative to creating a new role\n",
    "print(f'SageMaker Execution Role:{role}')\n",
    "\n",
    "session = boto3.session.Session()\n",
    "aws_region = session.region_name\n",
    "print(f'AWS region:{aws_region}')"
   ]
  },
  {
   "cell_type": "markdown",
   "metadata": {},
   "source": [
    "## Build and push SageMaker serving image\n",
    "\n",
    "For this step, the [IAM Role](https://docs.aws.amazon.com/IAM/latest/UserGuide/id_roles.html) attached to this notebook instance needs full access to Amazon ECR service. If you created this notebook instance using the ```./stack-sm.sh``` script in this repository, the IAM Role attached to this notebook instance is already setup with full access to ECR service. \n",
    "\n",
    "Below, we will build an image for [TensorPack Faster-RCNN/Mask-RCNN](https://github.com/tensorpack/tensorpack/tree/master/examples/FasterRCNN) implementation and push it to Amazon ECR."
   ]
  },
  {
   "cell_type": "markdown",
   "metadata": {},
   "source": [
    "### Build and Push TensorPack Faster-RCNN/Mask-RCNN Serving Container Image\n",
    "\n",
    "Use ```./container-kitti-serving/build_tools/build_and_push.sh``` script to build and push the [TensorPack Faster-RCNN/Mask-RCNN](https://github.com/tensorpack/tensorpack/tree/master/examples/FasterRCNN) <b>serving</b> container image to Amazon ECR. "
   ]
  },
  {
   "cell_type": "code",
   "execution_count": null,
   "metadata": {},
   "outputs": [],
   "source": [
    "!cat ./container-kitti-serving/build_tools/build_and_push.sh"
   ]
  },
  {
   "cell_type": "markdown",
   "metadata": {},
   "source": [
    "Using your *AWS region* as argument, run the cell below."
   ]
  },
  {
   "cell_type": "code",
   "execution_count": null,
   "metadata": {},
   "outputs": [],
   "source": [
    "%%time\n",
    "! ./container-kitti-serving/build_tools/build_and_push.sh {aws_region}"
   ]
  },
  {
   "cell_type": "markdown",
   "metadata": {},
   "source": [
    "Set ```tensorpack_image``` below to Amazon ECR URI of the <b>serving</b> image you pushed above."
   ]
  },
  {
   "cell_type": "code",
   "execution_count": null,
   "metadata": {},
   "outputs": [],
   "source": [
    "tensorpack_image = #<amazon-ecr-uri>"
   ]
  },
  {
   "cell_type": "markdown",
   "metadata": {},
   "source": [
    "Next, we set ```serving_image``` to  the `tensorpack_image`."
   ]
  },
  {
   "cell_type": "code",
   "execution_count": null,
   "metadata": {},
   "outputs": [],
   "source": [
    "serving_image = tensorpack_image \n",
    "print(f'serving image: {serving_image}')"
   ]
  },
  {
   "cell_type": "markdown",
   "metadata": {},
   "source": [
    "## Create Amazon SageMaker Session \n",
    "Next, we create a SageMaker session."
   ]
  },
  {
   "cell_type": "code",
   "execution_count": null,
   "metadata": {},
   "outputs": [],
   "source": [
    "sagemaker_session = sagemaker.session.Session(boto_session=session)"
   ]
  },
  {
   "cell_type": "markdown",
   "metadata": {},
   "source": [
    "## Define Amazon SageMaker Model\n",
    "Next, we define an Amazon SageMaker Model that defines the deployed model we will serve from an Amazon SageMaker Endpoint. "
   ]
  },
  {
   "cell_type": "code",
   "execution_count": null,
   "metadata": {},
   "outputs": [],
   "source": [
    "model_name= 'faster-rcnn-kitti-model-1'# Name of the model"
   ]
  },
  {
   "cell_type": "markdown",
   "metadata": {},
   "source": [
    "Next we set the `s3_model_url` to the trained model S3 URL. \n",
    "\n",
    "The environment variable `RESNET_ARCH` must be set to `resnet50` or `resnet101`. For any, configuration variable, prefix the variable with `CONFIG__` and replace all `.` with `__`. For example, if the configuration variable is `RPN.ANCHOR_SIZES`, set the environment variable `CONFIG__RPN__ANCHOR_SIZES`, as shown below."
   ]
  },
  {
   "cell_type": "code",
   "execution_count": null,
   "metadata": {},
   "outputs": [],
   "source": [
    "s3_model_url =  # Trained Model Amazon S3 URI in the format s3://<your path>/model.tar.gz\n",
    "serving_container_def = {\n",
    "    'Image': serving_image,\n",
    "    'ModelDataUrl': s3_model_url,\n",
    "    'Mode': 'SingleModel',\n",
    "    'Environment': { 'SM_MODEL_DIR' : '/opt/ml/model',\n",
    "                     'RESNET_ARCH': 'resnet50', \n",
    "                     'CONFIG__RPN__ANCHOR_SIZES': '(32, 64, 128, 256, 512)'\n",
    "                   }}\n",
    "\n",
    "create_model_response = sagemaker_session.create_model(name=model_name, \n",
    "                                                       role=role, \n",
    "                                                       container_defs=serving_container_def)\n",
    "\n",
    "print(create_model_response)"
   ]
  },
  {
   "cell_type": "markdown",
   "metadata": {},
   "source": [
    " Next, we set the name of the Amaozn SageMaker hosted service endpoint configuration."
   ]
  },
  {
   "cell_type": "code",
   "execution_count": null,
   "metadata": {},
   "outputs": [],
   "source": [
    "endpoint_config_name=f'{model_name}-endpoint-config'\n",
    "print(endpoint_config_name)"
   ]
  },
  {
   "cell_type": "markdown",
   "metadata": {},
   "source": [
    "Next, we create the Amazon SageMaker hosted service endpoint configuration that uses one instance of `ml.p3.2xlarge` to serve the model."
   ]
  },
  {
   "cell_type": "code",
   "execution_count": null,
   "metadata": {},
   "outputs": [],
   "source": [
    "epc = sagemaker_session.create_endpoint_config(\n",
    "    name=endpoint_config_name, \n",
    "    model_name=model_name, \n",
    "    initial_instance_count=1, \n",
    "    instance_type='ml.g4dn.2xlarge')\n",
    "print(epc)"
   ]
  },
  {
   "cell_type": "markdown",
   "metadata": {},
   "source": [
    "Next we specify the Amazon SageMaker endpoint name for the endpoint used to serve the model."
   ]
  },
  {
   "cell_type": "code",
   "execution_count": null,
   "metadata": {},
   "outputs": [],
   "source": [
    "endpoint_name=f'{model_name}-endpoint'\n",
    "print(endpoint_name)"
   ]
  },
  {
   "cell_type": "markdown",
   "metadata": {},
   "source": [
    "Next, we create the Amazon SageMaker endpoint using the endpoint configuration we created above."
   ]
  },
  {
   "cell_type": "code",
   "execution_count": null,
   "metadata": {},
   "outputs": [],
   "source": [
    "ep=sagemaker_session.create_endpoint(endpoint_name=endpoint_name, config_name=endpoint_config_name, wait=True)\n",
    "print(ep)"
   ]
  },
  {
   "cell_type": "markdown",
   "metadata": {},
   "source": [
    "Now that the Amazon SageMaker endpoint is in service, we will use the endpoint to do inference for test images. \n",
    "\n",
    "Next, we download Kitti 2-D object dataset testing images from your S3 bucket. It is assumed that you have staged [Kitti](http://www.cvlibs.net/datasets/kitti/eval_object.php?obj_benchmark=2d) 2-D object dataset testing images in your bucket under the prefix `/faster-rcnn-kitti/testing/`. The estimated time for downloading the testing images from your S3 bucket is approximately 1 minute."
   ]
  },
  {
   "cell_type": "code",
   "execution_count": null,
   "metadata": {},
   "outputs": [],
   "source": [
    "%%time\n",
    "s3_bucket= # <your-s3-bucket-name>\n",
    "! aws s3 cp --quiet --recursive s3://{s3_bucket}/faster-rcnn-kitti/testing/ /tmp/testing/"
   ]
  },
  {
   "cell_type": "markdown",
   "metadata": {},
   "source": [
    "Below, we will use the Kitti 2-D object dataset testing images to test our deployed Faster R-CNN model trained on Kitti 2-D object dataset. However, in order to visualize the detection results, we need to define some helper functions."
   ]
  },
  {
   "cell_type": "markdown",
   "metadata": {},
   "source": [
    "## Visualization Helper Functions\n",
    "Next, we define a helper function for generating random colors for visualizing detection results."
   ]
  },
  {
   "cell_type": "code",
   "execution_count": null,
   "metadata": {},
   "outputs": [],
   "source": [
    "import colorsys\n",
    "import random\n",
    "\n",
    "def random_colors(N, bright=False):\n",
    "    brightness = 1.0 if bright else 0.7\n",
    "    hsv = [(i / N, 1, brightness) for i in range(N)]\n",
    "    colors = list(map(lambda c: colorsys.hsv_to_rgb(*c), hsv))\n",
    "    random.shuffle(colors)\n",
    "    return colors"
   ]
  },
  {
   "cell_type": "markdown",
   "metadata": {},
   "source": [
    "Next, we define a helper function to show the applied detection results."
   ]
  },
  {
   "cell_type": "code",
   "execution_count": null,
   "metadata": {},
   "outputs": [],
   "source": [
    "import matplotlib.pyplot as plt\n",
    "from matplotlib import patches\n",
    "\n",
    "def show_detection_results(img=None,\n",
    "                            annotations=None):\n",
    "    \"\"\"\n",
    "    img: image numpy array\n",
    "    annotations: annotations array for image where each annotation is in COCO format\n",
    "    \"\"\"\n",
    "    num_annotations = len(annotations)\n",
    "    colors = random_colors(num_annotations)\n",
    "    \n",
    "    fig,ax = plt.subplots(figsize=(img.shape[1]//50, img.shape[0]//50))\n",
    "    \n",
    "    for i, a in enumerate(annotations):\n",
    "        bbox = a['bbox']\n",
    "        category_id = a['category_id']\n",
    "        category_name = a['category_name']\n",
    "    \n",
    "        # select color from random colors\n",
    "        color = colors[i]\n",
    "\n",
    "        # Show bounding box\n",
    "        bbox_x, bbox_y, bbox_w, bbox_h = bbox\n",
    "\n",
    "        box_patch = patches.Rectangle((bbox_x, bbox_y), bbox_w, bbox_h, \n",
    "                        linewidth=1,\n",
    "                        alpha=0.7, linestyle=\"dashed\",\n",
    "                        edgecolor=color, facecolor='none')\n",
    "        ax.add_patch(box_patch)\n",
    "        label = f'{category_name}:{category_id}'\n",
    "        ax.text(bbox_x, bbox_y + 8, label,\n",
    "                color='w', size=11, backgroundcolor=\"none\")\n",
    "\n",
    "    \n",
    "    ax.imshow(img.astype(int))\n",
    "    plt.show()"
   ]
  },
  {
   "cell_type": "markdown",
   "metadata": {},
   "source": [
    "## Visualize Detection Results\n",
    "Next, we select a random image from Kitti 2-D object dataset testing images. After you are done visualizing the detection results for this image, you can come back to the cell below and select your next random image to test."
   ]
  },
  {
   "cell_type": "code",
   "execution_count": null,
   "metadata": {},
   "outputs": [],
   "source": [
    "import os\n",
    "import random\n",
    "\n",
    "testing_dir=os.path.join('/tmp', \"testing\")\n",
    "img_id=random.choice(os.listdir(testing_dir))\n",
    "img_local_path = os.path.join(testing_dir,img_id)\n",
    "print(img_local_path)"
   ]
  },
  {
   "cell_type": "markdown",
   "metadata": {},
   "source": [
    "Next, we read the image and convert it from BGR color to RGB color format."
   ]
  },
  {
   "cell_type": "code",
   "execution_count": null,
   "metadata": {},
   "outputs": [],
   "source": [
    "import cv2\n",
    "\n",
    "img=cv2.imread(img_local_path, cv2.IMREAD_COLOR)\n",
    "print(img.shape)\n",
    "img = cv2.cvtColor(img, cv2.COLOR_BGR2RGB)"
   ]
  },
  {
   "cell_type": "markdown",
   "metadata": {},
   "source": [
    "Next, we show the image that we randomly selected."
   ]
  },
  {
   "cell_type": "code",
   "execution_count": null,
   "metadata": {},
   "outputs": [],
   "source": [
    "fig,ax = plt.subplots(figsize=(img.shape[1]//50, img.shape[0]//50))\n",
    "ax.imshow(img.astype(int))\n",
    "plt.show()"
   ]
  },
  {
   "cell_type": "markdown",
   "metadata": {},
   "source": [
    "Next, we invoke the Amazon SageMaker Endpoint to detect objects in the test image that we randomly selected.\n",
    "\n",
    "This REST API endpoint only accepts HTTP POST requests with `ContentType` set to `application/json`. The content of the POST request must conform to following JSON schema:\n",
    "\n",
    "`{ \n",
    "    \"img_id\": \"YourImageId\", \n",
    "    \"img_data\": \"Base64 encoded image file content, encoded as utf-8 string\" \n",
    " }`\n",
    "\n",
    "The response of the POST request conforms to following JSON schema:\n",
    "\n",
    "`{ \n",
    "    \"annotations\": [ \n",
    "                    {\n",
    "                        \"bbox\": [X, Y, width, height], \n",
    "                        \"category_id\": \"class id\", \n",
    "                        \"category_name\": \"class name\", \n",
    "                        \"segmentation\": { \"counts\": [ run-length-encoding, ], \"size\": [height, width]} \n",
    "                     },\n",
    "                   ]\n",
    " }`"
   ]
  },
  {
   "cell_type": "code",
   "execution_count": null,
   "metadata": {},
   "outputs": [],
   "source": [
    "import boto3 \n",
    "import base64\n",
    "import json\n",
    "\n",
    "client = boto3.client('sagemaker-runtime')\n",
    "\n",
    "with open(img_local_path, \"rb\") as image_file:\n",
    "    img_data = base64.b64encode(image_file.read())\n",
    "    data = {\"img_id\": img_id}\n",
    "    data[\"img_data\"] = img_data.decode('utf-8')\n",
    "    body=json.dumps(data).encode('utf-8')\n",
    "    \n",
    "response = client.invoke_endpoint(EndpointName=endpoint_name,\n",
    "                                  ContentType=\"application/json\",\n",
    "                                  Accept=\"application/json\",\n",
    "                                  Body=body)\n",
    "body=response['Body'].read()\n",
    "msg=body.decode('utf-8')\n",
    "data=json.loads(msg)\n",
    "assert data is not None"
   ]
  },
  {
   "cell_type": "markdown",
   "metadata": {},
   "source": [
    "The response from the endpoint includes annotations for the detected objects in COCO annotations format. "
   ]
  },
  {
   "cell_type": "markdown",
   "metadata": {},
   "source": [
    "Next, we aplly all the detection results to the image. "
   ]
  },
  {
   "cell_type": "code",
   "execution_count": null,
   "metadata": {},
   "outputs": [],
   "source": [
    "annotations = data['annotations']\n",
    "show_detection_results(img, annotations)"
   ]
  },
  {
   "cell_type": "markdown",
   "metadata": {},
   "source": [
    "## Delete SageMaker Endpoint, Endpoint Config and Model\n",
    "If you are done testing, delete the deployed Amazon SageMaker endpoint, endpoint config, and the model below. The trained model in S3. bucket is not deleted. If you are not done testing, go back to the section <b>Visualize Detection Results</b> and select another test image."
   ]
  },
  {
   "cell_type": "code",
   "execution_count": null,
   "metadata": {},
   "outputs": [],
   "source": [
    "sagemaker_session.delete_endpoint(endpoint_name=endpoint_name)\n",
    "sagemaker_session.delete_endpoint_config(endpoint_config_name=endpoint_config_name)\n",
    "sagemaker_session.delete_model(model_name=model_name)"
   ]
  },
  {
   "cell_type": "code",
   "execution_count": null,
   "metadata": {},
   "outputs": [],
   "source": []
  }
 ],
 "metadata": {
  "kernelspec": {
   "display_name": "conda_tensorflow_p36",
   "language": "python",
   "name": "conda_tensorflow_p36"
  },
  "language_info": {
   "codemirror_mode": {
    "name": "ipython",
    "version": 3
   },
   "file_extension": ".py",
   "mimetype": "text/x-python",
   "name": "python",
   "nbconvert_exporter": "python",
   "pygments_lexer": "ipython3",
   "version": "3.6.10"
  }
 },
 "nbformat": 4,
 "nbformat_minor": 4
}
