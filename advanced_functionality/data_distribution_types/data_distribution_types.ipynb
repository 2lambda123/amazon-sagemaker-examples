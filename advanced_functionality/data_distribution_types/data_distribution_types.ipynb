{
 "cells": [
  {
   "cell_type": "markdown",
   "id": "documented-mills",
   "metadata": {
    "papermill": {
     "duration": 0.019589,
     "end_time": "2021-06-07T00:21:17.611550",
     "exception": false,
     "start_time": "2021-06-07T00:21:17.591961",
     "status": "completed"
    },
    "tags": []
   },
   "source": [
    "# Taking Full Advantage of Parallelism With Data Distribution\n",
    "_**Using Amazon SageMaker's Managed, Distributed Training with Different Data Distribution Methods**_\n",
    "\n",
    "---\n",
    "\n",
    "---\n",
    "\n",
    "## Contents\n",
    "\n",
    "1. [Background](#Background)\n",
    "1. [Setup](#Setup)\n",
    "1. [Data](#Data)\n",
    "  1. [Scaling](#Scaling)\n",
    "1. [Train](#Train)\n",
    "  1. [Timing](#Timing)\n",
    "1. [Host](#Host)\n",
    "  1. [Evaluate](#Evaluate)\n",
    "1. [Extensions](#Extensions)\n",
    "\n",
    "\n",
    "## Background\n",
    "\n",
    "Amazon SageMaker makes it easy to train machine learning models across a large number of machines.  This a non-trivial process, but Amazon SageMaker Algorithms and pre-built MXNet and TensorFlow containers hide most of the complexity from you.  Nevertheless, there are decisions on how a user structures their data which will have an implication on how the distributed training is carried out.  This notebook will walk through details on setting up your data to take full advantage of distributed processing.\n",
    "\n",
    "---\n",
    "# Setup\n",
    "\n",
    "_This notebook was created and tested on an ml.m4.xlarge notebook instance._\n",
    "\n",
    "Let's start by specifying:\n",
    "\n",
    "- The S3 bucket and prefix that you want to use for training and model data.  This should be within the same region as the Notebook Instance, training, and hosting.\n",
    "- The IAM role arn used to give training and hosting access to your data. See the documentation for how to create these.  Note, if more than one role is required for notebook instances, training, and/or hosting, please replace the boto regexp with a the appropriate full IAM role arn string(s)."
   ]
  },
  {
   "cell_type": "code",
   "execution_count": 1,
   "id": "sized-basket",
   "metadata": {
    "execution": {
     "iopub.execute_input": "2021-06-07T00:21:17.653467Z",
     "iopub.status.busy": "2021-06-07T00:21:17.652738Z",
     "iopub.status.idle": "2021-06-07T00:21:18.568192Z",
     "shell.execute_reply": "2021-06-07T00:21:18.567769Z"
    },
    "isConfigCell": true,
    "papermill": {
     "duration": 0.93788,
     "end_time": "2021-06-07T00:21:18.568322",
     "exception": false,
     "start_time": "2021-06-07T00:21:17.630442",
     "status": "completed"
    },
    "tags": [
     "parameters"
    ]
   },
   "outputs": [],
   "source": [
    "import boto3\n",
    "import re\n",
    "import sagemaker\n",
    "from sagemaker import get_execution_role\n",
    "\n",
    "sagemaker_session = sagemaker.Session()\n",
    "\n",
    "bucket = sagemaker_session.default_bucket()\n",
    "prefix = \"sagemaker/DEMO-data-distribution-types\"\n",
    "\n",
    "role = get_execution_role()"
   ]
  },
  {
   "cell_type": "markdown",
   "id": "green-determination",
   "metadata": {
    "papermill": {
     "duration": 0.01896,
     "end_time": "2021-06-07T00:21:18.648639",
     "exception": false,
     "start_time": "2021-06-07T00:21:18.629679",
     "status": "completed"
    },
    "tags": []
   },
   "source": [
    "Next, we'll import the Python libraries we'll need for the remainder of the exercise."
   ]
  },
  {
   "cell_type": "code",
   "execution_count": 2,
   "id": "blank-cameroon",
   "metadata": {
    "execution": {
     "iopub.execute_input": "2021-06-07T00:21:18.689952Z",
     "iopub.status.busy": "2021-06-07T00:21:18.689511Z",
     "iopub.status.idle": "2021-06-07T00:21:19.261026Z",
     "shell.execute_reply": "2021-06-07T00:21:19.261406Z"
    },
    "papermill": {
     "duration": 0.594127,
     "end_time": "2021-06-07T00:21:19.261560",
     "exception": false,
     "start_time": "2021-06-07T00:21:18.667433",
     "status": "completed"
    },
    "tags": []
   },
   "outputs": [],
   "source": [
    "import boto3\n",
    "import pandas as pd\n",
    "import numpy as np\n",
    "import matplotlib.pyplot as plt\n",
    "from IPython.display import display\n",
    "import io\n",
    "import time\n",
    "import copy\n",
    "import json\n",
    "import sys\n",
    "import sagemaker.amazon.common as smac\n",
    "import os"
   ]
  },
  {
   "cell_type": "markdown",
   "id": "present-marble",
   "metadata": {
    "papermill": {
     "duration": 0.019209,
     "end_time": "2021-06-07T00:21:19.300230",
     "exception": false,
     "start_time": "2021-06-07T00:21:19.281021",
     "status": "completed"
    },
    "tags": []
   },
   "source": [
    "---\n",
    "\n",
    "## Data\n",
    "\n",
    "The [dataset](https://aws.amazon.com/public-datasets/gdelt/) we'll use for this notebook is from the [Global Database of Events, Language and Tone (GDELT) Project](https://www.gdeltproject.org/).  This information is freely available on S3 as part of the [AWS Public Datasets](https://aws.amazon.com/public-datasets/) program.\n",
    "\n",
    "The data are stored as multiples files on S3, with two different formats: historical, which covers from 1979 to 2013, and daily updates which covers from 2013 on.  For this example, we'll stick to historical.  Let's bring in 1979 data for the purpose of interactive exploration.  We'll write a simple function so that later we can use it to download multiple files."
   ]
  },
  {
   "cell_type": "code",
   "execution_count": 3,
   "id": "elect-gilbert",
   "metadata": {
    "execution": {
     "iopub.execute_input": "2021-06-07T00:21:19.344972Z",
     "iopub.status.busy": "2021-06-07T00:21:19.344513Z",
     "iopub.status.idle": "2021-06-07T00:21:19.346669Z",
     "shell.execute_reply": "2021-06-07T00:21:19.346322Z"
    },
    "papermill": {
     "duration": 0.02726,
     "end_time": "2021-06-07T00:21:19.346768",
     "exception": false,
     "start_time": "2021-06-07T00:21:19.319508",
     "status": "completed"
    },
    "tags": []
   },
   "outputs": [],
   "source": [
    "def get_gdelt(filename):\n",
    "    s3 = boto3.resource(\"s3\")\n",
    "    s3.Bucket(\"gdelt-open-data\").download_file(\"events/\" + filename, \".gdelt.csv\")\n",
    "    df = pd.read_csv(\".gdelt.csv\", sep=\"\\t\")\n",
    "    header = pd.read_csv(\n",
    "        \"https://www.gdeltproject.org/data/lookups/CSV.header.historical.txt\", sep=\"\\t\"\n",
    "    )\n",
    "    df.columns = header.columns\n",
    "    return df"
   ]
  },
  {
   "cell_type": "code",
   "execution_count": 5,
   "id": "given-banner",
   "metadata": {
    "execution": {
     "iopub.execute_input": "2021-06-07T00:21:19.401326Z",
     "iopub.status.busy": "2021-06-07T00:21:19.400689Z",
     "iopub.status.idle": "2021-06-07T00:21:24.343049Z",
     "shell.execute_reply": "2021-06-07T00:21:24.342581Z"
    },
    "papermill": {
     "duration": 4.977122,
     "end_time": "2021-06-07T00:21:24.343167",
     "exception": false,
     "start_time": "2021-06-07T00:21:19.366045",
     "status": "completed"
    },
    "tags": []
   },
   "outputs": [
    {
     "name": "stderr",
     "output_type": "stream",
     "text": [
      "/home/ubuntu/anaconda3/envs/python3/lib/python3.6/site-packages/IPython/core/interactiveshell.py:3254: DtypeWarning: Columns (24) have mixed types.Specify dtype option on import or set low_memory=False.\n",
      "  if (await self.run_code(code, result,  async_=asy)):\n"
     ]
    },
    {
     "data": {
      "text/html": [
       "<div>\n",
       "<style scoped>\n",
       "    .dataframe tbody tr th:only-of-type {\n",
       "        vertical-align: middle;\n",
       "    }\n",
       "\n",
       "    .dataframe tbody tr th {\n",
       "        vertical-align: top;\n",
       "    }\n",
       "\n",
       "    .dataframe thead th {\n",
       "        text-align: right;\n",
       "    }\n",
       "</style>\n",
       "<table border=\"1\" class=\"dataframe\">\n",
       "  <thead>\n",
       "    <tr style=\"text-align: right;\">\n",
       "      <th></th>\n",
       "      <th>GLOBALEVENTID</th>\n",
       "      <th>SQLDATE</th>\n",
       "      <th>MonthYear</th>\n",
       "      <th>Year</th>\n",
       "      <th>FractionDate</th>\n",
       "      <th>Actor1Code</th>\n",
       "      <th>Actor1Name</th>\n",
       "      <th>Actor1CountryCode</th>\n",
       "      <th>Actor1KnownGroupCode</th>\n",
       "      <th>Actor1EthnicCode</th>\n",
       "      <th>...</th>\n",
       "      <th>Actor2Geo_Long</th>\n",
       "      <th>Actor2Geo_FeatureID</th>\n",
       "      <th>ActionGeo_Type</th>\n",
       "      <th>ActionGeo_FullName</th>\n",
       "      <th>ActionGeo_CountryCode</th>\n",
       "      <th>ActionGeo_ADM1Code</th>\n",
       "      <th>ActionGeo_Lat</th>\n",
       "      <th>ActionGeo_Long</th>\n",
       "      <th>ActionGeo_FeatureID</th>\n",
       "      <th>DATEADDED</th>\n",
       "    </tr>\n",
       "  </thead>\n",
       "  <tbody>\n",
       "    <tr>\n",
       "      <th>0</th>\n",
       "      <td>1</td>\n",
       "      <td>19790101</td>\n",
       "      <td>197901</td>\n",
       "      <td>1979</td>\n",
       "      <td>1979.0027</td>\n",
       "      <td>NaN</td>\n",
       "      <td>NaN</td>\n",
       "      <td>NaN</td>\n",
       "      <td>NaN</td>\n",
       "      <td>NaN</td>\n",
       "      <td>...</td>\n",
       "      <td>8.0000</td>\n",
       "      <td>0</td>\n",
       "      <td>1.0</td>\n",
       "      <td>Nigeria</td>\n",
       "      <td>NI</td>\n",
       "      <td>NI</td>\n",
       "      <td>10.0000</td>\n",
       "      <td>8.0000</td>\n",
       "      <td>0.0</td>\n",
       "      <td>20130203</td>\n",
       "    </tr>\n",
       "    <tr>\n",
       "      <th>1</th>\n",
       "      <td>2</td>\n",
       "      <td>19790101</td>\n",
       "      <td>197901</td>\n",
       "      <td>1979</td>\n",
       "      <td>1979.0027</td>\n",
       "      <td>NaN</td>\n",
       "      <td>NaN</td>\n",
       "      <td>NaN</td>\n",
       "      <td>NaN</td>\n",
       "      <td>NaN</td>\n",
       "      <td>...</td>\n",
       "      <td>8.0000</td>\n",
       "      <td>0</td>\n",
       "      <td>1.0</td>\n",
       "      <td>Nigeria</td>\n",
       "      <td>NI</td>\n",
       "      <td>NI</td>\n",
       "      <td>10.0000</td>\n",
       "      <td>8.0000</td>\n",
       "      <td>0.0</td>\n",
       "      <td>20130203</td>\n",
       "    </tr>\n",
       "    <tr>\n",
       "      <th>2</th>\n",
       "      <td>3</td>\n",
       "      <td>19790101</td>\n",
       "      <td>197901</td>\n",
       "      <td>1979</td>\n",
       "      <td>1979.0027</td>\n",
       "      <td>NaN</td>\n",
       "      <td>NaN</td>\n",
       "      <td>NaN</td>\n",
       "      <td>NaN</td>\n",
       "      <td>NaN</td>\n",
       "      <td>...</td>\n",
       "      <td>106.3590</td>\n",
       "      <td>-1903584</td>\n",
       "      <td>4.0</td>\n",
       "      <td>Dizhou, Guangxi, China</td>\n",
       "      <td>CH</td>\n",
       "      <td>CH16</td>\n",
       "      <td>23.0036</td>\n",
       "      <td>106.3590</td>\n",
       "      <td>-1903584.0</td>\n",
       "      <td>20130203</td>\n",
       "    </tr>\n",
       "    <tr>\n",
       "      <th>3</th>\n",
       "      <td>4</td>\n",
       "      <td>19790101</td>\n",
       "      <td>197901</td>\n",
       "      <td>1979</td>\n",
       "      <td>1979.0027</td>\n",
       "      <td>NaN</td>\n",
       "      <td>NaN</td>\n",
       "      <td>NaN</td>\n",
       "      <td>NaN</td>\n",
       "      <td>NaN</td>\n",
       "      <td>...</td>\n",
       "      <td>-96.8067</td>\n",
       "      <td>1380944</td>\n",
       "      <td>3.0</td>\n",
       "      <td>Dallas, Texas, United States</td>\n",
       "      <td>US</td>\n",
       "      <td>USTX</td>\n",
       "      <td>32.7831</td>\n",
       "      <td>-96.8067</td>\n",
       "      <td>1380944.0</td>\n",
       "      <td>20130203</td>\n",
       "    </tr>\n",
       "    <tr>\n",
       "      <th>4</th>\n",
       "      <td>5</td>\n",
       "      <td>19790101</td>\n",
       "      <td>197901</td>\n",
       "      <td>1979</td>\n",
       "      <td>1979.0027</td>\n",
       "      <td>NaN</td>\n",
       "      <td>NaN</td>\n",
       "      <td>NaN</td>\n",
       "      <td>NaN</td>\n",
       "      <td>NaN</td>\n",
       "      <td>...</td>\n",
       "      <td>34.6809</td>\n",
       "      <td>-779676</td>\n",
       "      <td>4.0</td>\n",
       "      <td>Emunim, HaDarom, Israel</td>\n",
       "      <td>IS</td>\n",
       "      <td>IS01</td>\n",
       "      <td>31.7444</td>\n",
       "      <td>34.6809</td>\n",
       "      <td>-779676.0</td>\n",
       "      <td>20130203</td>\n",
       "    </tr>\n",
       "    <tr>\n",
       "      <th>...</th>\n",
       "      <td>...</td>\n",
       "      <td>...</td>\n",
       "      <td>...</td>\n",
       "      <td>...</td>\n",
       "      <td>...</td>\n",
       "      <td>...</td>\n",
       "      <td>...</td>\n",
       "      <td>...</td>\n",
       "      <td>...</td>\n",
       "      <td>...</td>\n",
       "      <td>...</td>\n",
       "      <td>...</td>\n",
       "      <td>...</td>\n",
       "      <td>...</td>\n",
       "      <td>...</td>\n",
       "      <td>...</td>\n",
       "      <td>...</td>\n",
       "      <td>...</td>\n",
       "      <td>...</td>\n",
       "      <td>...</td>\n",
       "      <td>...</td>\n",
       "    </tr>\n",
       "    <tr>\n",
       "      <th>430935</th>\n",
       "      <td>230397975</td>\n",
       "      <td>19791231</td>\n",
       "      <td>197912</td>\n",
       "      <td>1979</td>\n",
       "      <td>1979.9890</td>\n",
       "      <td>USA</td>\n",
       "      <td>UNITED STATES</td>\n",
       "      <td>USA</td>\n",
       "      <td>NaN</td>\n",
       "      <td>NaN</td>\n",
       "      <td>...</td>\n",
       "      <td>51.5148</td>\n",
       "      <td>10074674</td>\n",
       "      <td>4.0</td>\n",
       "      <td>Tehran, Tehran, Iran</td>\n",
       "      <td>IR</td>\n",
       "      <td>IR26</td>\n",
       "      <td>35.7500</td>\n",
       "      <td>51.5148</td>\n",
       "      <td>10074674.0</td>\n",
       "      <td>20130206</td>\n",
       "    </tr>\n",
       "    <tr>\n",
       "      <th>430936</th>\n",
       "      <td>230397976</td>\n",
       "      <td>19791231</td>\n",
       "      <td>197912</td>\n",
       "      <td>1979</td>\n",
       "      <td>1979.9890</td>\n",
       "      <td>USA</td>\n",
       "      <td>UNITED STATES</td>\n",
       "      <td>USA</td>\n",
       "      <td>NaN</td>\n",
       "      <td>NaN</td>\n",
       "      <td>...</td>\n",
       "      <td>51.5148</td>\n",
       "      <td>10074674</td>\n",
       "      <td>4.0</td>\n",
       "      <td>Tehran, Tehran, Iran</td>\n",
       "      <td>IR</td>\n",
       "      <td>IR26</td>\n",
       "      <td>35.7500</td>\n",
       "      <td>51.5148</td>\n",
       "      <td>10074674.0</td>\n",
       "      <td>20130206</td>\n",
       "    </tr>\n",
       "    <tr>\n",
       "      <th>430937</th>\n",
       "      <td>230397977</td>\n",
       "      <td>19791231</td>\n",
       "      <td>197912</td>\n",
       "      <td>1979</td>\n",
       "      <td>1979.9890</td>\n",
       "      <td>USA</td>\n",
       "      <td>WASHINGTON</td>\n",
       "      <td>USA</td>\n",
       "      <td>NaN</td>\n",
       "      <td>NaN</td>\n",
       "      <td>...</td>\n",
       "      <td>65.0000</td>\n",
       "      <td>-2089022</td>\n",
       "      <td>4.0</td>\n",
       "      <td>Moscow, Moskva, Russia</td>\n",
       "      <td>RS</td>\n",
       "      <td>RS48</td>\n",
       "      <td>55.7522</td>\n",
       "      <td>37.6156</td>\n",
       "      <td>-2960561.0</td>\n",
       "      <td>20130206</td>\n",
       "    </tr>\n",
       "    <tr>\n",
       "      <th>430938</th>\n",
       "      <td>230397978</td>\n",
       "      <td>19791231</td>\n",
       "      <td>197912</td>\n",
       "      <td>1979</td>\n",
       "      <td>1979.9890</td>\n",
       "      <td>VNM</td>\n",
       "      <td>VIETNAM</td>\n",
       "      <td>VNM</td>\n",
       "      <td>NaN</td>\n",
       "      <td>NaN</td>\n",
       "      <td>...</td>\n",
       "      <td>0.0000</td>\n",
       "      <td>0</td>\n",
       "      <td>1.0</td>\n",
       "      <td>France</td>\n",
       "      <td>FR</td>\n",
       "      <td>FR</td>\n",
       "      <td>46.0000</td>\n",
       "      <td>2.0000</td>\n",
       "      <td>0.0</td>\n",
       "      <td>20130206</td>\n",
       "    </tr>\n",
       "    <tr>\n",
       "      <th>430939</th>\n",
       "      <td>230397979</td>\n",
       "      <td>19791231</td>\n",
       "      <td>197912</td>\n",
       "      <td>1979</td>\n",
       "      <td>1979.9890</td>\n",
       "      <td>VNM</td>\n",
       "      <td>VIETNAMESE</td>\n",
       "      <td>VNM</td>\n",
       "      <td>NaN</td>\n",
       "      <td>NaN</td>\n",
       "      <td>...</td>\n",
       "      <td>0.0000</td>\n",
       "      <td>0</td>\n",
       "      <td>1.0</td>\n",
       "      <td>Vietnam, Republic Of</td>\n",
       "      <td>VM</td>\n",
       "      <td>VM</td>\n",
       "      <td>16.0000</td>\n",
       "      <td>106.0000</td>\n",
       "      <td>0.0</td>\n",
       "      <td>20130206</td>\n",
       "    </tr>\n",
       "  </tbody>\n",
       "</table>\n",
       "<p>430940 rows × 57 columns</p>\n",
       "</div>"
      ],
      "text/plain": [
       "        GLOBALEVENTID   SQLDATE  MonthYear  Year  FractionDate Actor1Code  \\\n",
       "0                   1  19790101     197901  1979     1979.0027        NaN   \n",
       "1                   2  19790101     197901  1979     1979.0027        NaN   \n",
       "2                   3  19790101     197901  1979     1979.0027        NaN   \n",
       "3                   4  19790101     197901  1979     1979.0027        NaN   \n",
       "4                   5  19790101     197901  1979     1979.0027        NaN   \n",
       "...               ...       ...        ...   ...           ...        ...   \n",
       "430935      230397975  19791231     197912  1979     1979.9890        USA   \n",
       "430936      230397976  19791231     197912  1979     1979.9890        USA   \n",
       "430937      230397977  19791231     197912  1979     1979.9890        USA   \n",
       "430938      230397978  19791231     197912  1979     1979.9890        VNM   \n",
       "430939      230397979  19791231     197912  1979     1979.9890        VNM   \n",
       "\n",
       "           Actor1Name Actor1CountryCode Actor1KnownGroupCode Actor1EthnicCode  \\\n",
       "0                 NaN               NaN                  NaN              NaN   \n",
       "1                 NaN               NaN                  NaN              NaN   \n",
       "2                 NaN               NaN                  NaN              NaN   \n",
       "3                 NaN               NaN                  NaN              NaN   \n",
       "4                 NaN               NaN                  NaN              NaN   \n",
       "...               ...               ...                  ...              ...   \n",
       "430935  UNITED STATES               USA                  NaN              NaN   \n",
       "430936  UNITED STATES               USA                  NaN              NaN   \n",
       "430937     WASHINGTON               USA                  NaN              NaN   \n",
       "430938        VIETNAM               VNM                  NaN              NaN   \n",
       "430939     VIETNAMESE               VNM                  NaN              NaN   \n",
       "\n",
       "        ... Actor2Geo_Long Actor2Geo_FeatureID ActionGeo_Type  \\\n",
       "0       ...         8.0000                   0            1.0   \n",
       "1       ...         8.0000                   0            1.0   \n",
       "2       ...       106.3590            -1903584            4.0   \n",
       "3       ...       -96.8067             1380944            3.0   \n",
       "4       ...        34.6809             -779676            4.0   \n",
       "...     ...            ...                 ...            ...   \n",
       "430935  ...        51.5148            10074674            4.0   \n",
       "430936  ...        51.5148            10074674            4.0   \n",
       "430937  ...        65.0000            -2089022            4.0   \n",
       "430938  ...         0.0000                   0            1.0   \n",
       "430939  ...         0.0000                   0            1.0   \n",
       "\n",
       "                  ActionGeo_FullName ActionGeo_CountryCode ActionGeo_ADM1Code  \\\n",
       "0                            Nigeria                    NI                 NI   \n",
       "1                            Nigeria                    NI                 NI   \n",
       "2             Dizhou, Guangxi, China                    CH               CH16   \n",
       "3       Dallas, Texas, United States                    US               USTX   \n",
       "4            Emunim, HaDarom, Israel                    IS               IS01   \n",
       "...                              ...                   ...                ...   \n",
       "430935          Tehran, Tehran, Iran                    IR               IR26   \n",
       "430936          Tehran, Tehran, Iran                    IR               IR26   \n",
       "430937        Moscow, Moskva, Russia                    RS               RS48   \n",
       "430938                        France                    FR                 FR   \n",
       "430939          Vietnam, Republic Of                    VM                 VM   \n",
       "\n",
       "       ActionGeo_Lat ActionGeo_Long ActionGeo_FeatureID DATEADDED  \n",
       "0            10.0000         8.0000                 0.0  20130203  \n",
       "1            10.0000         8.0000                 0.0  20130203  \n",
       "2            23.0036       106.3590          -1903584.0  20130203  \n",
       "3            32.7831       -96.8067           1380944.0  20130203  \n",
       "4            31.7444        34.6809           -779676.0  20130203  \n",
       "...              ...            ...                 ...       ...  \n",
       "430935       35.7500        51.5148          10074674.0  20130206  \n",
       "430936       35.7500        51.5148          10074674.0  20130206  \n",
       "430937       55.7522        37.6156          -2960561.0  20130206  \n",
       "430938       46.0000         2.0000                 0.0  20130206  \n",
       "430939       16.0000       106.0000                 0.0  20130206  \n",
       "\n",
       "[430940 rows x 57 columns]"
      ]
     },
     "execution_count": 5,
     "metadata": {},
     "output_type": "execute_result"
    }
   ],
   "source": [
    "data = get_gdelt(\"1979.csv\")\n",
    "data"
   ]
  },
  {
   "cell_type": "markdown",
   "id": "republican-wrong",
   "metadata": {
    "papermill": {
     "duration": 0.020006,
     "end_time": "2021-06-07T00:21:24.383865",
     "exception": false,
     "start_time": "2021-06-07T00:21:24.363859",
     "status": "completed"
    },
    "tags": []
   },
   "source": [
    "As we can see, there are 57 columns, some of which are sparsely populated, cryptically named, and in a format that's not particularly friendly for machine learning.  So, for our use case, we'll strip down to a few core attributes.  We'll use:\n",
    "\n",
    "- `EventCode`: This is the raw CAMEO action code describing the action that Actor1 performed upon Actor2.  More detail can be found [here](https://www.gdeltproject.org/data/documentation/CAMEO.Manual.1.1b3.pdf)\n",
    "- `NumArticles`:  This is the total number of source documents containing one or more mentions of this event. This can be used as a method of assessing the “importance” of an event; the more discussion of that event, the more likely it is to be significant\n",
    "- `AvgTone`: This is the average “tone” of all documents containing one or more mentions of this event. The score ranges from -100 (extremely negative) to +100 (extremely positive). Common values range between -10 and +10, with 0 indicating neutral.\n",
    "- `Actor1Geo_Lat`: This is the centroid latitude of the Actor1 landmark for mapping.\n",
    "- `Actor1Geo_Long`: This is the centroid longitude of the Actor1 landmark for mapping.\n",
    "- `Actor2Geo_Lat`: This is the centroid latitude of the Actor2 landmark for mapping.\n",
    "- `Actor2Geo_Long`: This is the centroid longitude of the Actor2 landmark for mapping."
   ]
  },
  {
   "cell_type": "code",
   "execution_count": 6,
   "id": "representative-studio",
   "metadata": {
    "execution": {
     "iopub.execute_input": "2021-06-07T00:21:24.438131Z",
     "iopub.status.busy": "2021-06-07T00:21:24.437658Z",
     "iopub.status.idle": "2021-06-07T00:21:25.575831Z",
     "shell.execute_reply": "2021-06-07T00:21:25.576207Z"
    },
    "papermill": {
     "duration": 1.172614,
     "end_time": "2021-06-07T00:21:25.576365",
     "exception": false,
     "start_time": "2021-06-07T00:21:24.403751",
     "status": "completed"
    },
    "tags": []
   },
   "outputs": [
    {
     "name": "stderr",
     "output_type": "stream",
     "text": [
      "/home/ubuntu/anaconda3/envs/python3/lib/python3.6/site-packages/ipykernel/__main__.py:12: SettingWithCopyWarning: \n",
      "A value is trying to be set on a copy of a slice from a DataFrame.\n",
      "Try using .loc[row_indexer,col_indexer] = value instead\n",
      "\n",
      "See the caveats in the documentation: https://pandas.pydata.org/pandas-docs/stable/user_guide/indexing.html#returning-a-view-versus-a-copy\n"
     ]
    },
    {
     "data": {
      "text/html": [
       "<div>\n",
       "<style scoped>\n",
       "    .dataframe tbody tr th:only-of-type {\n",
       "        vertical-align: middle;\n",
       "    }\n",
       "\n",
       "    .dataframe tbody tr th {\n",
       "        vertical-align: top;\n",
       "    }\n",
       "\n",
       "    .dataframe thead th {\n",
       "        text-align: right;\n",
       "    }\n",
       "</style>\n",
       "<table border=\"1\" class=\"dataframe\">\n",
       "  <thead>\n",
       "    <tr style=\"text-align: right;\">\n",
       "      <th>col_0</th>\n",
       "      <th>% observations</th>\n",
       "    </tr>\n",
       "    <tr>\n",
       "      <th>EventCode</th>\n",
       "      <th></th>\n",
       "    </tr>\n",
       "  </thead>\n",
       "  <tbody>\n",
       "    <tr>\n",
       "      <th>10</th>\n",
       "      <td>0.060275</td>\n",
       "    </tr>\n",
       "    <tr>\n",
       "      <th>11</th>\n",
       "      <td>0.001703</td>\n",
       "    </tr>\n",
       "    <tr>\n",
       "      <th>12</th>\n",
       "      <td>0.013786</td>\n",
       "    </tr>\n",
       "    <tr>\n",
       "      <th>13</th>\n",
       "      <td>0.014074</td>\n",
       "    </tr>\n",
       "    <tr>\n",
       "      <th>14</th>\n",
       "      <td>0.006790</td>\n",
       "    </tr>\n",
       "    <tr>\n",
       "      <th>...</th>\n",
       "      <td>...</td>\n",
       "    </tr>\n",
       "    <tr>\n",
       "      <th>1821</th>\n",
       "      <td>0.000223</td>\n",
       "    </tr>\n",
       "    <tr>\n",
       "      <th>1822</th>\n",
       "      <td>0.000601</td>\n",
       "    </tr>\n",
       "    <tr>\n",
       "      <th>1823</th>\n",
       "      <td>0.000079</td>\n",
       "    </tr>\n",
       "    <tr>\n",
       "      <th>1831</th>\n",
       "      <td>0.000012</td>\n",
       "    </tr>\n",
       "    <tr>\n",
       "      <th>1832</th>\n",
       "      <td>0.000067</td>\n",
       "    </tr>\n",
       "  </tbody>\n",
       "</table>\n",
       "<p>220 rows × 1 columns</p>\n",
       "</div>"
      ],
      "text/plain": [
       "col_0      % observations\n",
       "EventCode                \n",
       "10               0.060275\n",
       "11               0.001703\n",
       "12               0.013786\n",
       "13               0.014074\n",
       "14               0.006790\n",
       "...                   ...\n",
       "1821             0.000223\n",
       "1822             0.000601\n",
       "1823             0.000079\n",
       "1831             0.000012\n",
       "1832             0.000067\n",
       "\n",
       "[220 rows x 1 columns]"
      ]
     },
     "metadata": {},
     "output_type": "display_data"
    },
    {
     "data": {
      "text/html": [
       "<div>\n",
       "<style scoped>\n",
       "    .dataframe tbody tr th:only-of-type {\n",
       "        vertical-align: middle;\n",
       "    }\n",
       "\n",
       "    .dataframe tbody tr th {\n",
       "        vertical-align: top;\n",
       "    }\n",
       "\n",
       "    .dataframe thead th {\n",
       "        text-align: right;\n",
       "    }\n",
       "</style>\n",
       "<table border=\"1\" class=\"dataframe\">\n",
       "  <thead>\n",
       "    <tr style=\"text-align: right;\">\n",
       "      <th></th>\n",
       "      <th>NumArticles</th>\n",
       "      <th>AvgTone</th>\n",
       "      <th>Actor1Geo_Lat</th>\n",
       "      <th>Actor1Geo_Long</th>\n",
       "      <th>Actor2Geo_Lat</th>\n",
       "      <th>Actor2Geo_Long</th>\n",
       "    </tr>\n",
       "  </thead>\n",
       "  <tbody>\n",
       "    <tr>\n",
       "      <th>count</th>\n",
       "      <td>430940.000000</td>\n",
       "      <td>430940.000000</td>\n",
       "      <td>430940.000000</td>\n",
       "      <td>430940.000000</td>\n",
       "      <td>430940.000000</td>\n",
       "      <td>430940.000000</td>\n",
       "    </tr>\n",
       "    <tr>\n",
       "      <th>mean</th>\n",
       "      <td>4.369694</td>\n",
       "      <td>5.127215</td>\n",
       "      <td>26.311911</td>\n",
       "      <td>26.111038</td>\n",
       "      <td>23.109048</td>\n",
       "      <td>23.637813</td>\n",
       "    </tr>\n",
       "    <tr>\n",
       "      <th>std</th>\n",
       "      <td>3.121310</td>\n",
       "      <td>2.637798</td>\n",
       "      <td>21.865323</td>\n",
       "      <td>61.125843</td>\n",
       "      <td>22.136466</td>\n",
       "      <td>57.693612</td>\n",
       "    </tr>\n",
       "    <tr>\n",
       "      <th>min</th>\n",
       "      <td>1.000000</td>\n",
       "      <td>0.000000</td>\n",
       "      <td>-85.622100</td>\n",
       "      <td>-179.050000</td>\n",
       "      <td>-85.622100</td>\n",
       "      <td>-179.050000</td>\n",
       "    </tr>\n",
       "    <tr>\n",
       "      <th>25%</th>\n",
       "      <td>2.000000</td>\n",
       "      <td>3.333333</td>\n",
       "      <td>10.000000</td>\n",
       "      <td>0.000000</td>\n",
       "      <td>0.000000</td>\n",
       "      <td>0.000000</td>\n",
       "    </tr>\n",
       "    <tr>\n",
       "      <th>50%</th>\n",
       "      <td>4.000000</td>\n",
       "      <td>5.000000</td>\n",
       "      <td>32.000000</td>\n",
       "      <td>28.229400</td>\n",
       "      <td>30.044500</td>\n",
       "      <td>19.500000</td>\n",
       "    </tr>\n",
       "    <tr>\n",
       "      <th>75%</th>\n",
       "      <td>6.000000</td>\n",
       "      <td>6.666667</td>\n",
       "      <td>40.400000</td>\n",
       "      <td>53.000000</td>\n",
       "      <td>39.928900</td>\n",
       "      <td>50.093800</td>\n",
       "    </tr>\n",
       "    <tr>\n",
       "      <th>max</th>\n",
       "      <td>54.000000</td>\n",
       "      <td>28.571429</td>\n",
       "      <td>85.000000</td>\n",
       "      <td>180.000000</td>\n",
       "      <td>85.000000</td>\n",
       "      <td>180.000000</td>\n",
       "    </tr>\n",
       "  </tbody>\n",
       "</table>\n",
       "</div>"
      ],
      "text/plain": [
       "         NumArticles        AvgTone  Actor1Geo_Lat  Actor1Geo_Long  \\\n",
       "count  430940.000000  430940.000000  430940.000000   430940.000000   \n",
       "mean        4.369694       5.127215      26.311911       26.111038   \n",
       "std         3.121310       2.637798      21.865323       61.125843   \n",
       "min         1.000000       0.000000     -85.622100     -179.050000   \n",
       "25%         2.000000       3.333333      10.000000        0.000000   \n",
       "50%         4.000000       5.000000      32.000000       28.229400   \n",
       "75%         6.000000       6.666667      40.400000       53.000000   \n",
       "max        54.000000      28.571429      85.000000      180.000000   \n",
       "\n",
       "       Actor2Geo_Lat  Actor2Geo_Long  \n",
       "count  430940.000000   430940.000000  \n",
       "mean       23.109048       23.637813  \n",
       "std        22.136466       57.693612  \n",
       "min       -85.622100     -179.050000  \n",
       "25%         0.000000        0.000000  \n",
       "50%        30.044500       19.500000  \n",
       "75%        39.928900       50.093800  \n",
       "max        85.000000      180.000000  "
      ]
     },
     "metadata": {},
     "output_type": "display_data"
    },
    {
     "data": {
      "image/png": "[encoded data removed]",
      "text/plain": [
       "<Figure size 720x720 with 6 Axes>"
      ]
     },
     "metadata": {
      "needs_background": "light"
     },
     "output_type": "display_data"
    }
   ],
   "source": [
    "data = data[\n",
    "    [\n",
    "        \"EventCode\",\n",
    "        \"NumArticles\",\n",
    "        \"AvgTone\",\n",
    "        \"Actor1Geo_Lat\",\n",
    "        \"Actor1Geo_Long\",\n",
    "        \"Actor2Geo_Lat\",\n",
    "        \"Actor2Geo_Long\",\n",
    "    ]\n",
    "]\n",
    "data[\"EventCode\"] = data[\"EventCode\"].astype(object)\n",
    "\n",
    "for column in data.select_dtypes(include=[\"object\"]).columns:\n",
    "    display(pd.crosstab(index=data[column], columns=\"% observations\", normalize=\"columns\"))\n",
    "\n",
    "display(data.describe())\n",
    "hist = data.hist(bins=30, sharey=True, figsize=(10, 10))\n",
    "plt.show()"
   ]
  },
  {
   "cell_type": "markdown",
   "id": "checked-traffic",
   "metadata": {
    "papermill": {
     "duration": 0.021952,
     "end_time": "2021-06-07T00:21:25.621197",
     "exception": false,
     "start_time": "2021-06-07T00:21:25.599245",
     "status": "completed"
    },
    "tags": []
   },
   "source": [
    "We can see:\n",
    "- `EventCode` is pretty unevenly distributed, with some events making up 7%+ of the observations and others being a thousandth of a percent.\n",
    "- `AvgTone` seems to be reasonably smoothly distributed, while `NumArticles` has a long tail, and `Actor` geo features have suspiciously large spikes near 0.\n",
    "\n",
    "Let's remove the (0, 0) lat-longs, one hot encode `EventCode`, and prepare our data for a machine learning model.  For this example we'll keep things straightforward and try to predict `AvgTone`, using the other variables in our dataset as features.\n",
    "\n",
    "One more issue remains.  As we noticed above, some occurrences of `EventCode` are very rare, and may be unlikely to occur in every single year.  This means if we one hot encode individual years at a time, our feature matrix may change shape over the years, which will not work.  Therefore, we'll limit all years to the most common `EventCodes` from the year we current have.  Let's get this list."
   ]
  },
  {
   "cell_type": "code",
   "execution_count": 7,
   "id": "composite-catering",
   "metadata": {
    "execution": {
     "iopub.execute_input": "2021-06-07T00:21:25.668621Z",
     "iopub.status.busy": "2021-06-07T00:21:25.668197Z",
     "iopub.status.idle": "2021-06-07T00:21:25.735814Z",
     "shell.execute_reply": "2021-06-07T00:21:25.736179Z"
    },
    "papermill": {
     "duration": 0.09326,
     "end_time": "2021-06-07T00:21:25.736315",
     "exception": false,
     "start_time": "2021-06-07T00:21:25.643055",
     "status": "completed"
    },
    "tags": []
   },
   "outputs": [],
   "source": [
    "events = (\n",
    "    pd.crosstab(index=data[\"EventCode\"], columns=\"count\")\n",
    "    .sort_values(by=\"count\", ascending=False)\n",
    "    .index[:20]\n",
    ")"
   ]
  },
  {
   "cell_type": "markdown",
   "id": "intermediate-israeli",
   "metadata": {
    "papermill": {
     "duration": 0.021971,
     "end_time": "2021-06-07T00:21:25.780537",
     "exception": false,
     "start_time": "2021-06-07T00:21:25.758566",
     "status": "completed"
    },
    "tags": []
   },
   "source": [
    "### Scaling\n",
    "\n",
    "Now that we've explored our data and are ready to prepare for modeling, we can start developing a few simple functions to help us scale this to GDELT datasets from other years."
   ]
  },
  {
   "cell_type": "code",
   "execution_count": 8,
   "id": "monetary-malta",
   "metadata": {
    "execution": {
     "iopub.execute_input": "2021-06-07T00:21:25.834255Z",
     "iopub.status.busy": "2021-06-07T00:21:25.833715Z",
     "iopub.status.idle": "2021-06-07T00:21:25.835991Z",
     "shell.execute_reply": "2021-06-07T00:21:25.835551Z"
    },
    "papermill": {
     "duration": 0.033594,
     "end_time": "2021-06-07T00:21:25.836088",
     "exception": false,
     "start_time": "2021-06-07T00:21:25.802494",
     "status": "completed"
    },
    "tags": []
   },
   "outputs": [],
   "source": [
    "def write_to_s3(bucket, prefix, channel, file_prefix, X, y):\n",
    "    buf = io.BytesIO()\n",
    "    smac.write_numpy_to_dense_tensor(buf, X.astype(\"float32\"), y.astype(\"float32\"))\n",
    "    buf.seek(0)\n",
    "    boto3.Session().resource(\"s3\").Bucket(bucket).Object(\n",
    "        os.path.join(prefix, channel, file_prefix + \".data\")\n",
    "    ).upload_fileobj(buf)\n",
    "\n",
    "\n",
    "def transform_gdelt(df, events=None):\n",
    "    df = df[\n",
    "        [\n",
    "            \"AvgTone\",\n",
    "            \"EventCode\",\n",
    "            \"NumArticles\",\n",
    "            \"Actor1Geo_Lat\",\n",
    "            \"Actor1Geo_Long\",\n",
    "            \"Actor2Geo_Lat\",\n",
    "            \"Actor2Geo_Long\",\n",
    "        ]\n",
    "    ]\n",
    "    df[\"EventCode\"] = df[\"EventCode\"].astype(object)\n",
    "    if events is not None:\n",
    "        df = df[np.in1d(df[\"EventCode\"], events)]\n",
    "    return pd.get_dummies(\n",
    "        df[\n",
    "            ((df[\"Actor1Geo_Lat\"] == 0) & (df[\"Actor1Geo_Long\"] == 0) != True)\n",
    "            & ((df[\"Actor2Geo_Lat\"] == 0) & (df[\"Actor2Geo_Long\"] == 0) != True)\n",
    "        ]\n",
    "    )\n",
    "\n",
    "\n",
    "def prepare_gdelt(bucket, prefix, file_prefix, events=None, random_state=1729):\n",
    "    df = get_gdelt(file_prefix + \".csv\")\n",
    "    model_data = transform_gdelt(df, events)\n",
    "    train_data, validation_data = np.split(\n",
    "        model_data.sample(frac=1, random_state=random_state).to_numpy(),\n",
    "        [int(0.9 * len(model_data))],\n",
    "    )\n",
    "    write_to_s3(bucket, prefix, \"train\", file_prefix, train_data[:, 1:], train_data[:, 0])\n",
    "    write_to_s3(\n",
    "        bucket, prefix, \"validation\", file_prefix, validation_data[:, 1:], validation_data[:, 0]\n",
    "    )"
   ]
  },
  {
   "cell_type": "code",
   "execution_count": 9,
   "id": "capital-sudan",
   "metadata": {
    "execution": {
     "iopub.execute_input": "2021-06-07T00:21:25.890383Z",
     "iopub.status.busy": "2021-06-07T00:21:25.889958Z",
     "iopub.status.idle": "2021-06-07T00:21:34.408832Z",
     "shell.execute_reply": "2021-06-07T00:21:34.408342Z"
    },
    "papermill": {
     "duration": 8.550805,
     "end_time": "2021-06-07T00:21:34.409022",
     "exception": true,
     "start_time": "2021-06-07T00:21:25.858217",
     "status": "failed"
    },
    "tags": []
   },
   "outputs": [
    {
     "name": "stderr",
     "output_type": "stream",
     "text": [
      "/home/ubuntu/anaconda3/envs/python3/lib/python3.6/site-packages/IPython/core/interactiveshell.py:3331: DtypeWarning: Columns (24) have mixed types.Specify dtype option on import or set low_memory=False.\n",
      "  exec(code_obj, self.user_global_ns, self.user_ns)\n",
      "/home/ubuntu/anaconda3/envs/python3/lib/python3.6/site-packages/ipykernel/__main__.py:22: SettingWithCopyWarning: \n",
      "A value is trying to be set on a copy of a slice from a DataFrame.\n",
      "Try using .loc[row_indexer,col_indexer] = value instead\n",
      "\n",
      "See the caveats in the documentation: https://pandas.pydata.org/pandas-docs/stable/user_guide/indexing.html#returning-a-view-versus-a-copy\n",
      "/home/ubuntu/anaconda3/envs/python3/lib/python3.6/site-packages/ipykernel/__main__.py:22: SettingWithCopyWarning: \n",
      "A value is trying to be set on a copy of a slice from a DataFrame.\n",
      "Try using .loc[row_indexer,col_indexer] = value instead\n",
      "\n",
      "See the caveats in the documentation: https://pandas.pydata.org/pandas-docs/stable/user_guide/indexing.html#returning-a-view-versus-a-copy\n",
      "/home/ubuntu/anaconda3/envs/python3/lib/python3.6/site-packages/ipykernel/__main__.py:22: SettingWithCopyWarning: \n",
      "A value is trying to be set on a copy of a slice from a DataFrame.\n",
      "Try using .loc[row_indexer,col_indexer] = value instead\n",
      "\n",
      "See the caveats in the documentation: https://pandas.pydata.org/pandas-docs/stable/user_guide/indexing.html#returning-a-view-versus-a-copy\n",
      "/home/ubuntu/anaconda3/envs/python3/lib/python3.6/site-packages/ipykernel/__main__.py:22: SettingWithCopyWarning: \n",
      "A value is trying to be set on a copy of a slice from a DataFrame.\n",
      "Try using .loc[row_indexer,col_indexer] = value instead\n",
      "\n",
      "See the caveats in the documentation: https://pandas.pydata.org/pandas-docs/stable/user_guide/indexing.html#returning-a-view-versus-a-copy\n",
      "/home/ubuntu/anaconda3/envs/python3/lib/python3.6/site-packages/ipykernel/__main__.py:22: SettingWithCopyWarning: \n",
      "A value is trying to be set on a copy of a slice from a DataFrame.\n",
      "Try using .loc[row_indexer,col_indexer] = value instead\n",
      "\n",
      "See the caveats in the documentation: https://pandas.pydata.org/pandas-docs/stable/user_guide/indexing.html#returning-a-view-versus-a-copy\n"
     ]
    }
   ],
   "source": [
    "for year in range(1979, 1984):\n",
    "    prepare_gdelt(bucket, prefix, str(year), events)"
   ]
  },
  {
   "cell_type": "markdown",
   "id": "suited-services",
   "metadata": {
    "papermill": {
     "duration": null,
     "end_time": null,
     "exception": null,
     "start_time": null,
     "status": "pending"
    },
    "tags": []
   },
   "source": [
    "---\n",
    "\n",
    "## Train\n",
    "\n",
    "Now that we have our data in S3, we can begin training.  We'll use Amazon SageMaker's linear regression algorithm, and will actually fit two models in order to properly compare data distribution types:\n",
    "1. In the first job, we'll use FullyReplicated for our `train` channel.  This will pass every file in our input S3 location to every machine (in this case we're using 5 machines). \n",
    "1. While in the second job, we'll use ShardedByS3Key for the `train` channel (note that we'll keep `FullyReplicated` for the validation channel.  So, for the training data, we'll pass each S3 object to a separate machine.  Since we have 5 files (one for each year), we'll train on 5 machines, meaning each machine will get a year's worth of records.\n",
    "\n",
    "First let's setup a list of training parameters which are common across the two jobs."
   ]
  },
  {
   "cell_type": "code",
   "execution_count": null,
   "id": "earned-knife",
   "metadata": {
    "papermill": {
     "duration": null,
     "end_time": null,
     "exception": null,
     "start_time": null,
     "status": "pending"
    },
    "tags": []
   },
   "outputs": [],
   "source": [
    "from sagemaker.image_uris import retrieve\n",
    "\n",
    "container = retrieve(\"linear-learner\", boto3.Session().region_name,)"
   ]
  },
  {
   "cell_type": "code",
   "execution_count": 11,
   "id": "hybrid-storm",
   "metadata": {
    "papermill": {
     "duration": null,
     "end_time": null,
     "exception": null,
     "start_time": null,
     "status": "pending"
    },
    "tags": []
   },
   "outputs": [],
   "source": [
    "common_training_params = {\n",
    "    \"RoleArn\": role,\n",
    "    \"AlgorithmSpecification\": {\"TrainingImage\": container, \"TrainingInputMode\": \"File\"},\n",
    "    \"ResourceConfig\": {\"InstanceCount\": 5, \"InstanceType\": \"ml.c4.2xlarge\", \"VolumeSizeInGB\": 10},\n",
    "    \"InputDataConfig\": [\n",
    "        {\n",
    "            \"ChannelName\": \"train\",\n",
    "            \"DataSource\": {\n",
    "                \"S3DataSource\": {\n",
    "                    \"S3DataType\": \"S3Prefix\",\n",
    "                    \"S3Uri\": \"s3://{}/{}/train/\".format(bucket, prefix),\n",
    "                }\n",
    "            },\n",
    "            \"CompressionType\": \"None\",\n",
    "            \"RecordWrapperType\": \"None\",\n",
    "        },\n",
    "        {\n",
    "            \"ChannelName\": \"validation\",\n",
    "            \"DataSource\": {\n",
    "                \"S3DataSource\": {\n",
    "                    \"S3DataType\": \"S3Prefix\",\n",
    "                    \"S3Uri\": \"s3://{}/{}/validation/\".format(bucket, prefix),\n",
    "                    \"S3DataDistributionType\": \"FullyReplicated\",\n",
    "                }\n",
    "            },\n",
    "            \"CompressionType\": \"None\",\n",
    "            \"RecordWrapperType\": \"None\",\n",
    "        },\n",
    "    ],\n",
    "    \"OutputDataConfig\": {\"S3OutputPath\": \"s3://{}/{}/\".format(bucket, prefix)},\n",
    "    \"HyperParameters\": {\n",
    "        \"feature_dim\": \"25\",\n",
    "        \"mini_batch_size\": \"500\",\n",
    "        \"predictor_type\": \"regressor\",\n",
    "        \"epochs\": \"2\",\n",
    "        \"num_models\": \"32\",\n",
    "        \"loss\": \"absolute_loss\",\n",
    "    },\n",
    "    \"StoppingCondition\": {\"MaxRuntimeInSeconds\": 60 * 60},\n",
    "}"
   ]
  },
  {
   "cell_type": "markdown",
   "id": "informative-undergraduate",
   "metadata": {
    "papermill": {
     "duration": null,
     "end_time": null,
     "exception": null,
     "start_time": null,
     "status": "pending"
    },
    "tags": []
   },
   "source": [
    "Now we'll create two separate jobs, updating the parameters that are unique to each."
   ]
  },
  {
   "cell_type": "code",
   "execution_count": 12,
   "id": "decreased-national",
   "metadata": {
    "papermill": {
     "duration": null,
     "end_time": null,
     "exception": null,
     "start_time": null,
     "status": "pending"
    },
    "tags": []
   },
   "outputs": [
    {
     "name": "stdout",
     "output_type": "stream",
     "text": [
      "Job name is: DEMO-linear-sharded-2021-06-08-19-51-06\n"
     ]
    }
   ],
   "source": [
    "sharded_job = \"DEMO-linear-sharded-\" + time.strftime(\"%Y-%m-%d-%H-%M-%S\", time.gmtime())\n",
    "\n",
    "print(\"Job name is:\", sharded_job)\n",
    "\n",
    "sharded_training_params = copy.deepcopy(common_training_params)\n",
    "sharded_training_params[\"TrainingJobName\"] = sharded_job\n",
    "sharded_training_params[\"InputDataConfig\"][0][\"DataSource\"][\"S3DataSource\"][\n",
    "    \"S3DataDistributionType\"\n",
    "] = \"ShardedByS3Key\""
   ]
  },
  {
   "cell_type": "code",
   "execution_count": 13,
   "id": "frozen-indonesia",
   "metadata": {
    "papermill": {
     "duration": null,
     "end_time": null,
     "exception": null,
     "start_time": null,
     "status": "pending"
    },
    "tags": []
   },
   "outputs": [
    {
     "name": "stdout",
     "output_type": "stream",
     "text": [
      "Job name is: DEMO-linear-replicated-2021-06-08-19-51-06\n"
     ]
    }
   ],
   "source": [
    "replicated_job = \"DEMO-linear-replicated-\" + time.strftime(\"%Y-%m-%d-%H-%M-%S\", time.gmtime())\n",
    "\n",
    "print(\"Job name is:\", replicated_job)\n",
    "\n",
    "replicated_training_params = copy.deepcopy(common_training_params)\n",
    "replicated_training_params[\"TrainingJobName\"] = replicated_job\n",
    "replicated_training_params[\"InputDataConfig\"][0][\"DataSource\"][\"S3DataSource\"][\n",
    "    \"S3DataDistributionType\"\n",
    "] = \"FullyReplicated\""
   ]
  },
  {
   "cell_type": "markdown",
   "id": "compound-connecticut",
   "metadata": {
    "papermill": {
     "duration": null,
     "end_time": null,
     "exception": null,
     "start_time": null,
     "status": "pending"
    },
    "tags": []
   },
   "source": [
    "Let's submit these jobs, taking note that the first will be submitted to run in the background so that we can immediately run the second in parallel.  We'll need to place the waiter on the FullyReplicated jobs as we expect this to finish second because of the additional data loading time."
   ]
  },
  {
   "cell_type": "code",
   "execution_count": 14,
   "id": "stuck-consumer",
   "metadata": {
    "papermill": {
     "duration": null,
     "end_time": null,
     "exception": null,
     "start_time": null,
     "status": "pending"
    },
    "tags": []
   },
   "outputs": [
    {
     "name": "stdout",
     "output_type": "stream",
     "text": [
      "InProgress\n",
      "Training job ended with status: Stopped\n",
      "CPU times: user 559 ms, sys: 63.9 ms, total: 623 ms\n",
      "Wall time: 1h 6min 9s\n"
     ]
    }
   ],
   "source": [
    "%%time\n",
    "\n",
    "region = boto3.Session().region_name\n",
    "sm = boto3.Session().client(\"sagemaker\")\n",
    "\n",
    "sm.create_training_job(**sharded_training_params)\n",
    "sm.create_training_job(**replicated_training_params)\n",
    "\n",
    "status = sm.describe_training_job(TrainingJobName=replicated_job)[\"TrainingJobStatus\"]\n",
    "print(status)\n",
    "sm.get_waiter(\"training_job_completed_or_stopped\").wait(TrainingJobName=replicated_job)\n",
    "status = sm.describe_training_job(TrainingJobName=replicated_job)[\"TrainingJobStatus\"]\n",
    "print(\"Training job ended with status: \" + status)\n",
    "if status == \"Failed\":\n",
    "    message = sm.describe_training_job(TrainingJobName=replicated_job)[\"FailureReason\"]\n",
    "    print(\"Training failed with the following error: {}\".format(message))\n",
    "    raise Exception(\"Training job failed\")"
   ]
  },
  {
   "cell_type": "markdown",
   "id": "whole-frederick",
   "metadata": {
    "papermill": {
     "duration": null,
     "end_time": null,
     "exception": null,
     "start_time": null,
     "status": "pending"
    },
    "tags": []
   },
   "source": [
    "Let's confirm both jobs have finished."
   ]
  },
  {
   "cell_type": "code",
   "execution_count": null,
   "id": "impressed-architect",
   "metadata": {
    "papermill": {
     "duration": null,
     "end_time": null,
     "exception": null,
     "start_time": null,
     "status": "pending"
    },
    "tags": []
   },
   "outputs": [],
   "source": [
    "print(\"Sharded:\", sm.describe_training_job(TrainingJobName=sharded_job)[\"TrainingJobStatus\"])\n",
    "print(\"Replicated:\", sm.describe_training_job(TrainingJobName=replicated_job)[\"TrainingJobStatus\"])"
   ]
  },
  {
   "cell_type": "markdown",
   "id": "silent-brisbane",
   "metadata": {
    "papermill": {
     "duration": null,
     "end_time": null,
     "exception": null,
     "start_time": null,
     "status": "pending"
    },
    "tags": []
   },
   "source": [
    "### Timing\n",
    "\n",
    "Let's compare how long it took to train a model with the two different distribution types.  To do this, we'll compare take the information from CloudWatch logs using the following function.\n",
    "\n",
    "_Notice, that these will exclude the time it took to setup hardware and load containers._"
   ]
  },
  {
   "cell_type": "code",
   "execution_count": 16,
   "id": "descending-proportion",
   "metadata": {
    "papermill": {
     "duration": null,
     "end_time": null,
     "exception": null,
     "start_time": null,
     "status": "pending"
    },
    "tags": []
   },
   "outputs": [],
   "source": [
    "def get_train_timing(job):\n",
    "    client = boto3.client(\"logs\")\n",
    "    streams = client.describe_log_streams(\n",
    "        logGroupName=\"/aws/sagemaker/TrainingJobs\", logStreamNamePrefix=job\n",
    "    )\n",
    "    streams = [s[\"logStreamName\"] for s in streams[\"logStreams\"]]\n",
    "    times = []\n",
    "    for stream in streams:\n",
    "        events = client.get_log_events(\n",
    "            logGroupName=\"/aws/sagemaker/TrainingJobs\", logStreamName=stream\n",
    "        )[\"events\"]\n",
    "        times += [e[\"timestamp\"] for e in events]\n",
    "    return (max(times) - min(times)) / 60000.0"
   ]
  },
  {
   "cell_type": "code",
   "execution_count": 17,
   "id": "quick-kelly",
   "metadata": {
    "papermill": {
     "duration": null,
     "end_time": null,
     "exception": null,
     "start_time": null,
     "status": "pending"
    },
    "tags": []
   },
   "outputs": [
    {
     "name": "stdout",
     "output_type": "stream",
     "text": [
      "Sharded: 1.0623833333333332 minutes\n",
      "Replicated: 3.7249833333333333 minutes\n"
     ]
    }
   ],
   "source": [
    "print(\"Sharded:\", get_train_timing(sharded_job), \"minutes\")\n",
    "print(\"Replicated:\", get_train_timing(replicated_job), \"minutes\")"
   ]
  },
  {
   "cell_type": "markdown",
   "id": "powerful-energy",
   "metadata": {
    "papermill": {
     "duration": null,
     "end_time": null,
     "exception": null,
     "start_time": null,
     "status": "pending"
    },
    "tags": []
   },
   "source": [
    "As we can see, and might expect, the sharded distribution type trained almost 4 times as fast.  This is a key differentiator to consider when preparing data and picking the distribution type."
   ]
  },
  {
   "cell_type": "markdown",
   "id": "hollow-destination",
   "metadata": {
    "papermill": {
     "duration": null,
     "end_time": null,
     "exception": null,
     "start_time": null,
     "status": "pending"
    },
    "tags": []
   },
   "source": [
    "---\n",
    "\n",
    "## Host\n",
    "\n",
    "Now that we've trained our machine learning models, we'll want to make predictions.  So, we'll setup a hosted endpoint for them.  The first step in doing that is to point our hosting service to the model.  We will:\n",
    "1. Point to the model.tar.gz that came from training\n",
    "1. Create the hosting model\n",
    "\n",
    "_Note, we'll do these twice, once for the model on replicated data and once for the model on distributed data._"
   ]
  },
  {
   "cell_type": "code",
   "execution_count": 18,
   "id": "refined-trout",
   "metadata": {
    "papermill": {
     "duration": null,
     "end_time": null,
     "exception": null,
     "start_time": null,
     "status": "pending"
    },
    "tags": []
   },
   "outputs": [
    {
     "name": "stdout",
     "output_type": "stream",
     "text": [
      "arn:aws:sagemaker:us-west-2:688520471316:model/demo-linear-sharded-2021-06-08-19-51-06\n"
     ]
    }
   ],
   "source": [
    "sharded_model_response = sm.create_model(\n",
    "    ModelName=sharded_job,\n",
    "    ExecutionRoleArn=role,\n",
    "    PrimaryContainer={\n",
    "        \"Image\": container,\n",
    "        \"ModelDataUrl\": sm.describe_training_job(TrainingJobName=sharded_job)[\"ModelArtifacts\"][\n",
    "            \"S3ModelArtifacts\"\n",
    "        ],\n",
    "    },\n",
    ")\n",
    "\n",
    "print(sharded_model_response[\"ModelArn\"])"
   ]
  },
  {
   "cell_type": "code",
   "execution_count": 19,
   "id": "expected-image",
   "metadata": {
    "papermill": {
     "duration": null,
     "end_time": null,
     "exception": null,
     "start_time": null,
     "status": "pending"
    },
    "tags": []
   },
   "outputs": [
    {
     "name": "stdout",
     "output_type": "stream",
     "text": [
      "arn:aws:sagemaker:us-west-2:688520471316:model/demo-linear-replicated-2021-06-08-19-51-06\n"
     ]
    }
   ],
   "source": [
    "replicated_model_response = sm.create_model(\n",
    "    ModelName=replicated_job,\n",
    "    ExecutionRoleArn=role,\n",
    "    PrimaryContainer={\n",
    "        \"Image\": container,\n",
    "        \"ModelDataUrl\": sm.describe_training_job(TrainingJobName=replicated_job)[\"ModelArtifacts\"][\n",
    "            \"S3ModelArtifacts\"\n",
    "        ],\n",
    "    },\n",
    ")\n",
    "\n",
    "print(replicated_model_response[\"ModelArn\"])"
   ]
  },
  {
   "cell_type": "markdown",
   "id": "opening-updating",
   "metadata": {
    "papermill": {
     "duration": null,
     "end_time": null,
     "exception": null,
     "start_time": null,
     "status": "pending"
    },
    "tags": []
   },
   "source": [
    "Once we've setup our models, we can configure what our hosting endpoints should be.  Here we specify:\n",
    "1. EC2 instance type to use for hosting\n",
    "1. Initial number of instances\n",
    "1. Our hosting model name\n",
    "\n",
    "Again, we'll do this twice, once for each model."
   ]
  },
  {
   "cell_type": "code",
   "execution_count": 20,
   "id": "experimental-alaska",
   "metadata": {
    "papermill": {
     "duration": null,
     "end_time": null,
     "exception": null,
     "start_time": null,
     "status": "pending"
    },
    "tags": []
   },
   "outputs": [
    {
     "name": "stdout",
     "output_type": "stream",
     "text": [
      "DEMO-sharded-endpoint-config-2021-06-08-20-57-18\n",
      "Endpoint Config Arn: arn:aws:sagemaker:us-west-2:688520471316:endpoint-config/demo-sharded-endpoint-config-2021-06-08-20-57-18\n"
     ]
    }
   ],
   "source": [
    "sharded_endpoint_config = \"DEMO-sharded-endpoint-config-\" + time.strftime(\n",
    "    \"%Y-%m-%d-%H-%M-%S\", time.gmtime()\n",
    ")\n",
    "print(sharded_endpoint_config)\n",
    "sharded_endpoint_config_response = sm.create_endpoint_config(\n",
    "    EndpointConfigName=sharded_endpoint_config,\n",
    "    ProductionVariants=[\n",
    "        {\n",
    "            \"InstanceType\": \"ml.m4.xlarge\",\n",
    "            \"InitialInstanceCount\": 1,\n",
    "            \"ModelName\": sharded_job,\n",
    "            \"VariantName\": \"AllTraffic\",\n",
    "        }\n",
    "    ],\n",
    ")\n",
    "\n",
    "print(\"Endpoint Config Arn: \" + sharded_endpoint_config_response[\"EndpointConfigArn\"])"
   ]
  },
  {
   "cell_type": "code",
   "execution_count": 21,
   "id": "conservative-fraction",
   "metadata": {
    "papermill": {
     "duration": null,
     "end_time": null,
     "exception": null,
     "start_time": null,
     "status": "pending"
    },
    "tags": []
   },
   "outputs": [
    {
     "name": "stdout",
     "output_type": "stream",
     "text": [
      "DEMO-replicated-endpoint-config-2021-06-08-20-57-18\n",
      "Endpoint Config Arn: arn:aws:sagemaker:us-west-2:688520471316:endpoint-config/demo-replicated-endpoint-config-2021-06-08-20-57-18\n"
     ]
    }
   ],
   "source": [
    "replicated_endpoint_config = \"DEMO-replicated-endpoint-config-\" + time.strftime(\n",
    "    \"%Y-%m-%d-%H-%M-%S\", time.gmtime()\n",
    ")\n",
    "print(replicated_endpoint_config)\n",
    "replicated_endpoint_config_response = sm.create_endpoint_config(\n",
    "    EndpointConfigName=replicated_endpoint_config,\n",
    "    ProductionVariants=[\n",
    "        {\n",
    "            \"InstanceType\": \"ml.m4.xlarge\",\n",
    "            \"InitialInstanceCount\": 1,\n",
    "            \"ModelName\": replicated_job,\n",
    "            \"VariantName\": \"AllTraffic\",\n",
    "        }\n",
    "    ],\n",
    ")\n",
    "\n",
    "print(\"Endpoint Config Arn: \" + replicated_endpoint_config_response[\"EndpointConfigArn\"])"
   ]
  },
  {
   "cell_type": "markdown",
   "id": "labeled-timing",
   "metadata": {
    "papermill": {
     "duration": null,
     "end_time": null,
     "exception": null,
     "start_time": null,
     "status": "pending"
    },
    "tags": []
   },
   "source": [
    "Now that we've specified how our endpoints should be configured, we can create them.  This can be done in the background, so, we'll kick off one in the background but setup a waiter on the second endpoint creation so that we know when they are ready for use."
   ]
  },
  {
   "cell_type": "code",
   "execution_count": null,
   "id": "romance-dancing",
   "metadata": {
    "papermill": {
     "duration": null,
     "end_time": null,
     "exception": null,
     "start_time": null,
     "status": "pending"
    },
    "tags": []
   },
   "outputs": [
    {
     "name": "stdout",
     "output_type": "stream",
     "text": [
      "DEMO-sharded-endpoint-202106082057\n",
      "arn:aws:sagemaker:us-west-2:688520471316:endpoint/demo-sharded-endpoint-202106082057\n",
      "DEMO-replicated-endpoint-202106082057\n",
      "arn:aws:sagemaker:us-west-2:688520471316:endpoint/demo-replicated-endpoint-202106082057\n",
      "Status: Creating\n"
     ]
    }
   ],
   "source": [
    "%%time\n",
    "\n",
    "sharded_endpoint = \"DEMO-sharded-endpoint-\" + time.strftime(\"%Y%m%d%H%M\", time.gmtime())\n",
    "print(sharded_endpoint)\n",
    "sharded_endpoint_response = sm.create_endpoint(\n",
    "    EndpointName=sharded_endpoint, EndpointConfigName=sharded_endpoint_config\n",
    ")\n",
    "print(sharded_endpoint_response[\"EndpointArn\"])\n",
    "\n",
    "replicated_endpoint = \"DEMO-replicated-endpoint-\" + time.strftime(\"%Y%m%d%H%M\", time.gmtime())\n",
    "print(replicated_endpoint)\n",
    "replicated_endpoint_response = sm.create_endpoint(\n",
    "    EndpointName=replicated_endpoint, EndpointConfigName=replicated_endpoint_config\n",
    ")\n",
    "print(replicated_endpoint_response[\"EndpointArn\"])\n",
    "\n",
    "resp = sm.describe_endpoint(EndpointName=replicated_endpoint)\n",
    "status = resp[\"EndpointStatus\"]\n",
    "print(\"Status: \" + status)\n",
    "\n",
    "sm.get_waiter(\"endpoint_in_service\").wait(EndpointName=replicated_endpoint)\n",
    "\n",
    "resp = sm.describe_endpoint(EndpointName=replicated_endpoint)\n",
    "status = resp[\"EndpointStatus\"]\n",
    "print(\"Arn: \" + resp[\"EndpointArn\"])\n",
    "print(\"Status: \" + status)\n",
    "\n",
    "if status != \"InService\":\n",
    "    raise Exception(\"Endpoint creation did not succeed\")"
   ]
  },
  {
   "cell_type": "markdown",
   "id": "binary-shape",
   "metadata": {
    "papermill": {
     "duration": null,
     "end_time": null,
     "exception": null,
     "start_time": null,
     "status": "pending"
    },
    "tags": []
   },
   "source": [
    "Let's confirm both are ready for use."
   ]
  },
  {
   "cell_type": "code",
   "execution_count": null,
   "id": "white-clause",
   "metadata": {
    "papermill": {
     "duration": null,
     "end_time": null,
     "exception": null,
     "start_time": null,
     "status": "pending"
    },
    "tags": []
   },
   "outputs": [],
   "source": [
    "print(\"Sharded:\", sm.describe_endpoint(EndpointName=sharded_endpoint)[\"EndpointStatus\"])\n",
    "print(\"Replicated:\", sm.describe_endpoint(EndpointName=replicated_endpoint)[\"EndpointStatus\"])"
   ]
  },
  {
   "cell_type": "markdown",
   "id": "disturbed-michigan",
   "metadata": {
    "papermill": {
     "duration": null,
     "end_time": null,
     "exception": null,
     "start_time": null,
     "status": "pending"
    },
    "tags": []
   },
   "source": [
    "### Evaluate\n",
    "\n",
    "To compare predictions from our two models, let's bring in some new data from a year the model was not trained or validated on."
   ]
  },
  {
   "cell_type": "code",
   "execution_count": null,
   "id": "annual-roommate",
   "metadata": {
    "papermill": {
     "duration": null,
     "end_time": null,
     "exception": null,
     "start_time": null,
     "status": "pending"
    },
    "tags": []
   },
   "outputs": [],
   "source": [
    "test_data = transform_gdelt(get_gdelt(\"1984.csv\"), events).to_numpy()\n",
    "test_X = test_data[:, 1:]\n",
    "test_y = test_data[:, 0]"
   ]
  },
  {
   "cell_type": "markdown",
   "id": "binary-vacation",
   "metadata": {
    "papermill": {
     "duration": null,
     "end_time": null,
     "exception": null,
     "start_time": null,
     "status": "pending"
    },
    "tags": []
   },
   "source": [
    "Now we'll need a function to convert these numpy matrices to CSVs so they can be passed to our endpoint as an HTTP POST request."
   ]
  },
  {
   "cell_type": "code",
   "execution_count": null,
   "id": "finished-petite",
   "metadata": {
    "papermill": {
     "duration": null,
     "end_time": null,
     "exception": null,
     "start_time": null,
     "status": "pending"
    },
    "tags": []
   },
   "outputs": [],
   "source": [
    "def np2csv(arr):\n",
    "    csv = io.BytesIO()\n",
    "    np.savetxt(csv, arr, delimiter=\",\", fmt=\"%g\")\n",
    "    return csv.getvalue().decode().rstrip()"
   ]
  },
  {
   "cell_type": "markdown",
   "id": "toxic-accessory",
   "metadata": {
    "papermill": {
     "duration": null,
     "end_time": null,
     "exception": null,
     "start_time": null,
     "status": "pending"
    },
    "tags": []
   },
   "source": [
    "Next, because POST requests to our endpoint are limited to ~6MB, we'll setup a small function to split our test data up into mini-batches that are each about 5MB, loop through and invoke our endpoint to get predictions for those mini-batches, and gather them into a single array."
   ]
  },
  {
   "cell_type": "code",
   "execution_count": null,
   "id": "controlling-telescope",
   "metadata": {
    "papermill": {
     "duration": null,
     "end_time": null,
     "exception": null,
     "start_time": null,
     "status": "pending"
    },
    "tags": []
   },
   "outputs": [],
   "source": [
    "def predict_batches(data, endpoint):\n",
    "    rows = 5.0 * 1024.0 * 1024.0 / sys.getsizeof(np2csv(data[0, :]))\n",
    "    split_array = np.array_split(data, int(data.shape[0] / float(rows) + 1))\n",
    "    predictions = []\n",
    "    runtime = boto3.Session().client(\"runtime.sagemaker\")\n",
    "    for array in split_array:\n",
    "        payload = np2csv(array)\n",
    "        response = runtime.invoke_endpoint(\n",
    "            EndpointName=endpoint, ContentType=\"text/csv\", Body=payload\n",
    "        )\n",
    "        result = json.loads(response[\"Body\"].read().decode())\n",
    "        predictions += [r[\"score\"] for r in result[\"predictions\"]]\n",
    "    return np.array(predictions)"
   ]
  },
  {
   "cell_type": "markdown",
   "id": "imperial-leonard",
   "metadata": {
    "papermill": {
     "duration": null,
     "end_time": null,
     "exception": null,
     "start_time": null,
     "status": "pending"
    },
    "tags": []
   },
   "source": [
    "Now we'll compare accuracy in mean squared error (MSE)."
   ]
  },
  {
   "cell_type": "code",
   "execution_count": null,
   "id": "amazing-multiple",
   "metadata": {
    "papermill": {
     "duration": null,
     "end_time": null,
     "exception": null,
     "start_time": null,
     "status": "pending"
    },
    "tags": []
   },
   "outputs": [],
   "source": [
    "sharded_predictions = predict_batches(test_X, sharded_endpoint)\n",
    "replicated_predictions = predict_batches(test_X, replicated_endpoint)\n",
    "\n",
    "print(\"Sharded MSE =\", np.mean((test_y - sharded_predictions) ** 2))\n",
    "print(\"Replicated MSE =\", np.mean((test_y - replicated_predictions) ** 2))"
   ]
  },
  {
   "cell_type": "markdown",
   "id": "structural-discretion",
   "metadata": {
    "papermill": {
     "duration": null,
     "end_time": null,
     "exception": null,
     "start_time": null,
     "status": "pending"
    },
    "tags": []
   },
   "source": [
    "We can see that the fully replicated distribution type performs just slightly better in terms of fit.  However, this difference is small compared to the overall speedup that providing multiple S3 objects and distributing them across machines provides."
   ]
  },
  {
   "cell_type": "markdown",
   "id": "raising-louisiana",
   "metadata": {
    "papermill": {
     "duration": null,
     "end_time": null,
     "exception": null,
     "start_time": null,
     "status": "pending"
    },
    "tags": []
   },
   "source": [
    "---\n",
    "\n",
    "## Extensions\n",
    "\n",
    "This notebook ran a regression on a relatively artificial example, and we skipped some pre-processing steps along the way (like potentially transforming or winsorizing our target variable, looking for interations in our features, etc.).  But the main point was to highlight the difference in training time and accuracy of a linear model trained through two different distribution methods.\n",
    "\n",
    "Overall, sharding data into separate files and sending them to separate training nodes will run faster, but may produce lower accuracy than a model that replicates the data across all nodes.  Naturally, this can be influenced by training the sharded model longer, with more epochs.  And it should be noted that we trained with a very small number of epochs to highlight this difference.\n",
    "\n",
    "Different algorithms can be expected to show variation in which distribution mechanism is most effective at achieving optimal compute spend per point of model accuracy.  The message remains the same though, that the process of finding the right distribution type is another experiment in optimizing model training times."
   ]
  },
  {
   "cell_type": "markdown",
   "id": "driving-verse",
   "metadata": {
    "papermill": {
     "duration": null,
     "end_time": null,
     "exception": null,
     "start_time": null,
     "status": "pending"
    },
    "tags": []
   },
   "source": [
    "### (Optional) Clean-up\n",
    "\n",
    "If you're ready to be done with this notebook, please run the cell below.  This will remove the hosted endpoints you created and avoid any charges from a stray instance being left on."
   ]
  },
  {
   "cell_type": "code",
   "execution_count": null,
   "id": "alien-subcommittee",
   "metadata": {
    "papermill": {
     "duration": null,
     "end_time": null,
     "exception": null,
     "start_time": null,
     "status": "pending"
    },
    "tags": []
   },
   "outputs": [],
   "source": [
    "sm.delete_endpoint(EndpointName=sharded_endpoint)\n",
    "sm.delete_endpoint(EndpointName=replicated_endpoint)"
   ]
  }
 ],
 "metadata": {
  "celltoolbar": "Tags",
  "kernelspec": {
   "display_name": "Environment (conda_python3)",
   "language": "python",
   "name": "conda_python3"
  },
  "language_info": {
   "codemirror_mode": {
    "name": "ipython",
    "version": 3
   },
   "file_extension": ".py",
   "mimetype": "text/x-python",
   "name": "python",
   "nbconvert_exporter": "python",
   "pygments_lexer": "ipython3",
   "version": "3.6.10"
  },
  "notice": "Copyright 2017 Amazon.com, Inc. or its affiliates. All Rights Reserved.  Licensed under the Apache License, Version 2.0 (the \"License\"). You may not use this file except in compliance with the License. A copy of the License is located at http://aws.amazon.com/apache2.0/ or in the \"license\" file accompanying this file. This file is distributed on an \"AS IS\" BASIS, WITHOUT WARRANTIES OR CONDITIONS OF ANY KIND, either express or implied. See the License for the specific language governing permissions and limitations under the License.",
  "papermill": {
   "default_parameters": {},
   "duration": 19.051364,
   "end_time": "2021-06-07T00:21:35.827323",
   "environment_variables": {},
   "exception": true,
   "input_path": "data_distribution_types.ipynb",
   "output_path": "/opt/ml/processing/output/data_distribution_types-2021-06-07-00-17-18.ipynb",
   "parameters": {
    "kms_key": "arn:aws:kms:us-west-2:521695447989:key/6e9984db-50cf-4c7e-926c-877ec47a8b25"
   },
   "start_time": "2021-06-07T00:21:16.775959",
   "version": "2.3.3"
  }
 },
 "nbformat": 4,
 "nbformat_minor": 5
}
