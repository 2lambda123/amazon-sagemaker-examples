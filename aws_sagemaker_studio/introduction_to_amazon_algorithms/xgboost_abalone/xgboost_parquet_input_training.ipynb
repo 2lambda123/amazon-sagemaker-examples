{
 "cells": [
  {
   "cell_type": "markdown",
   "id": "checked-satisfaction",
   "metadata": {
    "papermill": {
     "duration": 0.008999,
     "end_time": "2021-06-21T00:09:03.934872",
     "exception": false,
     "start_time": "2021-06-21T00:09:03.925873",
     "status": "completed"
    },
    "tags": []
   },
   "source": [
    "# Regression with Amazon SageMaker XGBoost (Parquet input)\n",
    "\n",
    "This notebook exhibits the use of a Parquet dataset for use with the SageMaker XGBoost algorithm. The example here is almost the same as [Regression with Amazon SageMaker XGBoost algorithm](xgboost_abalone.ipynb).\n",
    "\n",
    "This notebook tackles the exact same problem with the same solution, but has been modified for a Parquet input. \n",
    "The original notebook provides details of dataset and the machine learning use-case.\n",
    "\n",
    "This notebook has been tested using the Python 3 (Data Science) kernel."
   ]
  },
  {
   "cell_type": "code",
   "execution_count": 6,
   "id": "invisible-percentage",
   "metadata": {
    "execution": {
     "iopub.execute_input": "2021-06-21T00:09:03.952939Z",
     "iopub.status.busy": "2021-06-21T00:09:03.952208Z",
     "iopub.status.idle": "2021-06-21T00:09:05.194773Z",
     "shell.execute_reply": "2021-06-21T00:09:05.195223Z"
    },
    "papermill": {
     "duration": 1.253257,
     "end_time": "2021-06-21T00:09:05.195369",
     "exception": false,
     "start_time": "2021-06-21T00:09:03.942112",
     "status": "completed"
    },
    "tags": []
   },
   "outputs": [],
   "source": [
    "import os\n",
    "import boto3\n",
    "import re\n",
    "import sagemaker\n",
    "from sagemaker import get_execution_role\n",
    "\n",
    "role = get_execution_role()\n",
    "region = boto3.Session().region_name\n",
    "\n",
    "# S3 bucket for saving code and model artifacts.\n",
    "# Feel free to specify a different bucket here if you wish.\n",
    "bucket = sagemaker.Session().default_bucket()\n",
    "prefix = \"sagemaker/DEMO-xgboost-parquet\"\n",
    "bucket_path = \"https://s3-{}.amazonaws.com/{}\".format(region, bucket)"
   ]
  },
  {
   "cell_type": "markdown",
   "id": "strong-study",
   "metadata": {
    "papermill": {
     "duration": 0.00574,
     "end_time": "2021-06-21T00:09:05.207074",
     "exception": false,
     "start_time": "2021-06-21T00:09:05.201334",
     "status": "completed"
    },
    "tags": []
   },
   "source": [
    "We will use [PyArrow](https://arrow.apache.org/docs/python/) library to store the Abalone dataset in the Parquet format. "
   ]
  },
  {
   "cell_type": "code",
   "execution_count": 7,
   "id": "cutting-feelings",
   "metadata": {
    "execution": {
     "iopub.execute_input": "2021-06-21T00:09:05.222196Z",
     "iopub.status.busy": "2021-06-21T00:09:05.221663Z",
     "iopub.status.idle": "2021-06-21T00:09:10.183989Z",
     "shell.execute_reply": "2021-06-21T00:09:10.183556Z"
    },
    "papermill": {
     "duration": 4.971275,
     "end_time": "2021-06-21T00:09:10.184101",
     "exception": false,
     "start_time": "2021-06-21T00:09:05.212826",
     "status": "completed"
    },
    "tags": []
   },
   "outputs": [
    {
     "name": "stdout",
     "output_type": "stream",
     "text": [
      "\u001b[33mWARNING: You are using pip version 21.1.1; however, version 21.1.2 is available.\n",
      "You should consider upgrading via the '/home/ubuntu/anaconda3/bin/python -m pip install --upgrade pip' command.\u001b[0m\n"
     ]
    }
   ],
   "source": [
    "!pip install -Uq pyarrow"
   ]
  },
  {
   "cell_type": "code",
   "execution_count": 8,
   "id": "decent-cycling",
   "metadata": {
    "execution": {
     "iopub.execute_input": "2021-06-21T00:09:10.239125Z",
     "iopub.status.busy": "2021-06-21T00:09:10.238632Z",
     "iopub.status.idle": "2021-06-21T00:09:11.012982Z",
     "shell.execute_reply": "2021-06-21T00:09:11.013368Z"
    },
    "papermill": {
     "duration": 0.805388,
     "end_time": "2021-06-21T00:09:11.013509",
     "exception": false,
     "start_time": "2021-06-21T00:09:10.208121",
     "status": "completed"
    },
    "tags": []
   },
   "outputs": [
    {
     "name": "stdout",
     "output_type": "stream",
     "text": [
      "CPU times: user 23 ms, sys: 7.92 ms, total: 30.9 ms\n",
      "Wall time: 293 ms\n"
     ]
    }
   ],
   "source": [
    "%%time\n",
    "\n",
    "import numpy as np\n",
    "import pandas as pd\n",
    "import urllib.request\n",
    "from sklearn.datasets import load_svmlight_file\n",
    "\n",
    "# Download the dataset and load into a pandas dataframe\n",
    "FILE_NAME = \"abalone.csv\"\n",
    "urllib.request.urlretrieve(\n",
    "    \"https://archive.ics.uci.edu/ml/machine-learning-databases/abalone/abalone.data\", FILE_NAME\n",
    ")\n",
    "feature_names = [\n",
    "    \"Sex\",\n",
    "    \"Length\",\n",
    "    \"Diameter\",\n",
    "    \"Height\",\n",
    "    \"Whole weight\",\n",
    "    \"Shucked weight\",\n",
    "    \"Viscera weight\",\n",
    "    \"Shell weight\",\n",
    "    \"Rings\",\n",
    "]\n",
    "data = pd.read_csv(FILE_NAME, header=None, names=feature_names)\n",
    "\n",
    "# SageMaker XGBoost has the convention of label in the first column\n",
    "data = data[feature_names[-1:] + feature_names[:-1]]\n",
    "data[\"Sex\"] = data[\"Sex\"].astype(\"category\").cat.codes\n",
    "\n",
    "# Split the downloaded data into train/test dataframes\n",
    "train, test = np.split(data.sample(frac=1), [int(0.8 * len(data))])\n",
    "\n",
    "# requires PyArrow installed\n",
    "train.to_parquet(\"abalone_train.parquet\")\n",
    "test.to_parquet(\"abalone_test.parquet\")"
   ]
  },
  {
   "cell_type": "code",
   "execution_count": 9,
   "id": "unnecessary-diary",
   "metadata": {
    "execution": {
     "iopub.execute_input": "2021-06-21T00:09:11.074296Z",
     "iopub.status.busy": "2021-06-21T00:09:11.073781Z",
     "iopub.status.idle": "2021-06-21T00:09:11.148763Z",
     "shell.execute_reply": "2021-06-21T00:09:11.148337Z"
    },
    "papermill": {
     "duration": 0.111246,
     "end_time": "2021-06-21T00:09:11.148873",
     "exception": false,
     "start_time": "2021-06-21T00:09:11.037627",
     "status": "completed"
    },
    "tags": []
   },
   "outputs": [
    {
     "name": "stdout",
     "output_type": "stream",
     "text": [
      "CPU times: user 195 ms, sys: 43.4 ms, total: 239 ms\n",
      "Wall time: 387 ms\n"
     ]
    },
    {
     "data": {
      "text/plain": [
       "'s3://sagemaker-us-west-2-688520471316/sagemaker/DEMO-xgboost-parquet/test/abalone_test.parquet'"
      ]
     },
     "execution_count": 9,
     "metadata": {},
     "output_type": "execute_result"
    }
   ],
   "source": [
    "%%time\n",
    "sagemaker.Session().upload_data(\n",
    "    \"abalone_train.parquet\", bucket=bucket, key_prefix=prefix + \"/\" + \"train\"\n",
    ")\n",
    "\n",
    "sagemaker.Session().upload_data(\n",
    "    \"abalone_test.parquet\", bucket=bucket, key_prefix=prefix + \"/\" + \"test\"\n",
    ")"
   ]
  },
  {
   "cell_type": "markdown",
   "id": "simple-pulse",
   "metadata": {
    "papermill": {
     "duration": 0.023341,
     "end_time": "2021-06-21T00:09:11.196209",
     "exception": false,
     "start_time": "2021-06-21T00:09:11.172868",
     "status": "completed"
    },
    "tags": []
   },
   "source": [
    "We obtain the new container by specifying the framework version (0.90-1). This version specifies the upstream XGBoost framework version (0.90) and an additional SageMaker version (1). If you have an existing XGBoost workflow based on the previous (0.72) container, this would be the only change necessary to get the same workflow working with the new container."
   ]
  },
  {
   "cell_type": "code",
   "execution_count": 10,
   "id": "australian-block",
   "metadata": {
    "execution": {
     "iopub.execute_input": "2021-06-21T00:09:11.250268Z",
     "iopub.status.busy": "2021-06-21T00:09:11.249389Z",
     "iopub.status.idle": "2021-06-21T00:09:11.260401Z",
     "shell.execute_reply": "2021-06-21T00:09:11.260760Z"
    },
    "papermill": {
     "duration": 0.040939,
     "end_time": "2021-06-21T00:09:11.260892",
     "exception": false,
     "start_time": "2021-06-21T00:09:11.219953",
     "status": "completed"
    },
    "tags": []
   },
   "outputs": [
    {
     "name": "stderr",
     "output_type": "stream",
     "text": [
      "The method get_image_uri has been renamed in sagemaker>=2.\n",
      "See: https://sagemaker.readthedocs.io/en/stable/v2.html for details.\n"
     ]
    }
   ],
   "source": [
    "from sagemaker.amazon.amazon_estimator import get_image_uri\n",
    "\n",
    "container = get_image_uri(region, \"xgboost\", \"0.90-1\")"
   ]
  },
  {
   "cell_type": "markdown",
   "id": "according-flashing",
   "metadata": {
    "papermill": {
     "duration": 0.024102,
     "end_time": "2021-06-21T00:09:11.309310",
     "exception": false,
     "start_time": "2021-06-21T00:09:11.285208",
     "status": "completed"
    },
    "tags": []
   },
   "source": [
    "After setting training parameters, we kick off training, and poll for status until training is completed, which in this example, takes between 5 and 6 minutes."
   ]
  },
  {
   "cell_type": "code",
   "execution_count": 11,
   "id": "smaller-louis",
   "metadata": {
    "execution": {
     "iopub.execute_input": "2021-06-21T00:09:11.372458Z",
     "iopub.status.busy": "2021-06-21T00:09:11.368669Z",
     "iopub.status.idle": "2021-06-21T00:13:12.030973Z",
     "shell.execute_reply": "2021-06-21T00:13:12.031388Z"
    },
    "papermill": {
     "duration": 240.698296,
     "end_time": "2021-06-21T00:13:12.031529",
     "exception": false,
     "start_time": "2021-06-21T00:09:11.333233",
     "status": "completed"
    },
    "tags": []
   },
   "outputs": [
    {
     "name": "stdout",
     "output_type": "stream",
     "text": [
      "Training job xgboost-parquet-example-training-2021-06-21-19-28-42\n",
      "InProgress\n",
      "InProgress\n",
      "InProgress\n",
      "InProgress\n",
      "Completed\n",
      "CPU times: user 92.5 ms, sys: 4.45 ms, total: 97 ms\n",
      "Wall time: 4min\n"
     ]
    }
   ],
   "source": [
    "%%time\n",
    "import time\n",
    "from time import gmtime, strftime\n",
    "\n",
    "job_name = \"xgboost-parquet-example-training-\" + strftime(\"%Y-%m-%d-%H-%M-%S\", gmtime())\n",
    "print(\"Training job\", job_name)\n",
    "\n",
    "# Ensure that the training and validation data folders generated above are reflected in the \"InputDataConfig\" parameter below.\n",
    "\n",
    "create_training_params = {\n",
    "    \"AlgorithmSpecification\": {\"TrainingImage\": container, \"TrainingInputMode\": \"Pipe\"},\n",
    "    \"RoleArn\": role,\n",
    "    \"OutputDataConfig\": {\"S3OutputPath\": bucket_path + \"/\" + prefix + \"/single-xgboost\"},\n",
    "    \"ResourceConfig\": {\"InstanceCount\": 1, \"InstanceType\": \"ml.m5.24xlarge\", \"VolumeSizeInGB\": 20},\n",
    "    \"TrainingJobName\": job_name,\n",
    "    \"HyperParameters\": {\n",
    "        \"max_depth\": \"5\",\n",
    "        \"eta\": \"0.2\",\n",
    "        \"gamma\": \"4\",\n",
    "        \"min_child_weight\": \"6\",\n",
    "        \"subsample\": \"0.7\",\n",
    "        \"silent\": \"0\",\n",
    "        \"objective\": \"reg:linear\",\n",
    "        \"num_round\": \"10\",\n",
    "    },\n",
    "    \"StoppingCondition\": {\"MaxRuntimeInSeconds\": 3600},\n",
    "    \"InputDataConfig\": [\n",
    "        {\n",
    "            \"ChannelName\": \"train\",\n",
    "            \"DataSource\": {\n",
    "                \"S3DataSource\": {\n",
    "                    \"S3DataType\": \"S3Prefix\",\n",
    "                    \"S3Uri\": bucket_path + \"/\" + prefix + \"/train\",\n",
    "                    \"S3DataDistributionType\": \"FullyReplicated\",\n",
    "                }\n",
    "            },\n",
    "            \"ContentType\": \"application/x-parquet\",\n",
    "            \"CompressionType\": \"None\",\n",
    "        },\n",
    "        {\n",
    "            \"ChannelName\": \"validation\",\n",
    "            \"DataSource\": {\n",
    "                \"S3DataSource\": {\n",
    "                    \"S3DataType\": \"S3Prefix\",\n",
    "                    \"S3Uri\": bucket_path + \"/\" + prefix + \"/test\",\n",
    "                    \"S3DataDistributionType\": \"FullyReplicated\",\n",
    "                }\n",
    "            },\n",
    "            \"ContentType\": \"application/x-parquet\",\n",
    "            \"CompressionType\": \"None\",\n",
    "        },\n",
    "    ],\n",
    "}\n",
    "\n",
    "\n",
    "client = boto3.client(\"sagemaker\", region_name=region)\n",
    "client.create_training_job(**create_training_params)\n",
    "\n",
    "status = client.describe_training_job(TrainingJobName=job_name)[\"TrainingJobStatus\"]\n",
    "print(status)\n",
    "while status != \"Completed\" and status != \"Failed\":\n",
    "    time.sleep(60)\n",
    "    status = client.describe_training_job(TrainingJobName=job_name)[\"TrainingJobStatus\"]\n",
    "    print(status)"
   ]
  },
  {
   "cell_type": "code",
   "execution_count": 12,
   "id": "wicked-baseline",
   "metadata": {
    "execution": {
     "iopub.execute_input": "2021-06-21T00:13:12.090133Z",
     "iopub.status.busy": "2021-06-21T00:13:12.089359Z",
     "iopub.status.idle": "2021-06-21T00:13:13.031405Z",
     "shell.execute_reply": "2021-06-21T00:13:13.030928Z"
    },
    "papermill": {
     "duration": 0.97412,
     "end_time": "2021-06-21T00:13:13.031511",
     "exception": false,
     "start_time": "2021-06-21T00:13:12.057391",
     "status": "completed"
    },
    "tags": []
   },
   "outputs": [
    {
     "data": {
      "image/png": "[encoded data removed]",
      "text/plain": [
       "<Figure size 864x360 with 1 Axes>"
      ]
     },
     "metadata": {
      "needs_background": "light"
     },
     "output_type": "display_data"
    }
   ],
   "source": [
    "%matplotlib inline\n",
    "from sagemaker.analytics import TrainingJobAnalytics\n",
    "\n",
    "metric_name = \"validation:rmse\"\n",
    "\n",
    "metrics_dataframe = TrainingJobAnalytics(\n",
    "    training_job_name=job_name, metric_names=[metric_name]\n",
    ").dataframe()\n",
    "plt = metrics_dataframe.plot(\n",
    "    kind=\"line\", figsize=(12, 5), x=\"timestamp\", y=\"value\", style=\"b.\", legend=False\n",
    ")\n",
    "plt.set_ylabel(metric_name);"
   ]
  }
 ],
 "metadata": {
  "anaconda-cloud": {},
  "instance_type": "ml.t3.medium",
  "kernelspec": {
   "display_name": "Environment (conda_anaconda3)",
   "language": "python",
   "name": "conda_anaconda3"
  },
  "language_info": {
   "codemirror_mode": {
    "name": "ipython",
    "version": 3
   },
   "file_extension": ".py",
   "mimetype": "text/x-python",
   "name": "python",
   "nbconvert_exporter": "python",
   "pygments_lexer": "ipython3",
   "version": "3.7.6"
  },
  "papermill": {
   "default_parameters": {},
   "duration": 250.462748,
   "end_time": "2021-06-21T00:13:13.563793",
   "environment_variables": {},
   "exception": null,
   "input_path": "xgboost_parquet_input_training.ipynb",
   "output_path": "/opt/ml/processing/output/xgboost_parquet_input_training-2021-06-21-00-05-08.ipynb",
   "parameters": {
    "kms_key": "arn:aws:kms:us-west-2:521695447989:key/6e9984db-50cf-4c7e-926c-877ec47a8b25"
   },
   "start_time": "2021-06-21T00:09:03.101045",
   "version": "2.3.3"
  }
 },
 "nbformat": 4,
 "nbformat_minor": 5
}
